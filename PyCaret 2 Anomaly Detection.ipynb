{
 "cells": [
  {
   "cell_type": "markdown",
   "metadata": {},
   "source": [
    "# PyCaret 2 Anomaly Example\n",
    "This notebook is created using PyCaret 2.0. Last updated : 28-07-2020"
   ]
  },
  {
   "cell_type": "code",
   "execution_count": 1,
   "metadata": {},
   "outputs": [
    {
     "name": "stdout",
     "output_type": "stream",
     "text": [
      "pycaret-nightly-0.39\n"
     ]
    }
   ],
   "source": [
    "# check version\n",
    "from pycaret.utils import version\n",
    "version()"
   ]
  },
  {
   "cell_type": "markdown",
   "metadata": {},
   "source": [
    "# 1. Loading Dataset"
   ]
  },
  {
   "cell_type": "code",
   "execution_count": 2,
   "metadata": {},
   "outputs": [
    {
     "data": {
      "text/html": [
       "<div>\n",
       "<style scoped>\n",
       "    .dataframe tbody tr th:only-of-type {\n",
       "        vertical-align: middle;\n",
       "    }\n",
       "\n",
       "    .dataframe tbody tr th {\n",
       "        vertical-align: top;\n",
       "    }\n",
       "\n",
       "    .dataframe thead th {\n",
       "        text-align: right;\n",
       "    }\n",
       "</style>\n",
       "<table border=\"1\" class=\"dataframe\">\n",
       "  <thead>\n",
       "    <tr style=\"text-align: right;\">\n",
       "      <th></th>\n",
       "      <th>Col1</th>\n",
       "      <th>Col2</th>\n",
       "      <th>Col3</th>\n",
       "      <th>Col4</th>\n",
       "      <th>Col5</th>\n",
       "      <th>Col6</th>\n",
       "      <th>Col7</th>\n",
       "      <th>Col8</th>\n",
       "      <th>Col9</th>\n",
       "      <th>Col10</th>\n",
       "    </tr>\n",
       "  </thead>\n",
       "  <tbody>\n",
       "    <tr>\n",
       "      <th>0</th>\n",
       "      <td>0.263995</td>\n",
       "      <td>0.764929</td>\n",
       "      <td>0.138424</td>\n",
       "      <td>0.935242</td>\n",
       "      <td>0.605867</td>\n",
       "      <td>0.518790</td>\n",
       "      <td>0.912225</td>\n",
       "      <td>0.608234</td>\n",
       "      <td>0.723782</td>\n",
       "      <td>0.733591</td>\n",
       "    </tr>\n",
       "    <tr>\n",
       "      <th>1</th>\n",
       "      <td>0.546092</td>\n",
       "      <td>0.653975</td>\n",
       "      <td>0.065575</td>\n",
       "      <td>0.227772</td>\n",
       "      <td>0.845269</td>\n",
       "      <td>0.837066</td>\n",
       "      <td>0.272379</td>\n",
       "      <td>0.331679</td>\n",
       "      <td>0.429297</td>\n",
       "      <td>0.367422</td>\n",
       "    </tr>\n",
       "    <tr>\n",
       "      <th>2</th>\n",
       "      <td>0.336714</td>\n",
       "      <td>0.538842</td>\n",
       "      <td>0.192801</td>\n",
       "      <td>0.553563</td>\n",
       "      <td>0.074515</td>\n",
       "      <td>0.332993</td>\n",
       "      <td>0.365792</td>\n",
       "      <td>0.861309</td>\n",
       "      <td>0.899017</td>\n",
       "      <td>0.088600</td>\n",
       "    </tr>\n",
       "    <tr>\n",
       "      <th>3</th>\n",
       "      <td>0.092108</td>\n",
       "      <td>0.995017</td>\n",
       "      <td>0.014465</td>\n",
       "      <td>0.176371</td>\n",
       "      <td>0.241530</td>\n",
       "      <td>0.514724</td>\n",
       "      <td>0.562208</td>\n",
       "      <td>0.158963</td>\n",
       "      <td>0.073715</td>\n",
       "      <td>0.208463</td>\n",
       "    </tr>\n",
       "    <tr>\n",
       "      <th>4</th>\n",
       "      <td>0.325261</td>\n",
       "      <td>0.805968</td>\n",
       "      <td>0.957033</td>\n",
       "      <td>0.331665</td>\n",
       "      <td>0.307923</td>\n",
       "      <td>0.355315</td>\n",
       "      <td>0.501899</td>\n",
       "      <td>0.558449</td>\n",
       "      <td>0.885169</td>\n",
       "      <td>0.182754</td>\n",
       "    </tr>\n",
       "  </tbody>\n",
       "</table>\n",
       "</div>"
      ],
      "text/plain": [
       "       Col1      Col2      Col3      Col4      Col5      Col6      Col7  \\\n",
       "0  0.263995  0.764929  0.138424  0.935242  0.605867  0.518790  0.912225   \n",
       "1  0.546092  0.653975  0.065575  0.227772  0.845269  0.837066  0.272379   \n",
       "2  0.336714  0.538842  0.192801  0.553563  0.074515  0.332993  0.365792   \n",
       "3  0.092108  0.995017  0.014465  0.176371  0.241530  0.514724  0.562208   \n",
       "4  0.325261  0.805968  0.957033  0.331665  0.307923  0.355315  0.501899   \n",
       "\n",
       "       Col8      Col9     Col10  \n",
       "0  0.608234  0.723782  0.733591  \n",
       "1  0.331679  0.429297  0.367422  \n",
       "2  0.861309  0.899017  0.088600  \n",
       "3  0.158963  0.073715  0.208463  \n",
       "4  0.558449  0.885169  0.182754  "
      ]
     },
     "metadata": {},
     "output_type": "display_data"
    }
   ],
   "source": [
    "from pycaret.datasets import get_data\n",
    "data = get_data('anomaly')"
   ]
  },
  {
   "cell_type": "markdown",
   "metadata": {},
   "source": [
    "# 2. Initialize Setup"
   ]
  },
  {
   "cell_type": "code",
   "execution_count": 3,
   "metadata": {},
   "outputs": [
    {
     "name": "stdout",
     "output_type": "stream",
     "text": [
      "Setup Succesfully Completed!\n"
     ]
    },
    {
     "data": {
      "text/html": [
       "<style  type=\"text/css\" >\n",
       "</style><table id=\"T_1c42de5a_d1a2_11ea_947c_482ae32b83da\" ><thead>    <tr>        <th class=\"blank level0\" ></th>        <th class=\"col_heading level0 col0\" >Description</th>        <th class=\"col_heading level0 col1\" >Value</th>    </tr></thead><tbody>\n",
       "                <tr>\n",
       "                        <th id=\"T_1c42de5a_d1a2_11ea_947c_482ae32b83dalevel0_row0\" class=\"row_heading level0 row0\" >0</th>\n",
       "                        <td id=\"T_1c42de5a_d1a2_11ea_947c_482ae32b83darow0_col0\" class=\"data row0 col0\" >session_id </td>\n",
       "                        <td id=\"T_1c42de5a_d1a2_11ea_947c_482ae32b83darow0_col1\" class=\"data row0 col1\" >123</td>\n",
       "            </tr>\n",
       "            <tr>\n",
       "                        <th id=\"T_1c42de5a_d1a2_11ea_947c_482ae32b83dalevel0_row1\" class=\"row_heading level0 row1\" >1</th>\n",
       "                        <td id=\"T_1c42de5a_d1a2_11ea_947c_482ae32b83darow1_col0\" class=\"data row1 col0\" >Original Data </td>\n",
       "                        <td id=\"T_1c42de5a_d1a2_11ea_947c_482ae32b83darow1_col1\" class=\"data row1 col1\" >(1000, 10)</td>\n",
       "            </tr>\n",
       "            <tr>\n",
       "                        <th id=\"T_1c42de5a_d1a2_11ea_947c_482ae32b83dalevel0_row2\" class=\"row_heading level0 row2\" >2</th>\n",
       "                        <td id=\"T_1c42de5a_d1a2_11ea_947c_482ae32b83darow2_col0\" class=\"data row2 col0\" >Missing Values </td>\n",
       "                        <td id=\"T_1c42de5a_d1a2_11ea_947c_482ae32b83darow2_col1\" class=\"data row2 col1\" >False</td>\n",
       "            </tr>\n",
       "            <tr>\n",
       "                        <th id=\"T_1c42de5a_d1a2_11ea_947c_482ae32b83dalevel0_row3\" class=\"row_heading level0 row3\" >3</th>\n",
       "                        <td id=\"T_1c42de5a_d1a2_11ea_947c_482ae32b83darow3_col0\" class=\"data row3 col0\" >Numeric Features </td>\n",
       "                        <td id=\"T_1c42de5a_d1a2_11ea_947c_482ae32b83darow3_col1\" class=\"data row3 col1\" >10</td>\n",
       "            </tr>\n",
       "            <tr>\n",
       "                        <th id=\"T_1c42de5a_d1a2_11ea_947c_482ae32b83dalevel0_row4\" class=\"row_heading level0 row4\" >4</th>\n",
       "                        <td id=\"T_1c42de5a_d1a2_11ea_947c_482ae32b83darow4_col0\" class=\"data row4 col0\" >Categorical Features </td>\n",
       "                        <td id=\"T_1c42de5a_d1a2_11ea_947c_482ae32b83darow4_col1\" class=\"data row4 col1\" >0</td>\n",
       "            </tr>\n",
       "            <tr>\n",
       "                        <th id=\"T_1c42de5a_d1a2_11ea_947c_482ae32b83dalevel0_row5\" class=\"row_heading level0 row5\" >5</th>\n",
       "                        <td id=\"T_1c42de5a_d1a2_11ea_947c_482ae32b83darow5_col0\" class=\"data row5 col0\" >Ordinal Features </td>\n",
       "                        <td id=\"T_1c42de5a_d1a2_11ea_947c_482ae32b83darow5_col1\" class=\"data row5 col1\" >False</td>\n",
       "            </tr>\n",
       "            <tr>\n",
       "                        <th id=\"T_1c42de5a_d1a2_11ea_947c_482ae32b83dalevel0_row6\" class=\"row_heading level0 row6\" >6</th>\n",
       "                        <td id=\"T_1c42de5a_d1a2_11ea_947c_482ae32b83darow6_col0\" class=\"data row6 col0\" >High Cardinality Features </td>\n",
       "                        <td id=\"T_1c42de5a_d1a2_11ea_947c_482ae32b83darow6_col1\" class=\"data row6 col1\" >False</td>\n",
       "            </tr>\n",
       "            <tr>\n",
       "                        <th id=\"T_1c42de5a_d1a2_11ea_947c_482ae32b83dalevel0_row7\" class=\"row_heading level0 row7\" >7</th>\n",
       "                        <td id=\"T_1c42de5a_d1a2_11ea_947c_482ae32b83darow7_col0\" class=\"data row7 col0\" >Transformed Data </td>\n",
       "                        <td id=\"T_1c42de5a_d1a2_11ea_947c_482ae32b83darow7_col1\" class=\"data row7 col1\" >(1000, 10)</td>\n",
       "            </tr>\n",
       "            <tr>\n",
       "                        <th id=\"T_1c42de5a_d1a2_11ea_947c_482ae32b83dalevel0_row8\" class=\"row_heading level0 row8\" >8</th>\n",
       "                        <td id=\"T_1c42de5a_d1a2_11ea_947c_482ae32b83darow8_col0\" class=\"data row8 col0\" >Numeric Imputer </td>\n",
       "                        <td id=\"T_1c42de5a_d1a2_11ea_947c_482ae32b83darow8_col1\" class=\"data row8 col1\" >mean</td>\n",
       "            </tr>\n",
       "            <tr>\n",
       "                        <th id=\"T_1c42de5a_d1a2_11ea_947c_482ae32b83dalevel0_row9\" class=\"row_heading level0 row9\" >9</th>\n",
       "                        <td id=\"T_1c42de5a_d1a2_11ea_947c_482ae32b83darow9_col0\" class=\"data row9 col0\" >Categorical Imputer </td>\n",
       "                        <td id=\"T_1c42de5a_d1a2_11ea_947c_482ae32b83darow9_col1\" class=\"data row9 col1\" >constant</td>\n",
       "            </tr>\n",
       "            <tr>\n",
       "                        <th id=\"T_1c42de5a_d1a2_11ea_947c_482ae32b83dalevel0_row10\" class=\"row_heading level0 row10\" >10</th>\n",
       "                        <td id=\"T_1c42de5a_d1a2_11ea_947c_482ae32b83darow10_col0\" class=\"data row10 col0\" >Normalize </td>\n",
       "                        <td id=\"T_1c42de5a_d1a2_11ea_947c_482ae32b83darow10_col1\" class=\"data row10 col1\" >False</td>\n",
       "            </tr>\n",
       "            <tr>\n",
       "                        <th id=\"T_1c42de5a_d1a2_11ea_947c_482ae32b83dalevel0_row11\" class=\"row_heading level0 row11\" >11</th>\n",
       "                        <td id=\"T_1c42de5a_d1a2_11ea_947c_482ae32b83darow11_col0\" class=\"data row11 col0\" >Normalize Method </td>\n",
       "                        <td id=\"T_1c42de5a_d1a2_11ea_947c_482ae32b83darow11_col1\" class=\"data row11 col1\" >None</td>\n",
       "            </tr>\n",
       "            <tr>\n",
       "                        <th id=\"T_1c42de5a_d1a2_11ea_947c_482ae32b83dalevel0_row12\" class=\"row_heading level0 row12\" >12</th>\n",
       "                        <td id=\"T_1c42de5a_d1a2_11ea_947c_482ae32b83darow12_col0\" class=\"data row12 col0\" >Transformation </td>\n",
       "                        <td id=\"T_1c42de5a_d1a2_11ea_947c_482ae32b83darow12_col1\" class=\"data row12 col1\" >False</td>\n",
       "            </tr>\n",
       "            <tr>\n",
       "                        <th id=\"T_1c42de5a_d1a2_11ea_947c_482ae32b83dalevel0_row13\" class=\"row_heading level0 row13\" >13</th>\n",
       "                        <td id=\"T_1c42de5a_d1a2_11ea_947c_482ae32b83darow13_col0\" class=\"data row13 col0\" >Transformation Method </td>\n",
       "                        <td id=\"T_1c42de5a_d1a2_11ea_947c_482ae32b83darow13_col1\" class=\"data row13 col1\" >None</td>\n",
       "            </tr>\n",
       "            <tr>\n",
       "                        <th id=\"T_1c42de5a_d1a2_11ea_947c_482ae32b83dalevel0_row14\" class=\"row_heading level0 row14\" >14</th>\n",
       "                        <td id=\"T_1c42de5a_d1a2_11ea_947c_482ae32b83darow14_col0\" class=\"data row14 col0\" >PCA </td>\n",
       "                        <td id=\"T_1c42de5a_d1a2_11ea_947c_482ae32b83darow14_col1\" class=\"data row14 col1\" >False</td>\n",
       "            </tr>\n",
       "            <tr>\n",
       "                        <th id=\"T_1c42de5a_d1a2_11ea_947c_482ae32b83dalevel0_row15\" class=\"row_heading level0 row15\" >15</th>\n",
       "                        <td id=\"T_1c42de5a_d1a2_11ea_947c_482ae32b83darow15_col0\" class=\"data row15 col0\" >PCA Method </td>\n",
       "                        <td id=\"T_1c42de5a_d1a2_11ea_947c_482ae32b83darow15_col1\" class=\"data row15 col1\" >None</td>\n",
       "            </tr>\n",
       "            <tr>\n",
       "                        <th id=\"T_1c42de5a_d1a2_11ea_947c_482ae32b83dalevel0_row16\" class=\"row_heading level0 row16\" >16</th>\n",
       "                        <td id=\"T_1c42de5a_d1a2_11ea_947c_482ae32b83darow16_col0\" class=\"data row16 col0\" >PCA components </td>\n",
       "                        <td id=\"T_1c42de5a_d1a2_11ea_947c_482ae32b83darow16_col1\" class=\"data row16 col1\" >None</td>\n",
       "            </tr>\n",
       "            <tr>\n",
       "                        <th id=\"T_1c42de5a_d1a2_11ea_947c_482ae32b83dalevel0_row17\" class=\"row_heading level0 row17\" >17</th>\n",
       "                        <td id=\"T_1c42de5a_d1a2_11ea_947c_482ae32b83darow17_col0\" class=\"data row17 col0\" >Ignore Low Variance </td>\n",
       "                        <td id=\"T_1c42de5a_d1a2_11ea_947c_482ae32b83darow17_col1\" class=\"data row17 col1\" >False</td>\n",
       "            </tr>\n",
       "            <tr>\n",
       "                        <th id=\"T_1c42de5a_d1a2_11ea_947c_482ae32b83dalevel0_row18\" class=\"row_heading level0 row18\" >18</th>\n",
       "                        <td id=\"T_1c42de5a_d1a2_11ea_947c_482ae32b83darow18_col0\" class=\"data row18 col0\" >Combine Rare Levels </td>\n",
       "                        <td id=\"T_1c42de5a_d1a2_11ea_947c_482ae32b83darow18_col1\" class=\"data row18 col1\" >False</td>\n",
       "            </tr>\n",
       "            <tr>\n",
       "                        <th id=\"T_1c42de5a_d1a2_11ea_947c_482ae32b83dalevel0_row19\" class=\"row_heading level0 row19\" >19</th>\n",
       "                        <td id=\"T_1c42de5a_d1a2_11ea_947c_482ae32b83darow19_col0\" class=\"data row19 col0\" >Rare Level Threshold </td>\n",
       "                        <td id=\"T_1c42de5a_d1a2_11ea_947c_482ae32b83darow19_col1\" class=\"data row19 col1\" >None</td>\n",
       "            </tr>\n",
       "            <tr>\n",
       "                        <th id=\"T_1c42de5a_d1a2_11ea_947c_482ae32b83dalevel0_row20\" class=\"row_heading level0 row20\" >20</th>\n",
       "                        <td id=\"T_1c42de5a_d1a2_11ea_947c_482ae32b83darow20_col0\" class=\"data row20 col0\" >Numeric Binning </td>\n",
       "                        <td id=\"T_1c42de5a_d1a2_11ea_947c_482ae32b83darow20_col1\" class=\"data row20 col1\" >False</td>\n",
       "            </tr>\n",
       "            <tr>\n",
       "                        <th id=\"T_1c42de5a_d1a2_11ea_947c_482ae32b83dalevel0_row21\" class=\"row_heading level0 row21\" >21</th>\n",
       "                        <td id=\"T_1c42de5a_d1a2_11ea_947c_482ae32b83darow21_col0\" class=\"data row21 col0\" >Remove Multicollinearity </td>\n",
       "                        <td id=\"T_1c42de5a_d1a2_11ea_947c_482ae32b83darow21_col1\" class=\"data row21 col1\" >False</td>\n",
       "            </tr>\n",
       "            <tr>\n",
       "                        <th id=\"T_1c42de5a_d1a2_11ea_947c_482ae32b83dalevel0_row22\" class=\"row_heading level0 row22\" >22</th>\n",
       "                        <td id=\"T_1c42de5a_d1a2_11ea_947c_482ae32b83darow22_col0\" class=\"data row22 col0\" >Multicollinearity Threshold </td>\n",
       "                        <td id=\"T_1c42de5a_d1a2_11ea_947c_482ae32b83darow22_col1\" class=\"data row22 col1\" >None</td>\n",
       "            </tr>\n",
       "            <tr>\n",
       "                        <th id=\"T_1c42de5a_d1a2_11ea_947c_482ae32b83dalevel0_row23\" class=\"row_heading level0 row23\" >23</th>\n",
       "                        <td id=\"T_1c42de5a_d1a2_11ea_947c_482ae32b83darow23_col0\" class=\"data row23 col0\" >Group Features </td>\n",
       "                        <td id=\"T_1c42de5a_d1a2_11ea_947c_482ae32b83darow23_col1\" class=\"data row23 col1\" >False</td>\n",
       "            </tr>\n",
       "    </tbody></table>"
      ],
      "text/plain": [
       "<pandas.io.formats.style.Styler at 0x2f82ef1b470>"
      ]
     },
     "metadata": {},
     "output_type": "display_data"
    }
   ],
   "source": [
    "from pycaret.anomaly import *\n",
    "ano1 = setup(data, session_id=123, log_experiment=True, experiment_name='anomaly1')"
   ]
  },
  {
   "cell_type": "markdown",
   "metadata": {},
   "source": [
    "# 3. Create Model"
   ]
  },
  {
   "cell_type": "code",
   "execution_count": 4,
   "metadata": {},
   "outputs": [
    {
     "data": {
      "text/html": [
       "<div>\n",
       "<style scoped>\n",
       "    .dataframe tbody tr th:only-of-type {\n",
       "        vertical-align: middle;\n",
       "    }\n",
       "\n",
       "    .dataframe tbody tr th {\n",
       "        vertical-align: top;\n",
       "    }\n",
       "\n",
       "    .dataframe thead th {\n",
       "        text-align: right;\n",
       "    }\n",
       "</style>\n",
       "<table border=\"1\" class=\"dataframe\">\n",
       "  <thead>\n",
       "    <tr style=\"text-align: right;\">\n",
       "      <th></th>\n",
       "      <th>Name</th>\n",
       "      <th>Reference</th>\n",
       "    </tr>\n",
       "    <tr>\n",
       "      <th>ID</th>\n",
       "      <th></th>\n",
       "      <th></th>\n",
       "    </tr>\n",
       "  </thead>\n",
       "  <tbody>\n",
       "    <tr>\n",
       "      <th>abod</th>\n",
       "      <td>Angle-base Outlier Detection</td>\n",
       "      <td>pyod.models.abod.ABOD</td>\n",
       "    </tr>\n",
       "    <tr>\n",
       "      <th>iforest</th>\n",
       "      <td>Isolation Forest</td>\n",
       "      <td>pyod.models.iforest</td>\n",
       "    </tr>\n",
       "    <tr>\n",
       "      <th>cluster</th>\n",
       "      <td>Clustering-Based Local Outlier</td>\n",
       "      <td>pyod.models.cblof</td>\n",
       "    </tr>\n",
       "    <tr>\n",
       "      <th>cof</th>\n",
       "      <td>Connectivity-Based Outlier Factor</td>\n",
       "      <td>pyod.models.cof</td>\n",
       "    </tr>\n",
       "    <tr>\n",
       "      <th>histogram</th>\n",
       "      <td>Histogram-based Outlier Detection</td>\n",
       "      <td>pyod.models.hbos</td>\n",
       "    </tr>\n",
       "    <tr>\n",
       "      <th>knn</th>\n",
       "      <td>k-Nearest Neighbors Detector</td>\n",
       "      <td>pyod.models.knn</td>\n",
       "    </tr>\n",
       "    <tr>\n",
       "      <th>lof</th>\n",
       "      <td>Local Outlier Factor</td>\n",
       "      <td>pyod.models.lof</td>\n",
       "    </tr>\n",
       "    <tr>\n",
       "      <th>svm</th>\n",
       "      <td>One-class SVM detector</td>\n",
       "      <td>pyod.models.ocsvm</td>\n",
       "    </tr>\n",
       "    <tr>\n",
       "      <th>pca</th>\n",
       "      <td>Principal Component Analysis</td>\n",
       "      <td>pyod.models.pca</td>\n",
       "    </tr>\n",
       "    <tr>\n",
       "      <th>mcd</th>\n",
       "      <td>Minimum Covariance Determinant</td>\n",
       "      <td>pyod.models.mcd</td>\n",
       "    </tr>\n",
       "    <tr>\n",
       "      <th>sod</th>\n",
       "      <td>Subspace Outlier Detection</td>\n",
       "      <td>pyod.models.sod</td>\n",
       "    </tr>\n",
       "    <tr>\n",
       "      <th>sos</th>\n",
       "      <td>Stochastic Outlier Selection</td>\n",
       "      <td>pyod.models.sos</td>\n",
       "    </tr>\n",
       "  </tbody>\n",
       "</table>\n",
       "</div>"
      ],
      "text/plain": [
       "                                        Name              Reference\n",
       "ID                                                                 \n",
       "abod            Angle-base Outlier Detection  pyod.models.abod.ABOD\n",
       "iforest                     Isolation Forest    pyod.models.iforest\n",
       "cluster       Clustering-Based Local Outlier      pyod.models.cblof\n",
       "cof        Connectivity-Based Outlier Factor        pyod.models.cof\n",
       "histogram  Histogram-based Outlier Detection       pyod.models.hbos\n",
       "knn             k-Nearest Neighbors Detector        pyod.models.knn\n",
       "lof                     Local Outlier Factor        pyod.models.lof\n",
       "svm                   One-class SVM detector      pyod.models.ocsvm\n",
       "pca             Principal Component Analysis        pyod.models.pca\n",
       "mcd           Minimum Covariance Determinant        pyod.models.mcd\n",
       "sod               Subspace Outlier Detection        pyod.models.sod\n",
       "sos             Stochastic Outlier Selection        pyod.models.sos"
      ]
     },
     "execution_count": 4,
     "metadata": {},
     "output_type": "execute_result"
    }
   ],
   "source": [
    "models()"
   ]
  },
  {
   "cell_type": "code",
   "execution_count": 5,
   "metadata": {},
   "outputs": [],
   "source": [
    "iforest = create_model('iforest')"
   ]
  },
  {
   "cell_type": "code",
   "execution_count": 6,
   "metadata": {},
   "outputs": [],
   "source": [
    "knn = create_model('knn', fraction = 0.1)"
   ]
  },
  {
   "cell_type": "markdown",
   "metadata": {},
   "source": [
    "# 4. Assign Labels"
   ]
  },
  {
   "cell_type": "code",
   "execution_count": 7,
   "metadata": {},
   "outputs": [
    {
     "data": {
      "text/html": [
       "<div>\n",
       "<style scoped>\n",
       "    .dataframe tbody tr th:only-of-type {\n",
       "        vertical-align: middle;\n",
       "    }\n",
       "\n",
       "    .dataframe tbody tr th {\n",
       "        vertical-align: top;\n",
       "    }\n",
       "\n",
       "    .dataframe thead th {\n",
       "        text-align: right;\n",
       "    }\n",
       "</style>\n",
       "<table border=\"1\" class=\"dataframe\">\n",
       "  <thead>\n",
       "    <tr style=\"text-align: right;\">\n",
       "      <th></th>\n",
       "      <th>Col1</th>\n",
       "      <th>Col2</th>\n",
       "      <th>Col3</th>\n",
       "      <th>Col4</th>\n",
       "      <th>Col5</th>\n",
       "      <th>Col6</th>\n",
       "      <th>Col7</th>\n",
       "      <th>Col8</th>\n",
       "      <th>Col9</th>\n",
       "      <th>Col10</th>\n",
       "      <th>Label</th>\n",
       "      <th>Score</th>\n",
       "    </tr>\n",
       "  </thead>\n",
       "  <tbody>\n",
       "    <tr>\n",
       "      <th>0</th>\n",
       "      <td>0.263995</td>\n",
       "      <td>0.764929</td>\n",
       "      <td>0.138424</td>\n",
       "      <td>0.935242</td>\n",
       "      <td>0.605867</td>\n",
       "      <td>0.518790</td>\n",
       "      <td>0.912225</td>\n",
       "      <td>0.608234</td>\n",
       "      <td>0.723782</td>\n",
       "      <td>0.733591</td>\n",
       "      <td>0</td>\n",
       "      <td>-0.035865</td>\n",
       "    </tr>\n",
       "    <tr>\n",
       "      <th>1</th>\n",
       "      <td>0.546092</td>\n",
       "      <td>0.653975</td>\n",
       "      <td>0.065575</td>\n",
       "      <td>0.227772</td>\n",
       "      <td>0.845269</td>\n",
       "      <td>0.837066</td>\n",
       "      <td>0.272379</td>\n",
       "      <td>0.331679</td>\n",
       "      <td>0.429297</td>\n",
       "      <td>0.367422</td>\n",
       "      <td>0</td>\n",
       "      <td>-0.084927</td>\n",
       "    </tr>\n",
       "    <tr>\n",
       "      <th>2</th>\n",
       "      <td>0.336714</td>\n",
       "      <td>0.538842</td>\n",
       "      <td>0.192801</td>\n",
       "      <td>0.553563</td>\n",
       "      <td>0.074515</td>\n",
       "      <td>0.332993</td>\n",
       "      <td>0.365792</td>\n",
       "      <td>0.861309</td>\n",
       "      <td>0.899017</td>\n",
       "      <td>0.088600</td>\n",
       "      <td>1</td>\n",
       "      <td>0.025356</td>\n",
       "    </tr>\n",
       "    <tr>\n",
       "      <th>3</th>\n",
       "      <td>0.092108</td>\n",
       "      <td>0.995017</td>\n",
       "      <td>0.014465</td>\n",
       "      <td>0.176371</td>\n",
       "      <td>0.241530</td>\n",
       "      <td>0.514724</td>\n",
       "      <td>0.562208</td>\n",
       "      <td>0.158963</td>\n",
       "      <td>0.073715</td>\n",
       "      <td>0.208463</td>\n",
       "      <td>1</td>\n",
       "      <td>0.042415</td>\n",
       "    </tr>\n",
       "    <tr>\n",
       "      <th>4</th>\n",
       "      <td>0.325261</td>\n",
       "      <td>0.805968</td>\n",
       "      <td>0.957033</td>\n",
       "      <td>0.331665</td>\n",
       "      <td>0.307923</td>\n",
       "      <td>0.355315</td>\n",
       "      <td>0.501899</td>\n",
       "      <td>0.558449</td>\n",
       "      <td>0.885169</td>\n",
       "      <td>0.182754</td>\n",
       "      <td>0</td>\n",
       "      <td>-0.023408</td>\n",
       "    </tr>\n",
       "  </tbody>\n",
       "</table>\n",
       "</div>"
      ],
      "text/plain": [
       "       Col1      Col2      Col3      Col4      Col5      Col6      Col7  \\\n",
       "0  0.263995  0.764929  0.138424  0.935242  0.605867  0.518790  0.912225   \n",
       "1  0.546092  0.653975  0.065575  0.227772  0.845269  0.837066  0.272379   \n",
       "2  0.336714  0.538842  0.192801  0.553563  0.074515  0.332993  0.365792   \n",
       "3  0.092108  0.995017  0.014465  0.176371  0.241530  0.514724  0.562208   \n",
       "4  0.325261  0.805968  0.957033  0.331665  0.307923  0.355315  0.501899   \n",
       "\n",
       "       Col8      Col9     Col10  Label     Score  \n",
       "0  0.608234  0.723782  0.733591      0 -0.035865  \n",
       "1  0.331679  0.429297  0.367422      0 -0.084927  \n",
       "2  0.861309  0.899017  0.088600      1  0.025356  \n",
       "3  0.158963  0.073715  0.208463      1  0.042415  \n",
       "4  0.558449  0.885169  0.182754      0 -0.023408  "
      ]
     },
     "execution_count": 7,
     "metadata": {},
     "output_type": "execute_result"
    }
   ],
   "source": [
    "iforest_results = assign_model(iforest)\n",
    "iforest_results.head()"
   ]
  },
  {
   "cell_type": "markdown",
   "metadata": {},
   "source": [
    "# 5. Analyze Model"
   ]
  },
  {
   "cell_type": "code",
   "execution_count": 8,
   "metadata": {},
   "outputs": [
    {
     "data": {
      "text/html": [
       "        <script type=\"text/javascript\">\n",
       "        window.PlotlyConfig = {MathJaxConfig: 'local'};\n",
       "        if (window.MathJax) {MathJax.Hub.Config({SVG: {font: \"STIX-Web\"}});}\n",
       "        if (typeof require !== 'undefined') {\n",
       "        require.undef(\"plotly\");\n",
       "        requirejs.config({\n",
       "            paths: {\n",
       "                'plotly': ['https://cdn.plot.ly/plotly-latest.min']\n",
       "            }\n",
       "        });\n",
       "        require(['plotly'], function(Plotly) {\n",
       "            window._Plotly = Plotly;\n",
       "        });\n",
       "        }\n",
       "        </script>\n",
       "        "
      ]
     },
     "metadata": {},
     "output_type": "display_data"
    },
    {
     "data": {
      "application/vnd.plotly.v1+json": {
       "config": {
        "plotlyServerURL": "https://plot.ly"
       },
       "data": [
        {
         "customdata": [
          [
           0.263995357
          ],
          [
           0.546092303
          ],
          [
           0.33671410399999996
          ],
          [
           0.092107835
          ],
          [
           0.325261175
          ],
          [
           0.212464853
          ],
          [
           0.258565714
          ],
          [
           0.869236755
          ],
          [
           0.197077957
          ],
          [
           0.292984504
          ],
          [
           0.82178316
          ],
          [
           0.796622959
          ],
          [
           0.045577010999999994
          ],
          [
           0.613660351
          ],
          [
           0.9507445659999999
          ],
          [
           0.33634633700000005
          ],
          [
           0.034440667
          ],
          [
           0.741544275
          ],
          [
           0.18443265
          ],
          [
           0.664514943
          ],
          [
           0.16282485800000002
          ],
          [
           0.729838445
          ],
          [
           0.62837389
          ],
          [
           0.057883660999999996
          ],
          [
           0.445534827
          ],
          [
           0.80183695
          ],
          [
           0.27709612
          ],
          [
           0.228634015
          ],
          [
           0.834860657
          ],
          [
           0.6697665110000001
          ],
          [
           0.532527349
          ],
          [
           0.17045907100000002
          ],
          [
           0.5102884679999999
          ],
          [
           0.977561989
          ],
          [
           0.249775993
          ],
          [
           0.9755006820000001
          ],
          [
           0.613701727
          ],
          [
           0.16742036300000002
          ],
          [
           0.537472516
          ],
          [
           0.379899131
          ],
          [
           0.633897303
          ],
          [
           0.633960424
          ],
          [
           0.5499746529999999
          ],
          [
           0.178172988
          ],
          [
           0.85563814
          ],
          [
           0.321796672
          ],
          [
           0.8174905370000001
          ],
          [
           0.254879417
          ],
          [
           0.344140513
          ],
          [
           0.8061457259999999
          ],
          [
           0.27708167100000003
          ],
          [
           0.544328519
          ],
          [
           0.07708393
          ],
          [
           0.273081458
          ],
          [
           0.390877336
          ],
          [
           0.349621385
          ],
          [
           0.214549744
          ],
          [
           0.206075222
          ],
          [
           0.86461997
          ],
          [
           0.9817088540000001
          ],
          [
           0.33482964600000004
          ],
          [
           0.648387061
          ],
          [
           0.093643561
          ],
          [
           0.837802698
          ],
          [
           0.7603439670000001
          ],
          [
           0.29140417399999996
          ],
          [
           0.3413454
          ],
          [
           0.7611124840000001
          ],
          [
           0.541899775
          ],
          [
           0.684176639
          ],
          [
           0.983535597
          ],
          [
           0.52081245
          ],
          [
           0.328227724
          ],
          [
           0.09715793800000001
          ],
          [
           0.876088593
          ],
          [
           0.870214512
          ],
          [
           0.656086992
          ],
          [
           0.306791514
          ],
          [
           0.48126734
          ],
          [
           0.259559174
          ],
          [
           0.326123655
          ],
          [
           0.930568042
          ],
          [
           0.6583894
          ],
          [
           0.689992335
          ],
          [
           0.315781109
          ],
          [
           0.5669050929999999
          ],
          [
           0.637526619
          ],
          [
           0.687540723
          ],
          [
           0.324300602
          ],
          [
           0.592704906
          ],
          [
           0.7402531259999999
          ],
          [
           0.5940328770000001
          ],
          [
           0.596452977
          ],
          [
           0.27768081699999997
          ],
          [
           0.258329663
          ],
          [
           0.142460864
          ],
          [
           0.435533461
          ],
          [
           0.7024990440000001
          ],
          [
           0.58897535
          ],
          [
           0.653304374
          ],
          [
           0.336968524
          ],
          [
           0.631244736
          ],
          [
           0.73530076
          ],
          [
           0.050390366
          ],
          [
           0.064264924
          ],
          [
           0.665359476
          ],
          [
           0.917835245
          ],
          [
           0.44651012
          ],
          [
           0.661938199
          ],
          [
           0.43935985299999997
          ],
          [
           0.6875724040000001
          ],
          [
           0.363462248
          ],
          [
           0.6542621820000001
          ],
          [
           0.578553536
          ],
          [
           0.065927945
          ],
          [
           0.550148559
          ],
          [
           0.13918281400000002
          ],
          [
           0.080004635
          ],
          [
           0.278228358
          ],
          [
           0.560124266
          ],
          [
           0.53639864
          ],
          [
           0.42653190399999996
          ],
          [
           0.789109796
          ],
          [
           0.742900474
          ],
          [
           0.901692589
          ],
          [
           0.650337401
          ],
          [
           0.114057311
          ],
          [
           0.260812592
          ],
          [
           0.43991232
          ],
          [
           0.964409284
          ],
          [
           0.184401415
          ],
          [
           0.345145446
          ],
          [
           0.17589458100000002
          ],
          [
           0.312514453
          ],
          [
           0.674131879
          ],
          [
           0.32825045
          ],
          [
           0.598231057
          ],
          [
           0.09259881699999999
          ],
          [
           0.497916521
          ],
          [
           0.419776521
          ],
          [
           0.31217670000000003
          ],
          [
           0.937857107
          ],
          [
           0.049030963
          ],
          [
           0.47610452600000003
          ],
          [
           0.447397526
          ],
          [
           0.295806058
          ],
          [
           0.737363977
          ],
          [
           0.625896253
          ],
          [
           0.408813429
          ],
          [
           0.437511156
          ],
          [
           0.691351375
          ],
          [
           0.935555275
          ],
          [
           0.437846654
          ],
          [
           0.072217715
          ],
          [
           0.67636067
          ],
          [
           0.468883999
          ],
          [
           0.543820644
          ],
          [
           0.6555226470000001
          ],
          [
           0.6935289240000001
          ],
          [
           0.10887831199999999
          ],
          [
           0.285463743
          ],
          [
           0
          ],
          [
           0.706495497
          ],
          [
           0.273530633
          ],
          [
           0.292320271
          ],
          [
           0.673984307
          ],
          [
           0.12612182800000002
          ],
          [
           0.9467074590000001
          ],
          [
           0.9363388979999999
          ],
          [
           0.8537553640000001
          ],
          [
           0.7060713609999999
          ],
          [
           0.693682186
          ],
          [
           0.508527882
          ],
          [
           0.34717038899999997
          ],
          [
           0.704154263
          ],
          [
           0.658730088
          ],
          [
           0.155841557
          ],
          [
           0.311085435
          ],
          [
           0.281135347
          ],
          [
           0.094587802
          ],
          [
           0.6832609540000001
          ],
          [
           0.9077292509999999
          ],
          [
           0.29151267399999997
          ],
          [
           0.752734459
          ],
          [
           0.93482964
          ],
          [
           0.071413953
          ],
          [
           0.5948963270000001
          ],
          [
           0.404672015
          ],
          [
           0.13837621
          ],
          [
           0.7473384679999999
          ],
          [
           0.530882486
          ],
          [
           0.282649594
          ],
          [
           0.699335734
          ],
          [
           0.056111250999999994
          ],
          [
           0.855234998
          ],
          [
           0.07789512700000001
          ],
          [
           0.891649583
          ],
          [
           0.38674227899999997
          ],
          [
           0.27113158
          ],
          [
           0.958888961
          ],
          [
           0.085120869
          ],
          [
           0.5269022489999999
          ],
          [
           0.066577785
          ],
          [
           0.841506738
          ],
          [
           0.255342095
          ],
          [
           0.060545771
          ],
          [
           0.073385869
          ],
          [
           0.187493723
          ],
          [
           0.858365688
          ],
          [
           0.090640352
          ],
          [
           0.7097252270000001
          ],
          [
           0.631300647
          ],
          [
           0.24750447399999997
          ],
          [
           0.822843584
          ],
          [
           0.373476759
          ],
          [
           0.625538582
          ],
          [
           0.292951715
          ],
          [
           0.299730324
          ],
          [
           0.25121407
          ],
          [
           0.344480551
          ],
          [
           0.293064767
          ],
          [
           0.7628032240000001
          ],
          [
           0.7384708040000001
          ],
          [
           0.674883265
          ],
          [
           0.719151612
          ],
          [
           0.13098021599999998
          ],
          [
           0.511328036
          ],
          [
           0.04492903
          ],
          [
           0.560914449
          ],
          [
           0.7440406409999999
          ],
          [
           0.266961634
          ],
          [
           0.644231853
          ],
          [
           0.038113352
          ],
          [
           0.05715529900000001
          ],
          [
           0.34139246100000004
          ],
          [
           0.7204636320000001
          ],
          [
           0.402878236
          ],
          [
           0.635148967
          ],
          [
           0.320729467
          ],
          [
           0.09120969400000001
          ],
          [
           0.23414609
          ],
          [
           0.8902211309999999
          ],
          [
           0.602170884
          ],
          [
           0.633652055
          ],
          [
           0.806240837
          ],
          [
           0.739731184
          ],
          [
           0.465231269
          ],
          [
           0.7321109
          ],
          [
           0.373874305
          ],
          [
           0.501587947
          ],
          [
           0.11538315800000001
          ],
          [
           0.7319466040000001
          ],
          [
           0.41829872799999995
          ],
          [
           0.062259590999999996
          ],
          [
           0.391496379
          ],
          [
           0.35984929
          ],
          [
           0.24523562699999998
          ],
          [
           0.610028339
          ],
          [
           0.43540360200000006
          ],
          [
           0.434309675
          ],
          [
           0.523763344
          ],
          [
           0.17118786600000002
          ],
          [
           0.18773430300000002
          ],
          [
           0.945014638
          ],
          [
           0.027851097000000002
          ],
          [
           0.68445706
          ],
          [
           0.178014532
          ],
          [
           0.643427879
          ],
          [
           0.59588355
          ],
          [
           0.372361682
          ],
          [
           0.586103584
          ],
          [
           0.271658852
          ],
          [
           0.59951107
          ],
          [
           0.468363088
          ],
          [
           0.314515565
          ],
          [
           0.21893726
          ],
          [
           0.254716562
          ],
          [
           0.25612815
          ],
          [
           0.602259755
          ],
          [
           0.134381075
          ],
          [
           0.513887424
          ],
          [
           0.624241636
          ],
          [
           0.160251854
          ],
          [
           0.580708108
          ],
          [
           0.270540486
          ],
          [
           0.832919932
          ],
          [
           0.93032134
          ],
          [
           0.719157884
          ],
          [
           0.886720033
          ],
          [
           0.098792281
          ],
          [
           0.787174286
          ],
          [
           0.365592376
          ],
          [
           0.719576193
          ],
          [
           0.8058956
          ],
          [
           0.7555783340000001
          ],
          [
           0.526005909
          ],
          [
           0.68880424
          ],
          [
           0.22111531199999998
          ],
          [
           0.739369477
          ],
          [
           0.408440236
          ],
          [
           0.348926542
          ],
          [
           0.433713763
          ],
          [
           0.5964966070000001
          ],
          [
           0.6942953000000001
          ],
          [
           0.7090309659999999
          ],
          [
           0.867652984
          ],
          [
           0.89332545
          ],
          [
           0.746020922
          ],
          [
           0.538284443
          ],
          [
           0.8922193140000001
          ],
          [
           0.935175765
          ],
          [
           0.260527707
          ],
          [
           0.956780449
          ],
          [
           0.204932484
          ],
          [
           0.687733351
          ],
          [
           0.329063619
          ],
          [
           0.632149831
          ],
          [
           0.463744506
          ],
          [
           0.698859621
          ],
          [
           0.385446564
          ],
          [
           0.47997537700000004
          ],
          [
           0.732279108
          ],
          [
           0.3813543
          ],
          [
           0.459326013
          ],
          [
           0.257401434
          ],
          [
           0.665014804
          ],
          [
           0.103399542
          ],
          [
           0.425284413
          ],
          [
           0.943529051
          ],
          [
           0.594750236
          ],
          [
           0.543776817
          ],
          [
           0.18203988
          ],
          [
           0.23584208399999998
          ],
          [
           0.585984497
          ],
          [
           0.762013168
          ],
          [
           0.6849829070000001
          ],
          [
           0.676936933
          ],
          [
           0.290184964
          ],
          [
           0.48106822200000005
          ],
          [
           0.492766033
          ],
          [
           0.22185623399999999
          ],
          [
           0.053875998
          ],
          [
           0.082751144
          ],
          [
           0.385366225
          ],
          [
           0.702513961
          ],
          [
           0.91553156
          ],
          [
           0.082087436
          ],
          [
           0.251280378
          ],
          [
           0.41672181700000005
          ],
          [
           0.277032672
          ],
          [
           0.579539754
          ],
          [
           0.569363476
          ],
          [
           0.133399703
          ],
          [
           0.265045463
          ],
          [
           0.936571901
          ],
          [
           0.252618554
          ],
          [
           0.054033081
          ],
          [
           0.802481439
          ],
          [
           0.528197693
          ],
          [
           0.9515026
          ],
          [
           0.572121173
          ],
          [
           0.752938227
          ],
          [
           0.143857535
          ],
          [
           0.513484576
          ],
          [
           0.313322389
          ],
          [
           0.6877973959999999
          ],
          [
           0.37705984
          ],
          [
           0.348226142
          ],
          [
           0.67763282
          ],
          [
           0.24138752100000002
          ],
          [
           0.8506501790000001
          ],
          [
           0.22034810300000002
          ],
          [
           0.476445464
          ],
          [
           0.690324025
          ],
          [
           0.364695946
          ],
          [
           0.6492491970000001
          ],
          [
           0.9437019209999999
          ],
          [
           0.529645971
          ],
          [
           0.299097002
          ],
          [
           0.96696247
          ],
          [
           0.272005242
          ],
          [
           0.314161447
          ],
          [
           0.752020991
          ],
          [
           0.221882453
          ],
          [
           0.7203326729999999
          ],
          [
           0.379204782
          ],
          [
           0.60168653
          ],
          [
           0.582932673
          ],
          [
           0.950809853
          ],
          [
           0.58830141
          ],
          [
           0.880887227
          ],
          [
           0.467857701
          ],
          [
           0.8799021709999999
          ],
          [
           0.619844009
          ],
          [
           0.359002573
          ],
          [
           0.291511278
          ],
          [
           0.694157143
          ],
          [
           0.727960353
          ],
          [
           0.617703921
          ],
          [
           0.39581257
          ],
          [
           0.58317282
          ],
          [
           0.710332374
          ],
          [
           0.253753693
          ],
          [
           0.049412227999999996
          ],
          [
           0.728378695
          ],
          [
           0.432432881
          ],
          [
           0.58612345
          ],
          [
           0.052342373
          ],
          [
           0.053483902
          ],
          [
           0.518729378
          ],
          [
           0.933040208
          ],
          [
           0.7035542840000001
          ],
          [
           0.268989899
          ],
          [
           0.733006927
          ],
          [
           0.44435246700000003
          ],
          [
           0.5833946210000001
          ],
          [
           0.871172692
          ],
          [
           0.42876707799999997
          ],
          [
           0.30046084100000003
          ],
          [
           0.9533294590000001
          ],
          [
           0.606443965
          ],
          [
           0.90986815
          ],
          [
           0.714896449
          ],
          [
           0.49734950899999997
          ],
          [
           0.8530974859999999
          ],
          [
           0.721804145
          ],
          [
           0.303467328
          ],
          [
           0.664485096
          ],
          [
           0.27978062
          ],
          [
           0.569481665
          ],
          [
           0.628628926
          ],
          [
           0.088368123
          ],
          [
           0.733567326
          ],
          [
           0.537436778
          ],
          [
           0.638593691
          ],
          [
           0.954726948
          ],
          [
           0.632202332
          ],
          [
           0.642134651
          ],
          [
           0.744653087
          ],
          [
           0.115714007
          ],
          [
           0.48625007299999995
          ],
          [
           0.440356144
          ],
          [
           0.08272289
          ],
          [
           0.511591027
          ],
          [
           0.394627555
          ],
          [
           0.224394
          ],
          [
           0.626927584
          ],
          [
           0.290254057
          ],
          [
           0.779008053
          ],
          [
           0.86610579
          ],
          [
           0.873326081
          ],
          [
           0.49548916
          ],
          [
           0.594297695
          ],
          [
           0.9182015840000001
          ],
          [
           0.5770427539999999
          ],
          [
           0.019467671000000002
          ],
          [
           0.6702982820000001
          ],
          [
           0.546595316
          ],
          [
           0.591665146
          ],
          [
           0.42155819
          ],
          [
           0.6856085590000001
          ],
          [
           0.340303024
          ],
          [
           0.675626741
          ],
          [
           0.319067345
          ],
          [
           0.38849966399999997
          ],
          [
           0.706949589
          ],
          [
           0.559409515
          ],
          [
           0.687663508
          ],
          [
           0.7088045540000001
          ],
          [
           0.6818880940000001
          ],
          [
           0.42253510899999996
          ],
          [
           0.320004605
          ],
          [
           0.6582813679999999
          ],
          [
           0.634154867
          ],
          [
           0.7773320090000001
          ],
          [
           0.812677205
          ],
          [
           0.074280797
          ],
          [
           0.39600217
          ],
          [
           0.054933913
          ],
          [
           0.825058925
          ],
          [
           0.382642009
          ],
          [
           0.8687298179999999
          ],
          [
           0.588043346
          ],
          [
           0.891551577
          ],
          [
           0.10920046
          ],
          [
           0.647682781
          ],
          [
           0.724342512
          ],
          [
           0.07016304400000001
          ],
          [
           0.280882054
          ],
          [
           0.039113261
          ],
          [
           0.579641592
          ],
          [
           0.639000922
          ],
          [
           0.281745925
          ],
          [
           0.647857744
          ],
          [
           0.6479057970000001
          ],
          [
           0.875226264
          ],
          [
           0.567603305
          ],
          [
           0.262940591
          ],
          [
           0.268026042
          ],
          [
           0.40519133
          ],
          [
           0.479965451
          ],
          [
           0.33552403
          ],
          [
           0.777165379
          ],
          [
           0.42548796299999997
          ],
          [
           0.237986115
          ],
          [
           0.142522971
          ],
          [
           0.724176488
          ],
          [
           0.234698933
          ],
          [
           0.07818228099999999
          ],
          [
           0.855990155
          ],
          [
           0.270251765
          ],
          [
           0.435517841
          ],
          [
           0.762697513
          ],
          [
           0.46448725799999996
          ],
          [
           0.396112685
          ],
          [
           0.37638092100000003
          ],
          [
           0.29459467699999997
          ],
          [
           0.6944921209999999
          ],
          [
           0.622767949
          ],
          [
           0.8475597220000001
          ],
          [
           0.301463054
          ],
          [
           0.912937812
          ],
          [
           0.500017182
          ],
          [
           0.902587935
          ],
          [
           0.304517943
          ],
          [
           0.299165673
          ],
          [
           0.092014087
          ],
          [
           0.488548917
          ],
          [
           0.664664437
          ],
          [
           0.26534954899999996
          ],
          [
           0.723657021
          ],
          [
           0.149262385
          ],
          [
           0.04577339
          ],
          [
           0.69661064
          ],
          [
           0.42181486
          ],
          [
           0.733845785
          ],
          [
           0.418795386
          ],
          [
           0.677443529
          ],
          [
           0.26128360300000003
          ],
          [
           0.268527767
          ],
          [
           0.5443222360000001
          ],
          [
           0.431632036
          ],
          [
           0.981018141
          ],
          [
           0.21498072399999998
          ],
          [
           0.39472999299999995
          ],
          [
           0.122224944
          ],
          [
           0.297496875
          ],
          [
           0.37490443100000004
          ],
          [
           0.68698771
          ],
          [
           0.388549207
          ],
          [
           0.039296071
          ],
          [
           0.73553424
          ],
          [
           0.37929489299999997
          ],
          [
           0.7321233859999999
          ],
          [
           0.33922143899999996
          ],
          [
           0.659450594
          ],
          [
           0.054838642
          ],
          [
           0.640112102
          ],
          [
           0.30714170399999996
          ],
          [
           0.39661190700000004
          ],
          [
           0.420439161
          ],
          [
           0.24171497399999997
          ],
          [
           0.065893153
          ],
          [
           0.9105219370000001
          ],
          [
           0.697163103
          ],
          [
           0.072559853
          ],
          [
           0.81825094
          ],
          [
           0.311888815
          ],
          [
           0.961644609
          ],
          [
           0.816325524
          ],
          [
           0.14647302
          ],
          [
           0.548753945
          ],
          [
           0.946158087
          ],
          [
           0.293992717
          ],
          [
           0.331479643
          ],
          [
           0.9062200309999999
          ],
          [
           0.525540416
          ],
          [
           0.83301411
          ],
          [
           0.514849806
          ],
          [
           0.574609024
          ],
          [
           0.46871185299999996
          ],
          [
           0.71002775
          ],
          [
           0.645973276
          ],
          [
           0.229794416
          ],
          [
           0.551783393
          ],
          [
           0.055822990999999995
          ],
          [
           0.331750941
          ],
          [
           0.715520198
          ],
          [
           0.583924357
          ],
          [
           0.30695769100000003
          ],
          [
           0.7914782370000001
          ],
          [
           0.16423663900000002
          ],
          [
           0.065711219
          ],
          [
           0.948993132
          ],
          [
           0.080423835
          ],
          [
           0.052495426
          ],
          [
           0.566346135
          ],
          [
           0.3630266
          ],
          [
           0.605442195
          ],
          [
           0.6308505839999999
          ],
          [
           0.065791238
          ],
          [
           0.28681707100000003
          ],
          [
           0.685462839
          ],
          [
           0.260853706
          ],
          [
           0.659122429
          ],
          [
           0.44317392200000005
          ],
          [
           0.602063986
          ],
          [
           0.060366910999999995
          ],
          [
           0.781903153
          ],
          [
           0.5145798070000001
          ],
          [
           0.48388621299999995
          ],
          [
           0.600213807
          ],
          [
           0.49736405200000006
          ],
          [
           0.411145245
          ],
          [
           0.116999171
          ],
          [
           0.34189014100000004
          ],
          [
           0.746950848
          ],
          [
           0.39629274600000003
          ],
          [
           0.6221438429999999
          ],
          [
           0.335271141
          ],
          [
           0.140257137
          ],
          [
           0.081620681
          ],
          [
           0.069837569
          ],
          [
           0.46894000799999996
          ],
          [
           0.9908574170000001
          ],
          [
           0.896616832
          ],
          [
           0.255310561
          ],
          [
           0.22464526699999998
          ],
          [
           0.01991825
          ],
          [
           0.296480415
          ],
          [
           0.155458996
          ],
          [
           0.577916714
          ],
          [
           0.9563030309999999
          ],
          [
           0.813464394
          ],
          [
           0.529675785
          ],
          [
           0.287671353
          ],
          [
           0.48039136
          ],
          [
           0.28104482199999997
          ],
          [
           0.633196521
          ],
          [
           0.09332537699999999
          ],
          [
           0.28447398100000004
          ],
          [
           0.052223775
          ],
          [
           0.051129385
          ],
          [
           0.967405608
          ],
          [
           0.040045727999999996
          ],
          [
           0.9085829209999999
          ],
          [
           0.6621174160000001
          ],
          [
           0.42470320899999997
          ],
          [
           0.72207806
          ],
          [
           0.666193327
          ],
          [
           0.509681253
          ],
          [
           0.7513536209999999
          ],
          [
           0.279073124
          ],
          [
           0.074927
          ],
          [
           0.916359535
          ],
          [
           0.31040327
          ],
          [
           0.716604052
          ],
          [
           0.485587085
          ],
          [
           0.30607518100000003
          ],
          [
           0.477558204
          ],
          [
           0.7119239409999999
          ],
          [
           0.066348638
          ],
          [
           0.27453935100000004
          ],
          [
           0.31082252
          ],
          [
           0.47607312700000004
          ],
          [
           0.186795565
          ],
          [
           0.26654207
          ],
          [
           0.070231142
          ],
          [
           0.26951927
          ],
          [
           0.800004713
          ],
          [
           0.27363366699999997
          ],
          [
           0.14647919199999998
          ],
          [
           0.378318951
          ],
          [
           0.373849065
          ],
          [
           0.242170835
          ],
          [
           0.249796488
          ],
          [
           0.066591188
          ],
          [
           0.372956798
          ],
          [
           0.501812291
          ],
          [
           0.313097752
          ],
          [
           0.8802021959999999
          ],
          [
           0.51981893
          ],
          [
           0.364138746
          ],
          [
           0.49268289600000004
          ],
          [
           0.285732652
          ],
          [
           0.890114985
          ],
          [
           0.316419561
          ],
          [
           0.26866354
          ],
          [
           0.771975959
          ],
          [
           0.968888992
          ],
          [
           0.080334377
          ],
          [
           0.7368282209999999
          ],
          [
           0.30055807100000004
          ],
          [
           0.9179503929999999
          ],
          [
           0.465815039
          ],
          [
           0.054036682
          ],
          [
           0.963150123
          ],
          [
           0.08965350300000001
          ],
          [
           0.7076932340000001
          ],
          [
           0.636416037
          ],
          [
           0.539521117
          ],
          [
           0.114757161
          ],
          [
           0.357312419
          ],
          [
           0.67639834
          ],
          [
           0.43482839
          ],
          [
           0.032326387000000005
          ],
          [
           0.711365605
          ],
          [
           0.187486519
          ],
          [
           0.052789653
          ],
          [
           0.5058636129999999
          ],
          [
           0.927431873
          ],
          [
           0.6809842559999999
          ],
          [
           0.882822186
          ],
          [
           0.495705441
          ],
          [
           0.596240398
          ],
          [
           0.320610701
          ],
          [
           0.3413685
          ],
          [
           0.159681797
          ],
          [
           0.318133669
          ],
          [
           0.8393010479999999
          ],
          [
           0.06435925099999999
          ],
          [
           0.470216633
          ],
          [
           0.7762522909999999
          ],
          [
           0.635843383
          ],
          [
           0.62510543
          ],
          [
           0.52959065
          ],
          [
           0.986900166
          ],
          [
           0.078585688
          ],
          [
           0.233284267
          ],
          [
           0.363330957
          ],
          [
           0.7167169809999999
          ],
          [
           0.37588979200000006
          ],
          [
           0.223316889
          ],
          [
           0.299343986
          ],
          [
           0.538595767
          ],
          [
           0.730297124
          ],
          [
           0.66033077
          ],
          [
           0.435296009
          ],
          [
           0.326494313
          ],
          [
           0.854402708
          ],
          [
           0.5734938470000001
          ],
          [
           0.757786135
          ],
          [
           0.704743233
          ],
          [
           0.281575597
          ],
          [
           0.671968208
          ],
          [
           0.313726015
          ],
          [
           0.364338275
          ],
          [
           0.368216396
          ],
          [
           0.38629520700000003
          ],
          [
           0.655971865
          ],
          [
           0.5660252729999999
          ],
          [
           0.424999093
          ],
          [
           0.090110371
          ],
          [
           0.772350538
          ],
          [
           0.331047258
          ],
          [
           0.273716188
          ],
          [
           0.23877568
          ],
          [
           0.37307977200000003
          ],
          [
           0.331185868
          ],
          [
           0.256134531
          ],
          [
           0.678373225
          ],
          [
           0.43463833799999996
          ],
          [
           0.654668307
          ],
          [
           0.986681065
          ],
          [
           0.371520495
          ],
          [
           0.408359618
          ],
          [
           0.40932365
          ],
          [
           0.283412082
          ],
          [
           0.395246531
          ],
          [
           0.010984428000000001
          ],
          [
           0.306013869
          ],
          [
           0.266194806
          ],
          [
           0.299318521
          ],
          [
           0.318293946
          ],
          [
           0.74282591
          ],
          [
           0.09766432900000001
          ],
          [
           0.079666942
          ],
          [
           0.613258767
          ],
          [
           0.99443072
          ],
          [
           0.568835082
          ],
          [
           0.7080345159999999
          ],
          [
           0.37059271899999996
          ],
          [
           0.669867361
          ],
          [
           0.651295625
          ],
          [
           0.462531569
          ],
          [
           0.7196256190000001
          ],
          [
           0.45377248
          ],
          [
           0.394863946
          ],
          [
           0.323974831
          ],
          [
           0.146454724
          ],
          [
           0.7790670409999999
          ],
          [
           0.401828915
          ],
          [
           0.601479585
          ],
          [
           0.856423023
          ],
          [
           0.565242962
          ],
          [
           0.301225108
          ],
          [
           0.282108144
          ],
          [
           0.594378011
          ],
          [
           0.705312368
          ],
          [
           0.5408696279999999
          ],
          [
           0.319249574
          ],
          [
           0.36176613799999996
          ],
          [
           0.625000704
          ],
          [
           0.316287401
          ],
          [
           0.047239021
          ],
          [
           0.801182233
          ],
          [
           0.508474436
          ],
          [
           0.8178934109999999
          ],
          [
           0.399235601
          ],
          [
           0.9740519990000001
          ],
          [
           0.72241535
          ],
          [
           0.039564764
          ],
          [
           0.908684108
          ],
          [
           0.47301013399999997
          ],
          [
           0.7180496279999999
          ],
          [
           0.7634790690000001
          ],
          [
           0.6475965370000001
          ],
          [
           0.8949973859999999
          ],
          [
           0.22282590100000002
          ],
          [
           0.359012234
          ],
          [
           0.944910252
          ],
          [
           0.297877816
          ],
          [
           0.172517997
          ],
          [
           0.556586265
          ],
          [
           0.876481735
          ],
          [
           0.48667784299999994
          ],
          [
           0.459496733
          ],
          [
           0.47412637700000004
          ],
          [
           0.70101144
          ],
          [
           0.337597387
          ],
          [
           0.537578886
          ],
          [
           0.966992448
          ],
          [
           0.056849545
          ],
          [
           0.233249065
          ],
          [
           0.380054711
          ],
          [
           0.602929443
          ],
          [
           0.303847999
          ],
          [
           0.170194553
          ],
          [
           0.972168554
          ],
          [
           0.332168927
          ],
          [
           0.6887286890000001
          ],
          [
           0.110773401
          ],
          [
           0.273352065
          ],
          [
           0.572939678
          ],
          [
           0.491457065
          ],
          [
           0.281389999
          ],
          [
           0.821697261
          ],
          [
           0.6749776829999999
          ],
          [
           0.585134549
          ],
          [
           0.7105961159999999
          ],
          [
           0.040488789
          ],
          [
           0.568054311
          ],
          [
           0.321752928
          ],
          [
           0.611850232
          ],
          [
           0.926096887
          ],
          [
           0.618347428
          ],
          [
           0.667629785
          ],
          [
           0.39773346600000004
          ],
          [
           0.290875487
          ],
          [
           0.594375103
          ],
          [
           0.508255233
          ],
          [
           0.338571357
          ],
          [
           0.43230234700000003
          ],
          [
           0.302221978
          ],
          [
           0.87619819
          ],
          [
           0.080204492
          ],
          [
           0.092333532
          ],
          [
           0.09365644699999999
          ],
          [
           0.6084523510000001
          ],
          [
           0.732654598
          ],
          [
           0.944158855
          ],
          [
           0.26742308
          ],
          [
           0.731124201
          ],
          [
           0.661308553
          ],
          [
           0.38776626200000003
          ],
          [
           0.962585273
          ],
          [
           0.322067067
          ],
          [
           0.6340810929999999
          ],
          [
           0.475345002
          ],
          [
           0.35355897299999994
          ],
          [
           0.8859363159999999
          ],
          [
           0.876798106
          ],
          [
           0.221581064
          ],
          [
           0.394362449
          ],
          [
           0.8050356759999999
          ],
          [
           0.452898486
          ],
          [
           0.592520516
          ],
          [
           0.761026394
          ],
          [
           0.245049023
          ],
          [
           0.37213936299999995
          ],
          [
           0.681054822
          ],
          [
           0.7471431479999999
          ],
          [
           0.9207395290000001
          ],
          [
           0.097207945
          ],
          [
           0.699302998
          ],
          [
           0.721647006
          ],
          [
           0.5353561139999999
          ],
          [
           0.738293805
          ],
          [
           0.7064675509999999
          ],
          [
           0.67395061
          ],
          [
           0.7112122909999999
          ],
          [
           0.302558708
          ],
          [
           0.080097855
          ],
          [
           0.707010837
          ],
          [
           0.512248622
          ],
          [
           0.659627472
          ],
          [
           0.657559694
          ],
          [
           0.100645606
          ],
          [
           0.92665363
          ],
          [
           0.892879338
          ],
          [
           0.839157508
          ],
          [
           0.890959718
          ],
          [
           0.556754471
          ],
          [
           0.960361937
          ],
          [
           0.631037864
          ],
          [
           0.029838065
          ],
          [
           0.278843351
          ],
          [
           0.926157705
          ],
          [
           0.551504258
          ],
          [
           0.485942349
          ],
          [
           0.43723469600000003
          ],
          [
           0.25231801800000003
          ],
          [
           0.515466972
          ],
          [
           0.43725229600000004
          ],
          [
           0.493724207
          ],
          [
           0.83324725
          ],
          [
           0.317521477
          ],
          [
           0.28623456199999997
          ],
          [
           0.726833965
          ],
          [
           0.495667033
          ],
          [
           0.028645255
          ],
          [
           0.31967191699999997
          ],
          [
           0.674344598
          ],
          [
           0.7660371890000001
          ],
          [
           0.65456992
          ],
          [
           0.7565143809999999
          ],
          [
           0.528253719
          ],
          [
           0.38971949100000003
          ],
          [
           0.355087459
          ],
          [
           0.87015202
          ],
          [
           0.7390833059999999
          ],
          [
           0.305761846
          ],
          [
           0.411587673
          ],
          [
           0.063633094
          ],
          [
           0.735409395
          ],
          [
           0.605916669
          ],
          [
           0.539395562
          ],
          [
           0.566183532
          ],
          [
           0.674795186
          ],
          [
           0.070993366
          ],
          [
           0.12526410000000002
          ],
          [
           0.279601492
          ],
          [
           0.952174402
          ],
          [
           0.233806762
          ],
          [
           0.43724742899999997
          ],
          [
           0.925423095
          ],
          [
           0.433498634
          ],
          [
           0.52517902
          ],
          [
           0.088435529
          ],
          [
           0.447677638
          ],
          [
           0.647000631
          ],
          [
           0.9036033370000001
          ],
          [
           0.265790738
          ],
          [
           0.66419695
          ],
          [
           0.498120658
          ],
          [
           0.49018894399999996
          ],
          [
           0.747084187
          ],
          [
           0.906783648
          ],
          [
           0.678770917
          ],
          [
           0.348599859
          ],
          [
           0.294839683
          ],
          [
           0.705691827
          ],
          [
           0.211917931
          ],
          [
           0.063201124
          ],
          [
           0.276699543
          ],
          [
           0.672459395
          ],
          [
           0.8082059490000001
          ],
          [
           0.296538373
          ],
          [
           0.16012686199999998
          ],
          [
           0.439385032
          ],
          [
           0.555951416
          ],
          [
           0.386240112
          ],
          [
           0.158689619
          ],
          [
           0.214499855
          ],
          [
           0.299579429
          ],
          [
           0.569161656
          ],
          [
           0.488614799
          ],
          [
           0.8782950209999999
          ],
          [
           0.649380949
          ],
          [
           0.465713341
          ],
          [
           0.16813774
          ],
          [
           0.87529545
          ],
          [
           0.8411323409999999
          ],
          [
           0.33292081
          ],
          [
           0.5130478589999999
          ],
          [
           0.30505507800000004
          ],
          [
           0.8126269909999999
          ],
          [
           0.25096706
          ],
          [
           0.5024355779999999
          ],
          [
           0.45799074100000003
          ]
         ],
         "hovertemplate": "0=%{x}<br>1=%{y}<br>2=%{z}<br>Feature=%{customdata[0]}<br>Label=%{marker.color}<extra></extra>",
         "legendgroup": "",
         "marker": {
          "color": [
           0,
           0,
           1,
           1,
           0,
           0,
           0,
           1,
           1,
           0,
           0,
           1,
           0,
           0,
           1,
           0,
           1,
           0,
           0,
           0,
           1,
           0,
           0,
           1,
           1,
           1,
           0,
           0,
           1,
           1,
           0,
           0,
           1,
           1,
           1,
           0,
           0,
           0,
           0,
           0,
           1,
           0,
           0,
           1,
           0,
           0,
           0,
           0,
           0,
           0,
           0,
           1,
           0,
           1,
           0,
           1,
           0,
           0,
           0,
           1,
           0,
           0,
           1,
           1,
           0,
           0,
           1,
           0,
           0,
           1,
           0,
           0,
           0,
           0,
           0,
           0,
           0,
           0,
           0,
           0,
           0,
           0,
           0,
           0,
           0,
           0,
           0,
           0,
           0,
           0,
           0,
           0,
           0,
           0,
           0,
           0,
           0,
           0,
           0,
           0,
           0,
           0,
           0,
           0,
           0,
           0,
           0,
           0,
           0,
           0,
           0,
           0,
           0,
           0,
           0,
           0,
           0,
           0,
           0,
           0,
           0,
           0,
           0,
           0,
           0,
           0,
           0,
           0,
           0,
           0,
           0,
           0,
           0,
           0,
           0,
           0,
           0,
           0,
           0,
           0,
           0,
           0,
           0,
           0,
           0,
           0,
           0,
           0,
           0,
           0,
           0,
           0,
           0,
           0,
           0,
           0,
           0,
           0,
           0,
           0,
           0,
           0,
           0,
           0,
           0,
           0,
           0,
           0,
           0,
           0,
           0,
           0,
           0,
           0,
           0,
           0,
           0,
           0,
           0,
           0,
           0,
           0,
           0,
           0,
           0,
           0,
           0,
           0,
           0,
           0,
           0,
           0,
           0,
           0,
           0,
           0,
           0,
           0,
           1,
           0,
           0,
           0,
           0,
           0,
           0,
           0,
           0,
           0,
           0,
           0,
           0,
           0,
           0,
           0,
           0,
           0,
           0,
           0,
           0,
           0,
           0,
           0,
           0,
           0,
           0,
           0,
           0,
           0,
           0,
           0,
           0,
           0,
           0,
           0,
           0,
           0,
           0,
           0,
           0,
           0,
           0,
           0,
           0,
           0,
           0,
           0,
           0,
           0,
           0,
           0,
           0,
           0,
           0,
           0,
           0,
           0,
           0,
           0,
           0,
           0,
           0,
           0,
           0,
           0,
           0,
           0,
           0,
           0,
           0,
           0,
           0,
           0,
           0,
           0,
           0,
           0,
           0,
           0,
           0,
           0,
           0,
           0,
           0,
           0,
           0,
           0,
           0,
           0,
           0,
           0,
           0,
           0,
           0,
           0,
           0,
           0,
           0,
           0,
           0,
           0,
           0,
           0,
           0,
           0,
           0,
           0,
           0,
           0,
           0,
           0,
           0,
           0,
           0,
           0,
           0,
           0,
           0,
           0,
           0,
           0,
           0,
           0,
           0,
           0,
           0,
           0,
           0,
           0,
           0,
           0,
           0,
           0,
           0,
           0,
           0,
           0,
           0,
           0,
           0,
           0,
           0,
           0,
           0,
           0,
           0,
           0,
           0,
           0,
           0,
           0,
           0,
           0,
           0,
           0,
           0,
           0,
           0,
           0,
           0,
           0,
           0,
           0,
           0,
           0,
           0,
           0,
           0,
           0,
           0,
           0,
           0,
           0,
           0,
           0,
           0,
           0,
           0,
           0,
           0,
           0,
           0,
           0,
           0,
           0,
           0,
           0,
           0,
           0,
           0,
           0,
           0,
           0,
           0,
           0,
           0,
           0,
           0,
           0,
           0,
           0,
           0,
           0,
           0,
           0,
           0,
           0,
           0,
           0,
           0,
           0,
           0,
           0,
           0,
           0,
           0,
           0,
           0,
           0,
           0,
           0,
           0,
           0,
           0,
           0,
           0,
           0,
           0,
           0,
           0,
           0,
           0,
           0,
           0,
           0,
           0,
           0,
           0,
           0,
           0,
           0,
           0,
           0,
           0,
           0,
           0,
           0,
           0,
           0,
           0,
           0,
           0,
           0,
           0,
           0,
           0,
           0,
           0,
           0,
           0,
           0,
           0,
           0,
           0,
           0,
           0,
           0,
           0,
           0,
           0,
           0,
           0,
           0,
           0,
           0,
           0,
           0,
           0,
           0,
           0,
           0,
           0,
           0,
           0,
           0,
           0,
           0,
           0,
           0,
           0,
           0,
           0,
           0,
           0,
           0,
           0,
           0,
           0,
           0,
           0,
           0,
           0,
           0,
           0,
           0,
           0,
           0,
           0,
           0,
           0,
           0,
           0,
           0,
           0,
           0,
           0,
           0,
           0,
           0,
           0,
           0,
           0,
           0,
           0,
           0,
           0,
           0,
           0,
           0,
           0,
           0,
           0,
           0,
           0,
           0,
           0,
           0,
           0,
           0,
           0,
           0,
           0,
           0,
           0,
           0,
           0,
           1,
           0,
           0,
           0,
           0,
           0,
           0,
           0,
           0,
           0,
           0,
           0,
           0,
           0,
           0,
           0,
           0,
           0,
           0,
           0,
           0,
           0,
           0,
           0,
           0,
           0,
           0,
           0,
           0,
           0,
           0,
           0,
           1,
           0,
           0,
           0,
           0,
           0,
           0,
           0,
           0,
           0,
           0,
           0,
           0,
           0,
           0,
           0,
           0,
           0,
           0,
           0,
           0,
           0,
           0,
           0,
           0,
           1,
           0,
           0,
           0,
           0,
           0,
           0,
           0,
           0,
           0,
           0,
           0,
           0,
           0,
           0,
           0,
           0,
           0,
           0,
           0,
           0,
           0,
           0,
           0,
           0,
           0,
           0,
           0,
           0,
           0,
           0,
           0,
           0,
           0,
           0,
           0,
           0,
           0,
           0,
           0,
           0,
           0,
           0,
           0,
           0,
           0,
           0,
           0,
           0,
           0,
           0,
           0,
           0,
           0,
           0,
           0,
           0,
           0,
           0,
           0,
           0,
           0,
           0,
           0,
           0,
           0,
           0,
           0,
           0,
           0,
           0,
           0,
           0,
           0,
           0,
           0,
           0,
           0,
           1,
           0,
           0,
           0,
           0,
           0,
           0,
           0,
           0,
           0,
           0,
           0,
           0,
           0,
           0,
           0,
           0,
           0,
           0,
           0,
           1,
           1,
           0,
           1,
           1,
           0,
           0,
           1,
           1,
           0,
           0,
           0,
           0,
           1,
           0,
           0,
           1,
           1,
           1,
           0,
           1,
           0,
           1,
           1,
           1,
           0,
           0,
           0,
           1,
           0,
           0,
           0,
           0,
           0,
           0,
           0,
           0,
           0,
           0,
           0,
           0,
           0,
           0,
           1,
           0,
           0,
           0,
           0,
           0,
           0,
           0,
           0,
           0,
           0,
           0,
           0,
           0,
           0,
           0,
           0,
           0,
           0,
           0,
           0,
           0,
           0,
           0,
           0,
           0,
           0,
           0,
           0,
           0,
           0,
           0,
           0,
           0,
           0,
           0,
           0,
           1,
           0,
           0,
           0,
           0,
           0,
           0,
           0,
           0,
           0,
           0,
           0,
           0,
           0,
           0,
           0,
           0,
           0,
           0,
           0,
           0,
           0,
           0,
           0,
           0,
           0,
           0,
           0,
           0,
           0,
           0,
           0,
           0,
           0,
           0,
           0,
           0,
           0,
           0,
           0,
           0,
           0,
           0,
           0,
           0,
           0,
           0,
           0,
           0,
           0,
           0,
           0,
           0,
           0,
           0,
           0,
           0,
           0,
           0,
           0,
           0,
           0,
           0,
           0,
           0,
           0,
           0,
           0,
           0,
           0,
           0,
           0,
           0,
           0,
           0,
           0,
           0,
           0,
           0,
           0,
           0,
           0,
           0,
           1,
           0,
           0,
           0,
           0,
           0,
           0,
           0,
           0,
           0,
           0,
           0,
           0,
           0,
           0,
           0,
           0,
           0,
           0,
           0,
           0,
           0,
           0,
           0,
           0,
           0,
           0,
           0,
           0,
           0,
           0,
           0,
           0,
           0,
           0,
           0,
           0,
           0,
           0,
           0,
           0,
           0,
           0,
           0,
           0,
           0,
           0,
           0,
           0,
           0,
           0,
           0,
           0,
           0,
           0,
           0,
           0,
           0,
           1,
           0,
           0,
           0,
           0,
           0,
           0,
           0,
           0,
           0,
           0,
           0,
           0,
           0,
           0,
           0,
           0,
           0,
           0,
           0,
           0,
           0,
           0,
           0,
           0,
           0,
           0,
           0,
           0,
           0,
           0,
           0,
           0,
           0,
           0,
           0,
           0,
           0,
           0,
           0,
           0,
           0,
           0,
           0,
           0,
           0,
           0,
           0,
           0,
           0,
           0,
           0,
           0,
           0,
           0,
           0,
           0,
           0,
           0,
           0,
           0,
           0,
           0,
           0,
           0,
           0,
           0,
           0,
           0,
           0,
           0,
           0,
           0,
           0,
           0,
           0,
           0,
           0,
           0
          ],
          "coloraxis": "coloraxis",
          "opacity": 0.7,
          "symbol": "circle"
         },
         "mode": "markers",
         "name": "",
         "scene": "scene",
         "showlegend": false,
         "type": "scatter3d",
         "x": [
          6.668883800506592,
          -2.1856842041015625,
          9.786665916442871,
          -3.1509788036346436,
          6.183315277099609,
          -5.210244655609131,
          -9.489638328552246,
          0.8607903122901917,
          5.0365142822265625,
          -5.396504878997803,
          -0.47632014751434326,
          10.9738130569458,
          -6.893253803253174,
          4.342742919921875,
          6.951630115509033,
          -1.8217939138412476,
          -6.890649318695068,
          -4.766673564910889,
          10.138870239257812,
          5.512135028839111,
          -5.731646537780762,
          2.227871894836426,
          5.143367767333984,
          4.40896463394165,
          0.13982956111431122,
          0.11442413926124573,
          10.284913063049316,
          4.559002876281738,
          6.736509799957275,
          3.8801937103271484,
          5.861947536468506,
          -3.678455114364624,
          3.2235751152038574,
          6.7671613693237305,
          -4.632440567016602,
          2.3155040740966797,
          5.990201950073242,
          4.7067790031433105,
          4.094063758850098,
          -4.198875427246094,
          -10.904130935668945,
          4.011748790740967,
          -2.3753552436828613,
          0.0189504437148571,
          4.591460227966309,
          -2.4213497638702393,
          5.328308582305908,
          4.482971668243408,
          10.79504680633545,
          -3.0485212802886963,
          -2.7546138763427734,
          9.833086013793945,
          -3.0320017337799072,
          -2.387768030166626,
          -4.599701404571533,
          -9.112737655639648,
          -4.703517436981201,
          -8.925901412963867,
          6.226094722747803,
          8.636309623718262,
          -8.551485061645508,
          -2.070274829864502,
          0.2715611457824707,
          3.6578361988067627,
          -1.244543433189392,
          5.784266471862793,
          -6.6093621253967285,
          -5.284978866577148,
          9.647381782531738,
          -0.8780357837677002,
          4.575812339782715,
          0.42365097999572754,
          4.7745747566223145,
          -4.160100936889648,
          5.549256324768066,
          4.514710903167725,
          7.619575023651123,
          1.605437994003296,
          3.138413190841675,
          1.7392383813858032,
          2.520862340927124,
          1.8269411325454712,
          4.624185085296631,
          -1.893457293510437,
          -6.750882625579834,
          -0.2971355617046356,
          -2.4595367908477783,
          -6.01615047454834,
          -4.8590474128723145,
          0.9753076434135437,
          3.967329978942871,
          -1.545268177986145,
          -2.4622726440429688,
          -9.101472854614258,
          -7.688148498535156,
          1.6287779808044434,
          -1.1083061695098877,
          -2.0042459964752197,
          -7.948521137237549,
          6.517444610595703,
          3.9480667114257812,
          -4.319479942321777,
          -1.496564507484436,
          -4.077815055847168,
          0.06138221547007561,
          0.6604840755462646,
          0.3245171308517456,
          -6.039008617401123,
          4.958899974822998,
          2.5281319618225098,
          0.43530774116516113,
          1.9535577297210693,
          -3.6352338790893555,
          5.012903690338135,
          9.135394096374512,
          0.45281389355659485,
          -7.343996524810791,
          -9.334417343139648,
          -3.7431516647338867,
          -8.557525634765625,
          0.34923699498176575,
          -3.275526523590088,
          -4.750396728515625,
          -2.647942066192627,
          1.0923889875411987,
          -2.6342241764068604,
          -7.214763641357422,
          -1.8245798349380493,
          -5.8887248039245605,
          -2.1641318798065186,
          -6.591233730316162,
          -1.7394201755523682,
          -2.1808812618255615,
          -8.215426445007324,
          -5.092016220092773,
          5.679953098297119,
          5.884650230407715,
          -2.441767692565918,
          -3.6909193992614746,
          2.0185911655426025,
          -3.4412450790405273,
          0.25922706723213196,
          -4.729935169219971,
          6.290411949157715,
          -8.782422065734863,
          0.8399975299835205,
          -0.13890060782432556,
          -5.059920787811279,
          -3.322124719619751,
          2.2169902324676514,
          0.07974415272474289,
          3.3359806537628174,
          -2.3679025173187256,
          -5.517219543457031,
          3.321049213409424,
          -1.499267339706421,
          -2.072383403778076,
          -4.283283233642578,
          5.820522785186768,
          -4.195797443389893,
          -7.450466632843018,
          -8.071250915527344,
          3.02392578125,
          1.7547366619110107,
          -2.5193684101104736,
          -4.345784664154053,
          -3.6582095623016357,
          5.512397289276123,
          6.61765193939209,
          1.5137568712234497,
          -0.060160353779792786,
          -1.060202956199646,
          -1.1855500936508179,
          7.931772708892822,
          -0.28452858328819275,
          -5.3652729988098145,
          -3.3229143619537354,
          7.866419315338135,
          -3.555529832839966,
          -1.567959189414978,
          -1.9240484237670898,
          1.1625193357467651,
          -4.341034412384033,
          4.89776611328125,
          5.5001068115234375,
          -8.223956108093262,
          2.381716728210449,
          -6.363749027252197,
          2.185366153717041,
          2.880357503890991,
          -4.858780384063721,
          7.423752307891846,
          -1.3987444639205933,
          9.168036460876465,
          -3.830443859100342,
          -8.14154052734375,
          -3.0581178665161133,
          -6.3133649826049805,
          3.908782482147217,
          0.7327145338058472,
          -4.707086563110352,
          1.8138785362243652,
          -7.858035564422607,
          4.93586540222168,
          9.28297233581543,
          -3.8909449577331543,
          -0.2875753939151764,
          -5.142018795013428,
          0.3833027482032776,
          -5.855519771575928,
          -0.6698067784309387,
          0.7382282018661499,
          3.2382736206054688,
          0.23318538069725037,
          -3.331129312515259,
          -2.9229989051818848,
          -5.200197696685791,
          0.2658305764198303,
          1.7483103275299072,
          2.603356122970581,
          9.920829772949219,
          -4.107524394989014,
          5.853854179382324,
          4.420050621032715,
          -3.7627615928649902,
          -0.4788910150527954,
          -2.5643413066864014,
          1.0712283849716187,
          -5.7202935218811035,
          -0.7431113123893738,
          -7.89293098449707,
          -2.466860055923462,
          -2.126458168029785,
          -2.216731309890747,
          -8.727119445800781,
          -4.373082160949707,
          -9.03604793548584,
          2.6253981590270996,
          -1.4719427824020386,
          7.741207599639893,
          -5.104528903961182,
          -3.119079351425171,
          6.213788986206055,
          -5.310062408447266,
          1.8659183979034424,
          -3.767836570739746,
          3.64542293548584,
          2.751044750213623,
          -2.679487466812134,
          4.686881065368652,
          -7.194367408752441,
          0.686725378036499,
          0.3175801634788513,
          -7.6876702308654785,
          0.43842029571533203,
          3.1699655055999756,
          6.203285217285156,
          -6.553260326385498,
          -0.8786395192146301,
          -9.04233455657959,
          6.2381110191345215,
          -6.364389896392822,
          7.497395038604736,
          -0.7443151473999023,
          -5.810915946960449,
          -5.025182723999023,
          -1.2984490394592285,
          -4.932415962219238,
          4.878238201141357,
          -5.991196632385254,
          -5.527420997619629,
          -6.271599769592285,
          3.368664026260376,
          5.980894088745117,
          -3.482408285140991,
          -6.7585625648498535,
          1.5311347246170044,
          7.591762542724609,
          -5.46422004699707,
          2.2859201431274414,
          -2.7890262603759766,
          5.751395225524902,
          1.9852086305618286,
          7.403642654418945,
          8.916869163513184,
          -3.355011224746704,
          -5.943653106689453,
          -4.095529556274414,
          -5.426158905029297,
          4.587224006652832,
          -0.07523097097873688,
          -6.632235527038574,
          0.6756913661956787,
          -3.4876928329467773,
          -1.8871405124664307,
          -4.052700519561768,
          -0.360738605260849,
          0.8401005268096924,
          0.28770169615745544,
          7.1693525314331055,
          -0.2594592571258545,
          -7.733822822570801,
          3.859600782394409,
          1.4166343212127686,
          0.27945175766944885,
          4.772883892059326,
          -3.408816337585449,
          3.7000746726989746,
          -5.320913791656494,
          5.603424072265625,
          5.281791687011719,
          -6.192866325378418,
          1.4478222131729126,
          7.087911128997803,
          -4.811954021453857,
          5.3239569664001465,
          1.6575708389282227,
          -6.677944660186768,
          4.7912092208862305,
          -7.320721626281738,
          -0.16186435520648956,
          4.708019256591797,
          -0.4781297743320465,
          -2.7984619140625,
          -0.9776486158370972,
          3.5197930335998535,
          -0.5869825482368469,
          -0.40034425258636475,
          4.450536727905273,
          -0.5459175705909729,
          -5.009220123291016,
          0.15479756891727448,
          -6.784398078918457,
          -0.14658978581428528,
          -5.714134693145752,
          6.803726673126221,
          -3.189864158630371,
          5.34481954574585,
          2.3408749103546143,
          0.6103808283805847,
          4.693994522094727,
          3.317946434020996,
          -3.9814233779907227,
          -6.142416954040527,
          0.6036239862442017,
          4.5159010887146,
          -8.267068862915039,
          -6.955853462219238,
          -2.314497947692871,
          -0.25687870383262634,
          1.4351732730865479,
          3.915994882583618,
          -9.751289367675781,
          -6.117817401885986,
          -5.976696491241455,
          3.1911211013793945,
          -3.9437224864959717,
          -2.5364558696746826,
          2.662184953689575,
          1.513500690460205,
          -1.8634113073349,
          -3.1327872276306152,
          4.9040608406066895,
          -4.323333263397217,
          -1.4203077554702759,
          2.743629217147827,
          2.4516923427581787,
          -7.811124324798584,
          -6.345770835876465,
          -6.708646774291992,
          -0.8010335564613342,
          -4.975979804992676,
          7.897238731384277,
          5.0517096519470215,
          -0.5130729079246521,
          -1.2692824602127075,
          4.142526626586914,
          -0.137032613158226,
          -7.279215335845947,
          1.222110629081726,
          -2.8512377738952637,
          3.1232192516326904,
          4.780576705932617,
          5.6100077629089355,
          -2.238060235977173,
          -0.8030892014503479,
          0.9720094203948975,
          1.4450979232788086,
          0.3133997619152069,
          2.1017420291900635,
          -4.932390213012695,
          -0.7925161719322205,
          4.045863628387451,
          2.8472988605499268,
          -8.625646591186523,
          -6.211728572845459,
          1.0850220918655396,
          1.9030156135559082,
          3.9115006923675537,
          3.541501522064209,
          -8.697835922241211,
          -4.662595272064209,
          -6.110117435455322,
          -3.8975014686584473,
          2.9221551418304443,
          -5.848305702209473,
          8.274799346923828,
          4.4828877449035645,
          -5.350376605987549,
          -4.510552406311035,
          -3.2698168754577637,
          1.4194636344909668,
          1.2674756050109863,
          3.666682243347168,
          -7.2484917640686035,
          -2.378838062286377,
          -5.076974868774414,
          -5.042806625366211,
          -0.8609012365341187,
          4.6277031898498535,
          1.935516357421875,
          -0.7536440491676331,
          -4.33121919631958,
          -1.426937222480774,
          6.707354545593262,
          -4.951623439788818,
          -8.025096893310547,
          -0.07048925757408142,
          5.276532173156738,
          7.287393569946289,
          0.803276002407074,
          -8.667781829833984,
          -2.28888201713562,
          0.2410798817873001,
          4.168608665466309,
          -0.9735853672027588,
          -7.501694679260254,
          6.989706039428711,
          4.657523155212402,
          9.684768676757812,
          1.1101456880569458,
          2.5178921222686768,
          9.426265716552734,
          6.583794593811035,
          -3.8019843101501465,
          -2.7233095169067383,
          3.7412123680114746,
          -5.775349140167236,
          4.509647846221924,
          1.5103062391281128,
          -4.63123893737793,
          6.421349048614502,
          -2.250126600265503,
          4.385523796081543,
          -2.746397018432617,
          -7.441400527954102,
          0.4231327772140503,
          6.042855739593506,
          3.5516903400421143,
          4.647222518920898,
          -1.9898827075958252,
          8.747673988342285,
          -2.284104108810425,
          3.5648481845855713,
          3.1714062690734863,
          4.146244525909424,
          4.934851169586182,
          3.1217546463012695,
          -4.572264671325684,
          6.593470096588135,
          0.24641381204128265,
          -9.247111320495605,
          -2.3674747943878174,
          4.323125839233398,
          -0.6022578477859497,
          -4.399667739868164,
          -7.899176120758057,
          -0.5527698993682861,
          5.786355972290039,
          -4.106196403503418,
          -4.766167640686035,
          -3.2836194038391113,
          1.0867729187011719,
          5.5814032554626465,
          -7.783565521240234,
          6.346115589141846,
          -1.271356463432312,
          5.66525936126709,
          5.606065273284912,
          7.927480220794678,
          2.264009475708008,
          -3.5411181449890137,
          -1.2812445163726807,
          4.163234233856201,
          6.440170764923096,
          0.39851614832878113,
          -5.035053730010986,
          -4.253190517425537,
          -5.319868564605713,
          1.502013921737671,
          -3.919938087463379,
          4.075491905212402,
          2.54642391204834,
          -4.35788631439209,
          5.746208190917969,
          7.437644958496094,
          4.930799961090088,
          -7.031674385070801,
          5.237365245819092,
          1.745597243309021,
          8.522294998168945,
          -4.963517189025879,
          -4.014945030212402,
          0.7394133806228638,
          2.0991928577423096,
          -5.568696022033691,
          -6.946525573730469,
          4.352786540985107,
          1.3727059364318848,
          -3.9853947162628174,
          3.6213207244873047,
          3.8138949871063232,
          0.020813113078475,
          4.17642879486084,
          1.345781683921814,
          -6.241748332977295,
          6.465203285217285,
          -7.610705852508545,
          0.26640835404396057,
          4.581884860992432,
          -1.667850136756897,
          2.1559550762176514,
          -4.787635803222656,
          -0.686063289642334,
          -3.803899049758911,
          4.878938674926758,
          -4.412426471710205,
          5.51585054397583,
          6.146295547485352,
          -6.036657810211182,
          1.5094295740127563,
          -1.9883666038513184,
          -3.1911609172821045,
          -3.996065616607666,
          -6.887406826019287,
          -4.433282375335693,
          0.40970322489738464,
          -1.517026424407959,
          0.6538972854614258,
          1.452769160270691,
          -3.490068197250366,
          7.068233489990234,
          8.675983428955078,
          5.866958141326904,
          -6.369661808013916,
          -0.09396899491548538,
          -5.154321670532227,
          6.3913469314575195,
          -0.7037895321846008,
          2.976106643676758,
          6.9116435050964355,
          1.7219390869140625,
          -6.670323371887207,
          -0.4781009256839752,
          -6.7609710693359375,
          1.0716674327850342,
          -3.1881284713745117,
          3.8289968967437744,
          1.7109113931655884,
          -2.027078866958618,
          6.20188570022583,
          -2.941025733947754,
          1.513481855392456,
          -0.2194546014070511,
          -3.6036438941955566,
          5.426583766937256,
          -5.034026622772217,
          -6.137434005737305,
          6.905217170715332,
          0.11035646498203278,
          2.649479866027832,
          1.7185382843017578,
          5.608394145965576,
          -5.886630058288574,
          -5.241981029510498,
          -0.40732812881469727,
          4.732917308807373,
          -0.11949478089809418,
          -5.222477436065674,
          2.261368989944458,
          -4.486410617828369,
          -4.583996772766113,
          4.1717071533203125,
          2.323091745376587,
          3.59831166267395,
          -4.74444055557251,
          0.3861544132232666,
          3.2423298358917236,
          -0.1878967434167862,
          6.662499904632568,
          -3.4852943420410156,
          -3.8671600818634033,
          2.1925864219665527,
          -8.650421142578125,
          -1.1608854532241821,
          -3.903747320175171,
          0.4150964319705963,
          0.9957832098007202,
          -7.820531368255615,
          -1.2745305299758911,
          -0.14032593369483948,
          0.5414584279060364,
          3.218568801879883,
          4.625014781951904,
          2.5431878566741943,
          -6.131536483764648,
          -2.85081148147583,
          -4.958909034729004,
          1.6248581409454346,
          4.666958332061768,
          4.8550004959106445,
          -4.14598274230957,
          -6.693295001983643,
          2.0367188453674316,
          4.787920951843262,
          1.9835282564163208,
          -7.600978374481201,
          9.411041259765625,
          4.033728122711182,
          3.5949788093566895,
          -6.602238178253174,
          -5.501938819885254,
          5.598050117492676,
          4.204751968383789,
          1.1944342851638794,
          6.261224269866943,
          -0.8111971020698547,
          4.579087257385254,
          -2.5605764389038086,
          -8.88325309753418,
          9.238645553588867,
          -5.982614040374756,
          -8.033767700195312,
          0.7579603791236877,
          1.1186453104019165,
          2.999055862426758,
          7.330844879150391,
          6.1627092361450195,
          1.05850350856781,
          3.981459856033325,
          -2.515667676925659,
          -3.351764678955078,
          2.9996466636657715,
          -3.290260076522827,
          -4.680543422698975,
          -3.1832666397094727,
          5.911465644836426,
          6.863314151763916,
          2.387495279312134,
          2.1924493312835693,
          4.012376308441162,
          -3.9221229553222656,
          3.4295759201049805,
          6.621978282928467,
          -1.5735093355178833,
          -8.996244430541992,
          -3.0752017498016357,
          -8.183441162109375,
          -6.568105697631836,
          -4.482847213745117,
          2.1932363510131836,
          2.9400503635406494,
          -7.0531840324401855,
          4.160539150238037,
          -3.4954466819763184,
          -3.3785831928253174,
          -4.929868221282959,
          -4.534762859344482,
          -0.47265535593032837,
          -8.198081016540527,
          6.207003116607666,
          -2.205707550048828,
          4.0557451248168945,
          -1.4252393245697021,
          -7.828120231628418,
          -4.344510555267334,
          -0.12245932221412659,
          -6.588118076324463,
          -1.287363052368164,
          5.290162086486816,
          -3.337982416152954,
          4.797223091125488,
          1.7973185777664185,
          -0.7454617023468018,
          -2.8333163261413574,
          -5.475511074066162,
          2.0674540996551514,
          -0.5335370898246765,
          4.387157440185547,
          2.4653806686401367,
          -3.8975136280059814,
          -5.679412364959717,
          4.366231441497803,
          6.785828590393066,
          3.210550546646118,
          -8.452045440673828,
          -0.5947576761245728,
          10.741691589355469,
          5.79422664642334,
          0.00770115340128541,
          6.489772319793701,
          -3.516207218170166,
          1.2193102836608887,
          -0.04299336299300194,
          -3.3871450424194336,
          -4.362905025482178,
          -5.30015230178833,
          -3.101304531097412,
          -3.4023995399475098,
          -0.38897886872291565,
          10.142873764038086,
          -5.397541046142578,
          -1.1699899435043335,
          9.815911293029785,
          2.161365509033203,
          3.1744771003723145,
          1.3946540355682373,
          -6.147569179534912,
          -1.0314526557922363,
          -4.069598197937012,
          -0.8329156041145325,
          8.146991729736328,
          4.400495529174805,
          3.7899820804595947,
          0.09552866965532303,
          -1.8494740724563599,
          0.5819464325904846,
          1.4347987174987793,
          1.811232566833496,
          0.9732793569564819,
          1.7032055854797363,
          8.24888801574707,
          7.452105522155762,
          -1.6203196048736572,
          3.7860116958618164,
          1.0506045818328857,
          -0.6939979195594788,
          -3.9299023151397705,
          6.555558204650879,
          3.8763763904571533,
          -2.3748536109924316,
          8.234428405761719,
          -8.074934005737305,
          -3.9735536575317383,
          -3.528109312057495,
          8.331948280334473,
          1.5821995735168457,
          -6.24250602722168,
          0.8296417593955994,
          -6.9365997314453125,
          4.873536586761475,
          -7.205225467681885,
          -1.1216481924057007,
          -3.6823360919952393,
          5.54798698425293,
          -7.502834796905518,
          -5.881332874298096,
          7.89127254486084,
          -6.948087215423584,
          7.895276069641113,
          1.9014712572097778,
          6.599196910858154,
          4.498991012573242,
          -7.694609642028809,
          7.69961404800415,
          -5.057168006896973,
          3.89331316947937,
          -3.043025016784668,
          5.685102462768555,
          6.625260353088379,
          1.613362193107605,
          -6.923616886138916,
          -0.8519969582557678,
          0.09036362916231155,
          2.2021467685699463,
          4.549464225769043,
          -5.6761698722839355,
          -3.3978817462921143,
          1.2172348499298096,
          -1.3067744970321655,
          3.2365610599517822,
          2.6822404861450195,
          -0.5088406205177307,
          5.453680992126465,
          -4.811034202575684,
          -3.7166810035705566,
          -3.3082542419433594,
          5.1367292404174805,
          2.1087288856506348,
          -5.105108737945557,
          -3.811356782913208,
          3.2780420780181885,
          0.8980372548103333,
          -2.884669542312622,
          8.138803482055664,
          -4.33398962020874,
          -5.945218086242676,
          -0.5855244994163513,
          -3.230285882949829,
          0.09719815850257874,
          6.678353309631348,
          -2.182729721069336,
          5.315896987915039,
          1.8809950351715088,
          -0.44262588024139404,
          4.444561004638672,
          -2.437530994415283,
          2.493074417114258,
          -3.1753597259521484,
          -1.562924861907959,
          -0.4836091101169586,
          6.59874963760376,
          1.0660922527313232,
          -1.7412689924240112,
          -3.5440728664398193,
          -8.567578315734863,
          -3.142819404602051,
          1.6091177463531494,
          4.523489952087402,
          2.1864664554595947,
          0.16036899387836456,
          2.107004404067993,
          1.0745617151260376,
          -1.2150688171386719,
          6.1218485832214355,
          -1.5458160638809204,
          7.903470039367676,
          7.1928863525390625,
          -0.7127761244773865,
          -5.549866676330566,
          1.5745928287506104,
          -4.06108283996582,
          -1.7134785652160645,
          -5.847808837890625,
          -6.5845723152160645,
          -4.383349895477295,
          -3.296839714050293,
          1.6179020404815674,
          -0.017928471788764,
          1.2913713455200195,
          -5.006255626678467,
          3.0543529987335205,
          -5.797214984893799,
          1.0691924095153809,
          0.18139706552028656,
          -4.9191460609436035,
          -1.9966163635253906,
          -4.577616214752197,
          0.5065166354179382,
          -0.6922202706336975,
          3.496870279312134,
          0.7586153149604797,
          2.1126420497894287,
          -1.1466819047927856,
          -3.6684091091156006,
          -2.345571756362915,
          -9.358321189880371,
          -0.8761933445930481,
          -1.464390754699707,
          0.5252494812011719,
          1.6824465990066528,
          -3.4537551403045654,
          -2.5647921562194824,
          -0.4377937316894531,
          -8.101207733154297,
          -0.018928946927189827,
          -8.593805313110352,
          -4.5710859298706055,
          7.525793552398682,
          8.267746925354004,
          -0.4402179419994354,
          2.5456743240356445,
          2.853813648223877,
          0.6927273273468018,
          1.9537981748580933,
          -3.4757258892059326,
          6.321162223815918,
          0.4538906216621399,
          6.8535356521606445,
          -0.16207075119018555,
          6.20815372467041,
          4.840458869934082,
          5.771048545837402,
          1.8220921754837036,
          5.84391975402832,
          2.145651340484619,
          5.853277683258057,
          -5.1753363609313965,
          0.2579199969768524,
          1.1125785112380981,
          -3.7044427394866943,
          -6.273609638214111,
          -4.331359386444092,
          2.108426570892334,
          -0.8712242245674133,
          4.827065467834473,
          -0.15046800673007965,
          -3.4249329566955566,
          5.494028091430664,
          4.642293930053711,
          -4.131879806518555,
          0.06777656078338623,
          -2.5057082176208496,
          5.717154026031494,
          0.23881399631500244,
          9.225964546203613,
          6.5605387687683105,
          -3.86403226852417,
          -4.27055025100708,
          -2.2842464447021484,
          3.215264320373535,
          -1.9374052286148071,
          -8.334365844726562,
          2.953223943710327,
          -5.225988864898682,
          -0.3990802466869354,
          -5.48360013961792,
          6.61190128326416,
          0.06736008822917938,
          -5.301181316375732,
          8.727980613708496,
          -4.093782424926758,
          -1.9549922943115234,
          3.3868865966796875,
          1.3013371229171753,
          7.152562618255615,
          -1.0353063344955444,
          9.049410820007324,
          -3.074755907058716,
          -0.7518870830535889,
          8.266467094421387,
          -6.3933587074279785,
          2.360238552093506,
          -4.953860759735107,
          3.8587985038757324,
          1.0773605108261108,
          2.1237668991088867,
          4.353233814239502,
          -4.687556743621826,
          -5.137063503265381,
          6.085760116577148,
          3.7083399295806885,
          2.472954511642456,
          -1.2427953481674194,
          2.030075788497925,
          -5.050837993621826,
          -2.8332583904266357,
          1.9720730781555176,
          -1.3944302797317505,
          -4.4692301750183105,
          -5.588108062744141,
          -0.6539718508720398,
          7.697913646697998,
          3.7289838790893555,
          6.831726551055908,
          -5.231683254241943,
          -3.737011671066284,
          6.164632797241211,
          1.2043766975402832,
          -6.350803375244141,
          1.8615224361419678,
          0.7175169587135315,
          4.400692939758301,
          9.249156951904297,
          1.9361238479614258,
          -4.916965484619141,
          -4.535074710845947,
          1.0400875806808472,
          4.430132865905762,
          -3.3949973583221436,
          0.3604329824447632,
          3.7082128524780273,
          0.11554019898176193,
          -8.585161209106445,
          0.7903072237968445,
          -5.041892051696777,
          -4.658362865447998,
          -0.390818327665329,
          -2.497727632522583,
          6.829959869384766,
          -3.276989698410034,
          5.64656925201416,
          2.7007977962493896,
          9.00860595703125,
          0.415275514125824,
          6.372219562530518,
          -7.507634162902832,
          1.1110854148864746,
          -0.3924712538719177,
          7.96441125869751
         ],
         "y": [
          -1.1986727714538574,
          8.657103538513184,
          -8.879487991333008,
          -10.587005615234375,
          -15.340461730957031,
          -4.570518970489502,
          9.624732971191406,
          -9.891427993774414,
          1.4788693189620972,
          -1.6674844026565552,
          -7.857390880584717,
          -14.35071086883545,
          -10.853376388549805,
          8.441811561584473,
          -10.427465438842773,
          -14.324117660522461,
          -10.806938171386719,
          9.382538795471191,
          -7.2564167976379395,
          -6.298269271850586,
          -4.027390480041504,
          -1.871418833732605,
          8.69597339630127,
          1.142211675643921,
          -5.967041969299316,
          -2.0374464988708496,
          -13.441804885864258,
          6.37169075012207,
          -15.525956153869629,
          -10.753876686096191,
          2.8453495502471924,
          4.524778366088867,
          8.48511028289795,
          -9.982443809509277,
          3.975536346435547,
          -0.9266414642333984,
          -5.41104793548584,
          6.697197914123535,
          -3.4233877658843994,
          -4.11673641204834,
          1.7187927961349487,
          -8.80626106262207,
          10.692874908447266,
          -5.691496849060059,
          -8.900717735290527,
          -14.732034683227539,
          -8.495806694030762,
          1.401286005973816,
          -14.135438919067383,
          14.531912803649902,
          -11.087252616882324,
          -5.374324321746826,
          5.666158199310303,
          -14.5733003616333,
          -6.853859901428223,
          1.704237699508667,
          -3.0469069480895996,
          4.713611125946045,
          -9.817388534545898,
          -10.079483032226562,
          4.56107234954834,
          6.412548542022705,
          -16.323251724243164,
          -8.66084098815918,
          13.401391983032227,
          -7.824527740478516,
          15.973734855651855,
          9.62535285949707,
          -13.947466850280762,
          -4.907167434692383,
          -14.734192848205566,
          -10.575932502746582,
          -3.2401223182678223,
          -10.011268615722656,
          3.2382781505584717,
          2.4014272689819336,
          -13.627863883972168,
          -12.440691947937012,
          3.15171480178833,
          4.875802040100098,
          4.980515956878662,
          1.3747460842132568,
          -14.20695686340332,
          6.097254276275635,
          8.06194019317627,
          4.4554643630981445,
          11.61660099029541,
          14.500414848327637,
          2.30991268157959,
          -1.304261326789856,
          -0.9212791919708252,
          -7.9738240242004395,
          9.188735961914062,
          10.757493019104004,
          3.6886093616485596,
          -16.08469009399414,
          8.119424819946289,
          4.040660381317139,
          7.578055381774902,
          -13.691258430480957,
          -4.018255233764648,
          13.637711524963379,
          4.535290241241455,
          6.821937084197998,
          -15.228802680969238,
          7.645634174346924,
          8.250449180603027,
          4.385018825531006,
          4.060446262359619,
          -11.606915473937988,
          -1.3844155073165894,
          -3.633344888687134,
          -6.687763214111328,
          3.8716812133789062,
          -13.31290054321289,
          1.046796202659607,
          12.770931243896484,
          10.963438987731934,
          -10.031352996826172,
          9.02728271484375,
          1.5963433980941772,
          1.6399556398391724,
          2.9798333644866943,
          12.46397876739502,
          2.6319210529327393,
          7.112663745880127,
          4.282121658325195,
          -10.060551643371582,
          7.744067668914795,
          6.7579779624938965,
          2.2651491165161133,
          7.588001728057861,
          -11.882622718811035,
          7.279798984527588,
          12.934732437133789,
          2.625797986984253,
          -13.302637100219727,
          -12.699956893920898,
          6.315299987792969,
          5.619910717010498,
          -10.032320976257324,
          -0.27749407291412354,
          6.289992332458496,
          -14.891905784606934,
          10.154187202453613,
          6.7651143074035645,
          -7.235538482666016,
          15.104544639587402,
          7.196789741516113,
          6.709326267242432,
          -2.0021591186523438,
          2.1890289783477783,
          1.001863956451416,
          6.927160739898682,
          -2.4978086948394775,
          9.00973129272461,
          14.318145751953125,
          12.213327407836914,
          -0.6052922010421753,
          -7.939589500427246,
          11.363510131835938,
          4.858214855194092,
          -0.41107338666915894,
          4.08945894241333,
          -8.610186576843262,
          12.301376342773438,
          -10.842061042785645,
          -11.835405349731445,
          -10.57087230682373,
          4.2817840576171875,
          8.643837928771973,
          3.2992818355560303,
          -6.196859359741211,
          -11.90849781036377,
          2.616255283355713,
          14.585000038146973,
          -6.7977118492126465,
          -10.906121253967285,
          6.783520698547363,
          -12.122526168823242,
          2.6713147163391113,
          -4.87711238861084,
          3.062213182449341,
          -11.554985046386719,
          -11.733563423156738,
          12.684869766235352,
          -9.825357437133789,
          3.2131354808807373,
          5.477931976318359,
          1.7462650537490845,
          14.40096378326416,
          -15.156734466552734,
          -8.512746810913086,
          -12.170101165771484,
          13.099507331848145,
          9.747330665588379,
          2.673813581466675,
          2.7299623489379883,
          -5.348341941833496,
          2.0289113521575928,
          1.0478911399841309,
          5.979022979736328,
          5.302502632141113,
          -14.804896354675293,
          -10.69264030456543,
          4.19294548034668,
          5.252293586730957,
          1.1986993551254272,
          -4.919881820678711,
          5.785865783691406,
          3.3390796184539795,
          -11.318926811218262,
          -13.049755096435547,
          0.09628824889659882,
          1.4314374923706055,
          3.1786792278289795,
          6.110865116119385,
          -13.021089553833008,
          -14.947328567504883,
          4.100947856903076,
          -10.665657997131348,
          6.033044815063477,
          -14.263104438781738,
          3.9917073249816895,
          12.767277717590332,
          4.439466953277588,
          10.719364166259766,
          6.925455093383789,
          12.75253963470459,
          -9.61862564086914,
          9.683114051818848,
          9.532988548278809,
          -11.369735717773438,
          -12.464118957519531,
          10.122796058654785,
          5.692118167877197,
          4.990367889404297,
          2.4073920249938965,
          -10.03453254699707,
          -10.065675735473633,
          1.338564395904541,
          1.87672758102417,
          -9.881176948547363,
          10.296982765197754,
          -8.940704345703125,
          12.945931434631348,
          4.569812774658203,
          0.8155616521835327,
          10.558162689208984,
          -13.3641357421875,
          4.777231693267822,
          4.17540168762207,
          -10.3164644241333,
          4.876091003417969,
          7.354137897491455,
          0.7269551753997803,
          -0.2941177487373352,
          11.840962409973145,
          -10.16288948059082,
          9.782279968261719,
          -10.752266883850098,
          4.424854278564453,
          -14.359189987182617,
          3.5476014614105225,
          4.655416488647461,
          10.014945030212402,
          -13.215703964233398,
          11.984550476074219,
          4.048739910125732,
          1.214638352394104,
          3.9058008193969727,
          3.6531178951263428,
          1.6692748069763184,
          -9.957085609436035,
          -8.23727798461914,
          8.435466766357422,
          -15.030184745788574,
          -15.198304176330566,
          4.939084053039551,
          5.554468154907227,
          11.167454719543457,
          -10.068628311157227,
          7.126699447631836,
          1.6422805786132812,
          -12.930253982543945,
          7.681697845458984,
          9.048454284667969,
          6.158914566040039,
          12.905141830444336,
          -5.383006572723389,
          -1.8059649467468262,
          5.589151859283447,
          8.139490127563477,
          7.615354061126709,
          6.288768291473389,
          -8.478816032409668,
          -7.135183811187744,
          3.1405794620513916,
          6.551021099090576,
          -0.7574651837348938,
          4.937465190887451,
          11.790586471557617,
          -13.040650367736816,
          -9.59333324432373,
          -6.889264106750488,
          0.48710060119628906,
          3.5087995529174805,
          0.44411054253578186,
          13.717829704284668,
          -11.575578689575195,
          -10.944286346435547,
          15.01778793334961,
          -4.78188419342041,
          -10.15152359008789,
          3.405782699584961,
          -0.8929548859596252,
          4.106715679168701,
          9.488306999206543,
          0.8759294748306274,
          4.8278398513793945,
          4.622213840484619,
          1.2601650953292847,
          -11.192646026611328,
          4.678641319274902,
          1.8912444114685059,
          -0.6953772902488708,
          -13.810347557067871,
          -12.664834022521973,
          -10.715530395507812,
          -7.112264633178711,
          12.3009614944458,
          -13.84235668182373,
          6.821901321411133,
          8.038118362426758,
          14.912540435791016,
          -12.892680168151855,
          6.561664581298828,
          2.926011085510254,
          -9.869791030883789,
          -12.777292251586914,
          2.132765293121338,
          7.3499603271484375,
          -10.107345581054688,
          7.37425422668457,
          -10.326807975769043,
          -12.37466049194336,
          6.954922199249268,
          12.997308731079102,
          -9.79947566986084,
          -13.86811351776123,
          3.642595052719116,
          2.287409782409668,
          9.318473815917969,
          4.02747106552124,
          9.105803489685059,
          7.6168622970581055,
          4.937775135040283,
          6.066070556640625,
          -16.083742141723633,
          -0.32983484864234924,
          7.550732612609863,
          4.498446941375732,
          2.910101890563965,
          13.181199073791504,
          -10.57885456085205,
          -0.23839391767978668,
          -13.008072853088379,
          13.07287883758545,
          12.038555145263672,
          4.4690961837768555,
          11.816301345825195,
          1.4486080408096313,
          -14.49531078338623,
          -9.48072338104248,
          -11.210124015808105,
          11.938640594482422,
          2.111800193786621,
          -7.751830577850342,
          4.324735641479492,
          -0.2624823749065399,
          -8.522930145263672,
          5.775303363800049,
          2.810267686843872,
          -3.11799955368042,
          7.4318695068359375,
          7.8283820152282715,
          7.970125675201416,
          7.410229206085205,
          1.9493464231491089,
          -3.7347946166992188,
          8.279088973999023,
          8.140386581420898,
          0.3401716649532318,
          2.6333770751953125,
          9.034425735473633,
          3.829709768295288,
          7.648724555969238,
          -9.30146598815918,
          -1.8751614093780518,
          5.436171531677246,
          8.71219539642334,
          6.325630187988281,
          15.366379737854004,
          3.7716197967529297,
          -10.724981307983398,
          11.875472068786621,
          -10.788222312927246,
          5.8917388916015625,
          -7.4719929695129395,
          1.7923890352249146,
          8.948078155517578,
          0.5012261271476746,
          -15.25940990447998,
          0.4823237359523773,
          6.049788475036621,
          10.11351490020752,
          15.718503952026367,
          8.521904945373535,
          -12.639659881591797,
          -12.502077102661133,
          -3.8631505966186523,
          7.789041519165039,
          6.0206475257873535,
          6.584259033203125,
          -11.053990364074707,
          12.800997734069824,
          9.774270057678223,
          -7.042820453643799,
          -2.9976630210876465,
          -13.481618881225586,
          0.8311540484428406,
          11.485039710998535,
          6.117256164550781,
          -8.81784439086914,
          -15.031922340393066,
          4.026042461395264,
          11.070721626281738,
          -14.002786636352539,
          3.7397968769073486,
          -10.843123435974121,
          7.396458148956299,
          2.56343674659729,
          -11.905107498168945,
          -15.906861305236816,
          3.4872608184814453,
          -7.05923318862915,
          -13.170989036560059,
          8.386887550354004,
          -11.73444652557373,
          -5.258305072784424,
          7.202800273895264,
          -13.485492706298828,
          12.189778327941895,
          0.5381269454956055,
          -6.996988296508789,
          4.330374240875244,
          0.7501692771911621,
          -12.567062377929688,
          2.8143391609191895,
          -3.2072508335113525,
          7.914957046508789,
          -11.963163375854492,
          10.766866683959961,
          6.891741752624512,
          2.0559628009796143,
          -0.9486711025238037,
          4.389103889465332,
          -13.260282516479492,
          12.656152725219727,
          -11.10836124420166,
          2.408663511276245,
          11.946842193603516,
          11.419102668762207,
          3.310711622238159,
          11.741195678710938,
          13.218605041503906,
          9.095905303955078,
          -7.339776039123535,
          1.591017723083496,
          9.320619583129883,
          12.541255950927734,
          6.4530415534973145,
          -7.387635231018066,
          -14.286645889282227,
          12.445267677307129,
          -15.166291236877441,
          2.200380802154541,
          -3.350313425064087,
          1.8828625679016113,
          -10.85694408416748,
          0.5964354872703552,
          -7.869398593902588,
          -7.912384986877441,
          -13.52269172668457,
          -10.323954582214355,
          -7.174536228179932,
          1.8319059610366821,
          -7.585981369018555,
          7.033108711242676,
          -1.9773422479629517,
          6.5041022300720215,
          5.972884178161621,
          -0.868013858795166,
          2.1890757083892822,
          -2.8177759647369385,
          -10.877647399902344,
          2.461029291152954,
          11.99870491027832,
          -3.7432315349578857,
          -4.783346176147461,
          -14.880413055419922,
          11.987195014953613,
          2.7462568283081055,
          -12.314909934997559,
          3.59405517578125,
          9.525896072387695,
          5.790585041046143,
          2.720620632171631,
          3.490875244140625,
          2.834024429321289,
          -3.462747812271118,
          -14.055330276489258,
          -9.637879371643066,
          -10.814172744750977,
          -15.565362930297852,
          13.107198715209961,
          -2.910003662109375,
          11.936843872070312,
          2.3512539863586426,
          -0.8436943292617798,
          4.3559112548828125,
          -12.682774543762207,
          -9.022839546203613,
          11.555685997009277,
          -6.97707462310791,
          -10.25334644317627,
          2.364799737930298,
          -15.269590377807617,
          1.5578416585922241,
          1.5141559839248657,
          4.775139331817627,
          -6.725153923034668,
          8.747659683227539,
          7.387074947357178,
          13.130928993225098,
          -10.927278518676758,
          7.008516788482666,
          -8.523904800415039,
          -7.359397888183594,
          7.140456199645996,
          8.498867988586426,
          2.2306578159332275,
          -13.409805297851562,
          -0.5371327996253967,
          8.016926765441895,
          6.356508255004883,
          -8.217290878295898,
          2.1411237716674805,
          -13.452193260192871,
          0.5910146236419678,
          -16.175277709960938,
          -15.062101364135742,
          8.770133972167969,
          -6.227267742156982,
          9.310215950012207,
          5.633159637451172,
          13.2780122756958,
          5.735373497009277,
          -6.521773815155029,
          -5.892230987548828,
          -1.8912564516067505,
          -6.707328796386719,
          -10.168821334838867,
          -14.200753211975098,
          6.217464923858643,
          -12.88055419921875,
          9.031774520874023,
          13.688302993774414,
          1.3330069780349731,
          0.7969843745231628,
          -3.548541784286499,
          0.9758148193359375,
          -9.67218017578125,
          8.731437683105469,
          13.488020896911621,
          5.543056011199951,
          -0.48179060220718384,
          9.826918601989746,
          13.404311180114746,
          -12.942937850952148,
          6.260157108306885,
          11.319087028503418,
          0.6046963930130005,
          -10.53215217590332,
          3.100036144256592,
          5.6818742752075195,
          -10.238601684570312,
          -13.082380294799805,
          -6.515175819396973,
          -15.244338035583496,
          -11.024096488952637,
          1.724230408668518,
          -4.8483757972717285,
          10.721878051757812,
          -5.709784507751465,
          6.482217788696289,
          -12.324041366577148,
          -15.444099426269531,
          9.229116439819336,
          5.151026248931885,
          -9.138581275939941,
          -0.5820835828781128,
          -4.026015758514404,
          1.0782909393310547,
          7.691579341888428,
          9.738399505615234,
          1.6415719985961914,
          1.4285788536071777,
          3.5477161407470703,
          -0.4471009075641632,
          2.2178351879119873,
          6.323502540588379,
          4.856269359588623,
          3.3662710189819336,
          -10.597068786621094,
          -12.65766716003418,
          11.736330032348633,
          -14.1205472946167,
          6.124180316925049,
          6.684780597686768,
          3.7490341663360596,
          2.8472297191619873,
          2.1938390731811523,
          -14.084695816040039,
          -1.547737717628479,
          1.4472169876098633,
          0.03675347566604614,
          2.4995222091674805,
          -6.677637100219727,
          4.72090482711792,
          -10.44041633605957,
          5.596709728240967,
          9.760560989379883,
          0.09404899924993515,
          -14.306717872619629,
          -0.6279438138008118,
          -10.27328872680664,
          3.490450382232666,
          -6.563858509063721,
          1.1261543035507202,
          10.66714096069336,
          13.749066352844238,
          5.537134170532227,
          -11.4622802734375,
          14.561607360839844,
          4.607506275177002,
          -14.012055397033691,
          1.548918604850769,
          7.253945827484131,
          -11.775480270385742,
          -13.035318374633789,
          5.524385929107666,
          2.00455641746521,
          -0.8742878437042236,
          -7.485454082489014,
          5.018169403076172,
          -12.408437728881836,
          7.229897975921631,
          2.811876058578491,
          14.654641151428223,
          5.309754848480225,
          7.540822982788086,
          5.997198104858398,
          3.8329055309295654,
          -7.2131733894348145,
          9.319421768188477,
          6.264342308044434,
          -6.973656177520752,
          -8.51064395904541,
          7.322590351104736,
          -10.186688423156738,
          11.284235000610352,
          2.566650867462158,
          -6.0935282707214355,
          9.620073318481445,
          14.188246726989746,
          6.586182594299316,
          13.319954872131348,
          -7.750663757324219,
          -12.235471725463867,
          -6.6217427253723145,
          -9.990893363952637,
          -15.260574340820312,
          1.861528754234314,
          -8.279135704040527,
          -8.75654125213623,
          -0.7214248180389404,
          4.368245601654053,
          -1.2668908834457397,
          -9.411455154418945,
          0.4689387083053589,
          6.820993423461914,
          8.445276260375977,
          -15.567487716674805,
          5.8922576904296875,
          2.4843382835388184,
          -9.138587951660156,
          -7.738763332366943,
          1.667899250984192,
          -6.337757110595703,
          -9.444901466369629,
          12.558540344238281,
          5.250051975250244,
          -2.044184684753418,
          -4.302450656890869,
          -5.467889785766602,
          -4.317073345184326,
          -14.534516334533691,
          -4.311614990234375,
          9.061367988586426,
          -7.37027645111084,
          13.348834991455078,
          1.277599573135376,
          -5.271237373352051,
          -2.73500919342041,
          8.487502098083496,
          -4.909266948699951,
          -9.008217811584473,
          -11.645882606506348,
          -4.328758716583252,
          3.6844449043273926,
          -14.512984275817871,
          3.4739315509796143,
          3.8293824195861816,
          0.5565787553787231,
          -6.7797651290893555,
          0.404674232006073,
          1.806106686592102,
          3.04390025138855,
          -9.187604904174805,
          6.079131126403809,
          2.5811522006988525,
          1.9414045810699463,
          -9.001361846923828,
          -1.870042085647583,
          3.0014147758483887,
          2.122290849685669,
          -7.23571252822876,
          -12.197761535644531,
          -13.67912483215332,
          7.959907054901123,
          -13.898994445800781,
          3.422065496444702,
          13.10429859161377,
          11.618086814880371,
          -11.201193809509277,
          4.875373840332031,
          4.6654815673828125,
          -12.717809677124023,
          11.875728607177734,
          -11.893773078918457,
          5.912574768066406,
          9.907967567443848,
          14.210280418395996,
          -1.023814082145691,
          12.730476379394531,
          11.952154159545898,
          -15.163900375366211,
          9.353826522827148,
          -15.927308082580566,
          4.836399078369141,
          1.669821858406067,
          2.012986421585083,
          9.557575225830078,
          0.22826789319515228,
          11.979297637939453,
          6.020595073699951,
          1.239311933517456,
          2.118793487548828,
          -0.30849993228912354,
          1.9013725519180298,
          12.254886627197266,
          3.6304285526275635,
          -1.4707671403884888,
          1.1441009044647217,
          -13.034093856811523,
          5.717779159545898,
          -7.150496006011963,
          4.810702800750732,
          4.662774562835693,
          -10.75339412689209,
          3.484053611755371,
          -9.43070125579834,
          0.7508562803268433,
          13.2559814453125,
          3.1674084663391113,
          10.287262916564941,
          -11.864849090576172,
          1.7770249843597412,
          15.506752014160156,
          3.6437013149261475,
          5.79459285736084,
          2.9863646030426025,
          8.050467491149902,
          -10.632500648498535,
          13.156134605407715,
          9.33284854888916,
          5.550457954406738,
          -9.954391479492188,
          11.619563102722168,
          -13.587119102478027,
          -8.440738677978516,
          1.3836846351623535,
          -3.524437427520752,
          3.726696252822876,
          -11.631863594055176,
          4.679802417755127,
          -11.940098762512207,
          -6.170507431030273,
          -9.425054550170898,
          -6.215896129608154,
          -10.03844165802002,
          3.3180580139160156,
          4.72698450088501,
          3.004289150238037,
          11.9462251663208,
          -9.744778633117676,
          4.1043524742126465,
          -0.15977725386619568,
          -13.451058387756348,
          6.548769474029541,
          -0.7084525227546692,
          -15.7511625289917,
          -8.003738403320312,
          -12.738263130187988,
          -5.78665828704834,
          -15.518507957458496,
          -15.334968566894531,
          -5.296279430389404,
          8.298681259155273,
          1.5141998529434204,
          6.578223705291748,
          -9.97126293182373,
          5.400875568389893,
          10.578211784362793,
          -7.341580390930176,
          1.5435569286346436,
          1.7484108209609985,
          -1.0855131149291992,
          2.7829973697662354,
          -8.270455360412598,
          -4.299614429473877,
          7.609221935272217,
          1.5465011596679688,
          2.5343055725097656,
          2.227806806564331,
          3.5120203495025635,
          -9.818401336669922,
          4.097592830657959,
          -9.528306007385254,
          -3.0332770347595215,
          4.243017196655273,
          0.14246897399425507,
          2.159518003463745,
          3.020035743713379,
          -12.460453033447266,
          11.537764549255371,
          4.586868762969971,
          -6.047487258911133,
          -0.5517891645431519,
          -5.6912522315979,
          8.730935096740723,
          11.777469635009766,
          -0.6720376014709473,
          4.235010147094727,
          10.093234062194824,
          8.995713233947754,
          3.078572988510132,
          1.3159291744232178,
          -10.234469413757324,
          -1.274635672569275,
          -1.5233006477355957,
          7.575841426849365,
          -11.48388671875,
          -9.353802680969238,
          -7.166250705718994,
          -0.1845652163028717,
          7.594935417175293,
          -0.7403632402420044,
          -7.053201198577881,
          -14.159788131713867,
          -11.101086616516113,
          -10.732927322387695,
          7.411000728607178,
          -11.4307861328125,
          1.3882235288619995,
          2.7304434776306152,
          13.676783561706543,
          1.9109934568405151,
          2.9688186645507812,
          5.904660224914551,
          4.947258472442627,
          11.032943725585938,
          -12.576436042785645,
          1.6124714612960815,
          -14.861748695373535,
          -7.6458024978637695,
          4.558063983917236,
          -10.41317367553711,
          3.6510250568389893,
          6.720404148101807,
          9.662336349487305,
          9.133634567260742,
          3.128798007965088,
          -8.602505683898926,
          -14.60575008392334,
          1.0411460399627686,
          3.2152328491210938,
          -9.13263988494873,
          -7.221970558166504,
          -4.207974910736084,
          -12.001679420471191,
          8.294368743896484,
          4.650930881500244,
          1.456407904624939,
          -2.1588876247406006,
          4.136649131774902,
          1.0166809558868408,
          6.302892684936523,
          2.221367359161377,
          -15.59060287475586,
          8.092949867248535,
          11.14693832397461,
          -12.784161567687988,
          -9.535479545593262,
          -12.79361629486084,
          8.509797096252441,
          -10.03283405303955,
          7.133735656738281,
          -6.422823429107666,
          -10.43787670135498,
          2.7846553325653076,
          3.138920783996582,
          -7.963030815124512,
          0.5899243950843811,
          -10.45356559753418,
          0.780643880367279,
          0.7532134056091309,
          5.1039628982543945,
          4.722976207733154,
          2.2384071350097656,
          5.778316974639893,
          -11.636009216308594,
          -11.570427894592285,
          7.179441928863525,
          15.757466316223145,
          -8.006783485412598,
          -10.029192924499512,
          -7.981757164001465,
          1.9348726272583008,
          13.598204612731934,
          7.9781904220581055,
          -10.384099006652832,
          2.3246982097625732,
          1.4724498987197876,
          12.133008003234863,
          7.035484790802002,
          -0.4653782248497009,
          -9.02423095703125,
          6.918905258178711,
          -14.50227165222168,
          0.49261486530303955,
          2.5600969791412354,
          -14.471116065979004,
          5.071906089782715,
          11.42989444732666,
          9.741567611694336,
          -14.243478775024414,
          3.4969089031219482,
          -6.651838779449463,
          -9.225164413452148,
          -4.184728145599365,
          3.3693814277648926,
          11.981330871582031,
          -13.73330020904541,
          6.199221134185791,
          2.8452651500701904,
          -6.299262046813965,
          -6.448607921600342,
          -15.560125350952148,
          -8.333690643310547,
          1.0252201557159424,
          -0.9359113574028015,
          -10.10981273651123,
          -10.708388328552246,
          1.4926546812057495,
          9.65709114074707,
          4.740325927734375,
          -8.149609565734863,
          -15.049630165100098
         ],
         "z": [
          -5.486697673797607,
          6.459632873535156,
          -1.8674850463867188,
          7.020917892456055,
          -2.1515228748321533,
          5.8654608726501465,
          4.862480163574219,
          13.345362663269043,
          2.6696338653564453,
          8.422224998474121,
          14.970561027526855,
          2.773577928543091,
          9.41615104675293,
          -4.6918253898620605,
          4.282259464263916,
          5.649328708648682,
          9.467008590698242,
          0.33205509185791016,
          -1.5294969081878662,
          8.588579177856445,
          5.450924396514893,
          -5.381087303161621,
          -5.22220516204834,
          3.0320048332214355,
          5.306034088134766,
          -2.615615129470825,
          1.7500486373901367,
          -2.1125800609588623,
          8.396486282348633,
          8.042071342468262,
          0.9222432971000671,
          7.662830829620361,
          -6.872988700866699,
          6.325009346008301,
          -5.687366962432861,
          -4.056807994842529,
          8.541681289672852,
          -2.268258810043335,
          -5.719207286834717,
          7.075605869293213,
          6.788204193115234,
          6.491812229156494,
          -2.54174542427063,
          2.8861618041992188,
          4.901818752288818,
          5.920596122741699,
          5.3834710121154785,
          2.6662299633026123,
          2.5314483642578125,
          -1.2850552797317505,
          14.050395965576172,
          -1.3930116891860962,
          -7.018202781677246,
          5.8463287353515625,
          6.282528877258301,
          7.468541145324707,
          7.9549880027771,
          -4.501827239990234,
          6.589889049530029,
          2.352705240249634,
          -0.9530284404754639,
          -3.5001723766326904,
          7.362403392791748,
          7.022487640380859,
          -4.5149126052856445,
          5.294836521148682,
          -5.015316009521484,
          0.18386949598789215,
          2.2541983127593994,
          8.279760360717773,
          10.107151985168457,
          9.580388069152832,
          -8.382387161254883,
          10.65367603302002,
          -13.826613426208496,
          -9.959620475769043,
          2.7531142234802246,
          7.053070068359375,
          -17.212339401245117,
          -14.139756202697754,
          -13.717728614807129,
          -9.180634498596191,
          0.2664797008037567,
          -2.1823618412017822,
          3.814305543899536,
          5.019307613372803,
          0.6273984313011169,
          1.3515112400054932,
          -2.195371627807617,
          -8.412347793579102,
          -10.917564392089844,
          13.122312545776367,
          -2.297194242477417,
          3.7336041927337646,
          6.729313850402832,
          7.618360996246338,
          -6.89552640914917,
          3.4715495109558105,
          0.016257204115390778,
          2.4032280445098877,
          -7.247322082519531,
          -1.5988578796386719,
          3.272345781326294,
          -7.938315391540527,
          9.266560554504395,
          -8.986023902893066,
          -3.1950535774230957,
          3.6295454502105713,
          -13.657468795776367,
          7.272599697113037,
          -10.395989418029785,
          -7.13129186630249,
          14.523980140686035,
          -11.124338150024414,
          -0.980021595954895,
          -11.522350311279297,
          6.5595622062683105,
          3.6722447872161865,
          8.459271430969238,
          -0.5443537831306458,
          -12.253183364868164,
          -3.2165486812591553,
          4.165673732757568,
          -3.504603862762451,
          -3.971282482147217,
          4.590702056884766,
          5.571911811828613,
          8.225865364074707,
          3.7720658779144287,
          3.5424563884735107,
          -3.778998613357544,
          -7.0949015617370605,
          13.161112785339355,
          4.966365337371826,
          -0.4848218560218811,
          -7.858820915222168,
          -1.1577391624450684,
          10.558210372924805,
          5.216062545776367,
          2.115546464920044,
          11.507885932922363,
          -7.098267555236816,
          -7.655579566955566,
          -0.1471908837556839,
          0.21614156663417816,
          -11.655399322509766,
          11.61359691619873,
          -2.7280375957489014,
          6.0167059898376465,
          -1.4443613290786743,
          -9.670129776000977,
          -11.570955276489258,
          1.216921329498291,
          -8.164602279663086,
          -5.8703179359436035,
          -6.73173713684082,
          -2.8827273845672607,
          -3.1935033798217773,
          -12.809645652770996,
          8.683582305908203,
          6.9897565841674805,
          -4.795423984527588,
          -13.819826126098633,
          -17.29039764404297,
          7.798519134521484,
          -1.4509774446487427,
          11.147283554077148,
          8.488557815551758,
          1.521554708480835,
          -4.450071334838867,
          -3.5789034366607666,
          3.5304982662200928,
          6.3406572341918945,
          -1.885023593902588,
          -1.4420430660247803,
          -0.008425851352512836,
          5.882471084594727,
          -1.7295030355453491,
          6.727346897125244,
          9.450895309448242,
          -0.3720957636833191,
          8.75639820098877,
          7.508245944976807,
          11.401923179626465,
          9.473788261413574,
          5.6706061363220215,
          5.310171127319336,
          -3.7551207542419434,
          -11.729790687561035,
          -11.250993728637695,
          -2.4618446826934814,
          -0.39758700132369995,
          13.901037216186523,
          -1.7817792892456055,
          4.319797992706299,
          6.7498064041137695,
          0.0024875688832253218,
          3.9132392406463623,
          -7.60079288482666,
          -3.3804640769958496,
          -4.342172145843506,
          0.34367555379867554,
          6.990657806396484,
          0.6706846356391907,
          -1.5895891189575195,
          7.613125324249268,
          -15.170177459716797,
          -3.9526865482330322,
          9.4332275390625,
          5.682788372039795,
          -2.2610554695129395,
          4.573008060455322,
          6.592579364776611,
          -10.650513648986816,
          -3.1095428466796875,
          -1.857759952545166,
          5.3670830726623535,
          7.300353527069092,
          8.39789867401123,
          2.678011178970337,
          -1.9207805395126343,
          2.1019020080566406,
          1.1167768239974976,
          -15.031152725219727,
          2.66103458404541,
          -14.279759407043457,
          -4.2632598876953125,
          -13.25438404083252,
          -0.9440820813179016,
          2.1274333000183105,
          5.494023323059082,
          -2.2357685565948486,
          10.091743469238281,
          10.225625991821289,
          2.2158005237579346,
          1.7546241283416748,
          1.7129648923873901,
          -10.686342239379883,
          8.250598907470703,
          -2.8639872074127197,
          -3.5094940662384033,
          3.154813528060913,
          -0.8084270358085632,
          2.7535884380340576,
          10.694540977478027,
          1.6515223979949951,
          -10.22513198852539,
          -16.56116485595703,
          -4.839321613311768,
          -1.9246156215667725,
          -6.917565822601318,
          1.0168505907058716,
          9.096080780029297,
          -4.663638591766357,
          -9.884231567382812,
          0.8739683032035828,
          -7.975211143493652,
          1.749551773071289,
          2.6350014209747314,
          0.44325587153434753,
          -1.7386677265167236,
          -4.727232933044434,
          -1.8200418949127197,
          0.07352279871702194,
          -7.986136436462402,
          2.708653450012207,
          11.288714408874512,
          5.158566951751709,
          -13.535862922668457,
          2.7784881591796875,
          2.273388385772705,
          8.279128074645996,
          -8.427058219909668,
          -1.971374750137329,
          7.538825511932373,
          -5.0207839012146,
          6.35614538192749,
          -0.3467032015323639,
          2.6974105834960938,
          -11.466964721679688,
          -3.920743227005005,
          -1.6798009872436523,
          -11.382707595825195,
          -7.411396503448486,
          -0.3873386085033417,
          1.786154866218567,
          -1.9221549034118652,
          2.626124620437622,
          2.0191261768341064,
          -7.208586692810059,
          -8.501564979553223,
          3.498711109161377,
          -3.255608081817627,
          0.9680579304695129,
          -1.9443352222442627,
          12.730952262878418,
          10.384105682373047,
          -16.705583572387695,
          -1.4733561277389526,
          -7.464026927947998,
          6.097424507141113,
          2.610027313232422,
          8.347705841064453,
          10.87791633605957,
          8.01283073425293,
          -13.723471641540527,
          2.365701913833618,
          -13.127386093139648,
          -4.433237075805664,
          9.894936561584473,
          9.218404769897461,
          -3.6583316326141357,
          7.94663143157959,
          -2.6240224838256836,
          -0.5962753891944885,
          -6.974232196807861,
          -4.271017551422119,
          4.087749004364014,
          -14.700533866882324,
          7.313819408416748,
          5.112555503845215,
          -10.9168119430542,
          9.891175270080566,
          4.831068515777588,
          -14.246891021728516,
          -6.284017562866211,
          9.838813781738281,
          11.958477973937988,
          1.9509623050689697,
          8.880651473999023,
          5.268878936767578,
          5.863147735595703,
          -4.5843119621276855,
          -7.85056734085083,
          1.0830886363983154,
          2.3000714778900146,
          3.9748194217681885,
          -7.263944149017334,
          5.741405963897705,
          4.249577045440674,
          -7.207248687744141,
          -12.616477012634277,
          8.556695938110352,
          -7.711765766143799,
          12.622363090515137,
          1.2422738075256348,
          5.684440612792969,
          -2.8672637939453125,
          8.602974891662598,
          6.277040481567383,
          0.759340226650238,
          -8.310572624206543,
          0.6914779543876648,
          7.989867210388184,
          -1.913861632347107,
          -12.9163236618042,
          -5.975315570831299,
          2.0088679790496826,
          8.588258743286133,
          -4.470521450042725,
          5.256324768066406,
          2.725270986557007,
          -2.0231285095214844,
          -4.412634372711182,
          9.769438743591309,
          -14.154817581176758,
          8.430257797241211,
          3.9549779891967773,
          1.4463438987731934,
          3.9723000526428223,
          -2.302368640899658,
          -3.363100290298462,
          1.7500866651535034,
          2.7019689083099365,
          9.766268730163574,
          -4.2922282218933105,
          -13.775900840759277,
          8.588981628417969,
          7.527405738830566,
          -6.543018817901611,
          9.95258903503418,
          0.9302055835723877,
          -12.544083595275879,
          -9.125011444091797,
          4.292301177978516,
          -6.325488567352295,
          -3.3377909660339355,
          -2.2726900577545166,
          -2.454418420791626,
          -8.085310935974121,
          -2.2703728675842285,
          -7.4510273933410645,
          -9.680367469787598,
          -11.317649841308594,
          1.692086935043335,
          8.038942337036133,
          -8.839969635009766,
          10.447494506835938,
          -5.530644416809082,
          -10.58043384552002,
          -0.6635636687278748,
          -2.2550208568573,
          -3.52689790725708,
          8.111477851867676,
          12.125703811645508,
          5.362070083618164,
          1.0099635124206543,
          0.5188039541244507,
          9.311864852905273,
          5.87074089050293,
          2.3575685024261475,
          -8.03826904296875,
          9.866249084472656,
          -14.263410568237305,
          3.6580708026885986,
          -2.369037389755249,
          0.45803242921829224,
          4.838393211364746,
          12.007070541381836,
          1.7069807052612305,
          -8.052276611328125,
          -0.8210258483886719,
          1.838114619255066,
          5.9930596351623535,
          2.194957733154297,
          0.6787605881690979,
          4.910636901855469,
          8.579673767089844,
          -7.212071895599365,
          2.925779342651367,
          -11.055672645568848,
          6.091064453125,
          -2.552609443664551,
          8.785646438598633,
          9.443880081176758,
          -0.030213281512260437,
          0.8956440091133118,
          1.58645498752594,
          -14.374664306640625,
          -0.9196116924285889,
          -9.598634719848633,
          -17.041812896728516,
          -1.1133848428726196,
          3.7130768299102783,
          -3.0976133346557617,
          6.577390670776367,
          9.376248359680176,
          -6.070554733276367,
          -0.9828792214393616,
          10.466156959533691,
          -2.3401036262512207,
          -0.6361660957336426,
          -3.9554507732391357,
          -14.054683685302734,
          13.802668571472168,
          6.07007360458374,
          -0.4358138144016266,
          -1.303675651550293,
          -16.67528533935547,
          -10.101152420043945,
          4.178994178771973,
          0.1847747415304184,
          -1.2793726921081543,
          -14.451913833618164,
          1.4469895362854004,
          -11.059836387634277,
          -13.331073760986328,
          10.96211051940918,
          -1.2556560039520264,
          0.8715931177139282,
          -12.888758659362793,
          0.616837739944458,
          -0.11925837397575378,
          -9.576983451843262,
          -4.267728328704834,
          3.877178907394409,
          6.44119119644165,
          6.874307155609131,
          -5.700454235076904,
          3.3282387256622314,
          -4.2708740234375,
          -2.347268581390381,
          7.87965726852417,
          3.6285078525543213,
          6.350944995880127,
          2.874547243118286,
          2.1340811252593994,
          -7.841947078704834,
          -7.43917989730835,
          -3.642245292663574,
          -15.190645217895508,
          12.969282150268555,
          4.635233402252197,
          8.059138298034668,
          -0.27887263894081116,
          11.146333694458008,
          5.237560272216797,
          10.301741600036621,
          -6.40519905090332,
          -8.86866569519043,
          4.986267566680908,
          -1.7505989074707031,
          -6.138629913330078,
          -2.2376105785369873,
          -7.117444038391113,
          -3.1814303398132324,
          -16.0761661529541,
          -3.582911252975464,
          -8.493812561035156,
          7.7663750648498535,
          -0.5490984320640564,
          -3.2518022060394287,
          1.4890168905258179,
          4.779406547546387,
          -16.790042877197266,
          -7.345517635345459,
          -7.835703372955322,
          -16.628591537475586,
          0.460151344537735,
          2.5181355476379395,
          -9.020369529724121,
          1.6691313982009888,
          4.0526509284973145,
          2.408662796020508,
          8.157495498657227,
          6.743227005004883,
          -8.65280532836914,
          2.5901408195495605,
          -1.16985285282135,
          -7.870276927947998,
          3.1954705715179443,
          7.4368109703063965,
          10.133179664611816,
          -1.8857040405273438,
          11.88687801361084,
          9.20485782623291,
          6.8116774559021,
          1.358889102935791,
          -3.4778993129730225,
          3.1523940563201904,
          3.572680950164795,
          9.494390487670898,
          2.1732559204101562,
          6.501587390899658,
          -2.2229669094085693,
          12.471834182739258,
          -10.69411849975586,
          9.8378324508667,
          10.47010612487793,
          -11.109782218933105,
          -7.336791038513184,
          -9.095488548278809,
          1.0635688304901123,
          -12.74081802368164,
          -5.267588138580322,
          2.7836244106292725,
          9.58566951751709,
          -13.346860885620117,
          11.061836242675781,
          0.9337022304534912,
          3.228563070297241,
          8.899393081665039,
          -5.247565269470215,
          12.410622596740723,
          -1.2671523094177246,
          -15.684577941894531,
          -1.8909286260604858,
          -1.4244850873947144,
          11.811198234558105,
          12.654483795166016,
          -6.740519046783447,
          12.539127349853516,
          12.112144470214844,
          6.354759216308594,
          7.842439651489258,
          9.543009757995605,
          4.519174098968506,
          1.850801706314087,
          -7.381412982940674,
          -12.795419692993164,
          -7.628637790679932,
          -13.924311637878418,
          2.4263429641723633,
          4.973529815673828,
          -4.423007011413574,
          -15.256081581115723,
          -7.33275032043457,
          -4.902679443359375,
          3.852827787399292,
          8.258209228515625,
          -1.414428472518921,
          -5.913383960723877,
          0.5291948318481445,
          11.941969871520996,
          2.489360809326172,
          -7.620866298675537,
          11.044099807739258,
          6.93099308013916,
          7.500433921813965,
          3.379730701446533,
          9.922578811645508,
          -4.436899662017822,
          7.191427230834961,
          5.362384796142578,
          9.47123908996582,
          5.348921775817871,
          12.201804161071777,
          6.292222499847412,
          -0.467591792345047,
          5.744896411895752,
          3.6579601764678955,
          -8.806340217590332,
          -9.421890258789062,
          -7.6123738288879395,
          -13.708584785461426,
          -5.476757049560547,
          -0.7611497044563293,
          -1.5837147235870361,
          -4.2373504638671875,
          -7.851983070373535,
          -0.8687166571617126,
          -6.829300403594971,
          -7.616039276123047,
          0.4671079218387604,
          2.437044143676758,
          12.355273246765137,
          6.3838677406311035,
          -1.4046287536621094,
          1.4563426971435547,
          -14.572588920593262,
          -5.66256856918335,
          3.968945026397705,
          -15.694380760192871,
          0.9742080569267273,
          -8.218521118164062,
          -3.6771469116210938,
          -8.98140811920166,
          -0.8273523449897766,
          13.58390998840332,
          0.5212793350219727,
          -1.7003082036972046,
          5.738626003265381,
          6.496610164642334,
          -7.098665714263916,
          5.181769847869873,
          -14.881752967834473,
          0.5168688893318176,
          -9.525568008422852,
          6.349749565124512,
          -9.160401344299316,
          -4.227672100067139,
          -2.051243782043457,
          1.6480860710144043,
          11.45620059967041,
          0.029718130826950073,
          5.699781894683838,
          1.5329383611679077,
          -8.089202880859375,
          -1.7330150604248047,
          7.406247138977051,
          9.77658462524414,
          -6.446252346038818,
          1.3758153915405273,
          -6.743644714355469,
          9.70366382598877,
          1.7369670867919922,
          9.66019344329834,
          5.551429271697998,
          3.8891236782073975,
          -1.0555176734924316,
          2.837916135787964,
          -12.174216270446777,
          -7.817794322967529,
          -1.2553207874298096,
          7.858719825744629,
          -6.67832088470459,
          7.01498556137085,
          13.325016975402832,
          9.714276313781738,
          4.772031307220459,
          1.3908343315124512,
          -2.8186581134796143,
          -7.701483726501465,
          6.385306358337402,
          -4.200868129730225,
          -0.6013637781143188,
          -11.245044708251953,
          -3.5679523944854736,
          13.767626762390137,
          8.983785629272461,
          5.080572605133057,
          9.187887191772461,
          9.386276245117188,
          1.2404685020446777,
          14.7362642288208,
          9.34163761138916,
          -5.6631669998168945,
          -14.029728889465332,
          -11.971196174621582,
          4.608869552612305,
          -1.6936719417572021,
          -9.926981925964355,
          -4.743023872375488,
          8.397571563720703,
          -9.832721710205078,
          7.416115760803223,
          13.196366310119629,
          0.5410075783729553,
          -1.5146636962890625,
          3.321924924850464,
          5.976475715637207,
          -3.4519622325897217,
          -4.602283000946045,
          -2.43727707862854,
          -4.101253986358643,
          8.90651798248291,
          5.812230110168457,
          6.092193126678467,
          -4.0835771560668945,
          -1.5766011476516724,
          -1.5442779064178467,
          6.915329933166504,
          2.596691608428955,
          -1.3776042461395264,
          6.423569202423096,
          -6.921641826629639,
          9.485262870788574,
          9.131399154663086,
          8.722891807556152,
          6.643956661224365,
          -2.1882853507995605,
          2.852447748184204,
          -1.3569374084472656,
          -3.1801745891571045,
          0.2951105535030365,
          13.6983003616333,
          -10.905943870544434,
          -15.782530784606934,
          -16.680587768554688,
          3.01094651222229,
          -0.7108210921287537,
          -7.924321174621582,
          -8.551214218139648,
          3.5512800216674805,
          -5.388854026794434,
          -16.595352172851562,
          -13.256674766540527,
          13.53371810913086,
          -1.57767915725708,
          9.867447853088379,
          5.99786901473999,
          1.2482446432113647,
          6.858668804168701,
          4.363656044006348,
          -4.840334415435791,
          -1.788562536239624,
          -13.927756309509277,
          -4.411947727203369,
          5.0254645347595215,
          -3.3830132484436035,
          10.761338233947754,
          -7.867889404296875,
          -4.136626720428467,
          1.1953941583633423,
          -6.581179618835449,
          4.396979808807373,
          5.402273178100586,
          0.532279372215271,
          4.25423002243042,
          -0.3899112343788147,
          -13.626296997070312,
          -5.6637797355651855,
          0.42350685596466064,
          5.336427688598633,
          -8.90466022491455,
          -5.981290817260742,
          1.3214620351791382,
          -1.2031179666519165,
          -15.568559646606445,
          -9.766403198242188,
          -11.187450408935547,
          5.047392845153809,
          3.870170831680298,
          -9.681305885314941,
          -16.866371154785156,
          10.28322696685791,
          -3.4808316230773926,
          8.532061576843262,
          -16.467166900634766,
          -13.679875373840332,
          12.684906959533691,
          -10.86371898651123,
          2.55696177482605,
          -13.877551078796387,
          4.979364395141602,
          8.445433616638184,
          -5.947440147399902,
          -1.0771125555038452,
          -12.799171447753906,
          -3.512603521347046,
          -3.3084945678710938,
          -0.0607215017080307,
          -0.6018697619438171,
          6.889288425445557,
          -2.8205389976501465,
          -0.9647108316421509,
          -7.17081356048584,
          3.023181676864624,
          12.231001853942871,
          -2.121155261993408,
          1.2548819780349731,
          4.449484348297119,
          -14.320587158203125,
          -7.305111408233643,
          4.284230709075928,
          -0.9177032709121704,
          3.404599189758301,
          11.84337043762207,
          5.616600036621094,
          10.1301908493042,
          12.578819274902344,
          -2.594292640686035,
          -17.408857345581055,
          5.467735290527344,
          0.9113867878913879,
          1.3326442241668701,
          12.264036178588867,
          -14.830241203308105,
          -10.852067947387695,
          7.120262622833252,
          2.7072219848632812,
          -5.758433818817139,
          6.7681474685668945,
          4.380397319793701,
          -1.8433055877685547,
          8.548022270202637,
          2.8041000366210938,
          -0.975773811340332,
          11.824859619140625,
          -6.270780563354492,
          -12.184703826904297,
          -7.838366985321045,
          9.901554107666016,
          2.7254292964935303,
          3.7501637935638428,
          10.529976844787598,
          4.379014015197754,
          -12.869101524353027,
          -10.199715614318848,
          -4.116214752197266,
          9.512409210205078,
          -9.58213996887207,
          -7.271259307861328,
          -12.091782569885254,
          -2.0510241985321045,
          2.3361611366271973,
          -1.4676282405853271,
          12.937252044677734,
          -15.063946723937988,
          2.604800224304199,
          -6.517116546630859,
          -13.66820240020752,
          0.5213459730148315,
          -12.967397689819336,
          2.232635974884033,
          10.611473083496094,
          3.842427968978882,
          -13.858424186706543,
          9.568503379821777,
          -7.663987636566162,
          11.463136672973633,
          -6.982285976409912,
          0.8201783299446106,
          -10.71604061126709,
          8.133851051330566,
          -4.021920204162598,
          1.970765471458435,
          -1.2910068035125732,
          -6.039109706878662,
          -0.6868136525154114,
          -8.109070777893066,
          -14.335038185119629,
          -12.173196792602539,
          8.996286392211914,
          10.805139541625977,
          14.281768798828125,
          -9.975297927856445,
          -2.2316627502441406,
          -7.551793098449707,
          3.678489923477173,
          0.8649656772613525,
          9.50495433807373,
          2.0340216159820557,
          -12.522186279296875,
          10.781571388244629,
          -9.123824119567871,
          -8.779485702514648,
          0.3315955400466919,
          -1.1488810777664185,
          2.08309268951416,
          2.304718017578125,
          -4.644838809967041,
          -6.002835750579834,
          11.8452730178833,
          -14.273280143737793,
          0.13417784869670868,
          10.67284107208252,
          6.958531379699707,
          2.2008562088012695,
          -15.214337348937988,
          -0.3566550314426422,
          -4.265483379364014,
          -2.3110387325286865,
          -14.26714038848877,
          2.8992018699645996,
          -1.2907718420028687,
          -4.846176624298096,
          4.135718822479248,
          12.923409461975098,
          14.337525367736816,
          -8.630578994750977,
          13.100939750671387,
          0.14804749190807343,
          -11.181939125061035,
          2.875873327255249,
          -9.11873722076416,
          8.106643676757812,
          -5.660550594329834,
          -1.3428963422775269,
          2.548741102218628,
          -1.3763402700424194,
          -5.773689270019531,
          0.4544984996318817,
          10.33657169342041,
          10.760610580444336,
          2.737457036972046,
          -6.671359539031982,
          -0.3709697723388672,
          6.5334367752075195,
          13.001768112182617,
          1.6838421821594238,
          -3.768467426300049,
          -16.8204345703125,
          10.708724021911621,
          -14.82292652130127,
          3.6653456687927246,
          -15.383565902709961,
          -11.484601020812988,
          2.548635482788086,
          8.773841857910156,
          -5.440382480621338,
          0.2731831967830658,
          11.880695343017578,
          10.11596393585205,
          -1.9428640604019165,
          0.47442081570625305,
          14.553255081176758,
          6.594737529754639,
          4.280204772949219,
          -2.0191173553466797,
          3.7139689922332764,
          -1.0653821229934692,
          -1.8587865829467773,
          -16.214778900146484,
          -7.60527229309082,
          -2.8735363483428955,
          0.8089265823364258,
          -12.04935359954834,
          3.951190710067749,
          -4.917121410369873,
          7.375670909881592,
          -13.606232643127441,
          -7.071567058563232,
          -0.8868409991264343,
          -12.036291122436523,
          2.0551323890686035,
          2.802424430847168,
          6.3500871658325195,
          -1.0735529661178589,
          8.633057594299316,
          3.7650647163391113,
          -7.33677339553833,
          -16.50295066833496,
          5.243788242340088,
          6.763597011566162,
          -2.3835055828094482,
          -1.7640045881271362,
          10.317323684692383,
          12.44067096710205,
          2.600942850112915,
          8.40039348602295,
          -14.030193328857422,
          -14.900263786315918,
          -0.24599209427833557,
          4.886765956878662,
          -6.554234981536865,
          -0.4157904088497162,
          -15.846871376037598,
          8.684247970581055,
          2.93595552444458
         ]
        }
       ],
       "layout": {
        "coloraxis": {
         "colorbar": {
          "title": {
           "text": "Label"
          }
         },
         "colorscale": [
          [
           0,
           "#0d0887"
          ],
          [
           0.1111111111111111,
           "#46039f"
          ],
          [
           0.2222222222222222,
           "#7201a8"
          ],
          [
           0.3333333333333333,
           "#9c179e"
          ],
          [
           0.4444444444444444,
           "#bd3786"
          ],
          [
           0.5555555555555556,
           "#d8576b"
          ],
          [
           0.6666666666666666,
           "#ed7953"
          ],
          [
           0.7777777777777778,
           "#fb9f3a"
          ],
          [
           0.8888888888888888,
           "#fdca26"
          ],
          [
           1,
           "#f0f921"
          ]
         ]
        },
        "height": 800,
        "legend": {
         "tracegroupgap": 0
        },
        "scene": {
         "domain": {
          "x": [
           0,
           1
          ],
          "y": [
           0,
           1
          ]
         },
         "xaxis": {
          "title": {
           "text": "0"
          }
         },
         "yaxis": {
          "title": {
           "text": "1"
          }
         },
         "zaxis": {
          "title": {
           "text": "2"
          }
         }
        },
        "template": {
         "data": {
          "bar": [
           {
            "error_x": {
             "color": "#2a3f5f"
            },
            "error_y": {
             "color": "#2a3f5f"
            },
            "marker": {
             "line": {
              "color": "#E5ECF6",
              "width": 0.5
             }
            },
            "type": "bar"
           }
          ],
          "barpolar": [
           {
            "marker": {
             "line": {
              "color": "#E5ECF6",
              "width": 0.5
             }
            },
            "type": "barpolar"
           }
          ],
          "carpet": [
           {
            "aaxis": {
             "endlinecolor": "#2a3f5f",
             "gridcolor": "white",
             "linecolor": "white",
             "minorgridcolor": "white",
             "startlinecolor": "#2a3f5f"
            },
            "baxis": {
             "endlinecolor": "#2a3f5f",
             "gridcolor": "white",
             "linecolor": "white",
             "minorgridcolor": "white",
             "startlinecolor": "#2a3f5f"
            },
            "type": "carpet"
           }
          ],
          "choropleth": [
           {
            "colorbar": {
             "outlinewidth": 0,
             "ticks": ""
            },
            "type": "choropleth"
           }
          ],
          "contour": [
           {
            "colorbar": {
             "outlinewidth": 0,
             "ticks": ""
            },
            "colorscale": [
             [
              0,
              "#0d0887"
             ],
             [
              0.1111111111111111,
              "#46039f"
             ],
             [
              0.2222222222222222,
              "#7201a8"
             ],
             [
              0.3333333333333333,
              "#9c179e"
             ],
             [
              0.4444444444444444,
              "#bd3786"
             ],
             [
              0.5555555555555556,
              "#d8576b"
             ],
             [
              0.6666666666666666,
              "#ed7953"
             ],
             [
              0.7777777777777778,
              "#fb9f3a"
             ],
             [
              0.8888888888888888,
              "#fdca26"
             ],
             [
              1,
              "#f0f921"
             ]
            ],
            "type": "contour"
           }
          ],
          "contourcarpet": [
           {
            "colorbar": {
             "outlinewidth": 0,
             "ticks": ""
            },
            "type": "contourcarpet"
           }
          ],
          "heatmap": [
           {
            "colorbar": {
             "outlinewidth": 0,
             "ticks": ""
            },
            "colorscale": [
             [
              0,
              "#0d0887"
             ],
             [
              0.1111111111111111,
              "#46039f"
             ],
             [
              0.2222222222222222,
              "#7201a8"
             ],
             [
              0.3333333333333333,
              "#9c179e"
             ],
             [
              0.4444444444444444,
              "#bd3786"
             ],
             [
              0.5555555555555556,
              "#d8576b"
             ],
             [
              0.6666666666666666,
              "#ed7953"
             ],
             [
              0.7777777777777778,
              "#fb9f3a"
             ],
             [
              0.8888888888888888,
              "#fdca26"
             ],
             [
              1,
              "#f0f921"
             ]
            ],
            "type": "heatmap"
           }
          ],
          "heatmapgl": [
           {
            "colorbar": {
             "outlinewidth": 0,
             "ticks": ""
            },
            "colorscale": [
             [
              0,
              "#0d0887"
             ],
             [
              0.1111111111111111,
              "#46039f"
             ],
             [
              0.2222222222222222,
              "#7201a8"
             ],
             [
              0.3333333333333333,
              "#9c179e"
             ],
             [
              0.4444444444444444,
              "#bd3786"
             ],
             [
              0.5555555555555556,
              "#d8576b"
             ],
             [
              0.6666666666666666,
              "#ed7953"
             ],
             [
              0.7777777777777778,
              "#fb9f3a"
             ],
             [
              0.8888888888888888,
              "#fdca26"
             ],
             [
              1,
              "#f0f921"
             ]
            ],
            "type": "heatmapgl"
           }
          ],
          "histogram": [
           {
            "marker": {
             "colorbar": {
              "outlinewidth": 0,
              "ticks": ""
             }
            },
            "type": "histogram"
           }
          ],
          "histogram2d": [
           {
            "colorbar": {
             "outlinewidth": 0,
             "ticks": ""
            },
            "colorscale": [
             [
              0,
              "#0d0887"
             ],
             [
              0.1111111111111111,
              "#46039f"
             ],
             [
              0.2222222222222222,
              "#7201a8"
             ],
             [
              0.3333333333333333,
              "#9c179e"
             ],
             [
              0.4444444444444444,
              "#bd3786"
             ],
             [
              0.5555555555555556,
              "#d8576b"
             ],
             [
              0.6666666666666666,
              "#ed7953"
             ],
             [
              0.7777777777777778,
              "#fb9f3a"
             ],
             [
              0.8888888888888888,
              "#fdca26"
             ],
             [
              1,
              "#f0f921"
             ]
            ],
            "type": "histogram2d"
           }
          ],
          "histogram2dcontour": [
           {
            "colorbar": {
             "outlinewidth": 0,
             "ticks": ""
            },
            "colorscale": [
             [
              0,
              "#0d0887"
             ],
             [
              0.1111111111111111,
              "#46039f"
             ],
             [
              0.2222222222222222,
              "#7201a8"
             ],
             [
              0.3333333333333333,
              "#9c179e"
             ],
             [
              0.4444444444444444,
              "#bd3786"
             ],
             [
              0.5555555555555556,
              "#d8576b"
             ],
             [
              0.6666666666666666,
              "#ed7953"
             ],
             [
              0.7777777777777778,
              "#fb9f3a"
             ],
             [
              0.8888888888888888,
              "#fdca26"
             ],
             [
              1,
              "#f0f921"
             ]
            ],
            "type": "histogram2dcontour"
           }
          ],
          "mesh3d": [
           {
            "colorbar": {
             "outlinewidth": 0,
             "ticks": ""
            },
            "type": "mesh3d"
           }
          ],
          "parcoords": [
           {
            "line": {
             "colorbar": {
              "outlinewidth": 0,
              "ticks": ""
             }
            },
            "type": "parcoords"
           }
          ],
          "pie": [
           {
            "automargin": true,
            "type": "pie"
           }
          ],
          "scatter": [
           {
            "marker": {
             "colorbar": {
              "outlinewidth": 0,
              "ticks": ""
             }
            },
            "type": "scatter"
           }
          ],
          "scatter3d": [
           {
            "line": {
             "colorbar": {
              "outlinewidth": 0,
              "ticks": ""
             }
            },
            "marker": {
             "colorbar": {
              "outlinewidth": 0,
              "ticks": ""
             }
            },
            "type": "scatter3d"
           }
          ],
          "scattercarpet": [
           {
            "marker": {
             "colorbar": {
              "outlinewidth": 0,
              "ticks": ""
             }
            },
            "type": "scattercarpet"
           }
          ],
          "scattergeo": [
           {
            "marker": {
             "colorbar": {
              "outlinewidth": 0,
              "ticks": ""
             }
            },
            "type": "scattergeo"
           }
          ],
          "scattergl": [
           {
            "marker": {
             "colorbar": {
              "outlinewidth": 0,
              "ticks": ""
             }
            },
            "type": "scattergl"
           }
          ],
          "scattermapbox": [
           {
            "marker": {
             "colorbar": {
              "outlinewidth": 0,
              "ticks": ""
             }
            },
            "type": "scattermapbox"
           }
          ],
          "scatterpolar": [
           {
            "marker": {
             "colorbar": {
              "outlinewidth": 0,
              "ticks": ""
             }
            },
            "type": "scatterpolar"
           }
          ],
          "scatterpolargl": [
           {
            "marker": {
             "colorbar": {
              "outlinewidth": 0,
              "ticks": ""
             }
            },
            "type": "scatterpolargl"
           }
          ],
          "scatterternary": [
           {
            "marker": {
             "colorbar": {
              "outlinewidth": 0,
              "ticks": ""
             }
            },
            "type": "scatterternary"
           }
          ],
          "surface": [
           {
            "colorbar": {
             "outlinewidth": 0,
             "ticks": ""
            },
            "colorscale": [
             [
              0,
              "#0d0887"
             ],
             [
              0.1111111111111111,
              "#46039f"
             ],
             [
              0.2222222222222222,
              "#7201a8"
             ],
             [
              0.3333333333333333,
              "#9c179e"
             ],
             [
              0.4444444444444444,
              "#bd3786"
             ],
             [
              0.5555555555555556,
              "#d8576b"
             ],
             [
              0.6666666666666666,
              "#ed7953"
             ],
             [
              0.7777777777777778,
              "#fb9f3a"
             ],
             [
              0.8888888888888888,
              "#fdca26"
             ],
             [
              1,
              "#f0f921"
             ]
            ],
            "type": "surface"
           }
          ],
          "table": [
           {
            "cells": {
             "fill": {
              "color": "#EBF0F8"
             },
             "line": {
              "color": "white"
             }
            },
            "header": {
             "fill": {
              "color": "#C8D4E3"
             },
             "line": {
              "color": "white"
             }
            },
            "type": "table"
           }
          ]
         },
         "layout": {
          "annotationdefaults": {
           "arrowcolor": "#2a3f5f",
           "arrowhead": 0,
           "arrowwidth": 1
          },
          "coloraxis": {
           "colorbar": {
            "outlinewidth": 0,
            "ticks": ""
           }
          },
          "colorscale": {
           "diverging": [
            [
             0,
             "#8e0152"
            ],
            [
             0.1,
             "#c51b7d"
            ],
            [
             0.2,
             "#de77ae"
            ],
            [
             0.3,
             "#f1b6da"
            ],
            [
             0.4,
             "#fde0ef"
            ],
            [
             0.5,
             "#f7f7f7"
            ],
            [
             0.6,
             "#e6f5d0"
            ],
            [
             0.7,
             "#b8e186"
            ],
            [
             0.8,
             "#7fbc41"
            ],
            [
             0.9,
             "#4d9221"
            ],
            [
             1,
             "#276419"
            ]
           ],
           "sequential": [
            [
             0,
             "#0d0887"
            ],
            [
             0.1111111111111111,
             "#46039f"
            ],
            [
             0.2222222222222222,
             "#7201a8"
            ],
            [
             0.3333333333333333,
             "#9c179e"
            ],
            [
             0.4444444444444444,
             "#bd3786"
            ],
            [
             0.5555555555555556,
             "#d8576b"
            ],
            [
             0.6666666666666666,
             "#ed7953"
            ],
            [
             0.7777777777777778,
             "#fb9f3a"
            ],
            [
             0.8888888888888888,
             "#fdca26"
            ],
            [
             1,
             "#f0f921"
            ]
           ],
           "sequentialminus": [
            [
             0,
             "#0d0887"
            ],
            [
             0.1111111111111111,
             "#46039f"
            ],
            [
             0.2222222222222222,
             "#7201a8"
            ],
            [
             0.3333333333333333,
             "#9c179e"
            ],
            [
             0.4444444444444444,
             "#bd3786"
            ],
            [
             0.5555555555555556,
             "#d8576b"
            ],
            [
             0.6666666666666666,
             "#ed7953"
            ],
            [
             0.7777777777777778,
             "#fb9f3a"
            ],
            [
             0.8888888888888888,
             "#fdca26"
            ],
            [
             1,
             "#f0f921"
            ]
           ]
          },
          "colorway": [
           "#636efa",
           "#EF553B",
           "#00cc96",
           "#ab63fa",
           "#FFA15A",
           "#19d3f3",
           "#FF6692",
           "#B6E880",
           "#FF97FF",
           "#FECB52"
          ],
          "font": {
           "color": "#2a3f5f"
          },
          "geo": {
           "bgcolor": "white",
           "lakecolor": "white",
           "landcolor": "#E5ECF6",
           "showlakes": true,
           "showland": true,
           "subunitcolor": "white"
          },
          "hoverlabel": {
           "align": "left"
          },
          "hovermode": "closest",
          "mapbox": {
           "style": "light"
          },
          "paper_bgcolor": "white",
          "plot_bgcolor": "#E5ECF6",
          "polar": {
           "angularaxis": {
            "gridcolor": "white",
            "linecolor": "white",
            "ticks": ""
           },
           "bgcolor": "#E5ECF6",
           "radialaxis": {
            "gridcolor": "white",
            "linecolor": "white",
            "ticks": ""
           }
          },
          "scene": {
           "xaxis": {
            "backgroundcolor": "#E5ECF6",
            "gridcolor": "white",
            "gridwidth": 2,
            "linecolor": "white",
            "showbackground": true,
            "ticks": "",
            "zerolinecolor": "white"
           },
           "yaxis": {
            "backgroundcolor": "#E5ECF6",
            "gridcolor": "white",
            "gridwidth": 2,
            "linecolor": "white",
            "showbackground": true,
            "ticks": "",
            "zerolinecolor": "white"
           },
           "zaxis": {
            "backgroundcolor": "#E5ECF6",
            "gridcolor": "white",
            "gridwidth": 2,
            "linecolor": "white",
            "showbackground": true,
            "ticks": "",
            "zerolinecolor": "white"
           }
          },
          "shapedefaults": {
           "line": {
            "color": "#2a3f5f"
           }
          },
          "ternary": {
           "aaxis": {
            "gridcolor": "white",
            "linecolor": "white",
            "ticks": ""
           },
           "baxis": {
            "gridcolor": "white",
            "linecolor": "white",
            "ticks": ""
           },
           "bgcolor": "#E5ECF6",
           "caxis": {
            "gridcolor": "white",
            "linecolor": "white",
            "ticks": ""
           }
          },
          "title": {
           "x": 0.05
          },
          "xaxis": {
           "automargin": true,
           "gridcolor": "white",
           "linecolor": "white",
           "ticks": "",
           "title": {
            "standoff": 15
           },
           "zerolinecolor": "white",
           "zerolinewidth": 2
          },
          "yaxis": {
           "automargin": true,
           "gridcolor": "white",
           "linecolor": "white",
           "ticks": "",
           "title": {
            "standoff": 15
           },
           "zerolinecolor": "white",
           "zerolinewidth": 2
          }
         }
        },
        "title": {
         "text": "3d TSNE Plot for Outliers"
        },
        "width": 900
       }
      },
      "text/html": [
       "<div>\n",
       "        \n",
       "        \n",
       "            <div id=\"1b3acb8d-97ef-4512-8145-6434ea458a8e\" class=\"plotly-graph-div\" style=\"height:800px; width:900px;\"></div>\n",
       "            <script type=\"text/javascript\">\n",
       "                require([\"plotly\"], function(Plotly) {\n",
       "                    window.PLOTLYENV=window.PLOTLYENV || {};\n",
       "                    \n",
       "                if (document.getElementById(\"1b3acb8d-97ef-4512-8145-6434ea458a8e\")) {\n",
       "                    Plotly.newPlot(\n",
       "                        '1b3acb8d-97ef-4512-8145-6434ea458a8e',\n",
       "                        [{\"customdata\": [[0.263995357], [0.546092303], [0.33671410399999996], [0.092107835], [0.325261175], [0.212464853], [0.258565714], [0.869236755], [0.197077957], [0.292984504], [0.82178316], [0.796622959], [0.045577010999999994], [0.613660351], [0.9507445659999999], [0.33634633700000005], [0.034440667], [0.741544275], [0.18443265], [0.664514943], [0.16282485800000002], [0.729838445], [0.62837389], [0.057883660999999996], [0.445534827], [0.80183695], [0.27709612], [0.228634015], [0.834860657], [0.6697665110000001], [0.532527349], [0.17045907100000002], [0.5102884679999999], [0.977561989], [0.249775993], [0.9755006820000001], [0.613701727], [0.16742036300000002], [0.537472516], [0.379899131], [0.633897303], [0.633960424], [0.5499746529999999], [0.178172988], [0.85563814], [0.321796672], [0.8174905370000001], [0.254879417], [0.344140513], [0.8061457259999999], [0.27708167100000003], [0.544328519], [0.07708393], [0.273081458], [0.390877336], [0.349621385], [0.214549744], [0.206075222], [0.86461997], [0.9817088540000001], [0.33482964600000004], [0.648387061], [0.093643561], [0.837802698], [0.7603439670000001], [0.29140417399999996], [0.3413454], [0.7611124840000001], [0.541899775], [0.684176639], [0.983535597], [0.52081245], [0.328227724], [0.09715793800000001], [0.876088593], [0.870214512], [0.656086992], [0.306791514], [0.48126734], [0.259559174], [0.326123655], [0.930568042], [0.6583894], [0.689992335], [0.315781109], [0.5669050929999999], [0.637526619], [0.687540723], [0.324300602], [0.592704906], [0.7402531259999999], [0.5940328770000001], [0.596452977], [0.27768081699999997], [0.258329663], [0.142460864], [0.435533461], [0.7024990440000001], [0.58897535], [0.653304374], [0.336968524], [0.631244736], [0.73530076], [0.050390366], [0.064264924], [0.665359476], [0.917835245], [0.44651012], [0.661938199], [0.43935985299999997], [0.6875724040000001], [0.363462248], [0.6542621820000001], [0.578553536], [0.065927945], [0.550148559], [0.13918281400000002], [0.080004635], [0.278228358], [0.560124266], [0.53639864], [0.42653190399999996], [0.789109796], [0.742900474], [0.901692589], [0.650337401], [0.114057311], [0.260812592], [0.43991232], [0.964409284], [0.184401415], [0.345145446], [0.17589458100000002], [0.312514453], [0.674131879], [0.32825045], [0.598231057], [0.09259881699999999], [0.497916521], [0.419776521], [0.31217670000000003], [0.937857107], [0.049030963], [0.47610452600000003], [0.447397526], [0.295806058], [0.737363977], [0.625896253], [0.408813429], [0.437511156], [0.691351375], [0.935555275], [0.437846654], [0.072217715], [0.67636067], [0.468883999], [0.543820644], [0.6555226470000001], [0.6935289240000001], [0.10887831199999999], [0.285463743], [0.0], [0.706495497], [0.273530633], [0.292320271], [0.673984307], [0.12612182800000002], [0.9467074590000001], [0.9363388979999999], [0.8537553640000001], [0.7060713609999999], [0.693682186], [0.508527882], [0.34717038899999997], [0.704154263], [0.658730088], [0.155841557], [0.311085435], [0.281135347], [0.094587802], [0.6832609540000001], [0.9077292509999999], [0.29151267399999997], [0.752734459], [0.93482964], [0.071413953], [0.5948963270000001], [0.404672015], [0.13837621], [0.7473384679999999], [0.530882486], [0.282649594], [0.699335734], [0.056111250999999994], [0.855234998], [0.07789512700000001], [0.891649583], [0.38674227899999997], [0.27113158], [0.958888961], [0.085120869], [0.5269022489999999], [0.066577785], [0.841506738], [0.255342095], [0.060545771], [0.073385869], [0.187493723], [0.858365688], [0.090640352], [0.7097252270000001], [0.631300647], [0.24750447399999997], [0.822843584], [0.373476759], [0.625538582], [0.292951715], [0.299730324], [0.25121407], [0.344480551], [0.293064767], [0.7628032240000001], [0.7384708040000001], [0.674883265], [0.719151612], [0.13098021599999998], [0.511328036], [0.04492903], [0.560914449], [0.7440406409999999], [0.266961634], [0.644231853], [0.038113352], [0.05715529900000001], [0.34139246100000004], [0.7204636320000001], [0.402878236], [0.635148967], [0.320729467], [0.09120969400000001], [0.23414609], [0.8902211309999999], [0.602170884], [0.633652055], [0.806240837], [0.739731184], [0.465231269], [0.7321109], [0.373874305], [0.501587947], [0.11538315800000001], [0.7319466040000001], [0.41829872799999995], [0.062259590999999996], [0.391496379], [0.35984929], [0.24523562699999998], [0.610028339], [0.43540360200000006], [0.434309675], [0.523763344], [0.17118786600000002], [0.18773430300000002], [0.945014638], [0.027851097000000002], [0.68445706], [0.178014532], [0.643427879], [0.59588355], [0.372361682], [0.586103584], [0.271658852], [0.59951107], [0.468363088], [0.314515565], [0.21893726], [0.254716562], [0.25612815], [0.602259755], [0.134381075], [0.513887424], [0.624241636], [0.160251854], [0.580708108], [0.270540486], [0.832919932], [0.93032134], [0.719157884], [0.886720033], [0.098792281], [0.787174286], [0.365592376], [0.719576193], [0.8058956], [0.7555783340000001], [0.526005909], [0.68880424], [0.22111531199999998], [0.739369477], [0.408440236], [0.348926542], [0.433713763], [0.5964966070000001], [0.6942953000000001], [0.7090309659999999], [0.867652984], [0.89332545], [0.746020922], [0.538284443], [0.8922193140000001], [0.935175765], [0.260527707], [0.956780449], [0.204932484], [0.687733351], [0.329063619], [0.632149831], [0.463744506], [0.698859621], [0.385446564], [0.47997537700000004], [0.732279108], [0.3813543], [0.459326013], [0.257401434], [0.665014804], [0.103399542], [0.425284413], [0.943529051], [0.594750236], [0.543776817], [0.18203988], [0.23584208399999998], [0.585984497], [0.762013168], [0.6849829070000001], [0.676936933], [0.290184964], [0.48106822200000005], [0.492766033], [0.22185623399999999], [0.053875998], [0.082751144], [0.385366225], [0.702513961], [0.91553156], [0.082087436], [0.251280378], [0.41672181700000005], [0.277032672], [0.579539754], [0.569363476], [0.133399703], [0.265045463], [0.936571901], [0.252618554], [0.054033081], [0.802481439], [0.528197693], [0.9515026], [0.572121173], [0.752938227], [0.143857535], [0.513484576], [0.313322389], [0.6877973959999999], [0.37705984], [0.348226142], [0.67763282], [0.24138752100000002], [0.8506501790000001], [0.22034810300000002], [0.476445464], [0.690324025], [0.364695946], [0.6492491970000001], [0.9437019209999999], [0.529645971], [0.299097002], [0.96696247], [0.272005242], [0.314161447], [0.752020991], [0.221882453], [0.7203326729999999], [0.379204782], [0.60168653], [0.582932673], [0.950809853], [0.58830141], [0.880887227], [0.467857701], [0.8799021709999999], [0.619844009], [0.359002573], [0.291511278], [0.694157143], [0.727960353], [0.617703921], [0.39581257], [0.58317282], [0.710332374], [0.253753693], [0.049412227999999996], [0.728378695], [0.432432881], [0.58612345], [0.052342373], [0.053483902], [0.518729378], [0.933040208], [0.7035542840000001], [0.268989899], [0.733006927], [0.44435246700000003], [0.5833946210000001], [0.871172692], [0.42876707799999997], [0.30046084100000003], [0.9533294590000001], [0.606443965], [0.90986815], [0.714896449], [0.49734950899999997], [0.8530974859999999], [0.721804145], [0.303467328], [0.664485096], [0.27978062], [0.569481665], [0.628628926], [0.088368123], [0.733567326], [0.537436778], [0.638593691], [0.954726948], [0.632202332], [0.642134651], [0.744653087], [0.115714007], [0.48625007299999995], [0.440356144], [0.08272289], [0.511591027], [0.394627555], [0.224394], [0.626927584], [0.290254057], [0.779008053], [0.86610579], [0.873326081], [0.49548916], [0.594297695], [0.9182015840000001], [0.5770427539999999], [0.019467671000000002], [0.6702982820000001], [0.546595316], [0.591665146], [0.42155819], [0.6856085590000001], [0.340303024], [0.675626741], [0.319067345], [0.38849966399999997], [0.706949589], [0.559409515], [0.687663508], [0.7088045540000001], [0.6818880940000001], [0.42253510899999996], [0.320004605], [0.6582813679999999], [0.634154867], [0.7773320090000001], [0.812677205], [0.074280797], [0.39600217], [0.054933913], [0.825058925], [0.382642009], [0.8687298179999999], [0.588043346], [0.891551577], [0.10920046], [0.647682781], [0.724342512], [0.07016304400000001], [0.280882054], [0.039113261], [0.579641592], [0.639000922], [0.281745925], [0.647857744], [0.6479057970000001], [0.875226264], [0.567603305], [0.262940591], [0.268026042], [0.40519133], [0.479965451], [0.33552403], [0.777165379], [0.42548796299999997], [0.237986115], [0.142522971], [0.724176488], [0.234698933], [0.07818228099999999], [0.855990155], [0.270251765], [0.435517841], [0.762697513], [0.46448725799999996], [0.396112685], [0.37638092100000003], [0.29459467699999997], [0.6944921209999999], [0.622767949], [0.8475597220000001], [0.301463054], [0.912937812], [0.500017182], [0.902587935], [0.304517943], [0.299165673], [0.092014087], [0.488548917], [0.664664437], [0.26534954899999996], [0.723657021], [0.149262385], [0.04577339], [0.69661064], [0.42181486], [0.733845785], [0.418795386], [0.677443529], [0.26128360300000003], [0.268527767], [0.5443222360000001], [0.431632036], [0.981018141], [0.21498072399999998], [0.39472999299999995], [0.122224944], [0.297496875], [0.37490443100000004], [0.68698771], [0.388549207], [0.039296071], [0.73553424], [0.37929489299999997], [0.7321233859999999], [0.33922143899999996], [0.659450594], [0.054838642], [0.640112102], [0.30714170399999996], [0.39661190700000004], [0.420439161], [0.24171497399999997], [0.065893153], [0.9105219370000001], [0.697163103], [0.072559853], [0.81825094], [0.311888815], [0.961644609], [0.816325524], [0.14647302], [0.548753945], [0.946158087], [0.293992717], [0.331479643], [0.9062200309999999], [0.525540416], [0.83301411], [0.514849806], [0.574609024], [0.46871185299999996], [0.71002775], [0.645973276], [0.229794416], [0.551783393], [0.055822990999999995], [0.331750941], [0.715520198], [0.583924357], [0.30695769100000003], [0.7914782370000001], [0.16423663900000002], [0.065711219], [0.948993132], [0.080423835], [0.052495426], [0.566346135], [0.3630266], [0.605442195], [0.6308505839999999], [0.065791238], [0.28681707100000003], [0.685462839], [0.260853706], [0.659122429], [0.44317392200000005], [0.602063986], [0.060366910999999995], [0.781903153], [0.5145798070000001], [0.48388621299999995], [0.600213807], [0.49736405200000006], [0.411145245], [0.116999171], [0.34189014100000004], [0.746950848], [0.39629274600000003], [0.6221438429999999], [0.335271141], [0.140257137], [0.081620681], [0.069837569], [0.46894000799999996], [0.9908574170000001], [0.896616832], [0.255310561], [0.22464526699999998], [0.01991825], [0.296480415], [0.155458996], [0.577916714], [0.9563030309999999], [0.813464394], [0.529675785], [0.287671353], [0.48039136], [0.28104482199999997], [0.633196521], [0.09332537699999999], [0.28447398100000004], [0.052223775], [0.051129385], [0.967405608], [0.040045727999999996], [0.9085829209999999], [0.6621174160000001], [0.42470320899999997], [0.72207806], [0.666193327], [0.509681253], [0.7513536209999999], [0.279073124], [0.074927], [0.916359535], [0.31040327], [0.716604052], [0.485587085], [0.30607518100000003], [0.477558204], [0.7119239409999999], [0.066348638], [0.27453935100000004], [0.31082252], [0.47607312700000004], [0.186795565], [0.26654207], [0.070231142], [0.26951927], [0.800004713], [0.27363366699999997], [0.14647919199999998], [0.378318951], [0.373849065], [0.242170835], [0.249796488], [0.066591188], [0.372956798], [0.501812291], [0.313097752], [0.8802021959999999], [0.51981893], [0.364138746], [0.49268289600000004], [0.285732652], [0.890114985], [0.316419561], [0.26866354], [0.771975959], [0.968888992], [0.080334377], [0.7368282209999999], [0.30055807100000004], [0.9179503929999999], [0.465815039], [0.054036682], [0.963150123], [0.08965350300000001], [0.7076932340000001], [0.636416037], [0.539521117], [0.114757161], [0.357312419], [0.67639834], [0.43482839], [0.032326387000000005], [0.711365605], [0.187486519], [0.052789653], [0.5058636129999999], [0.927431873], [0.6809842559999999], [0.882822186], [0.495705441], [0.596240398], [0.320610701], [0.3413685], [0.159681797], [0.318133669], [0.8393010479999999], [0.06435925099999999], [0.470216633], [0.7762522909999999], [0.635843383], [0.62510543], [0.52959065], [0.986900166], [0.078585688], [0.233284267], [0.363330957], [0.7167169809999999], [0.37588979200000006], [0.223316889], [0.299343986], [0.538595767], [0.730297124], [0.66033077], [0.435296009], [0.326494313], [0.854402708], [0.5734938470000001], [0.757786135], [0.704743233], [0.281575597], [0.671968208], [0.313726015], [0.364338275], [0.368216396], [0.38629520700000003], [0.655971865], [0.5660252729999999], [0.424999093], [0.090110371], [0.772350538], [0.331047258], [0.273716188], [0.23877568], [0.37307977200000003], [0.331185868], [0.256134531], [0.678373225], [0.43463833799999996], [0.654668307], [0.986681065], [0.371520495], [0.408359618], [0.40932365], [0.283412082], [0.395246531], [0.010984428000000001], [0.306013869], [0.266194806], [0.299318521], [0.318293946], [0.74282591], [0.09766432900000001], [0.079666942], [0.613258767], [0.99443072], [0.568835082], [0.7080345159999999], [0.37059271899999996], [0.669867361], [0.651295625], [0.462531569], [0.7196256190000001], [0.45377248], [0.394863946], [0.323974831], [0.146454724], [0.7790670409999999], [0.401828915], [0.601479585], [0.856423023], [0.565242962], [0.301225108], [0.282108144], [0.594378011], [0.705312368], [0.5408696279999999], [0.319249574], [0.36176613799999996], [0.625000704], [0.316287401], [0.047239021], [0.801182233], [0.508474436], [0.8178934109999999], [0.399235601], [0.9740519990000001], [0.72241535], [0.039564764], [0.908684108], [0.47301013399999997], [0.7180496279999999], [0.7634790690000001], [0.6475965370000001], [0.8949973859999999], [0.22282590100000002], [0.359012234], [0.944910252], [0.297877816], [0.172517997], [0.556586265], [0.876481735], [0.48667784299999994], [0.459496733], [0.47412637700000004], [0.70101144], [0.337597387], [0.537578886], [0.966992448], [0.056849545], [0.233249065], [0.380054711], [0.602929443], [0.303847999], [0.170194553], [0.972168554], [0.332168927], [0.6887286890000001], [0.110773401], [0.273352065], [0.572939678], [0.491457065], [0.281389999], [0.821697261], [0.6749776829999999], [0.585134549], [0.7105961159999999], [0.040488789], [0.568054311], [0.321752928], [0.611850232], [0.926096887], [0.618347428], [0.667629785], [0.39773346600000004], [0.290875487], [0.594375103], [0.508255233], [0.338571357], [0.43230234700000003], [0.302221978], [0.87619819], [0.080204492], [0.092333532], [0.09365644699999999], [0.6084523510000001], [0.732654598], [0.944158855], [0.26742308], [0.731124201], [0.661308553], [0.38776626200000003], [0.962585273], [0.322067067], [0.6340810929999999], [0.475345002], [0.35355897299999994], [0.8859363159999999], [0.876798106], [0.221581064], [0.394362449], [0.8050356759999999], [0.452898486], [0.592520516], [0.761026394], [0.245049023], [0.37213936299999995], [0.681054822], [0.7471431479999999], [0.9207395290000001], [0.097207945], [0.699302998], [0.721647006], [0.5353561139999999], [0.738293805], [0.7064675509999999], [0.67395061], [0.7112122909999999], [0.302558708], [0.080097855], [0.707010837], [0.512248622], [0.659627472], [0.657559694], [0.100645606], [0.92665363], [0.892879338], [0.839157508], [0.890959718], [0.556754471], [0.960361937], [0.631037864], [0.029838065], [0.278843351], [0.926157705], [0.551504258], [0.485942349], [0.43723469600000003], [0.25231801800000003], [0.515466972], [0.43725229600000004], [0.493724207], [0.83324725], [0.317521477], [0.28623456199999997], [0.726833965], [0.495667033], [0.028645255], [0.31967191699999997], [0.674344598], [0.7660371890000001], [0.65456992], [0.7565143809999999], [0.528253719], [0.38971949100000003], [0.355087459], [0.87015202], [0.7390833059999999], [0.305761846], [0.411587673], [0.063633094], [0.735409395], [0.605916669], [0.539395562], [0.566183532], [0.674795186], [0.070993366], [0.12526410000000002], [0.279601492], [0.952174402], [0.233806762], [0.43724742899999997], [0.925423095], [0.433498634], [0.52517902], [0.088435529], [0.447677638], [0.647000631], [0.9036033370000001], [0.265790738], [0.66419695], [0.498120658], [0.49018894399999996], [0.747084187], [0.906783648], [0.678770917], [0.348599859], [0.294839683], [0.705691827], [0.211917931], [0.063201124], [0.276699543], [0.672459395], [0.8082059490000001], [0.296538373], [0.16012686199999998], [0.439385032], [0.555951416], [0.386240112], [0.158689619], [0.214499855], [0.299579429], [0.569161656], [0.488614799], [0.8782950209999999], [0.649380949], [0.465713341], [0.16813774], [0.87529545], [0.8411323409999999], [0.33292081], [0.5130478589999999], [0.30505507800000004], [0.8126269909999999], [0.25096706], [0.5024355779999999], [0.45799074100000003]], \"hovertemplate\": \"0=%{x}<br>1=%{y}<br>2=%{z}<br>Feature=%{customdata[0]}<br>Label=%{marker.color}<extra></extra>\", \"legendgroup\": \"\", \"marker\": {\"color\": [0, 0, 1, 1, 0, 0, 0, 1, 1, 0, 0, 1, 0, 0, 1, 0, 1, 0, 0, 0, 1, 0, 0, 1, 1, 1, 0, 0, 1, 1, 0, 0, 1, 1, 1, 0, 0, 0, 0, 0, 1, 0, 0, 1, 0, 0, 0, 0, 0, 0, 0, 1, 0, 1, 0, 1, 0, 0, 0, 1, 0, 0, 1, 1, 0, 0, 1, 0, 0, 1, 0, 0, 0, 0, 0, 0, 0, 0, 0, 0, 0, 0, 0, 0, 0, 0, 0, 0, 0, 0, 0, 0, 0, 0, 0, 0, 0, 0, 0, 0, 0, 0, 0, 0, 0, 0, 0, 0, 0, 0, 0, 0, 0, 0, 0, 0, 0, 0, 0, 0, 0, 0, 0, 0, 0, 0, 0, 0, 0, 0, 0, 0, 0, 0, 0, 0, 0, 0, 0, 0, 0, 0, 0, 0, 0, 0, 0, 0, 0, 0, 0, 0, 0, 0, 0, 0, 0, 0, 0, 0, 0, 0, 0, 0, 0, 0, 0, 0, 0, 0, 0, 0, 0, 0, 0, 0, 0, 0, 0, 0, 0, 0, 0, 0, 0, 0, 0, 0, 0, 0, 0, 0, 0, 0, 0, 0, 0, 0, 1, 0, 0, 0, 0, 0, 0, 0, 0, 0, 0, 0, 0, 0, 0, 0, 0, 0, 0, 0, 0, 0, 0, 0, 0, 0, 0, 0, 0, 0, 0, 0, 0, 0, 0, 0, 0, 0, 0, 0, 0, 0, 0, 0, 0, 0, 0, 0, 0, 0, 0, 0, 0, 0, 0, 0, 0, 0, 0, 0, 0, 0, 0, 0, 0, 0, 0, 0, 0, 0, 0, 0, 0, 0, 0, 0, 0, 0, 0, 0, 0, 0, 0, 0, 0, 0, 0, 0, 0, 0, 0, 0, 0, 0, 0, 0, 0, 0, 0, 0, 0, 0, 0, 0, 0, 0, 0, 0, 0, 0, 0, 0, 0, 0, 0, 0, 0, 0, 0, 0, 0, 0, 0, 0, 0, 0, 0, 0, 0, 0, 0, 0, 0, 0, 0, 0, 0, 0, 0, 0, 0, 0, 0, 0, 0, 0, 0, 0, 0, 0, 0, 0, 0, 0, 0, 0, 0, 0, 0, 0, 0, 0, 0, 0, 0, 0, 0, 0, 0, 0, 0, 0, 0, 0, 0, 0, 0, 0, 0, 0, 0, 0, 0, 0, 0, 0, 0, 0, 0, 0, 0, 0, 0, 0, 0, 0, 0, 0, 0, 0, 0, 0, 0, 0, 0, 0, 0, 0, 0, 0, 0, 0, 0, 0, 0, 0, 0, 0, 0, 0, 0, 0, 0, 0, 0, 0, 0, 0, 0, 0, 0, 0, 0, 0, 0, 0, 0, 0, 0, 0, 0, 0, 0, 0, 0, 0, 0, 0, 0, 0, 0, 0, 0, 0, 0, 0, 0, 0, 0, 0, 0, 0, 0, 0, 0, 0, 0, 0, 0, 0, 0, 0, 0, 0, 0, 0, 0, 0, 0, 0, 0, 0, 0, 0, 0, 0, 0, 0, 0, 0, 0, 0, 0, 0, 0, 0, 0, 0, 0, 0, 0, 0, 0, 0, 0, 0, 0, 0, 0, 0, 0, 0, 0, 0, 0, 0, 0, 0, 0, 0, 0, 0, 0, 0, 0, 0, 0, 0, 0, 0, 0, 0, 0, 0, 0, 0, 0, 0, 0, 0, 0, 0, 0, 0, 0, 0, 0, 1, 0, 0, 0, 0, 0, 0, 0, 0, 0, 0, 0, 0, 0, 0, 0, 0, 0, 0, 0, 0, 0, 0, 0, 0, 0, 0, 0, 0, 0, 0, 0, 1, 0, 0, 0, 0, 0, 0, 0, 0, 0, 0, 0, 0, 0, 0, 0, 0, 0, 0, 0, 0, 0, 0, 0, 0, 1, 0, 0, 0, 0, 0, 0, 0, 0, 0, 0, 0, 0, 0, 0, 0, 0, 0, 0, 0, 0, 0, 0, 0, 0, 0, 0, 0, 0, 0, 0, 0, 0, 0, 0, 0, 0, 0, 0, 0, 0, 0, 0, 0, 0, 0, 0, 0, 0, 0, 0, 0, 0, 0, 0, 0, 0, 0, 0, 0, 0, 0, 0, 0, 0, 0, 0, 0, 0, 0, 0, 0, 0, 0, 0, 0, 0, 0, 1, 0, 0, 0, 0, 0, 0, 0, 0, 0, 0, 0, 0, 0, 0, 0, 0, 0, 0, 0, 1, 1, 0, 1, 1, 0, 0, 1, 1, 0, 0, 0, 0, 1, 0, 0, 1, 1, 1, 0, 1, 0, 1, 1, 1, 0, 0, 0, 1, 0, 0, 0, 0, 0, 0, 0, 0, 0, 0, 0, 0, 0, 0, 1, 0, 0, 0, 0, 0, 0, 0, 0, 0, 0, 0, 0, 0, 0, 0, 0, 0, 0, 0, 0, 0, 0, 0, 0, 0, 0, 0, 0, 0, 0, 0, 0, 0, 0, 0, 0, 1, 0, 0, 0, 0, 0, 0, 0, 0, 0, 0, 0, 0, 0, 0, 0, 0, 0, 0, 0, 0, 0, 0, 0, 0, 0, 0, 0, 0, 0, 0, 0, 0, 0, 0, 0, 0, 0, 0, 0, 0, 0, 0, 0, 0, 0, 0, 0, 0, 0, 0, 0, 0, 0, 0, 0, 0, 0, 0, 0, 0, 0, 0, 0, 0, 0, 0, 0, 0, 0, 0, 0, 0, 0, 0, 0, 0, 0, 0, 0, 0, 0, 0, 1, 0, 0, 0, 0, 0, 0, 0, 0, 0, 0, 0, 0, 0, 0, 0, 0, 0, 0, 0, 0, 0, 0, 0, 0, 0, 0, 0, 0, 0, 0, 0, 0, 0, 0, 0, 0, 0, 0, 0, 0, 0, 0, 0, 0, 0, 0, 0, 0, 0, 0, 0, 0, 0, 0, 0, 0, 0, 1, 0, 0, 0, 0, 0, 0, 0, 0, 0, 0, 0, 0, 0, 0, 0, 0, 0, 0, 0, 0, 0, 0, 0, 0, 0, 0, 0, 0, 0, 0, 0, 0, 0, 0, 0, 0, 0, 0, 0, 0, 0, 0, 0, 0, 0, 0, 0, 0, 0, 0, 0, 0, 0, 0, 0, 0, 0, 0, 0, 0, 0, 0, 0, 0, 0, 0, 0, 0, 0, 0, 0, 0, 0, 0, 0, 0, 0, 0], \"coloraxis\": \"coloraxis\", \"opacity\": 0.7, \"symbol\": \"circle\"}, \"mode\": \"markers\", \"name\": \"\", \"scene\": \"scene\", \"showlegend\": false, \"type\": \"scatter3d\", \"x\": [6.668883800506592, -2.1856842041015625, 9.786665916442871, -3.1509788036346436, 6.183315277099609, -5.210244655609131, -9.489638328552246, 0.8607903122901917, 5.0365142822265625, -5.396504878997803, -0.47632014751434326, 10.9738130569458, -6.893253803253174, 4.342742919921875, 6.951630115509033, -1.8217939138412476, -6.890649318695068, -4.766673564910889, 10.138870239257812, 5.512135028839111, -5.731646537780762, 2.227871894836426, 5.143367767333984, 4.40896463394165, 0.13982956111431122, 0.11442413926124573, 10.284913063049316, 4.559002876281738, 6.736509799957275, 3.8801937103271484, 5.861947536468506, -3.678455114364624, 3.2235751152038574, 6.7671613693237305, -4.632440567016602, 2.3155040740966797, 5.990201950073242, 4.7067790031433105, 4.094063758850098, -4.198875427246094, -10.904130935668945, 4.011748790740967, -2.3753552436828613, 0.0189504437148571, 4.591460227966309, -2.4213497638702393, 5.328308582305908, 4.482971668243408, 10.79504680633545, -3.0485212802886963, -2.7546138763427734, 9.833086013793945, -3.0320017337799072, -2.387768030166626, -4.599701404571533, -9.112737655639648, -4.703517436981201, -8.925901412963867, 6.226094722747803, 8.636309623718262, -8.551485061645508, -2.070274829864502, 0.2715611457824707, 3.6578361988067627, -1.244543433189392, 5.784266471862793, -6.6093621253967285, -5.284978866577148, 9.647381782531738, -0.8780357837677002, 4.575812339782715, 0.42365097999572754, 4.7745747566223145, -4.160100936889648, 5.549256324768066, 4.514710903167725, 7.619575023651123, 1.605437994003296, 3.138413190841675, 1.7392383813858032, 2.520862340927124, 1.8269411325454712, 4.624185085296631, -1.893457293510437, -6.750882625579834, -0.2971355617046356, -2.4595367908477783, -6.01615047454834, -4.8590474128723145, 0.9753076434135437, 3.967329978942871, -1.545268177986145, -2.4622726440429688, -9.101472854614258, -7.688148498535156, 1.6287779808044434, -1.1083061695098877, -2.0042459964752197, -7.948521137237549, 6.517444610595703, 3.9480667114257812, -4.319479942321777, -1.496564507484436, -4.077815055847168, 0.06138221547007561, 0.6604840755462646, 0.3245171308517456, -6.039008617401123, 4.958899974822998, 2.5281319618225098, 0.43530774116516113, 1.9535577297210693, -3.6352338790893555, 5.012903690338135, 9.135394096374512, 0.45281389355659485, -7.343996524810791, -9.334417343139648, -3.7431516647338867, -8.557525634765625, 0.34923699498176575, -3.275526523590088, -4.750396728515625, -2.647942066192627, 1.0923889875411987, -2.6342241764068604, -7.214763641357422, -1.8245798349380493, -5.8887248039245605, -2.1641318798065186, -6.591233730316162, -1.7394201755523682, -2.1808812618255615, -8.215426445007324, -5.092016220092773, 5.679953098297119, 5.884650230407715, -2.441767692565918, -3.6909193992614746, 2.0185911655426025, -3.4412450790405273, 0.25922706723213196, -4.729935169219971, 6.290411949157715, -8.782422065734863, 0.8399975299835205, -0.13890060782432556, -5.059920787811279, -3.322124719619751, 2.2169902324676514, 0.07974415272474289, 3.3359806537628174, -2.3679025173187256, -5.517219543457031, 3.321049213409424, -1.499267339706421, -2.072383403778076, -4.283283233642578, 5.820522785186768, -4.195797443389893, -7.450466632843018, -8.071250915527344, 3.02392578125, 1.7547366619110107, -2.5193684101104736, -4.345784664154053, -3.6582095623016357, 5.512397289276123, 6.61765193939209, 1.5137568712234497, -0.060160353779792786, -1.060202956199646, -1.1855500936508179, 7.931772708892822, -0.28452858328819275, -5.3652729988098145, -3.3229143619537354, 7.866419315338135, -3.555529832839966, -1.567959189414978, -1.9240484237670898, 1.1625193357467651, -4.341034412384033, 4.89776611328125, 5.5001068115234375, -8.223956108093262, 2.381716728210449, -6.363749027252197, 2.185366153717041, 2.880357503890991, -4.858780384063721, 7.423752307891846, -1.3987444639205933, 9.168036460876465, -3.830443859100342, -8.14154052734375, -3.0581178665161133, -6.3133649826049805, 3.908782482147217, 0.7327145338058472, -4.707086563110352, 1.8138785362243652, -7.858035564422607, 4.93586540222168, 9.28297233581543, -3.8909449577331543, -0.2875753939151764, -5.142018795013428, 0.3833027482032776, -5.855519771575928, -0.6698067784309387, 0.7382282018661499, 3.2382736206054688, 0.23318538069725037, -3.331129312515259, -2.9229989051818848, -5.200197696685791, 0.2658305764198303, 1.7483103275299072, 2.603356122970581, 9.920829772949219, -4.107524394989014, 5.853854179382324, 4.420050621032715, -3.7627615928649902, -0.4788910150527954, -2.5643413066864014, 1.0712283849716187, -5.7202935218811035, -0.7431113123893738, -7.89293098449707, -2.466860055923462, -2.126458168029785, -2.216731309890747, -8.727119445800781, -4.373082160949707, -9.03604793548584, 2.6253981590270996, -1.4719427824020386, 7.741207599639893, -5.104528903961182, -3.119079351425171, 6.213788986206055, -5.310062408447266, 1.8659183979034424, -3.767836570739746, 3.64542293548584, 2.751044750213623, -2.679487466812134, 4.686881065368652, -7.194367408752441, 0.686725378036499, 0.3175801634788513, -7.6876702308654785, 0.43842029571533203, 3.1699655055999756, 6.203285217285156, -6.553260326385498, -0.8786395192146301, -9.04233455657959, 6.2381110191345215, -6.364389896392822, 7.497395038604736, -0.7443151473999023, -5.810915946960449, -5.025182723999023, -1.2984490394592285, -4.932415962219238, 4.878238201141357, -5.991196632385254, -5.527420997619629, -6.271599769592285, 3.368664026260376, 5.980894088745117, -3.482408285140991, -6.7585625648498535, 1.5311347246170044, 7.591762542724609, -5.46422004699707, 2.2859201431274414, -2.7890262603759766, 5.751395225524902, 1.9852086305618286, 7.403642654418945, 8.916869163513184, -3.355011224746704, -5.943653106689453, -4.095529556274414, -5.426158905029297, 4.587224006652832, -0.07523097097873688, -6.632235527038574, 0.6756913661956787, -3.4876928329467773, -1.8871405124664307, -4.052700519561768, -0.360738605260849, 0.8401005268096924, 0.28770169615745544, 7.1693525314331055, -0.2594592571258545, -7.733822822570801, 3.859600782394409, 1.4166343212127686, 0.27945175766944885, 4.772883892059326, -3.408816337585449, 3.7000746726989746, -5.320913791656494, 5.603424072265625, 5.281791687011719, -6.192866325378418, 1.4478222131729126, 7.087911128997803, -4.811954021453857, 5.3239569664001465, 1.6575708389282227, -6.677944660186768, 4.7912092208862305, -7.320721626281738, -0.16186435520648956, 4.708019256591797, -0.4781297743320465, -2.7984619140625, -0.9776486158370972, 3.5197930335998535, -0.5869825482368469, -0.40034425258636475, 4.450536727905273, -0.5459175705909729, -5.009220123291016, 0.15479756891727448, -6.784398078918457, -0.14658978581428528, -5.714134693145752, 6.803726673126221, -3.189864158630371, 5.34481954574585, 2.3408749103546143, 0.6103808283805847, 4.693994522094727, 3.317946434020996, -3.9814233779907227, -6.142416954040527, 0.6036239862442017, 4.5159010887146, -8.267068862915039, -6.955853462219238, -2.314497947692871, -0.25687870383262634, 1.4351732730865479, 3.915994882583618, -9.751289367675781, -6.117817401885986, -5.976696491241455, 3.1911211013793945, -3.9437224864959717, -2.5364558696746826, 2.662184953689575, 1.513500690460205, -1.8634113073349, -3.1327872276306152, 4.9040608406066895, -4.323333263397217, -1.4203077554702759, 2.743629217147827, 2.4516923427581787, -7.811124324798584, -6.345770835876465, -6.708646774291992, -0.8010335564613342, -4.975979804992676, 7.897238731384277, 5.0517096519470215, -0.5130729079246521, -1.2692824602127075, 4.142526626586914, -0.137032613158226, -7.279215335845947, 1.222110629081726, -2.8512377738952637, 3.1232192516326904, 4.780576705932617, 5.6100077629089355, -2.238060235977173, -0.8030892014503479, 0.9720094203948975, 1.4450979232788086, 0.3133997619152069, 2.1017420291900635, -4.932390213012695, -0.7925161719322205, 4.045863628387451, 2.8472988605499268, -8.625646591186523, -6.211728572845459, 1.0850220918655396, 1.9030156135559082, 3.9115006923675537, 3.541501522064209, -8.697835922241211, -4.662595272064209, -6.110117435455322, -3.8975014686584473, 2.9221551418304443, -5.848305702209473, 8.274799346923828, 4.4828877449035645, -5.350376605987549, -4.510552406311035, -3.2698168754577637, 1.4194636344909668, 1.2674756050109863, 3.666682243347168, -7.2484917640686035, -2.378838062286377, -5.076974868774414, -5.042806625366211, -0.8609012365341187, 4.6277031898498535, 1.935516357421875, -0.7536440491676331, -4.33121919631958, -1.426937222480774, 6.707354545593262, -4.951623439788818, -8.025096893310547, -0.07048925757408142, 5.276532173156738, 7.287393569946289, 0.803276002407074, -8.667781829833984, -2.28888201713562, 0.2410798817873001, 4.168608665466309, -0.9735853672027588, -7.501694679260254, 6.989706039428711, 4.657523155212402, 9.684768676757812, 1.1101456880569458, 2.5178921222686768, 9.426265716552734, 6.583794593811035, -3.8019843101501465, -2.7233095169067383, 3.7412123680114746, -5.775349140167236, 4.509647846221924, 1.5103062391281128, -4.63123893737793, 6.421349048614502, -2.250126600265503, 4.385523796081543, -2.746397018432617, -7.441400527954102, 0.4231327772140503, 6.042855739593506, 3.5516903400421143, 4.647222518920898, -1.9898827075958252, 8.747673988342285, -2.284104108810425, 3.5648481845855713, 3.1714062690734863, 4.146244525909424, 4.934851169586182, 3.1217546463012695, -4.572264671325684, 6.593470096588135, 0.24641381204128265, -9.247111320495605, -2.3674747943878174, 4.323125839233398, -0.6022578477859497, -4.399667739868164, -7.899176120758057, -0.5527698993682861, 5.786355972290039, -4.106196403503418, -4.766167640686035, -3.2836194038391113, 1.0867729187011719, 5.5814032554626465, -7.783565521240234, 6.346115589141846, -1.271356463432312, 5.66525936126709, 5.606065273284912, 7.927480220794678, 2.264009475708008, -3.5411181449890137, -1.2812445163726807, 4.163234233856201, 6.440170764923096, 0.39851614832878113, -5.035053730010986, -4.253190517425537, -5.319868564605713, 1.502013921737671, -3.919938087463379, 4.075491905212402, 2.54642391204834, -4.35788631439209, 5.746208190917969, 7.437644958496094, 4.930799961090088, -7.031674385070801, 5.237365245819092, 1.745597243309021, 8.522294998168945, -4.963517189025879, -4.014945030212402, 0.7394133806228638, 2.0991928577423096, -5.568696022033691, -6.946525573730469, 4.352786540985107, 1.3727059364318848, -3.9853947162628174, 3.6213207244873047, 3.8138949871063232, 0.020813113078475, 4.17642879486084, 1.345781683921814, -6.241748332977295, 6.465203285217285, -7.610705852508545, 0.26640835404396057, 4.581884860992432, -1.667850136756897, 2.1559550762176514, -4.787635803222656, -0.686063289642334, -3.803899049758911, 4.878938674926758, -4.412426471710205, 5.51585054397583, 6.146295547485352, -6.036657810211182, 1.5094295740127563, -1.9883666038513184, -3.1911609172821045, -3.996065616607666, -6.887406826019287, -4.433282375335693, 0.40970322489738464, -1.517026424407959, 0.6538972854614258, 1.452769160270691, -3.490068197250366, 7.068233489990234, 8.675983428955078, 5.866958141326904, -6.369661808013916, -0.09396899491548538, -5.154321670532227, 6.3913469314575195, -0.7037895321846008, 2.976106643676758, 6.9116435050964355, 1.7219390869140625, -6.670323371887207, -0.4781009256839752, -6.7609710693359375, 1.0716674327850342, -3.1881284713745117, 3.8289968967437744, 1.7109113931655884, -2.027078866958618, 6.20188570022583, -2.941025733947754, 1.513481855392456, -0.2194546014070511, -3.6036438941955566, 5.426583766937256, -5.034026622772217, -6.137434005737305, 6.905217170715332, 0.11035646498203278, 2.649479866027832, 1.7185382843017578, 5.608394145965576, -5.886630058288574, -5.241981029510498, -0.40732812881469727, 4.732917308807373, -0.11949478089809418, -5.222477436065674, 2.261368989944458, -4.486410617828369, -4.583996772766113, 4.1717071533203125, 2.323091745376587, 3.59831166267395, -4.74444055557251, 0.3861544132232666, 3.2423298358917236, -0.1878967434167862, 6.662499904632568, -3.4852943420410156, -3.8671600818634033, 2.1925864219665527, -8.650421142578125, -1.1608854532241821, -3.903747320175171, 0.4150964319705963, 0.9957832098007202, -7.820531368255615, -1.2745305299758911, -0.14032593369483948, 0.5414584279060364, 3.218568801879883, 4.625014781951904, 2.5431878566741943, -6.131536483764648, -2.85081148147583, -4.958909034729004, 1.6248581409454346, 4.666958332061768, 4.8550004959106445, -4.14598274230957, -6.693295001983643, 2.0367188453674316, 4.787920951843262, 1.9835282564163208, -7.600978374481201, 9.411041259765625, 4.033728122711182, 3.5949788093566895, -6.602238178253174, -5.501938819885254, 5.598050117492676, 4.204751968383789, 1.1944342851638794, 6.261224269866943, -0.8111971020698547, 4.579087257385254, -2.5605764389038086, -8.88325309753418, 9.238645553588867, -5.982614040374756, -8.033767700195312, 0.7579603791236877, 1.1186453104019165, 2.999055862426758, 7.330844879150391, 6.1627092361450195, 1.05850350856781, 3.981459856033325, -2.515667676925659, -3.351764678955078, 2.9996466636657715, -3.290260076522827, -4.680543422698975, -3.1832666397094727, 5.911465644836426, 6.863314151763916, 2.387495279312134, 2.1924493312835693, 4.012376308441162, -3.9221229553222656, 3.4295759201049805, 6.621978282928467, -1.5735093355178833, -8.996244430541992, -3.0752017498016357, -8.183441162109375, -6.568105697631836, -4.482847213745117, 2.1932363510131836, 2.9400503635406494, -7.0531840324401855, 4.160539150238037, -3.4954466819763184, -3.3785831928253174, -4.929868221282959, -4.534762859344482, -0.47265535593032837, -8.198081016540527, 6.207003116607666, -2.205707550048828, 4.0557451248168945, -1.4252393245697021, -7.828120231628418, -4.344510555267334, -0.12245932221412659, -6.588118076324463, -1.287363052368164, 5.290162086486816, -3.337982416152954, 4.797223091125488, 1.7973185777664185, -0.7454617023468018, -2.8333163261413574, -5.475511074066162, 2.0674540996551514, -0.5335370898246765, 4.387157440185547, 2.4653806686401367, -3.8975136280059814, -5.679412364959717, 4.366231441497803, 6.785828590393066, 3.210550546646118, -8.452045440673828, -0.5947576761245728, 10.741691589355469, 5.79422664642334, 0.00770115340128541, 6.489772319793701, -3.516207218170166, 1.2193102836608887, -0.04299336299300194, -3.3871450424194336, -4.362905025482178, -5.30015230178833, -3.101304531097412, -3.4023995399475098, -0.38897886872291565, 10.142873764038086, -5.397541046142578, -1.1699899435043335, 9.815911293029785, 2.161365509033203, 3.1744771003723145, 1.3946540355682373, -6.147569179534912, -1.0314526557922363, -4.069598197937012, -0.8329156041145325, 8.146991729736328, 4.400495529174805, 3.7899820804595947, 0.09552866965532303, -1.8494740724563599, 0.5819464325904846, 1.4347987174987793, 1.811232566833496, 0.9732793569564819, 1.7032055854797363, 8.24888801574707, 7.452105522155762, -1.6203196048736572, 3.7860116958618164, 1.0506045818328857, -0.6939979195594788, -3.9299023151397705, 6.555558204650879, 3.8763763904571533, -2.3748536109924316, 8.234428405761719, -8.074934005737305, -3.9735536575317383, -3.528109312057495, 8.331948280334473, 1.5821995735168457, -6.24250602722168, 0.8296417593955994, -6.9365997314453125, 4.873536586761475, -7.205225467681885, -1.1216481924057007, -3.6823360919952393, 5.54798698425293, -7.502834796905518, -5.881332874298096, 7.89127254486084, -6.948087215423584, 7.895276069641113, 1.9014712572097778, 6.599196910858154, 4.498991012573242, -7.694609642028809, 7.69961404800415, -5.057168006896973, 3.89331316947937, -3.043025016784668, 5.685102462768555, 6.625260353088379, 1.613362193107605, -6.923616886138916, -0.8519969582557678, 0.09036362916231155, 2.2021467685699463, 4.549464225769043, -5.6761698722839355, -3.3978817462921143, 1.2172348499298096, -1.3067744970321655, 3.2365610599517822, 2.6822404861450195, -0.5088406205177307, 5.453680992126465, -4.811034202575684, -3.7166810035705566, -3.3082542419433594, 5.1367292404174805, 2.1087288856506348, -5.105108737945557, -3.811356782913208, 3.2780420780181885, 0.8980372548103333, -2.884669542312622, 8.138803482055664, -4.33398962020874, -5.945218086242676, -0.5855244994163513, -3.230285882949829, 0.09719815850257874, 6.678353309631348, -2.182729721069336, 5.315896987915039, 1.8809950351715088, -0.44262588024139404, 4.444561004638672, -2.437530994415283, 2.493074417114258, -3.1753597259521484, -1.562924861907959, -0.4836091101169586, 6.59874963760376, 1.0660922527313232, -1.7412689924240112, -3.5440728664398193, -8.567578315734863, -3.142819404602051, 1.6091177463531494, 4.523489952087402, 2.1864664554595947, 0.16036899387836456, 2.107004404067993, 1.0745617151260376, -1.2150688171386719, 6.1218485832214355, -1.5458160638809204, 7.903470039367676, 7.1928863525390625, -0.7127761244773865, -5.549866676330566, 1.5745928287506104, -4.06108283996582, -1.7134785652160645, -5.847808837890625, -6.5845723152160645, -4.383349895477295, -3.296839714050293, 1.6179020404815674, -0.017928471788764, 1.2913713455200195, -5.006255626678467, 3.0543529987335205, -5.797214984893799, 1.0691924095153809, 0.18139706552028656, -4.9191460609436035, -1.9966163635253906, -4.577616214752197, 0.5065166354179382, -0.6922202706336975, 3.496870279312134, 0.7586153149604797, 2.1126420497894287, -1.1466819047927856, -3.6684091091156006, -2.345571756362915, -9.358321189880371, -0.8761933445930481, -1.464390754699707, 0.5252494812011719, 1.6824465990066528, -3.4537551403045654, -2.5647921562194824, -0.4377937316894531, -8.101207733154297, -0.018928946927189827, -8.593805313110352, -4.5710859298706055, 7.525793552398682, 8.267746925354004, -0.4402179419994354, 2.5456743240356445, 2.853813648223877, 0.6927273273468018, 1.9537981748580933, -3.4757258892059326, 6.321162223815918, 0.4538906216621399, 6.8535356521606445, -0.16207075119018555, 6.20815372467041, 4.840458869934082, 5.771048545837402, 1.8220921754837036, 5.84391975402832, 2.145651340484619, 5.853277683258057, -5.1753363609313965, 0.2579199969768524, 1.1125785112380981, -3.7044427394866943, -6.273609638214111, -4.331359386444092, 2.108426570892334, -0.8712242245674133, 4.827065467834473, -0.15046800673007965, -3.4249329566955566, 5.494028091430664, 4.642293930053711, -4.131879806518555, 0.06777656078338623, -2.5057082176208496, 5.717154026031494, 0.23881399631500244, 9.225964546203613, 6.5605387687683105, -3.86403226852417, -4.27055025100708, -2.2842464447021484, 3.215264320373535, -1.9374052286148071, -8.334365844726562, 2.953223943710327, -5.225988864898682, -0.3990802466869354, -5.48360013961792, 6.61190128326416, 0.06736008822917938, -5.301181316375732, 8.727980613708496, -4.093782424926758, -1.9549922943115234, 3.3868865966796875, 1.3013371229171753, 7.152562618255615, -1.0353063344955444, 9.049410820007324, -3.074755907058716, -0.7518870830535889, 8.266467094421387, -6.3933587074279785, 2.360238552093506, -4.953860759735107, 3.8587985038757324, 1.0773605108261108, 2.1237668991088867, 4.353233814239502, -4.687556743621826, -5.137063503265381, 6.085760116577148, 3.7083399295806885, 2.472954511642456, -1.2427953481674194, 2.030075788497925, -5.050837993621826, -2.8332583904266357, 1.9720730781555176, -1.3944302797317505, -4.4692301750183105, -5.588108062744141, -0.6539718508720398, 7.697913646697998, 3.7289838790893555, 6.831726551055908, -5.231683254241943, -3.737011671066284, 6.164632797241211, 1.2043766975402832, -6.350803375244141, 1.8615224361419678, 0.7175169587135315, 4.400692939758301, 9.249156951904297, 1.9361238479614258, -4.916965484619141, -4.535074710845947, 1.0400875806808472, 4.430132865905762, -3.3949973583221436, 0.3604329824447632, 3.7082128524780273, 0.11554019898176193, -8.585161209106445, 0.7903072237968445, -5.041892051696777, -4.658362865447998, -0.390818327665329, -2.497727632522583, 6.829959869384766, -3.276989698410034, 5.64656925201416, 2.7007977962493896, 9.00860595703125, 0.415275514125824, 6.372219562530518, -7.507634162902832, 1.1110854148864746, -0.3924712538719177, 7.96441125869751], \"y\": [-1.1986727714538574, 8.657103538513184, -8.879487991333008, -10.587005615234375, -15.340461730957031, -4.570518970489502, 9.624732971191406, -9.891427993774414, 1.4788693189620972, -1.6674844026565552, -7.857390880584717, -14.35071086883545, -10.853376388549805, 8.441811561584473, -10.427465438842773, -14.324117660522461, -10.806938171386719, 9.382538795471191, -7.2564167976379395, -6.298269271850586, -4.027390480041504, -1.871418833732605, 8.69597339630127, 1.142211675643921, -5.967041969299316, -2.0374464988708496, -13.441804885864258, 6.37169075012207, -15.525956153869629, -10.753876686096191, 2.8453495502471924, 4.524778366088867, 8.48511028289795, -9.982443809509277, 3.975536346435547, -0.9266414642333984, -5.41104793548584, 6.697197914123535, -3.4233877658843994, -4.11673641204834, 1.7187927961349487, -8.80626106262207, 10.692874908447266, -5.691496849060059, -8.900717735290527, -14.732034683227539, -8.495806694030762, 1.401286005973816, -14.135438919067383, 14.531912803649902, -11.087252616882324, -5.374324321746826, 5.666158199310303, -14.5733003616333, -6.853859901428223, 1.704237699508667, -3.0469069480895996, 4.713611125946045, -9.817388534545898, -10.079483032226562, 4.56107234954834, 6.412548542022705, -16.323251724243164, -8.66084098815918, 13.401391983032227, -7.824527740478516, 15.973734855651855, 9.62535285949707, -13.947466850280762, -4.907167434692383, -14.734192848205566, -10.575932502746582, -3.2401223182678223, -10.011268615722656, 3.2382781505584717, 2.4014272689819336, -13.627863883972168, -12.440691947937012, 3.15171480178833, 4.875802040100098, 4.980515956878662, 1.3747460842132568, -14.20695686340332, 6.097254276275635, 8.06194019317627, 4.4554643630981445, 11.61660099029541, 14.500414848327637, 2.30991268157959, -1.304261326789856, -0.9212791919708252, -7.9738240242004395, 9.188735961914062, 10.757493019104004, 3.6886093616485596, -16.08469009399414, 8.119424819946289, 4.040660381317139, 7.578055381774902, -13.691258430480957, -4.018255233764648, 13.637711524963379, 4.535290241241455, 6.821937084197998, -15.228802680969238, 7.645634174346924, 8.250449180603027, 4.385018825531006, 4.060446262359619, -11.606915473937988, -1.3844155073165894, -3.633344888687134, -6.687763214111328, 3.8716812133789062, -13.31290054321289, 1.046796202659607, 12.770931243896484, 10.963438987731934, -10.031352996826172, 9.02728271484375, 1.5963433980941772, 1.6399556398391724, 2.9798333644866943, 12.46397876739502, 2.6319210529327393, 7.112663745880127, 4.282121658325195, -10.060551643371582, 7.744067668914795, 6.7579779624938965, 2.2651491165161133, 7.588001728057861, -11.882622718811035, 7.279798984527588, 12.934732437133789, 2.625797986984253, -13.302637100219727, -12.699956893920898, 6.315299987792969, 5.619910717010498, -10.032320976257324, -0.27749407291412354, 6.289992332458496, -14.891905784606934, 10.154187202453613, 6.7651143074035645, -7.235538482666016, 15.104544639587402, 7.196789741516113, 6.709326267242432, -2.0021591186523438, 2.1890289783477783, 1.001863956451416, 6.927160739898682, -2.4978086948394775, 9.00973129272461, 14.318145751953125, 12.213327407836914, -0.6052922010421753, -7.939589500427246, 11.363510131835938, 4.858214855194092, -0.41107338666915894, 4.08945894241333, -8.610186576843262, 12.301376342773438, -10.842061042785645, -11.835405349731445, -10.57087230682373, 4.2817840576171875, 8.643837928771973, 3.2992818355560303, -6.196859359741211, -11.90849781036377, 2.616255283355713, 14.585000038146973, -6.7977118492126465, -10.906121253967285, 6.783520698547363, -12.122526168823242, 2.6713147163391113, -4.87711238861084, 3.062213182449341, -11.554985046386719, -11.733563423156738, 12.684869766235352, -9.825357437133789, 3.2131354808807373, 5.477931976318359, 1.7462650537490845, 14.40096378326416, -15.156734466552734, -8.512746810913086, -12.170101165771484, 13.099507331848145, 9.747330665588379, 2.673813581466675, 2.7299623489379883, -5.348341941833496, 2.0289113521575928, 1.0478911399841309, 5.979022979736328, 5.302502632141113, -14.804896354675293, -10.69264030456543, 4.19294548034668, 5.252293586730957, 1.1986993551254272, -4.919881820678711, 5.785865783691406, 3.3390796184539795, -11.318926811218262, -13.049755096435547, 0.09628824889659882, 1.4314374923706055, 3.1786792278289795, 6.110865116119385, -13.021089553833008, -14.947328567504883, 4.100947856903076, -10.665657997131348, 6.033044815063477, -14.263104438781738, 3.9917073249816895, 12.767277717590332, 4.439466953277588, 10.719364166259766, 6.925455093383789, 12.75253963470459, -9.61862564086914, 9.683114051818848, 9.532988548278809, -11.369735717773438, -12.464118957519531, 10.122796058654785, 5.692118167877197, 4.990367889404297, 2.4073920249938965, -10.03453254699707, -10.065675735473633, 1.338564395904541, 1.87672758102417, -9.881176948547363, 10.296982765197754, -8.940704345703125, 12.945931434631348, 4.569812774658203, 0.8155616521835327, 10.558162689208984, -13.3641357421875, 4.777231693267822, 4.17540168762207, -10.3164644241333, 4.876091003417969, 7.354137897491455, 0.7269551753997803, -0.2941177487373352, 11.840962409973145, -10.16288948059082, 9.782279968261719, -10.752266883850098, 4.424854278564453, -14.359189987182617, 3.5476014614105225, 4.655416488647461, 10.014945030212402, -13.215703964233398, 11.984550476074219, 4.048739910125732, 1.214638352394104, 3.9058008193969727, 3.6531178951263428, 1.6692748069763184, -9.957085609436035, -8.23727798461914, 8.435466766357422, -15.030184745788574, -15.198304176330566, 4.939084053039551, 5.554468154907227, 11.167454719543457, -10.068628311157227, 7.126699447631836, 1.6422805786132812, -12.930253982543945, 7.681697845458984, 9.048454284667969, 6.158914566040039, 12.905141830444336, -5.383006572723389, -1.8059649467468262, 5.589151859283447, 8.139490127563477, 7.615354061126709, 6.288768291473389, -8.478816032409668, -7.135183811187744, 3.1405794620513916, 6.551021099090576, -0.7574651837348938, 4.937465190887451, 11.790586471557617, -13.040650367736816, -9.59333324432373, -6.889264106750488, 0.48710060119628906, 3.5087995529174805, 0.44411054253578186, 13.717829704284668, -11.575578689575195, -10.944286346435547, 15.01778793334961, -4.78188419342041, -10.15152359008789, 3.405782699584961, -0.8929548859596252, 4.106715679168701, 9.488306999206543, 0.8759294748306274, 4.8278398513793945, 4.622213840484619, 1.2601650953292847, -11.192646026611328, 4.678641319274902, 1.8912444114685059, -0.6953772902488708, -13.810347557067871, -12.664834022521973, -10.715530395507812, -7.112264633178711, 12.3009614944458, -13.84235668182373, 6.821901321411133, 8.038118362426758, 14.912540435791016, -12.892680168151855, 6.561664581298828, 2.926011085510254, -9.869791030883789, -12.777292251586914, 2.132765293121338, 7.3499603271484375, -10.107345581054688, 7.37425422668457, -10.326807975769043, -12.37466049194336, 6.954922199249268, 12.997308731079102, -9.79947566986084, -13.86811351776123, 3.642595052719116, 2.287409782409668, 9.318473815917969, 4.02747106552124, 9.105803489685059, 7.6168622970581055, 4.937775135040283, 6.066070556640625, -16.083742141723633, -0.32983484864234924, 7.550732612609863, 4.498446941375732, 2.910101890563965, 13.181199073791504, -10.57885456085205, -0.23839391767978668, -13.008072853088379, 13.07287883758545, 12.038555145263672, 4.4690961837768555, 11.816301345825195, 1.4486080408096313, -14.49531078338623, -9.48072338104248, -11.210124015808105, 11.938640594482422, 2.111800193786621, -7.751830577850342, 4.324735641479492, -0.2624823749065399, -8.522930145263672, 5.775303363800049, 2.810267686843872, -3.11799955368042, 7.4318695068359375, 7.8283820152282715, 7.970125675201416, 7.410229206085205, 1.9493464231491089, -3.7347946166992188, 8.279088973999023, 8.140386581420898, 0.3401716649532318, 2.6333770751953125, 9.034425735473633, 3.829709768295288, 7.648724555969238, -9.30146598815918, -1.8751614093780518, 5.436171531677246, 8.71219539642334, 6.325630187988281, 15.366379737854004, 3.7716197967529297, -10.724981307983398, 11.875472068786621, -10.788222312927246, 5.8917388916015625, -7.4719929695129395, 1.7923890352249146, 8.948078155517578, 0.5012261271476746, -15.25940990447998, 0.4823237359523773, 6.049788475036621, 10.11351490020752, 15.718503952026367, 8.521904945373535, -12.639659881591797, -12.502077102661133, -3.8631505966186523, 7.789041519165039, 6.0206475257873535, 6.584259033203125, -11.053990364074707, 12.800997734069824, 9.774270057678223, -7.042820453643799, -2.9976630210876465, -13.481618881225586, 0.8311540484428406, 11.485039710998535, 6.117256164550781, -8.81784439086914, -15.031922340393066, 4.026042461395264, 11.070721626281738, -14.002786636352539, 3.7397968769073486, -10.843123435974121, 7.396458148956299, 2.56343674659729, -11.905107498168945, -15.906861305236816, 3.4872608184814453, -7.05923318862915, -13.170989036560059, 8.386887550354004, -11.73444652557373, -5.258305072784424, 7.202800273895264, -13.485492706298828, 12.189778327941895, 0.5381269454956055, -6.996988296508789, 4.330374240875244, 0.7501692771911621, -12.567062377929688, 2.8143391609191895, -3.2072508335113525, 7.914957046508789, -11.963163375854492, 10.766866683959961, 6.891741752624512, 2.0559628009796143, -0.9486711025238037, 4.389103889465332, -13.260282516479492, 12.656152725219727, -11.10836124420166, 2.408663511276245, 11.946842193603516, 11.419102668762207, 3.310711622238159, 11.741195678710938, 13.218605041503906, 9.095905303955078, -7.339776039123535, 1.591017723083496, 9.320619583129883, 12.541255950927734, 6.4530415534973145, -7.387635231018066, -14.286645889282227, 12.445267677307129, -15.166291236877441, 2.200380802154541, -3.350313425064087, 1.8828625679016113, -10.85694408416748, 0.5964354872703552, -7.869398593902588, -7.912384986877441, -13.52269172668457, -10.323954582214355, -7.174536228179932, 1.8319059610366821, -7.585981369018555, 7.033108711242676, -1.9773422479629517, 6.5041022300720215, 5.972884178161621, -0.868013858795166, 2.1890757083892822, -2.8177759647369385, -10.877647399902344, 2.461029291152954, 11.99870491027832, -3.7432315349578857, -4.783346176147461, -14.880413055419922, 11.987195014953613, 2.7462568283081055, -12.314909934997559, 3.59405517578125, 9.525896072387695, 5.790585041046143, 2.720620632171631, 3.490875244140625, 2.834024429321289, -3.462747812271118, -14.055330276489258, -9.637879371643066, -10.814172744750977, -15.565362930297852, 13.107198715209961, -2.910003662109375, 11.936843872070312, 2.3512539863586426, -0.8436943292617798, 4.3559112548828125, -12.682774543762207, -9.022839546203613, 11.555685997009277, -6.97707462310791, -10.25334644317627, 2.364799737930298, -15.269590377807617, 1.5578416585922241, 1.5141559839248657, 4.775139331817627, -6.725153923034668, 8.747659683227539, 7.387074947357178, 13.130928993225098, -10.927278518676758, 7.008516788482666, -8.523904800415039, -7.359397888183594, 7.140456199645996, 8.498867988586426, 2.2306578159332275, -13.409805297851562, -0.5371327996253967, 8.016926765441895, 6.356508255004883, -8.217290878295898, 2.1411237716674805, -13.452193260192871, 0.5910146236419678, -16.175277709960938, -15.062101364135742, 8.770133972167969, -6.227267742156982, 9.310215950012207, 5.633159637451172, 13.2780122756958, 5.735373497009277, -6.521773815155029, -5.892230987548828, -1.8912564516067505, -6.707328796386719, -10.168821334838867, -14.200753211975098, 6.217464923858643, -12.88055419921875, 9.031774520874023, 13.688302993774414, 1.3330069780349731, 0.7969843745231628, -3.548541784286499, 0.9758148193359375, -9.67218017578125, 8.731437683105469, 13.488020896911621, 5.543056011199951, -0.48179060220718384, 9.826918601989746, 13.404311180114746, -12.942937850952148, 6.260157108306885, 11.319087028503418, 0.6046963930130005, -10.53215217590332, 3.100036144256592, 5.6818742752075195, -10.238601684570312, -13.082380294799805, -6.515175819396973, -15.244338035583496, -11.024096488952637, 1.724230408668518, -4.8483757972717285, 10.721878051757812, -5.709784507751465, 6.482217788696289, -12.324041366577148, -15.444099426269531, 9.229116439819336, 5.151026248931885, -9.138581275939941, -0.5820835828781128, -4.026015758514404, 1.0782909393310547, 7.691579341888428, 9.738399505615234, 1.6415719985961914, 1.4285788536071777, 3.5477161407470703, -0.4471009075641632, 2.2178351879119873, 6.323502540588379, 4.856269359588623, 3.3662710189819336, -10.597068786621094, -12.65766716003418, 11.736330032348633, -14.1205472946167, 6.124180316925049, 6.684780597686768, 3.7490341663360596, 2.8472297191619873, 2.1938390731811523, -14.084695816040039, -1.547737717628479, 1.4472169876098633, 0.03675347566604614, 2.4995222091674805, -6.677637100219727, 4.72090482711792, -10.44041633605957, 5.596709728240967, 9.760560989379883, 0.09404899924993515, -14.306717872619629, -0.6279438138008118, -10.27328872680664, 3.490450382232666, -6.563858509063721, 1.1261543035507202, 10.66714096069336, 13.749066352844238, 5.537134170532227, -11.4622802734375, 14.561607360839844, 4.607506275177002, -14.012055397033691, 1.548918604850769, 7.253945827484131, -11.775480270385742, -13.035318374633789, 5.524385929107666, 2.00455641746521, -0.8742878437042236, -7.485454082489014, 5.018169403076172, -12.408437728881836, 7.229897975921631, 2.811876058578491, 14.654641151428223, 5.309754848480225, 7.540822982788086, 5.997198104858398, 3.8329055309295654, -7.2131733894348145, 9.319421768188477, 6.264342308044434, -6.973656177520752, -8.51064395904541, 7.322590351104736, -10.186688423156738, 11.284235000610352, 2.566650867462158, -6.0935282707214355, 9.620073318481445, 14.188246726989746, 6.586182594299316, 13.319954872131348, -7.750663757324219, -12.235471725463867, -6.6217427253723145, -9.990893363952637, -15.260574340820312, 1.861528754234314, -8.279135704040527, -8.75654125213623, -0.7214248180389404, 4.368245601654053, -1.2668908834457397, -9.411455154418945, 0.4689387083053589, 6.820993423461914, 8.445276260375977, -15.567487716674805, 5.8922576904296875, 2.4843382835388184, -9.138587951660156, -7.738763332366943, 1.667899250984192, -6.337757110595703, -9.444901466369629, 12.558540344238281, 5.250051975250244, -2.044184684753418, -4.302450656890869, -5.467889785766602, -4.317073345184326, -14.534516334533691, -4.311614990234375, 9.061367988586426, -7.37027645111084, 13.348834991455078, 1.277599573135376, -5.271237373352051, -2.73500919342041, 8.487502098083496, -4.909266948699951, -9.008217811584473, -11.645882606506348, -4.328758716583252, 3.6844449043273926, -14.512984275817871, 3.4739315509796143, 3.8293824195861816, 0.5565787553787231, -6.7797651290893555, 0.404674232006073, 1.806106686592102, 3.04390025138855, -9.187604904174805, 6.079131126403809, 2.5811522006988525, 1.9414045810699463, -9.001361846923828, -1.870042085647583, 3.0014147758483887, 2.122290849685669, -7.23571252822876, -12.197761535644531, -13.67912483215332, 7.959907054901123, -13.898994445800781, 3.422065496444702, 13.10429859161377, 11.618086814880371, -11.201193809509277, 4.875373840332031, 4.6654815673828125, -12.717809677124023, 11.875728607177734, -11.893773078918457, 5.912574768066406, 9.907967567443848, 14.210280418395996, -1.023814082145691, 12.730476379394531, 11.952154159545898, -15.163900375366211, 9.353826522827148, -15.927308082580566, 4.836399078369141, 1.669821858406067, 2.012986421585083, 9.557575225830078, 0.22826789319515228, 11.979297637939453, 6.020595073699951, 1.239311933517456, 2.118793487548828, -0.30849993228912354, 1.9013725519180298, 12.254886627197266, 3.6304285526275635, -1.4707671403884888, 1.1441009044647217, -13.034093856811523, 5.717779159545898, -7.150496006011963, 4.810702800750732, 4.662774562835693, -10.75339412689209, 3.484053611755371, -9.43070125579834, 0.7508562803268433, 13.2559814453125, 3.1674084663391113, 10.287262916564941, -11.864849090576172, 1.7770249843597412, 15.506752014160156, 3.6437013149261475, 5.79459285736084, 2.9863646030426025, 8.050467491149902, -10.632500648498535, 13.156134605407715, 9.33284854888916, 5.550457954406738, -9.954391479492188, 11.619563102722168, -13.587119102478027, -8.440738677978516, 1.3836846351623535, -3.524437427520752, 3.726696252822876, -11.631863594055176, 4.679802417755127, -11.940098762512207, -6.170507431030273, -9.425054550170898, -6.215896129608154, -10.03844165802002, 3.3180580139160156, 4.72698450088501, 3.004289150238037, 11.9462251663208, -9.744778633117676, 4.1043524742126465, -0.15977725386619568, -13.451058387756348, 6.548769474029541, -0.7084525227546692, -15.7511625289917, -8.003738403320312, -12.738263130187988, -5.78665828704834, -15.518507957458496, -15.334968566894531, -5.296279430389404, 8.298681259155273, 1.5141998529434204, 6.578223705291748, -9.97126293182373, 5.400875568389893, 10.578211784362793, -7.341580390930176, 1.5435569286346436, 1.7484108209609985, -1.0855131149291992, 2.7829973697662354, -8.270455360412598, -4.299614429473877, 7.609221935272217, 1.5465011596679688, 2.5343055725097656, 2.227806806564331, 3.5120203495025635, -9.818401336669922, 4.097592830657959, -9.528306007385254, -3.0332770347595215, 4.243017196655273, 0.14246897399425507, 2.159518003463745, 3.020035743713379, -12.460453033447266, 11.537764549255371, 4.586868762969971, -6.047487258911133, -0.5517891645431519, -5.6912522315979, 8.730935096740723, 11.777469635009766, -0.6720376014709473, 4.235010147094727, 10.093234062194824, 8.995713233947754, 3.078572988510132, 1.3159291744232178, -10.234469413757324, -1.274635672569275, -1.5233006477355957, 7.575841426849365, -11.48388671875, -9.353802680969238, -7.166250705718994, -0.1845652163028717, 7.594935417175293, -0.7403632402420044, -7.053201198577881, -14.159788131713867, -11.101086616516113, -10.732927322387695, 7.411000728607178, -11.4307861328125, 1.3882235288619995, 2.7304434776306152, 13.676783561706543, 1.9109934568405151, 2.9688186645507812, 5.904660224914551, 4.947258472442627, 11.032943725585938, -12.576436042785645, 1.6124714612960815, -14.861748695373535, -7.6458024978637695, 4.558063983917236, -10.41317367553711, 3.6510250568389893, 6.720404148101807, 9.662336349487305, 9.133634567260742, 3.128798007965088, -8.602505683898926, -14.60575008392334, 1.0411460399627686, 3.2152328491210938, -9.13263988494873, -7.221970558166504, -4.207974910736084, -12.001679420471191, 8.294368743896484, 4.650930881500244, 1.456407904624939, -2.1588876247406006, 4.136649131774902, 1.0166809558868408, 6.302892684936523, 2.221367359161377, -15.59060287475586, 8.092949867248535, 11.14693832397461, -12.784161567687988, -9.535479545593262, -12.79361629486084, 8.509797096252441, -10.03283405303955, 7.133735656738281, -6.422823429107666, -10.43787670135498, 2.7846553325653076, 3.138920783996582, -7.963030815124512, 0.5899243950843811, -10.45356559753418, 0.780643880367279, 0.7532134056091309, 5.1039628982543945, 4.722976207733154, 2.2384071350097656, 5.778316974639893, -11.636009216308594, -11.570427894592285, 7.179441928863525, 15.757466316223145, -8.006783485412598, -10.029192924499512, -7.981757164001465, 1.9348726272583008, 13.598204612731934, 7.9781904220581055, -10.384099006652832, 2.3246982097625732, 1.4724498987197876, 12.133008003234863, 7.035484790802002, -0.4653782248497009, -9.02423095703125, 6.918905258178711, -14.50227165222168, 0.49261486530303955, 2.5600969791412354, -14.471116065979004, 5.071906089782715, 11.42989444732666, 9.741567611694336, -14.243478775024414, 3.4969089031219482, -6.651838779449463, -9.225164413452148, -4.184728145599365, 3.3693814277648926, 11.981330871582031, -13.73330020904541, 6.199221134185791, 2.8452651500701904, -6.299262046813965, -6.448607921600342, -15.560125350952148, -8.333690643310547, 1.0252201557159424, -0.9359113574028015, -10.10981273651123, -10.708388328552246, 1.4926546812057495, 9.65709114074707, 4.740325927734375, -8.149609565734863, -15.049630165100098], \"z\": [-5.486697673797607, 6.459632873535156, -1.8674850463867188, 7.020917892456055, -2.1515228748321533, 5.8654608726501465, 4.862480163574219, 13.345362663269043, 2.6696338653564453, 8.422224998474121, 14.970561027526855, 2.773577928543091, 9.41615104675293, -4.6918253898620605, 4.282259464263916, 5.649328708648682, 9.467008590698242, 0.33205509185791016, -1.5294969081878662, 8.588579177856445, 5.450924396514893, -5.381087303161621, -5.22220516204834, 3.0320048332214355, 5.306034088134766, -2.615615129470825, 1.7500486373901367, -2.1125800609588623, 8.396486282348633, 8.042071342468262, 0.9222432971000671, 7.662830829620361, -6.872988700866699, 6.325009346008301, -5.687366962432861, -4.056807994842529, 8.541681289672852, -2.268258810043335, -5.719207286834717, 7.075605869293213, 6.788204193115234, 6.491812229156494, -2.54174542427063, 2.8861618041992188, 4.901818752288818, 5.920596122741699, 5.3834710121154785, 2.6662299633026123, 2.5314483642578125, -1.2850552797317505, 14.050395965576172, -1.3930116891860962, -7.018202781677246, 5.8463287353515625, 6.282528877258301, 7.468541145324707, 7.9549880027771, -4.501827239990234, 6.589889049530029, 2.352705240249634, -0.9530284404754639, -3.5001723766326904, 7.362403392791748, 7.022487640380859, -4.5149126052856445, 5.294836521148682, -5.015316009521484, 0.18386949598789215, 2.2541983127593994, 8.279760360717773, 10.107151985168457, 9.580388069152832, -8.382387161254883, 10.65367603302002, -13.826613426208496, -9.959620475769043, 2.7531142234802246, 7.053070068359375, -17.212339401245117, -14.139756202697754, -13.717728614807129, -9.180634498596191, 0.2664797008037567, -2.1823618412017822, 3.814305543899536, 5.019307613372803, 0.6273984313011169, 1.3515112400054932, -2.195371627807617, -8.412347793579102, -10.917564392089844, 13.122312545776367, -2.297194242477417, 3.7336041927337646, 6.729313850402832, 7.618360996246338, -6.89552640914917, 3.4715495109558105, 0.016257204115390778, 2.4032280445098877, -7.247322082519531, -1.5988578796386719, 3.272345781326294, -7.938315391540527, 9.266560554504395, -8.986023902893066, -3.1950535774230957, 3.6295454502105713, -13.657468795776367, 7.272599697113037, -10.395989418029785, -7.13129186630249, 14.523980140686035, -11.124338150024414, -0.980021595954895, -11.522350311279297, 6.5595622062683105, 3.6722447872161865, 8.459271430969238, -0.5443537831306458, -12.253183364868164, -3.2165486812591553, 4.165673732757568, -3.504603862762451, -3.971282482147217, 4.590702056884766, 5.571911811828613, 8.225865364074707, 3.7720658779144287, 3.5424563884735107, -3.778998613357544, -7.0949015617370605, 13.161112785339355, 4.966365337371826, -0.4848218560218811, -7.858820915222168, -1.1577391624450684, 10.558210372924805, 5.216062545776367, 2.115546464920044, 11.507885932922363, -7.098267555236816, -7.655579566955566, -0.1471908837556839, 0.21614156663417816, -11.655399322509766, 11.61359691619873, -2.7280375957489014, 6.0167059898376465, -1.4443613290786743, -9.670129776000977, -11.570955276489258, 1.216921329498291, -8.164602279663086, -5.8703179359436035, -6.73173713684082, -2.8827273845672607, -3.1935033798217773, -12.809645652770996, 8.683582305908203, 6.9897565841674805, -4.795423984527588, -13.819826126098633, -17.29039764404297, 7.798519134521484, -1.4509774446487427, 11.147283554077148, 8.488557815551758, 1.521554708480835, -4.450071334838867, -3.5789034366607666, 3.5304982662200928, 6.3406572341918945, -1.885023593902588, -1.4420430660247803, -0.008425851352512836, 5.882471084594727, -1.7295030355453491, 6.727346897125244, 9.450895309448242, -0.3720957636833191, 8.75639820098877, 7.508245944976807, 11.401923179626465, 9.473788261413574, 5.6706061363220215, 5.310171127319336, -3.7551207542419434, -11.729790687561035, -11.250993728637695, -2.4618446826934814, -0.39758700132369995, 13.901037216186523, -1.7817792892456055, 4.319797992706299, 6.7498064041137695, 0.0024875688832253218, 3.9132392406463623, -7.60079288482666, -3.3804640769958496, -4.342172145843506, 0.34367555379867554, 6.990657806396484, 0.6706846356391907, -1.5895891189575195, 7.613125324249268, -15.170177459716797, -3.9526865482330322, 9.4332275390625, 5.682788372039795, -2.2610554695129395, 4.573008060455322, 6.592579364776611, -10.650513648986816, -3.1095428466796875, -1.857759952545166, 5.3670830726623535, 7.300353527069092, 8.39789867401123, 2.678011178970337, -1.9207805395126343, 2.1019020080566406, 1.1167768239974976, -15.031152725219727, 2.66103458404541, -14.279759407043457, -4.2632598876953125, -13.25438404083252, -0.9440820813179016, 2.1274333000183105, 5.494023323059082, -2.2357685565948486, 10.091743469238281, 10.225625991821289, 2.2158005237579346, 1.7546241283416748, 1.7129648923873901, -10.686342239379883, 8.250598907470703, -2.8639872074127197, -3.5094940662384033, 3.154813528060913, -0.8084270358085632, 2.7535884380340576, 10.694540977478027, 1.6515223979949951, -10.22513198852539, -16.56116485595703, -4.839321613311768, -1.9246156215667725, -6.917565822601318, 1.0168505907058716, 9.096080780029297, -4.663638591766357, -9.884231567382812, 0.8739683032035828, -7.975211143493652, 1.749551773071289, 2.6350014209747314, 0.44325587153434753, -1.7386677265167236, -4.727232933044434, -1.8200418949127197, 0.07352279871702194, -7.986136436462402, 2.708653450012207, 11.288714408874512, 5.158566951751709, -13.535862922668457, 2.7784881591796875, 2.273388385772705, 8.279128074645996, -8.427058219909668, -1.971374750137329, 7.538825511932373, -5.0207839012146, 6.35614538192749, -0.3467032015323639, 2.6974105834960938, -11.466964721679688, -3.920743227005005, -1.6798009872436523, -11.382707595825195, -7.411396503448486, -0.3873386085033417, 1.786154866218567, -1.9221549034118652, 2.626124620437622, 2.0191261768341064, -7.208586692810059, -8.501564979553223, 3.498711109161377, -3.255608081817627, 0.9680579304695129, -1.9443352222442627, 12.730952262878418, 10.384105682373047, -16.705583572387695, -1.4733561277389526, -7.464026927947998, 6.097424507141113, 2.610027313232422, 8.347705841064453, 10.87791633605957, 8.01283073425293, -13.723471641540527, 2.365701913833618, -13.127386093139648, -4.433237075805664, 9.894936561584473, 9.218404769897461, -3.6583316326141357, 7.94663143157959, -2.6240224838256836, -0.5962753891944885, -6.974232196807861, -4.271017551422119, 4.087749004364014, -14.700533866882324, 7.313819408416748, 5.112555503845215, -10.9168119430542, 9.891175270080566, 4.831068515777588, -14.246891021728516, -6.284017562866211, 9.838813781738281, 11.958477973937988, 1.9509623050689697, 8.880651473999023, 5.268878936767578, 5.863147735595703, -4.5843119621276855, -7.85056734085083, 1.0830886363983154, 2.3000714778900146, 3.9748194217681885, -7.263944149017334, 5.741405963897705, 4.249577045440674, -7.207248687744141, -12.616477012634277, 8.556695938110352, -7.711765766143799, 12.622363090515137, 1.2422738075256348, 5.684440612792969, -2.8672637939453125, 8.602974891662598, 6.277040481567383, 0.759340226650238, -8.310572624206543, 0.6914779543876648, 7.989867210388184, -1.913861632347107, -12.9163236618042, -5.975315570831299, 2.0088679790496826, 8.588258743286133, -4.470521450042725, 5.256324768066406, 2.725270986557007, -2.0231285095214844, -4.412634372711182, 9.769438743591309, -14.154817581176758, 8.430257797241211, 3.9549779891967773, 1.4463438987731934, 3.9723000526428223, -2.302368640899658, -3.363100290298462, 1.7500866651535034, 2.7019689083099365, 9.766268730163574, -4.2922282218933105, -13.775900840759277, 8.588981628417969, 7.527405738830566, -6.543018817901611, 9.95258903503418, 0.9302055835723877, -12.544083595275879, -9.125011444091797, 4.292301177978516, -6.325488567352295, -3.3377909660339355, -2.2726900577545166, -2.454418420791626, -8.085310935974121, -2.2703728675842285, -7.4510273933410645, -9.680367469787598, -11.317649841308594, 1.692086935043335, 8.038942337036133, -8.839969635009766, 10.447494506835938, -5.530644416809082, -10.58043384552002, -0.6635636687278748, -2.2550208568573, -3.52689790725708, 8.111477851867676, 12.125703811645508, 5.362070083618164, 1.0099635124206543, 0.5188039541244507, 9.311864852905273, 5.87074089050293, 2.3575685024261475, -8.03826904296875, 9.866249084472656, -14.263410568237305, 3.6580708026885986, -2.369037389755249, 0.45803242921829224, 4.838393211364746, 12.007070541381836, 1.7069807052612305, -8.052276611328125, -0.8210258483886719, 1.838114619255066, 5.9930596351623535, 2.194957733154297, 0.6787605881690979, 4.910636901855469, 8.579673767089844, -7.212071895599365, 2.925779342651367, -11.055672645568848, 6.091064453125, -2.552609443664551, 8.785646438598633, 9.443880081176758, -0.030213281512260437, 0.8956440091133118, 1.58645498752594, -14.374664306640625, -0.9196116924285889, -9.598634719848633, -17.041812896728516, -1.1133848428726196, 3.7130768299102783, -3.0976133346557617, 6.577390670776367, 9.376248359680176, -6.070554733276367, -0.9828792214393616, 10.466156959533691, -2.3401036262512207, -0.6361660957336426, -3.9554507732391357, -14.054683685302734, 13.802668571472168, 6.07007360458374, -0.4358138144016266, -1.303675651550293, -16.67528533935547, -10.101152420043945, 4.178994178771973, 0.1847747415304184, -1.2793726921081543, -14.451913833618164, 1.4469895362854004, -11.059836387634277, -13.331073760986328, 10.96211051940918, -1.2556560039520264, 0.8715931177139282, -12.888758659362793, 0.616837739944458, -0.11925837397575378, -9.576983451843262, -4.267728328704834, 3.877178907394409, 6.44119119644165, 6.874307155609131, -5.700454235076904, 3.3282387256622314, -4.2708740234375, -2.347268581390381, 7.87965726852417, 3.6285078525543213, 6.350944995880127, 2.874547243118286, 2.1340811252593994, -7.841947078704834, -7.43917989730835, -3.642245292663574, -15.190645217895508, 12.969282150268555, 4.635233402252197, 8.059138298034668, -0.27887263894081116, 11.146333694458008, 5.237560272216797, 10.301741600036621, -6.40519905090332, -8.86866569519043, 4.986267566680908, -1.7505989074707031, -6.138629913330078, -2.2376105785369873, -7.117444038391113, -3.1814303398132324, -16.0761661529541, -3.582911252975464, -8.493812561035156, 7.7663750648498535, -0.5490984320640564, -3.2518022060394287, 1.4890168905258179, 4.779406547546387, -16.790042877197266, -7.345517635345459, -7.835703372955322, -16.628591537475586, 0.460151344537735, 2.5181355476379395, -9.020369529724121, 1.6691313982009888, 4.0526509284973145, 2.408662796020508, 8.157495498657227, 6.743227005004883, -8.65280532836914, 2.5901408195495605, -1.16985285282135, -7.870276927947998, 3.1954705715179443, 7.4368109703063965, 10.133179664611816, -1.8857040405273438, 11.88687801361084, 9.20485782623291, 6.8116774559021, 1.358889102935791, -3.4778993129730225, 3.1523940563201904, 3.572680950164795, 9.494390487670898, 2.1732559204101562, 6.501587390899658, -2.2229669094085693, 12.471834182739258, -10.69411849975586, 9.8378324508667, 10.47010612487793, -11.109782218933105, -7.336791038513184, -9.095488548278809, 1.0635688304901123, -12.74081802368164, -5.267588138580322, 2.7836244106292725, 9.58566951751709, -13.346860885620117, 11.061836242675781, 0.9337022304534912, 3.228563070297241, 8.899393081665039, -5.247565269470215, 12.410622596740723, -1.2671523094177246, -15.684577941894531, -1.8909286260604858, -1.4244850873947144, 11.811198234558105, 12.654483795166016, -6.740519046783447, 12.539127349853516, 12.112144470214844, 6.354759216308594, 7.842439651489258, 9.543009757995605, 4.519174098968506, 1.850801706314087, -7.381412982940674, -12.795419692993164, -7.628637790679932, -13.924311637878418, 2.4263429641723633, 4.973529815673828, -4.423007011413574, -15.256081581115723, -7.33275032043457, -4.902679443359375, 3.852827787399292, 8.258209228515625, -1.414428472518921, -5.913383960723877, 0.5291948318481445, 11.941969871520996, 2.489360809326172, -7.620866298675537, 11.044099807739258, 6.93099308013916, 7.500433921813965, 3.379730701446533, 9.922578811645508, -4.436899662017822, 7.191427230834961, 5.362384796142578, 9.47123908996582, 5.348921775817871, 12.201804161071777, 6.292222499847412, -0.467591792345047, 5.744896411895752, 3.6579601764678955, -8.806340217590332, -9.421890258789062, -7.6123738288879395, -13.708584785461426, -5.476757049560547, -0.7611497044563293, -1.5837147235870361, -4.2373504638671875, -7.851983070373535, -0.8687166571617126, -6.829300403594971, -7.616039276123047, 0.4671079218387604, 2.437044143676758, 12.355273246765137, 6.3838677406311035, -1.4046287536621094, 1.4563426971435547, -14.572588920593262, -5.66256856918335, 3.968945026397705, -15.694380760192871, 0.9742080569267273, -8.218521118164062, -3.6771469116210938, -8.98140811920166, -0.8273523449897766, 13.58390998840332, 0.5212793350219727, -1.7003082036972046, 5.738626003265381, 6.496610164642334, -7.098665714263916, 5.181769847869873, -14.881752967834473, 0.5168688893318176, -9.525568008422852, 6.349749565124512, -9.160401344299316, -4.227672100067139, -2.051243782043457, 1.6480860710144043, 11.45620059967041, 0.029718130826950073, 5.699781894683838, 1.5329383611679077, -8.089202880859375, -1.7330150604248047, 7.406247138977051, 9.77658462524414, -6.446252346038818, 1.3758153915405273, -6.743644714355469, 9.70366382598877, 1.7369670867919922, 9.66019344329834, 5.551429271697998, 3.8891236782073975, -1.0555176734924316, 2.837916135787964, -12.174216270446777, -7.817794322967529, -1.2553207874298096, 7.858719825744629, -6.67832088470459, 7.01498556137085, 13.325016975402832, 9.714276313781738, 4.772031307220459, 1.3908343315124512, -2.8186581134796143, -7.701483726501465, 6.385306358337402, -4.200868129730225, -0.6013637781143188, -11.245044708251953, -3.5679523944854736, 13.767626762390137, 8.983785629272461, 5.080572605133057, 9.187887191772461, 9.386276245117188, 1.2404685020446777, 14.7362642288208, 9.34163761138916, -5.6631669998168945, -14.029728889465332, -11.971196174621582, 4.608869552612305, -1.6936719417572021, -9.926981925964355, -4.743023872375488, 8.397571563720703, -9.832721710205078, 7.416115760803223, 13.196366310119629, 0.5410075783729553, -1.5146636962890625, 3.321924924850464, 5.976475715637207, -3.4519622325897217, -4.602283000946045, -2.43727707862854, -4.101253986358643, 8.90651798248291, 5.812230110168457, 6.092193126678467, -4.0835771560668945, -1.5766011476516724, -1.5442779064178467, 6.915329933166504, 2.596691608428955, -1.3776042461395264, 6.423569202423096, -6.921641826629639, 9.485262870788574, 9.131399154663086, 8.722891807556152, 6.643956661224365, -2.1882853507995605, 2.852447748184204, -1.3569374084472656, -3.1801745891571045, 0.2951105535030365, 13.6983003616333, -10.905943870544434, -15.782530784606934, -16.680587768554688, 3.01094651222229, -0.7108210921287537, -7.924321174621582, -8.551214218139648, 3.5512800216674805, -5.388854026794434, -16.595352172851562, -13.256674766540527, 13.53371810913086, -1.57767915725708, 9.867447853088379, 5.99786901473999, 1.2482446432113647, 6.858668804168701, 4.363656044006348, -4.840334415435791, -1.788562536239624, -13.927756309509277, -4.411947727203369, 5.0254645347595215, -3.3830132484436035, 10.761338233947754, -7.867889404296875, -4.136626720428467, 1.1953941583633423, -6.581179618835449, 4.396979808807373, 5.402273178100586, 0.532279372215271, 4.25423002243042, -0.3899112343788147, -13.626296997070312, -5.6637797355651855, 0.42350685596466064, 5.336427688598633, -8.90466022491455, -5.981290817260742, 1.3214620351791382, -1.2031179666519165, -15.568559646606445, -9.766403198242188, -11.187450408935547, 5.047392845153809, 3.870170831680298, -9.681305885314941, -16.866371154785156, 10.28322696685791, -3.4808316230773926, 8.532061576843262, -16.467166900634766, -13.679875373840332, 12.684906959533691, -10.86371898651123, 2.55696177482605, -13.877551078796387, 4.979364395141602, 8.445433616638184, -5.947440147399902, -1.0771125555038452, -12.799171447753906, -3.512603521347046, -3.3084945678710938, -0.0607215017080307, -0.6018697619438171, 6.889288425445557, -2.8205389976501465, -0.9647108316421509, -7.17081356048584, 3.023181676864624, 12.231001853942871, -2.121155261993408, 1.2548819780349731, 4.449484348297119, -14.320587158203125, -7.305111408233643, 4.284230709075928, -0.9177032709121704, 3.404599189758301, 11.84337043762207, 5.616600036621094, 10.1301908493042, 12.578819274902344, -2.594292640686035, -17.408857345581055, 5.467735290527344, 0.9113867878913879, 1.3326442241668701, 12.264036178588867, -14.830241203308105, -10.852067947387695, 7.120262622833252, 2.7072219848632812, -5.758433818817139, 6.7681474685668945, 4.380397319793701, -1.8433055877685547, 8.548022270202637, 2.8041000366210938, -0.975773811340332, 11.824859619140625, -6.270780563354492, -12.184703826904297, -7.838366985321045, 9.901554107666016, 2.7254292964935303, 3.7501637935638428, 10.529976844787598, 4.379014015197754, -12.869101524353027, -10.199715614318848, -4.116214752197266, 9.512409210205078, -9.58213996887207, -7.271259307861328, -12.091782569885254, -2.0510241985321045, 2.3361611366271973, -1.4676282405853271, 12.937252044677734, -15.063946723937988, 2.604800224304199, -6.517116546630859, -13.66820240020752, 0.5213459730148315, -12.967397689819336, 2.232635974884033, 10.611473083496094, 3.842427968978882, -13.858424186706543, 9.568503379821777, -7.663987636566162, 11.463136672973633, -6.982285976409912, 0.8201783299446106, -10.71604061126709, 8.133851051330566, -4.021920204162598, 1.970765471458435, -1.2910068035125732, -6.039109706878662, -0.6868136525154114, -8.109070777893066, -14.335038185119629, -12.173196792602539, 8.996286392211914, 10.805139541625977, 14.281768798828125, -9.975297927856445, -2.2316627502441406, -7.551793098449707, 3.678489923477173, 0.8649656772613525, 9.50495433807373, 2.0340216159820557, -12.522186279296875, 10.781571388244629, -9.123824119567871, -8.779485702514648, 0.3315955400466919, -1.1488810777664185, 2.08309268951416, 2.304718017578125, -4.644838809967041, -6.002835750579834, 11.8452730178833, -14.273280143737793, 0.13417784869670868, 10.67284107208252, 6.958531379699707, 2.2008562088012695, -15.214337348937988, -0.3566550314426422, -4.265483379364014, -2.3110387325286865, -14.26714038848877, 2.8992018699645996, -1.2907718420028687, -4.846176624298096, 4.135718822479248, 12.923409461975098, 14.337525367736816, -8.630578994750977, 13.100939750671387, 0.14804749190807343, -11.181939125061035, 2.875873327255249, -9.11873722076416, 8.106643676757812, -5.660550594329834, -1.3428963422775269, 2.548741102218628, -1.3763402700424194, -5.773689270019531, 0.4544984996318817, 10.33657169342041, 10.760610580444336, 2.737457036972046, -6.671359539031982, -0.3709697723388672, 6.5334367752075195, 13.001768112182617, 1.6838421821594238, -3.768467426300049, -16.8204345703125, 10.708724021911621, -14.82292652130127, 3.6653456687927246, -15.383565902709961, -11.484601020812988, 2.548635482788086, 8.773841857910156, -5.440382480621338, 0.2731831967830658, 11.880695343017578, 10.11596393585205, -1.9428640604019165, 0.47442081570625305, 14.553255081176758, 6.594737529754639, 4.280204772949219, -2.0191173553466797, 3.7139689922332764, -1.0653821229934692, -1.8587865829467773, -16.214778900146484, -7.60527229309082, -2.8735363483428955, 0.8089265823364258, -12.04935359954834, 3.951190710067749, -4.917121410369873, 7.375670909881592, -13.606232643127441, -7.071567058563232, -0.8868409991264343, -12.036291122436523, 2.0551323890686035, 2.802424430847168, 6.3500871658325195, -1.0735529661178589, 8.633057594299316, 3.7650647163391113, -7.33677339553833, -16.50295066833496, 5.243788242340088, 6.763597011566162, -2.3835055828094482, -1.7640045881271362, 10.317323684692383, 12.44067096710205, 2.600942850112915, 8.40039348602295, -14.030193328857422, -14.900263786315918, -0.24599209427833557, 4.886765956878662, -6.554234981536865, -0.4157904088497162, -15.846871376037598, 8.684247970581055, 2.93595552444458]}],\n",
       "                        {\"coloraxis\": {\"colorbar\": {\"title\": {\"text\": \"Label\"}}, \"colorscale\": [[0.0, \"#0d0887\"], [0.1111111111111111, \"#46039f\"], [0.2222222222222222, \"#7201a8\"], [0.3333333333333333, \"#9c179e\"], [0.4444444444444444, \"#bd3786\"], [0.5555555555555556, \"#d8576b\"], [0.6666666666666666, \"#ed7953\"], [0.7777777777777778, \"#fb9f3a\"], [0.8888888888888888, \"#fdca26\"], [1.0, \"#f0f921\"]]}, \"height\": 800, \"legend\": {\"tracegroupgap\": 0}, \"scene\": {\"domain\": {\"x\": [0.0, 1.0], \"y\": [0.0, 1.0]}, \"xaxis\": {\"title\": {\"text\": \"0\"}}, \"yaxis\": {\"title\": {\"text\": \"1\"}}, \"zaxis\": {\"title\": {\"text\": \"2\"}}}, \"template\": {\"data\": {\"bar\": [{\"error_x\": {\"color\": \"#2a3f5f\"}, \"error_y\": {\"color\": \"#2a3f5f\"}, \"marker\": {\"line\": {\"color\": \"#E5ECF6\", \"width\": 0.5}}, \"type\": \"bar\"}], \"barpolar\": [{\"marker\": {\"line\": {\"color\": \"#E5ECF6\", \"width\": 0.5}}, \"type\": \"barpolar\"}], \"carpet\": [{\"aaxis\": {\"endlinecolor\": \"#2a3f5f\", \"gridcolor\": \"white\", \"linecolor\": \"white\", \"minorgridcolor\": \"white\", \"startlinecolor\": \"#2a3f5f\"}, \"baxis\": {\"endlinecolor\": \"#2a3f5f\", \"gridcolor\": \"white\", \"linecolor\": \"white\", \"minorgridcolor\": \"white\", \"startlinecolor\": \"#2a3f5f\"}, \"type\": \"carpet\"}], \"choropleth\": [{\"colorbar\": {\"outlinewidth\": 0, \"ticks\": \"\"}, \"type\": \"choropleth\"}], \"contour\": [{\"colorbar\": {\"outlinewidth\": 0, \"ticks\": \"\"}, \"colorscale\": [[0.0, \"#0d0887\"], [0.1111111111111111, \"#46039f\"], [0.2222222222222222, \"#7201a8\"], [0.3333333333333333, \"#9c179e\"], [0.4444444444444444, \"#bd3786\"], [0.5555555555555556, \"#d8576b\"], [0.6666666666666666, \"#ed7953\"], [0.7777777777777778, \"#fb9f3a\"], [0.8888888888888888, \"#fdca26\"], [1.0, \"#f0f921\"]], \"type\": \"contour\"}], \"contourcarpet\": [{\"colorbar\": {\"outlinewidth\": 0, \"ticks\": \"\"}, \"type\": \"contourcarpet\"}], \"heatmap\": [{\"colorbar\": {\"outlinewidth\": 0, \"ticks\": \"\"}, \"colorscale\": [[0.0, \"#0d0887\"], [0.1111111111111111, \"#46039f\"], [0.2222222222222222, \"#7201a8\"], [0.3333333333333333, \"#9c179e\"], [0.4444444444444444, \"#bd3786\"], [0.5555555555555556, \"#d8576b\"], [0.6666666666666666, \"#ed7953\"], [0.7777777777777778, \"#fb9f3a\"], [0.8888888888888888, \"#fdca26\"], [1.0, \"#f0f921\"]], \"type\": \"heatmap\"}], \"heatmapgl\": [{\"colorbar\": {\"outlinewidth\": 0, \"ticks\": \"\"}, \"colorscale\": [[0.0, \"#0d0887\"], [0.1111111111111111, \"#46039f\"], [0.2222222222222222, \"#7201a8\"], [0.3333333333333333, \"#9c179e\"], [0.4444444444444444, \"#bd3786\"], [0.5555555555555556, \"#d8576b\"], [0.6666666666666666, \"#ed7953\"], [0.7777777777777778, \"#fb9f3a\"], [0.8888888888888888, \"#fdca26\"], [1.0, \"#f0f921\"]], \"type\": \"heatmapgl\"}], \"histogram\": [{\"marker\": {\"colorbar\": {\"outlinewidth\": 0, \"ticks\": \"\"}}, \"type\": \"histogram\"}], \"histogram2d\": [{\"colorbar\": {\"outlinewidth\": 0, \"ticks\": \"\"}, \"colorscale\": [[0.0, \"#0d0887\"], [0.1111111111111111, \"#46039f\"], [0.2222222222222222, \"#7201a8\"], [0.3333333333333333, \"#9c179e\"], [0.4444444444444444, \"#bd3786\"], [0.5555555555555556, \"#d8576b\"], [0.6666666666666666, \"#ed7953\"], [0.7777777777777778, \"#fb9f3a\"], [0.8888888888888888, \"#fdca26\"], [1.0, \"#f0f921\"]], \"type\": \"histogram2d\"}], \"histogram2dcontour\": [{\"colorbar\": {\"outlinewidth\": 0, \"ticks\": \"\"}, \"colorscale\": [[0.0, \"#0d0887\"], [0.1111111111111111, \"#46039f\"], [0.2222222222222222, \"#7201a8\"], [0.3333333333333333, \"#9c179e\"], [0.4444444444444444, \"#bd3786\"], [0.5555555555555556, \"#d8576b\"], [0.6666666666666666, \"#ed7953\"], [0.7777777777777778, \"#fb9f3a\"], [0.8888888888888888, \"#fdca26\"], [1.0, \"#f0f921\"]], \"type\": \"histogram2dcontour\"}], \"mesh3d\": [{\"colorbar\": {\"outlinewidth\": 0, \"ticks\": \"\"}, \"type\": \"mesh3d\"}], \"parcoords\": [{\"line\": {\"colorbar\": {\"outlinewidth\": 0, \"ticks\": \"\"}}, \"type\": \"parcoords\"}], \"pie\": [{\"automargin\": true, \"type\": \"pie\"}], \"scatter\": [{\"marker\": {\"colorbar\": {\"outlinewidth\": 0, \"ticks\": \"\"}}, \"type\": \"scatter\"}], \"scatter3d\": [{\"line\": {\"colorbar\": {\"outlinewidth\": 0, \"ticks\": \"\"}}, \"marker\": {\"colorbar\": {\"outlinewidth\": 0, \"ticks\": \"\"}}, \"type\": \"scatter3d\"}], \"scattercarpet\": [{\"marker\": {\"colorbar\": {\"outlinewidth\": 0, \"ticks\": \"\"}}, \"type\": \"scattercarpet\"}], \"scattergeo\": [{\"marker\": {\"colorbar\": {\"outlinewidth\": 0, \"ticks\": \"\"}}, \"type\": \"scattergeo\"}], \"scattergl\": [{\"marker\": {\"colorbar\": {\"outlinewidth\": 0, \"ticks\": \"\"}}, \"type\": \"scattergl\"}], \"scattermapbox\": [{\"marker\": {\"colorbar\": {\"outlinewidth\": 0, \"ticks\": \"\"}}, \"type\": \"scattermapbox\"}], \"scatterpolar\": [{\"marker\": {\"colorbar\": {\"outlinewidth\": 0, \"ticks\": \"\"}}, \"type\": \"scatterpolar\"}], \"scatterpolargl\": [{\"marker\": {\"colorbar\": {\"outlinewidth\": 0, \"ticks\": \"\"}}, \"type\": \"scatterpolargl\"}], \"scatterternary\": [{\"marker\": {\"colorbar\": {\"outlinewidth\": 0, \"ticks\": \"\"}}, \"type\": \"scatterternary\"}], \"surface\": [{\"colorbar\": {\"outlinewidth\": 0, \"ticks\": \"\"}, \"colorscale\": [[0.0, \"#0d0887\"], [0.1111111111111111, \"#46039f\"], [0.2222222222222222, \"#7201a8\"], [0.3333333333333333, \"#9c179e\"], [0.4444444444444444, \"#bd3786\"], [0.5555555555555556, \"#d8576b\"], [0.6666666666666666, \"#ed7953\"], [0.7777777777777778, \"#fb9f3a\"], [0.8888888888888888, \"#fdca26\"], [1.0, \"#f0f921\"]], \"type\": \"surface\"}], \"table\": [{\"cells\": {\"fill\": {\"color\": \"#EBF0F8\"}, \"line\": {\"color\": \"white\"}}, \"header\": {\"fill\": {\"color\": \"#C8D4E3\"}, \"line\": {\"color\": \"white\"}}, \"type\": \"table\"}]}, \"layout\": {\"annotationdefaults\": {\"arrowcolor\": \"#2a3f5f\", \"arrowhead\": 0, \"arrowwidth\": 1}, \"coloraxis\": {\"colorbar\": {\"outlinewidth\": 0, \"ticks\": \"\"}}, \"colorscale\": {\"diverging\": [[0, \"#8e0152\"], [0.1, \"#c51b7d\"], [0.2, \"#de77ae\"], [0.3, \"#f1b6da\"], [0.4, \"#fde0ef\"], [0.5, \"#f7f7f7\"], [0.6, \"#e6f5d0\"], [0.7, \"#b8e186\"], [0.8, \"#7fbc41\"], [0.9, \"#4d9221\"], [1, \"#276419\"]], \"sequential\": [[0.0, \"#0d0887\"], [0.1111111111111111, \"#46039f\"], [0.2222222222222222, \"#7201a8\"], [0.3333333333333333, \"#9c179e\"], [0.4444444444444444, \"#bd3786\"], [0.5555555555555556, \"#d8576b\"], [0.6666666666666666, \"#ed7953\"], [0.7777777777777778, \"#fb9f3a\"], [0.8888888888888888, \"#fdca26\"], [1.0, \"#f0f921\"]], \"sequentialminus\": [[0.0, \"#0d0887\"], [0.1111111111111111, \"#46039f\"], [0.2222222222222222, \"#7201a8\"], [0.3333333333333333, \"#9c179e\"], [0.4444444444444444, \"#bd3786\"], [0.5555555555555556, \"#d8576b\"], [0.6666666666666666, \"#ed7953\"], [0.7777777777777778, \"#fb9f3a\"], [0.8888888888888888, \"#fdca26\"], [1.0, \"#f0f921\"]]}, \"colorway\": [\"#636efa\", \"#EF553B\", \"#00cc96\", \"#ab63fa\", \"#FFA15A\", \"#19d3f3\", \"#FF6692\", \"#B6E880\", \"#FF97FF\", \"#FECB52\"], \"font\": {\"color\": \"#2a3f5f\"}, \"geo\": {\"bgcolor\": \"white\", \"lakecolor\": \"white\", \"landcolor\": \"#E5ECF6\", \"showlakes\": true, \"showland\": true, \"subunitcolor\": \"white\"}, \"hoverlabel\": {\"align\": \"left\"}, \"hovermode\": \"closest\", \"mapbox\": {\"style\": \"light\"}, \"paper_bgcolor\": \"white\", \"plot_bgcolor\": \"#E5ECF6\", \"polar\": {\"angularaxis\": {\"gridcolor\": \"white\", \"linecolor\": \"white\", \"ticks\": \"\"}, \"bgcolor\": \"#E5ECF6\", \"radialaxis\": {\"gridcolor\": \"white\", \"linecolor\": \"white\", \"ticks\": \"\"}}, \"scene\": {\"xaxis\": {\"backgroundcolor\": \"#E5ECF6\", \"gridcolor\": \"white\", \"gridwidth\": 2, \"linecolor\": \"white\", \"showbackground\": true, \"ticks\": \"\", \"zerolinecolor\": \"white\"}, \"yaxis\": {\"backgroundcolor\": \"#E5ECF6\", \"gridcolor\": \"white\", \"gridwidth\": 2, \"linecolor\": \"white\", \"showbackground\": true, \"ticks\": \"\", \"zerolinecolor\": \"white\"}, \"zaxis\": {\"backgroundcolor\": \"#E5ECF6\", \"gridcolor\": \"white\", \"gridwidth\": 2, \"linecolor\": \"white\", \"showbackground\": true, \"ticks\": \"\", \"zerolinecolor\": \"white\"}}, \"shapedefaults\": {\"line\": {\"color\": \"#2a3f5f\"}}, \"ternary\": {\"aaxis\": {\"gridcolor\": \"white\", \"linecolor\": \"white\", \"ticks\": \"\"}, \"baxis\": {\"gridcolor\": \"white\", \"linecolor\": \"white\", \"ticks\": \"\"}, \"bgcolor\": \"#E5ECF6\", \"caxis\": {\"gridcolor\": \"white\", \"linecolor\": \"white\", \"ticks\": \"\"}}, \"title\": {\"x\": 0.05}, \"xaxis\": {\"automargin\": true, \"gridcolor\": \"white\", \"linecolor\": \"white\", \"ticks\": \"\", \"title\": {\"standoff\": 15}, \"zerolinecolor\": \"white\", \"zerolinewidth\": 2}, \"yaxis\": {\"automargin\": true, \"gridcolor\": \"white\", \"linecolor\": \"white\", \"ticks\": \"\", \"title\": {\"standoff\": 15}, \"zerolinecolor\": \"white\", \"zerolinewidth\": 2}}}, \"title\": {\"text\": \"3d TSNE Plot for Outliers\"}, \"width\": 900},\n",
       "                        {\"responsive\": true}\n",
       "                    ).then(function(){\n",
       "                            \n",
       "var gd = document.getElementById('1b3acb8d-97ef-4512-8145-6434ea458a8e');\n",
       "var x = new MutationObserver(function (mutations, observer) {{\n",
       "        var display = window.getComputedStyle(gd).display;\n",
       "        if (!display || display === 'none') {{\n",
       "            console.log([gd, 'removed!']);\n",
       "            Plotly.purge(gd);\n",
       "            observer.disconnect();\n",
       "        }}\n",
       "}});\n",
       "\n",
       "// Listen for the removal of the full notebook cells\n",
       "var notebookContainer = gd.closest('#notebook-container');\n",
       "if (notebookContainer) {{\n",
       "    x.observe(notebookContainer, {childList: true});\n",
       "}}\n",
       "\n",
       "// Listen for the clearing of the current output cell\n",
       "var outputEl = gd.closest('.output');\n",
       "if (outputEl) {{\n",
       "    x.observe(outputEl, {childList: true});\n",
       "}}\n",
       "\n",
       "                        })\n",
       "                };\n",
       "                });\n",
       "            </script>\n",
       "        </div>"
      ]
     },
     "metadata": {},
     "output_type": "display_data"
    }
   ],
   "source": [
    "plot_model(iforest)"
   ]
  },
  {
   "cell_type": "code",
   "execution_count": 9,
   "metadata": {},
   "outputs": [
    {
     "data": {
      "text/html": [
       "        <script type=\"text/javascript\">\n",
       "        window.PlotlyConfig = {MathJaxConfig: 'local'};\n",
       "        if (window.MathJax) {MathJax.Hub.Config({SVG: {font: \"STIX-Web\"}});}\n",
       "        if (typeof require !== 'undefined') {\n",
       "        require.undef(\"plotly\");\n",
       "        requirejs.config({\n",
       "            paths: {\n",
       "                'plotly': ['https://cdn.plot.ly/plotly-latest.min']\n",
       "            }\n",
       "        });\n",
       "        require(['plotly'], function(Plotly) {\n",
       "            window._Plotly = Plotly;\n",
       "        });\n",
       "        }\n",
       "        </script>\n",
       "        "
      ]
     },
     "metadata": {},
     "output_type": "display_data"
    },
    {
     "data": {
      "application/vnd.plotly.v1+json": {
       "config": {
        "plotlyServerURL": "https://plot.ly"
       },
       "data": [
        {
         "customdata": [
          [
           0.263995357
          ],
          [
           0.546092303
          ],
          [
           0.33671410399999996
          ],
          [
           0.092107835
          ],
          [
           0.325261175
          ],
          [
           0.212464853
          ],
          [
           0.258565714
          ],
          [
           0.869236755
          ],
          [
           0.197077957
          ],
          [
           0.292984504
          ],
          [
           0.82178316
          ],
          [
           0.796622959
          ],
          [
           0.045577010999999994
          ],
          [
           0.613660351
          ],
          [
           0.9507445659999999
          ],
          [
           0.33634633700000005
          ],
          [
           0.034440667
          ],
          [
           0.741544275
          ],
          [
           0.18443265
          ],
          [
           0.664514943
          ],
          [
           0.16282485800000002
          ],
          [
           0.729838445
          ],
          [
           0.62837389
          ],
          [
           0.057883660999999996
          ],
          [
           0.445534827
          ],
          [
           0.80183695
          ],
          [
           0.27709612
          ],
          [
           0.228634015
          ],
          [
           0.834860657
          ],
          [
           0.6697665110000001
          ],
          [
           0.532527349
          ],
          [
           0.17045907100000002
          ],
          [
           0.5102884679999999
          ],
          [
           0.977561989
          ],
          [
           0.249775993
          ],
          [
           0.9755006820000001
          ],
          [
           0.613701727
          ],
          [
           0.16742036300000002
          ],
          [
           0.537472516
          ],
          [
           0.379899131
          ],
          [
           0.633897303
          ],
          [
           0.633960424
          ],
          [
           0.5499746529999999
          ],
          [
           0.178172988
          ],
          [
           0.85563814
          ],
          [
           0.321796672
          ],
          [
           0.8174905370000001
          ],
          [
           0.254879417
          ],
          [
           0.344140513
          ],
          [
           0.8061457259999999
          ],
          [
           0.27708167100000003
          ],
          [
           0.544328519
          ],
          [
           0.07708393
          ],
          [
           0.273081458
          ],
          [
           0.390877336
          ],
          [
           0.349621385
          ],
          [
           0.214549744
          ],
          [
           0.206075222
          ],
          [
           0.86461997
          ],
          [
           0.9817088540000001
          ],
          [
           0.33482964600000004
          ],
          [
           0.648387061
          ],
          [
           0.093643561
          ],
          [
           0.837802698
          ],
          [
           0.7603439670000001
          ],
          [
           0.29140417399999996
          ],
          [
           0.3413454
          ],
          [
           0.7611124840000001
          ],
          [
           0.541899775
          ],
          [
           0.684176639
          ],
          [
           0.983535597
          ],
          [
           0.52081245
          ],
          [
           0.328227724
          ],
          [
           0.09715793800000001
          ],
          [
           0.876088593
          ],
          [
           0.870214512
          ],
          [
           0.656086992
          ],
          [
           0.306791514
          ],
          [
           0.48126734
          ],
          [
           0.259559174
          ],
          [
           0.326123655
          ],
          [
           0.930568042
          ],
          [
           0.6583894
          ],
          [
           0.689992335
          ],
          [
           0.315781109
          ],
          [
           0.5669050929999999
          ],
          [
           0.637526619
          ],
          [
           0.687540723
          ],
          [
           0.324300602
          ],
          [
           0.592704906
          ],
          [
           0.7402531259999999
          ],
          [
           0.5940328770000001
          ],
          [
           0.596452977
          ],
          [
           0.27768081699999997
          ],
          [
           0.258329663
          ],
          [
           0.142460864
          ],
          [
           0.435533461
          ],
          [
           0.7024990440000001
          ],
          [
           0.58897535
          ],
          [
           0.653304374
          ],
          [
           0.336968524
          ],
          [
           0.631244736
          ],
          [
           0.73530076
          ],
          [
           0.050390366
          ],
          [
           0.064264924
          ],
          [
           0.665359476
          ],
          [
           0.917835245
          ],
          [
           0.44651012
          ],
          [
           0.661938199
          ],
          [
           0.43935985299999997
          ],
          [
           0.6875724040000001
          ],
          [
           0.363462248
          ],
          [
           0.6542621820000001
          ],
          [
           0.578553536
          ],
          [
           0.065927945
          ],
          [
           0.550148559
          ],
          [
           0.13918281400000002
          ],
          [
           0.080004635
          ],
          [
           0.278228358
          ],
          [
           0.560124266
          ],
          [
           0.53639864
          ],
          [
           0.42653190399999996
          ],
          [
           0.789109796
          ],
          [
           0.742900474
          ],
          [
           0.901692589
          ],
          [
           0.650337401
          ],
          [
           0.114057311
          ],
          [
           0.260812592
          ],
          [
           0.43991232
          ],
          [
           0.964409284
          ],
          [
           0.184401415
          ],
          [
           0.345145446
          ],
          [
           0.17589458100000002
          ],
          [
           0.312514453
          ],
          [
           0.674131879
          ],
          [
           0.32825045
          ],
          [
           0.598231057
          ],
          [
           0.09259881699999999
          ],
          [
           0.497916521
          ],
          [
           0.419776521
          ],
          [
           0.31217670000000003
          ],
          [
           0.937857107
          ],
          [
           0.049030963
          ],
          [
           0.47610452600000003
          ],
          [
           0.447397526
          ],
          [
           0.295806058
          ],
          [
           0.737363977
          ],
          [
           0.625896253
          ],
          [
           0.408813429
          ],
          [
           0.437511156
          ],
          [
           0.691351375
          ],
          [
           0.935555275
          ],
          [
           0.437846654
          ],
          [
           0.072217715
          ],
          [
           0.67636067
          ],
          [
           0.468883999
          ],
          [
           0.543820644
          ],
          [
           0.6555226470000001
          ],
          [
           0.6935289240000001
          ],
          [
           0.10887831199999999
          ],
          [
           0.285463743
          ],
          [
           0
          ],
          [
           0.706495497
          ],
          [
           0.273530633
          ],
          [
           0.292320271
          ],
          [
           0.673984307
          ],
          [
           0.12612182800000002
          ],
          [
           0.9467074590000001
          ],
          [
           0.9363388979999999
          ],
          [
           0.8537553640000001
          ],
          [
           0.7060713609999999
          ],
          [
           0.693682186
          ],
          [
           0.508527882
          ],
          [
           0.34717038899999997
          ],
          [
           0.704154263
          ],
          [
           0.658730088
          ],
          [
           0.155841557
          ],
          [
           0.311085435
          ],
          [
           0.281135347
          ],
          [
           0.094587802
          ],
          [
           0.6832609540000001
          ],
          [
           0.9077292509999999
          ],
          [
           0.29151267399999997
          ],
          [
           0.752734459
          ],
          [
           0.93482964
          ],
          [
           0.071413953
          ],
          [
           0.5948963270000001
          ],
          [
           0.404672015
          ],
          [
           0.13837621
          ],
          [
           0.7473384679999999
          ],
          [
           0.530882486
          ],
          [
           0.282649594
          ],
          [
           0.699335734
          ],
          [
           0.056111250999999994
          ],
          [
           0.855234998
          ],
          [
           0.07789512700000001
          ],
          [
           0.891649583
          ],
          [
           0.38674227899999997
          ],
          [
           0.27113158
          ],
          [
           0.958888961
          ],
          [
           0.085120869
          ],
          [
           0.5269022489999999
          ],
          [
           0.066577785
          ],
          [
           0.841506738
          ],
          [
           0.255342095
          ],
          [
           0.060545771
          ],
          [
           0.073385869
          ],
          [
           0.187493723
          ],
          [
           0.858365688
          ],
          [
           0.090640352
          ],
          [
           0.7097252270000001
          ],
          [
           0.631300647
          ],
          [
           0.24750447399999997
          ],
          [
           0.822843584
          ],
          [
           0.373476759
          ],
          [
           0.625538582
          ],
          [
           0.292951715
          ],
          [
           0.299730324
          ],
          [
           0.25121407
          ],
          [
           0.344480551
          ],
          [
           0.293064767
          ],
          [
           0.7628032240000001
          ],
          [
           0.7384708040000001
          ],
          [
           0.674883265
          ],
          [
           0.719151612
          ],
          [
           0.13098021599999998
          ],
          [
           0.511328036
          ],
          [
           0.04492903
          ],
          [
           0.560914449
          ],
          [
           0.7440406409999999
          ],
          [
           0.266961634
          ],
          [
           0.644231853
          ],
          [
           0.038113352
          ],
          [
           0.05715529900000001
          ],
          [
           0.34139246100000004
          ],
          [
           0.7204636320000001
          ],
          [
           0.402878236
          ],
          [
           0.635148967
          ],
          [
           0.320729467
          ],
          [
           0.09120969400000001
          ],
          [
           0.23414609
          ],
          [
           0.8902211309999999
          ],
          [
           0.602170884
          ],
          [
           0.633652055
          ],
          [
           0.806240837
          ],
          [
           0.739731184
          ],
          [
           0.465231269
          ],
          [
           0.7321109
          ],
          [
           0.373874305
          ],
          [
           0.501587947
          ],
          [
           0.11538315800000001
          ],
          [
           0.7319466040000001
          ],
          [
           0.41829872799999995
          ],
          [
           0.062259590999999996
          ],
          [
           0.391496379
          ],
          [
           0.35984929
          ],
          [
           0.24523562699999998
          ],
          [
           0.610028339
          ],
          [
           0.43540360200000006
          ],
          [
           0.434309675
          ],
          [
           0.523763344
          ],
          [
           0.17118786600000002
          ],
          [
           0.18773430300000002
          ],
          [
           0.945014638
          ],
          [
           0.027851097000000002
          ],
          [
           0.68445706
          ],
          [
           0.178014532
          ],
          [
           0.643427879
          ],
          [
           0.59588355
          ],
          [
           0.372361682
          ],
          [
           0.586103584
          ],
          [
           0.271658852
          ],
          [
           0.59951107
          ],
          [
           0.468363088
          ],
          [
           0.314515565
          ],
          [
           0.21893726
          ],
          [
           0.254716562
          ],
          [
           0.25612815
          ],
          [
           0.602259755
          ],
          [
           0.134381075
          ],
          [
           0.513887424
          ],
          [
           0.624241636
          ],
          [
           0.160251854
          ],
          [
           0.580708108
          ],
          [
           0.270540486
          ],
          [
           0.832919932
          ],
          [
           0.93032134
          ],
          [
           0.719157884
          ],
          [
           0.886720033
          ],
          [
           0.098792281
          ],
          [
           0.787174286
          ],
          [
           0.365592376
          ],
          [
           0.719576193
          ],
          [
           0.8058956
          ],
          [
           0.7555783340000001
          ],
          [
           0.526005909
          ],
          [
           0.68880424
          ],
          [
           0.22111531199999998
          ],
          [
           0.739369477
          ],
          [
           0.408440236
          ],
          [
           0.348926542
          ],
          [
           0.433713763
          ],
          [
           0.5964966070000001
          ],
          [
           0.6942953000000001
          ],
          [
           0.7090309659999999
          ],
          [
           0.867652984
          ],
          [
           0.89332545
          ],
          [
           0.746020922
          ],
          [
           0.538284443
          ],
          [
           0.8922193140000001
          ],
          [
           0.935175765
          ],
          [
           0.260527707
          ],
          [
           0.956780449
          ],
          [
           0.204932484
          ],
          [
           0.687733351
          ],
          [
           0.329063619
          ],
          [
           0.632149831
          ],
          [
           0.463744506
          ],
          [
           0.698859621
          ],
          [
           0.385446564
          ],
          [
           0.47997537700000004
          ],
          [
           0.732279108
          ],
          [
           0.3813543
          ],
          [
           0.459326013
          ],
          [
           0.257401434
          ],
          [
           0.665014804
          ],
          [
           0.103399542
          ],
          [
           0.425284413
          ],
          [
           0.943529051
          ],
          [
           0.594750236
          ],
          [
           0.543776817
          ],
          [
           0.18203988
          ],
          [
           0.23584208399999998
          ],
          [
           0.585984497
          ],
          [
           0.762013168
          ],
          [
           0.6849829070000001
          ],
          [
           0.676936933
          ],
          [
           0.290184964
          ],
          [
           0.48106822200000005
          ],
          [
           0.492766033
          ],
          [
           0.22185623399999999
          ],
          [
           0.053875998
          ],
          [
           0.082751144
          ],
          [
           0.385366225
          ],
          [
           0.702513961
          ],
          [
           0.91553156
          ],
          [
           0.082087436
          ],
          [
           0.251280378
          ],
          [
           0.41672181700000005
          ],
          [
           0.277032672
          ],
          [
           0.579539754
          ],
          [
           0.569363476
          ],
          [
           0.133399703
          ],
          [
           0.265045463
          ],
          [
           0.936571901
          ],
          [
           0.252618554
          ],
          [
           0.054033081
          ],
          [
           0.802481439
          ],
          [
           0.528197693
          ],
          [
           0.9515026
          ],
          [
           0.572121173
          ],
          [
           0.752938227
          ],
          [
           0.143857535
          ],
          [
           0.513484576
          ],
          [
           0.313322389
          ],
          [
           0.6877973959999999
          ],
          [
           0.37705984
          ],
          [
           0.348226142
          ],
          [
           0.67763282
          ],
          [
           0.24138752100000002
          ],
          [
           0.8506501790000001
          ],
          [
           0.22034810300000002
          ],
          [
           0.476445464
          ],
          [
           0.690324025
          ],
          [
           0.364695946
          ],
          [
           0.6492491970000001
          ],
          [
           0.9437019209999999
          ],
          [
           0.529645971
          ],
          [
           0.299097002
          ],
          [
           0.96696247
          ],
          [
           0.272005242
          ],
          [
           0.314161447
          ],
          [
           0.752020991
          ],
          [
           0.221882453
          ],
          [
           0.7203326729999999
          ],
          [
           0.379204782
          ],
          [
           0.60168653
          ],
          [
           0.582932673
          ],
          [
           0.950809853
          ],
          [
           0.58830141
          ],
          [
           0.880887227
          ],
          [
           0.467857701
          ],
          [
           0.8799021709999999
          ],
          [
           0.619844009
          ],
          [
           0.359002573
          ],
          [
           0.291511278
          ],
          [
           0.694157143
          ],
          [
           0.727960353
          ],
          [
           0.617703921
          ],
          [
           0.39581257
          ],
          [
           0.58317282
          ],
          [
           0.710332374
          ],
          [
           0.253753693
          ],
          [
           0.049412227999999996
          ],
          [
           0.728378695
          ],
          [
           0.432432881
          ],
          [
           0.58612345
          ],
          [
           0.052342373
          ],
          [
           0.053483902
          ],
          [
           0.518729378
          ],
          [
           0.933040208
          ],
          [
           0.7035542840000001
          ],
          [
           0.268989899
          ],
          [
           0.733006927
          ],
          [
           0.44435246700000003
          ],
          [
           0.5833946210000001
          ],
          [
           0.871172692
          ],
          [
           0.42876707799999997
          ],
          [
           0.30046084100000003
          ],
          [
           0.9533294590000001
          ],
          [
           0.606443965
          ],
          [
           0.90986815
          ],
          [
           0.714896449
          ],
          [
           0.49734950899999997
          ],
          [
           0.8530974859999999
          ],
          [
           0.721804145
          ],
          [
           0.303467328
          ],
          [
           0.664485096
          ],
          [
           0.27978062
          ],
          [
           0.569481665
          ],
          [
           0.628628926
          ],
          [
           0.088368123
          ],
          [
           0.733567326
          ],
          [
           0.537436778
          ],
          [
           0.638593691
          ],
          [
           0.954726948
          ],
          [
           0.632202332
          ],
          [
           0.642134651
          ],
          [
           0.744653087
          ],
          [
           0.115714007
          ],
          [
           0.48625007299999995
          ],
          [
           0.440356144
          ],
          [
           0.08272289
          ],
          [
           0.511591027
          ],
          [
           0.394627555
          ],
          [
           0.224394
          ],
          [
           0.626927584
          ],
          [
           0.290254057
          ],
          [
           0.779008053
          ],
          [
           0.86610579
          ],
          [
           0.873326081
          ],
          [
           0.49548916
          ],
          [
           0.594297695
          ],
          [
           0.9182015840000001
          ],
          [
           0.5770427539999999
          ],
          [
           0.019467671000000002
          ],
          [
           0.6702982820000001
          ],
          [
           0.546595316
          ],
          [
           0.591665146
          ],
          [
           0.42155819
          ],
          [
           0.6856085590000001
          ],
          [
           0.340303024
          ],
          [
           0.675626741
          ],
          [
           0.319067345
          ],
          [
           0.38849966399999997
          ],
          [
           0.706949589
          ],
          [
           0.559409515
          ],
          [
           0.687663508
          ],
          [
           0.7088045540000001
          ],
          [
           0.6818880940000001
          ],
          [
           0.42253510899999996
          ],
          [
           0.320004605
          ],
          [
           0.6582813679999999
          ],
          [
           0.634154867
          ],
          [
           0.7773320090000001
          ],
          [
           0.812677205
          ],
          [
           0.074280797
          ],
          [
           0.39600217
          ],
          [
           0.054933913
          ],
          [
           0.825058925
          ],
          [
           0.382642009
          ],
          [
           0.8687298179999999
          ],
          [
           0.588043346
          ],
          [
           0.891551577
          ],
          [
           0.10920046
          ],
          [
           0.647682781
          ],
          [
           0.724342512
          ],
          [
           0.07016304400000001
          ],
          [
           0.280882054
          ],
          [
           0.039113261
          ],
          [
           0.579641592
          ],
          [
           0.639000922
          ],
          [
           0.281745925
          ],
          [
           0.647857744
          ],
          [
           0.6479057970000001
          ],
          [
           0.875226264
          ],
          [
           0.567603305
          ],
          [
           0.262940591
          ],
          [
           0.268026042
          ],
          [
           0.40519133
          ],
          [
           0.479965451
          ],
          [
           0.33552403
          ],
          [
           0.777165379
          ],
          [
           0.42548796299999997
          ],
          [
           0.237986115
          ],
          [
           0.142522971
          ],
          [
           0.724176488
          ],
          [
           0.234698933
          ],
          [
           0.07818228099999999
          ],
          [
           0.855990155
          ],
          [
           0.270251765
          ],
          [
           0.435517841
          ],
          [
           0.762697513
          ],
          [
           0.46448725799999996
          ],
          [
           0.396112685
          ],
          [
           0.37638092100000003
          ],
          [
           0.29459467699999997
          ],
          [
           0.6944921209999999
          ],
          [
           0.622767949
          ],
          [
           0.8475597220000001
          ],
          [
           0.301463054
          ],
          [
           0.912937812
          ],
          [
           0.500017182
          ],
          [
           0.902587935
          ],
          [
           0.304517943
          ],
          [
           0.299165673
          ],
          [
           0.092014087
          ],
          [
           0.488548917
          ],
          [
           0.664664437
          ],
          [
           0.26534954899999996
          ],
          [
           0.723657021
          ],
          [
           0.149262385
          ],
          [
           0.04577339
          ],
          [
           0.69661064
          ],
          [
           0.42181486
          ],
          [
           0.733845785
          ],
          [
           0.418795386
          ],
          [
           0.677443529
          ],
          [
           0.26128360300000003
          ],
          [
           0.268527767
          ],
          [
           0.5443222360000001
          ],
          [
           0.431632036
          ],
          [
           0.981018141
          ],
          [
           0.21498072399999998
          ],
          [
           0.39472999299999995
          ],
          [
           0.122224944
          ],
          [
           0.297496875
          ],
          [
           0.37490443100000004
          ],
          [
           0.68698771
          ],
          [
           0.388549207
          ],
          [
           0.039296071
          ],
          [
           0.73553424
          ],
          [
           0.37929489299999997
          ],
          [
           0.7321233859999999
          ],
          [
           0.33922143899999996
          ],
          [
           0.659450594
          ],
          [
           0.054838642
          ],
          [
           0.640112102
          ],
          [
           0.30714170399999996
          ],
          [
           0.39661190700000004
          ],
          [
           0.420439161
          ],
          [
           0.24171497399999997
          ],
          [
           0.065893153
          ],
          [
           0.9105219370000001
          ],
          [
           0.697163103
          ],
          [
           0.072559853
          ],
          [
           0.81825094
          ],
          [
           0.311888815
          ],
          [
           0.961644609
          ],
          [
           0.816325524
          ],
          [
           0.14647302
          ],
          [
           0.548753945
          ],
          [
           0.946158087
          ],
          [
           0.293992717
          ],
          [
           0.331479643
          ],
          [
           0.9062200309999999
          ],
          [
           0.525540416
          ],
          [
           0.83301411
          ],
          [
           0.514849806
          ],
          [
           0.574609024
          ],
          [
           0.46871185299999996
          ],
          [
           0.71002775
          ],
          [
           0.645973276
          ],
          [
           0.229794416
          ],
          [
           0.551783393
          ],
          [
           0.055822990999999995
          ],
          [
           0.331750941
          ],
          [
           0.715520198
          ],
          [
           0.583924357
          ],
          [
           0.30695769100000003
          ],
          [
           0.7914782370000001
          ],
          [
           0.16423663900000002
          ],
          [
           0.065711219
          ],
          [
           0.948993132
          ],
          [
           0.080423835
          ],
          [
           0.052495426
          ],
          [
           0.566346135
          ],
          [
           0.3630266
          ],
          [
           0.605442195
          ],
          [
           0.6308505839999999
          ],
          [
           0.065791238
          ],
          [
           0.28681707100000003
          ],
          [
           0.685462839
          ],
          [
           0.260853706
          ],
          [
           0.659122429
          ],
          [
           0.44317392200000005
          ],
          [
           0.602063986
          ],
          [
           0.060366910999999995
          ],
          [
           0.781903153
          ],
          [
           0.5145798070000001
          ],
          [
           0.48388621299999995
          ],
          [
           0.600213807
          ],
          [
           0.49736405200000006
          ],
          [
           0.411145245
          ],
          [
           0.116999171
          ],
          [
           0.34189014100000004
          ],
          [
           0.746950848
          ],
          [
           0.39629274600000003
          ],
          [
           0.6221438429999999
          ],
          [
           0.335271141
          ],
          [
           0.140257137
          ],
          [
           0.081620681
          ],
          [
           0.069837569
          ],
          [
           0.46894000799999996
          ],
          [
           0.9908574170000001
          ],
          [
           0.896616832
          ],
          [
           0.255310561
          ],
          [
           0.22464526699999998
          ],
          [
           0.01991825
          ],
          [
           0.296480415
          ],
          [
           0.155458996
          ],
          [
           0.577916714
          ],
          [
           0.9563030309999999
          ],
          [
           0.813464394
          ],
          [
           0.529675785
          ],
          [
           0.287671353
          ],
          [
           0.48039136
          ],
          [
           0.28104482199999997
          ],
          [
           0.633196521
          ],
          [
           0.09332537699999999
          ],
          [
           0.28447398100000004
          ],
          [
           0.052223775
          ],
          [
           0.051129385
          ],
          [
           0.967405608
          ],
          [
           0.040045727999999996
          ],
          [
           0.9085829209999999
          ],
          [
           0.6621174160000001
          ],
          [
           0.42470320899999997
          ],
          [
           0.72207806
          ],
          [
           0.666193327
          ],
          [
           0.509681253
          ],
          [
           0.7513536209999999
          ],
          [
           0.279073124
          ],
          [
           0.074927
          ],
          [
           0.916359535
          ],
          [
           0.31040327
          ],
          [
           0.716604052
          ],
          [
           0.485587085
          ],
          [
           0.30607518100000003
          ],
          [
           0.477558204
          ],
          [
           0.7119239409999999
          ],
          [
           0.066348638
          ],
          [
           0.27453935100000004
          ],
          [
           0.31082252
          ],
          [
           0.47607312700000004
          ],
          [
           0.186795565
          ],
          [
           0.26654207
          ],
          [
           0.070231142
          ],
          [
           0.26951927
          ],
          [
           0.800004713
          ],
          [
           0.27363366699999997
          ],
          [
           0.14647919199999998
          ],
          [
           0.378318951
          ],
          [
           0.373849065
          ],
          [
           0.242170835
          ],
          [
           0.249796488
          ],
          [
           0.066591188
          ],
          [
           0.372956798
          ],
          [
           0.501812291
          ],
          [
           0.313097752
          ],
          [
           0.8802021959999999
          ],
          [
           0.51981893
          ],
          [
           0.364138746
          ],
          [
           0.49268289600000004
          ],
          [
           0.285732652
          ],
          [
           0.890114985
          ],
          [
           0.316419561
          ],
          [
           0.26866354
          ],
          [
           0.771975959
          ],
          [
           0.968888992
          ],
          [
           0.080334377
          ],
          [
           0.7368282209999999
          ],
          [
           0.30055807100000004
          ],
          [
           0.9179503929999999
          ],
          [
           0.465815039
          ],
          [
           0.054036682
          ],
          [
           0.963150123
          ],
          [
           0.08965350300000001
          ],
          [
           0.7076932340000001
          ],
          [
           0.636416037
          ],
          [
           0.539521117
          ],
          [
           0.114757161
          ],
          [
           0.357312419
          ],
          [
           0.67639834
          ],
          [
           0.43482839
          ],
          [
           0.032326387000000005
          ],
          [
           0.711365605
          ],
          [
           0.187486519
          ],
          [
           0.052789653
          ],
          [
           0.5058636129999999
          ],
          [
           0.927431873
          ],
          [
           0.6809842559999999
          ],
          [
           0.882822186
          ],
          [
           0.495705441
          ],
          [
           0.596240398
          ],
          [
           0.320610701
          ],
          [
           0.3413685
          ],
          [
           0.159681797
          ],
          [
           0.318133669
          ],
          [
           0.8393010479999999
          ],
          [
           0.06435925099999999
          ],
          [
           0.470216633
          ],
          [
           0.7762522909999999
          ],
          [
           0.635843383
          ],
          [
           0.62510543
          ],
          [
           0.52959065
          ],
          [
           0.986900166
          ],
          [
           0.078585688
          ],
          [
           0.233284267
          ],
          [
           0.363330957
          ],
          [
           0.7167169809999999
          ],
          [
           0.37588979200000006
          ],
          [
           0.223316889
          ],
          [
           0.299343986
          ],
          [
           0.538595767
          ],
          [
           0.730297124
          ],
          [
           0.66033077
          ],
          [
           0.435296009
          ],
          [
           0.326494313
          ],
          [
           0.854402708
          ],
          [
           0.5734938470000001
          ],
          [
           0.757786135
          ],
          [
           0.704743233
          ],
          [
           0.281575597
          ],
          [
           0.671968208
          ],
          [
           0.313726015
          ],
          [
           0.364338275
          ],
          [
           0.368216396
          ],
          [
           0.38629520700000003
          ],
          [
           0.655971865
          ],
          [
           0.5660252729999999
          ],
          [
           0.424999093
          ],
          [
           0.090110371
          ],
          [
           0.772350538
          ],
          [
           0.331047258
          ],
          [
           0.273716188
          ],
          [
           0.23877568
          ],
          [
           0.37307977200000003
          ],
          [
           0.331185868
          ],
          [
           0.256134531
          ],
          [
           0.678373225
          ],
          [
           0.43463833799999996
          ],
          [
           0.654668307
          ],
          [
           0.986681065
          ],
          [
           0.371520495
          ],
          [
           0.408359618
          ],
          [
           0.40932365
          ],
          [
           0.283412082
          ],
          [
           0.395246531
          ],
          [
           0.010984428000000001
          ],
          [
           0.306013869
          ],
          [
           0.266194806
          ],
          [
           0.299318521
          ],
          [
           0.318293946
          ],
          [
           0.74282591
          ],
          [
           0.09766432900000001
          ],
          [
           0.079666942
          ],
          [
           0.613258767
          ],
          [
           0.99443072
          ],
          [
           0.568835082
          ],
          [
           0.7080345159999999
          ],
          [
           0.37059271899999996
          ],
          [
           0.669867361
          ],
          [
           0.651295625
          ],
          [
           0.462531569
          ],
          [
           0.7196256190000001
          ],
          [
           0.45377248
          ],
          [
           0.394863946
          ],
          [
           0.323974831
          ],
          [
           0.146454724
          ],
          [
           0.7790670409999999
          ],
          [
           0.401828915
          ],
          [
           0.601479585
          ],
          [
           0.856423023
          ],
          [
           0.565242962
          ],
          [
           0.301225108
          ],
          [
           0.282108144
          ],
          [
           0.594378011
          ],
          [
           0.705312368
          ],
          [
           0.5408696279999999
          ],
          [
           0.319249574
          ],
          [
           0.36176613799999996
          ],
          [
           0.625000704
          ],
          [
           0.316287401
          ],
          [
           0.047239021
          ],
          [
           0.801182233
          ],
          [
           0.508474436
          ],
          [
           0.8178934109999999
          ],
          [
           0.399235601
          ],
          [
           0.9740519990000001
          ],
          [
           0.72241535
          ],
          [
           0.039564764
          ],
          [
           0.908684108
          ],
          [
           0.47301013399999997
          ],
          [
           0.7180496279999999
          ],
          [
           0.7634790690000001
          ],
          [
           0.6475965370000001
          ],
          [
           0.8949973859999999
          ],
          [
           0.22282590100000002
          ],
          [
           0.359012234
          ],
          [
           0.944910252
          ],
          [
           0.297877816
          ],
          [
           0.172517997
          ],
          [
           0.556586265
          ],
          [
           0.876481735
          ],
          [
           0.48667784299999994
          ],
          [
           0.459496733
          ],
          [
           0.47412637700000004
          ],
          [
           0.70101144
          ],
          [
           0.337597387
          ],
          [
           0.537578886
          ],
          [
           0.966992448
          ],
          [
           0.056849545
          ],
          [
           0.233249065
          ],
          [
           0.380054711
          ],
          [
           0.602929443
          ],
          [
           0.303847999
          ],
          [
           0.170194553
          ],
          [
           0.972168554
          ],
          [
           0.332168927
          ],
          [
           0.6887286890000001
          ],
          [
           0.110773401
          ],
          [
           0.273352065
          ],
          [
           0.572939678
          ],
          [
           0.491457065
          ],
          [
           0.281389999
          ],
          [
           0.821697261
          ],
          [
           0.6749776829999999
          ],
          [
           0.585134549
          ],
          [
           0.7105961159999999
          ],
          [
           0.040488789
          ],
          [
           0.568054311
          ],
          [
           0.321752928
          ],
          [
           0.611850232
          ],
          [
           0.926096887
          ],
          [
           0.618347428
          ],
          [
           0.667629785
          ],
          [
           0.39773346600000004
          ],
          [
           0.290875487
          ],
          [
           0.594375103
          ],
          [
           0.508255233
          ],
          [
           0.338571357
          ],
          [
           0.43230234700000003
          ],
          [
           0.302221978
          ],
          [
           0.87619819
          ],
          [
           0.080204492
          ],
          [
           0.092333532
          ],
          [
           0.09365644699999999
          ],
          [
           0.6084523510000001
          ],
          [
           0.732654598
          ],
          [
           0.944158855
          ],
          [
           0.26742308
          ],
          [
           0.731124201
          ],
          [
           0.661308553
          ],
          [
           0.38776626200000003
          ],
          [
           0.962585273
          ],
          [
           0.322067067
          ],
          [
           0.6340810929999999
          ],
          [
           0.475345002
          ],
          [
           0.35355897299999994
          ],
          [
           0.8859363159999999
          ],
          [
           0.876798106
          ],
          [
           0.221581064
          ],
          [
           0.394362449
          ],
          [
           0.8050356759999999
          ],
          [
           0.452898486
          ],
          [
           0.592520516
          ],
          [
           0.761026394
          ],
          [
           0.245049023
          ],
          [
           0.37213936299999995
          ],
          [
           0.681054822
          ],
          [
           0.7471431479999999
          ],
          [
           0.9207395290000001
          ],
          [
           0.097207945
          ],
          [
           0.699302998
          ],
          [
           0.721647006
          ],
          [
           0.5353561139999999
          ],
          [
           0.738293805
          ],
          [
           0.7064675509999999
          ],
          [
           0.67395061
          ],
          [
           0.7112122909999999
          ],
          [
           0.302558708
          ],
          [
           0.080097855
          ],
          [
           0.707010837
          ],
          [
           0.512248622
          ],
          [
           0.659627472
          ],
          [
           0.657559694
          ],
          [
           0.100645606
          ],
          [
           0.92665363
          ],
          [
           0.892879338
          ],
          [
           0.839157508
          ],
          [
           0.890959718
          ],
          [
           0.556754471
          ],
          [
           0.960361937
          ],
          [
           0.631037864
          ],
          [
           0.029838065
          ],
          [
           0.278843351
          ],
          [
           0.926157705
          ],
          [
           0.551504258
          ],
          [
           0.485942349
          ],
          [
           0.43723469600000003
          ],
          [
           0.25231801800000003
          ],
          [
           0.515466972
          ],
          [
           0.43725229600000004
          ],
          [
           0.493724207
          ],
          [
           0.83324725
          ],
          [
           0.317521477
          ],
          [
           0.28623456199999997
          ],
          [
           0.726833965
          ],
          [
           0.495667033
          ],
          [
           0.028645255
          ],
          [
           0.31967191699999997
          ],
          [
           0.674344598
          ],
          [
           0.7660371890000001
          ],
          [
           0.65456992
          ],
          [
           0.7565143809999999
          ],
          [
           0.528253719
          ],
          [
           0.38971949100000003
          ],
          [
           0.355087459
          ],
          [
           0.87015202
          ],
          [
           0.7390833059999999
          ],
          [
           0.305761846
          ],
          [
           0.411587673
          ],
          [
           0.063633094
          ],
          [
           0.735409395
          ],
          [
           0.605916669
          ],
          [
           0.539395562
          ],
          [
           0.566183532
          ],
          [
           0.674795186
          ],
          [
           0.070993366
          ],
          [
           0.12526410000000002
          ],
          [
           0.279601492
          ],
          [
           0.952174402
          ],
          [
           0.233806762
          ],
          [
           0.43724742899999997
          ],
          [
           0.925423095
          ],
          [
           0.433498634
          ],
          [
           0.52517902
          ],
          [
           0.088435529
          ],
          [
           0.447677638
          ],
          [
           0.647000631
          ],
          [
           0.9036033370000001
          ],
          [
           0.265790738
          ],
          [
           0.66419695
          ],
          [
           0.498120658
          ],
          [
           0.49018894399999996
          ],
          [
           0.747084187
          ],
          [
           0.906783648
          ],
          [
           0.678770917
          ],
          [
           0.348599859
          ],
          [
           0.294839683
          ],
          [
           0.705691827
          ],
          [
           0.211917931
          ],
          [
           0.063201124
          ],
          [
           0.276699543
          ],
          [
           0.672459395
          ],
          [
           0.8082059490000001
          ],
          [
           0.296538373
          ],
          [
           0.16012686199999998
          ],
          [
           0.439385032
          ],
          [
           0.555951416
          ],
          [
           0.386240112
          ],
          [
           0.158689619
          ],
          [
           0.214499855
          ],
          [
           0.299579429
          ],
          [
           0.569161656
          ],
          [
           0.488614799
          ],
          [
           0.8782950209999999
          ],
          [
           0.649380949
          ],
          [
           0.465713341
          ],
          [
           0.16813774
          ],
          [
           0.87529545
          ],
          [
           0.8411323409999999
          ],
          [
           0.33292081
          ],
          [
           0.5130478589999999
          ],
          [
           0.30505507800000004
          ],
          [
           0.8126269909999999
          ],
          [
           0.25096706
          ],
          [
           0.5024355779999999
          ],
          [
           0.45799074100000003
          ]
         ],
         "hovertemplate": "0=%{x}<br>1=%{y}<br>Feature=%{customdata[0]}<br>Label=%{marker.color}<extra></extra>",
         "legendgroup": "",
         "marker": {
          "color": [
           0,
           0,
           1,
           1,
           0,
           0,
           0,
           1,
           1,
           0,
           0,
           1,
           0,
           0,
           1,
           0,
           1,
           0,
           0,
           0,
           1,
           0,
           0,
           1,
           1,
           1,
           0,
           0,
           1,
           1,
           0,
           0,
           1,
           1,
           1,
           0,
           0,
           0,
           0,
           0,
           1,
           0,
           0,
           1,
           0,
           0,
           0,
           0,
           0,
           0,
           0,
           1,
           0,
           1,
           0,
           1,
           0,
           0,
           0,
           1,
           0,
           0,
           1,
           1,
           0,
           0,
           1,
           0,
           0,
           1,
           0,
           0,
           0,
           0,
           0,
           0,
           0,
           0,
           0,
           0,
           0,
           0,
           0,
           0,
           0,
           0,
           0,
           0,
           0,
           0,
           0,
           0,
           0,
           0,
           0,
           0,
           0,
           0,
           0,
           0,
           0,
           0,
           0,
           0,
           0,
           0,
           0,
           0,
           0,
           0,
           0,
           0,
           0,
           0,
           0,
           0,
           0,
           0,
           0,
           0,
           0,
           0,
           0,
           0,
           0,
           0,
           0,
           0,
           0,
           0,
           0,
           0,
           0,
           0,
           0,
           0,
           0,
           0,
           0,
           0,
           0,
           0,
           0,
           0,
           0,
           0,
           0,
           0,
           0,
           0,
           0,
           0,
           0,
           0,
           0,
           0,
           0,
           0,
           0,
           0,
           0,
           0,
           0,
           0,
           0,
           0,
           0,
           0,
           0,
           0,
           0,
           0,
           0,
           0,
           0,
           0,
           0,
           0,
           0,
           0,
           0,
           0,
           0,
           0,
           0,
           0,
           0,
           0,
           0,
           0,
           0,
           0,
           0,
           0,
           0,
           0,
           0,
           0,
           1,
           0,
           0,
           0,
           0,
           0,
           0,
           0,
           0,
           0,
           0,
           0,
           0,
           0,
           0,
           0,
           0,
           0,
           0,
           0,
           0,
           0,
           0,
           0,
           0,
           0,
           0,
           0,
           0,
           0,
           0,
           0,
           0,
           0,
           0,
           0,
           0,
           0,
           0,
           0,
           0,
           0,
           0,
           0,
           0,
           0,
           0,
           0,
           0,
           0,
           0,
           0,
           0,
           0,
           0,
           0,
           0,
           0,
           0,
           0,
           0,
           0,
           0,
           0,
           0,
           0,
           0,
           0,
           0,
           0,
           0,
           0,
           0,
           0,
           0,
           0,
           0,
           0,
           0,
           0,
           0,
           0,
           0,
           0,
           0,
           0,
           0,
           0,
           0,
           0,
           0,
           0,
           0,
           0,
           0,
           0,
           0,
           0,
           0,
           0,
           0,
           0,
           0,
           0,
           0,
           0,
           0,
           0,
           0,
           0,
           0,
           0,
           0,
           0,
           0,
           0,
           0,
           0,
           0,
           0,
           0,
           0,
           0,
           0,
           0,
           0,
           0,
           0,
           0,
           0,
           0,
           0,
           0,
           0,
           0,
           0,
           0,
           0,
           0,
           0,
           0,
           0,
           0,
           0,
           0,
           0,
           0,
           0,
           0,
           0,
           0,
           0,
           0,
           0,
           0,
           0,
           0,
           0,
           0,
           0,
           0,
           0,
           0,
           0,
           0,
           0,
           0,
           0,
           0,
           0,
           0,
           0,
           0,
           0,
           0,
           0,
           0,
           0,
           0,
           0,
           0,
           0,
           0,
           0,
           0,
           0,
           0,
           0,
           0,
           0,
           0,
           0,
           0,
           0,
           0,
           0,
           0,
           0,
           0,
           0,
           0,
           0,
           0,
           0,
           0,
           0,
           0,
           0,
           0,
           0,
           0,
           0,
           0,
           0,
           0,
           0,
           0,
           0,
           0,
           0,
           0,
           0,
           0,
           0,
           0,
           0,
           0,
           0,
           0,
           0,
           0,
           0,
           0,
           0,
           0,
           0,
           0,
           0,
           0,
           0,
           0,
           0,
           0,
           0,
           0,
           0,
           0,
           0,
           0,
           0,
           0,
           0,
           0,
           0,
           0,
           0,
           0,
           0,
           0,
           0,
           0,
           0,
           0,
           0,
           0,
           0,
           0,
           0,
           0,
           0,
           0,
           0,
           0,
           0,
           0,
           0,
           0,
           0,
           0,
           0,
           0,
           0,
           0,
           0,
           0,
           0,
           0,
           0,
           0,
           0,
           0,
           0,
           0,
           0,
           0,
           0,
           0,
           0,
           0,
           0,
           0,
           0,
           0,
           0,
           0,
           0,
           0,
           0,
           0,
           0,
           0,
           0,
           0,
           0,
           0,
           0,
           0,
           0,
           0,
           0,
           0,
           0,
           0,
           0,
           0,
           0,
           0,
           0,
           0,
           0,
           0,
           0,
           0,
           0,
           0,
           0,
           0,
           0,
           0,
           0,
           0,
           0,
           0,
           0,
           0,
           0,
           0,
           1,
           0,
           0,
           0,
           0,
           0,
           0,
           0,
           0,
           0,
           0,
           0,
           0,
           0,
           0,
           0,
           0,
           0,
           0,
           0,
           0,
           0,
           0,
           0,
           0,
           0,
           0,
           0,
           0,
           0,
           0,
           0,
           1,
           0,
           0,
           0,
           0,
           0,
           0,
           0,
           0,
           0,
           0,
           0,
           0,
           0,
           0,
           0,
           0,
           0,
           0,
           0,
           0,
           0,
           0,
           0,
           0,
           1,
           0,
           0,
           0,
           0,
           0,
           0,
           0,
           0,
           0,
           0,
           0,
           0,
           0,
           0,
           0,
           0,
           0,
           0,
           0,
           0,
           0,
           0,
           0,
           0,
           0,
           0,
           0,
           0,
           0,
           0,
           0,
           0,
           0,
           0,
           0,
           0,
           0,
           0,
           0,
           0,
           0,
           0,
           0,
           0,
           0,
           0,
           0,
           0,
           0,
           0,
           0,
           0,
           0,
           0,
           0,
           0,
           0,
           0,
           0,
           0,
           0,
           0,
           0,
           0,
           0,
           0,
           0,
           0,
           0,
           0,
           0,
           0,
           0,
           0,
           0,
           0,
           0,
           1,
           0,
           0,
           0,
           0,
           0,
           0,
           0,
           0,
           0,
           0,
           0,
           0,
           0,
           0,
           0,
           0,
           0,
           0,
           0,
           1,
           1,
           0,
           1,
           1,
           0,
           0,
           1,
           1,
           0,
           0,
           0,
           0,
           1,
           0,
           0,
           1,
           1,
           1,
           0,
           1,
           0,
           1,
           1,
           1,
           0,
           0,
           0,
           1,
           0,
           0,
           0,
           0,
           0,
           0,
           0,
           0,
           0,
           0,
           0,
           0,
           0,
           0,
           1,
           0,
           0,
           0,
           0,
           0,
           0,
           0,
           0,
           0,
           0,
           0,
           0,
           0,
           0,
           0,
           0,
           0,
           0,
           0,
           0,
           0,
           0,
           0,
           0,
           0,
           0,
           0,
           0,
           0,
           0,
           0,
           0,
           0,
           0,
           0,
           0,
           1,
           0,
           0,
           0,
           0,
           0,
           0,
           0,
           0,
           0,
           0,
           0,
           0,
           0,
           0,
           0,
           0,
           0,
           0,
           0,
           0,
           0,
           0,
           0,
           0,
           0,
           0,
           0,
           0,
           0,
           0,
           0,
           0,
           0,
           0,
           0,
           0,
           0,
           0,
           0,
           0,
           0,
           0,
           0,
           0,
           0,
           0,
           0,
           0,
           0,
           0,
           0,
           0,
           0,
           0,
           0,
           0,
           0,
           0,
           0,
           0,
           0,
           0,
           0,
           0,
           0,
           0,
           0,
           0,
           0,
           0,
           0,
           0,
           0,
           0,
           0,
           0,
           0,
           0,
           0,
           0,
           0,
           0,
           1,
           0,
           0,
           0,
           0,
           0,
           0,
           0,
           0,
           0,
           0,
           0,
           0,
           0,
           0,
           0,
           0,
           0,
           0,
           0,
           0,
           0,
           0,
           0,
           0,
           0,
           0,
           0,
           0,
           0,
           0,
           0,
           0,
           0,
           0,
           0,
           0,
           0,
           0,
           0,
           0,
           0,
           0,
           0,
           0,
           0,
           0,
           0,
           0,
           0,
           0,
           0,
           0,
           0,
           0,
           0,
           0,
           0,
           1,
           0,
           0,
           0,
           0,
           0,
           0,
           0,
           0,
           0,
           0,
           0,
           0,
           0,
           0,
           0,
           0,
           0,
           0,
           0,
           0,
           0,
           0,
           0,
           0,
           0,
           0,
           0,
           0,
           0,
           0,
           0,
           0,
           0,
           0,
           0,
           0,
           0,
           0,
           0,
           0,
           0,
           0,
           0,
           0,
           0,
           0,
           0,
           0,
           0,
           0,
           0,
           0,
           0,
           0,
           0,
           0,
           0,
           0,
           0,
           0,
           0,
           0,
           0,
           0,
           0,
           0,
           0,
           0,
           0,
           0,
           0,
           0,
           0,
           0,
           0,
           0,
           0,
           0
          ],
          "coloraxis": "coloraxis",
          "opacity": 0.7,
          "symbol": "circle"
         },
         "mode": "markers",
         "name": "",
         "orientation": "v",
         "showlegend": false,
         "type": "scatter",
         "x": [
          -0.9747052192687988,
          -1.9916919469833374,
          9.313319206237793,
          9.105300903320312,
          10.218268394470215,
          8.140335083007812,
          -0.28161314129829407,
          9.847768783569336,
          -0.6735794544219971,
          -1.8675343990325928,
          8.904481887817383,
          10.70664119720459,
          8.695816993713379,
          -0.18972648680210114,
          9.924819946289062,
          10.999212265014648,
          8.519667625427246,
          0.2743856906890869,
          8.83566665649414,
          9.69998836517334,
          7.960237503051758,
          -1.1491682529449463,
          9.642975807189941,
          -0.7784290313720703,
          8.69945240020752,
          -1.138514757156372,
          10.633705139160156,
          -0.12036393582820892,
          10.24242877960205,
          10.036724090576172,
          -0.555381715297699,
          -1.4880539178848267,
          -1.063970923423767,
          9.860633850097656,
          0.03574373200535774,
          -1.0470330715179443,
          0.91800856590271,
          -0.03884119912981987,
          -1.4672505855560303,
          8.324745178222656,
          1.5966237783432007,
          9.863855361938477,
          1.0374056100845337,
          8.280413627624512,
          9.640676498413086,
          11.0357666015625,
          9.68314266204834,
          -0.7358823418617249,
          10.757925033569336,
          1.136125922203064,
          9.2022123336792,
          8.7114896774292,
          0.232316792011261,
          11.021515846252441,
          8.342735290527344,
          7.581084728240967,
          7.9374098777771,
          -0.095957450568676,
          9.772696495056152,
          9.685585975646973,
          -0.2611437439918518,
          -0.3159061670303345,
          11.074312210083008,
          9.707550048828125,
          1.0668745040893555,
          9.632584571838379,
          0.7169054746627808,
          0.15344317257404327,
          10.711098670959473,
          8.724562644958496,
          10.132930755615234,
          9.71270751953125,
          -1.7041035890579224,
          8.781014442443848,
          -1.6881074905395508,
          -0.5013792514801025,
          10.783462524414062,
          10.693620681762695,
          -2.3510494232177734,
          -2.385251522064209,
          -2.1571204662323,
          -0.49388065934181213,
          10.41749382019043,
          -0.5555198788642883,
          -0.5547521710395813,
          -1.6408272981643677,
          0.7751622200012207,
          0.546196460723877,
          -1.7522215843200684,
          0.017053982242941856,
          -1.1192468404769897,
          8.874122619628906,
          0.6652380228042603,
          -0.044887565076351166,
          -0.9546273946762085,
          10.948790550231934,
          0.4747530221939087,
          -1.6139883995056152,
          -0.2891080379486084,
          10.627211570739746,
          -1.495043158531189,
          1.1274745464324951,
          -1.4253530502319336,
          0.5623987317085266,
          10.671136856079102,
          -1.556725263595581,
          0.03075200505554676,
          -2.085198163986206,
          -1.660589337348938,
          10.352861404418945,
          -0.20273125171661377,
          -1.5635229349136353,
          8.641310691833496,
          -0.6457093358039856,
          9.930971145629883,
          -0.5862045288085938,
          -0.11488411575555801,
          -0.0244293212890625,
          8.91236400604248,
          -0.08782169222831726,
          -0.6825810670852661,
          -1.3155758380889893,
          -2.166741371154785,
          1.247295618057251,
          -1.0443893671035767,
          -1.9712049961090088,
          -1.3421196937561035,
          9.266953468322754,
          -1.0558984279632568,
          -1.9179948568344116,
          -1.272789478302002,
          0.37781617045402527,
          9.315279006958008,
          -0.6769357323646545,
          1.0851664543151855,
          -0.5980798006057739,
          9.997794151306152,
          9.744253158569336,
          -1.9022164344787598,
          -1.0367450714111328,
          9.089385032653809,
          0.11034402996301651,
          0.4938303530216217,
          10.426778793334961,
          -0.022472070530056953,
          -1.965104341506958,
          9.124554634094238,
          1.3829315900802612,
          -1.957170844078064,
          -0.3936294913291931,
          0.024418914690613747,
          -0.7460767030715942,
          -1.9256089925765991,
          0.6341740489006042,
          -1.215142011642456,
          0.5064330697059631,
          1.1000418663024902,
          1.3908599615097046,
          -1.5125007629394531,
          8.355700492858887,
          -0.03952076658606529,
          -0.07634380459785461,
          -1.3764535188674927,
          -2.6182422637939453,
          8.690805435180664,
          1.1974632740020752,
          9.295190811157227,
          9.96194839477539,
          9.66740608215332,
          -0.6470029354095459,
          0.2283467799425125,
          -1.6071789264678955,
          8.626389503479004,
          9.49865436553955,
          -1.4787061214447021,
          1.0214972496032715,
          8.406257629394531,
          9.26922607421875,
          -1.9212242364883423,
          9.688760757446289,
          -1.7464457750320435,
          8.857210159301758,
          -1.259720802307129,
          10.138875007629395,
          10.021625518798828,
          -0.12619401514530182,
          9.436172485351562,
          -0.9373963475227356,
          -1.9091243743896484,
          -0.7548514604568481,
          1.3903827667236328,
          10.451308250427246,
          8.96973705291748,
          9.62568187713623,
          0.4415186643600464,
          -0.1129634901881218,
          -1.7483549118041992,
          -2.300013303756714,
          -1.3593600988388062,
          -1.2499183416366577,
          -1.2935521602630615,
          -0.790347695350647,
          -1.0409005880355835,
          10.475541114807129,
          9.312470436096191,
          -1.3407808542251587,
          -2.55765700340271,
          -1.4704630374908447,
          8.801063537597656,
          -1.6152111291885376,
          -1.304638147354126,
          9.356077194213867,
          10.495792388916016,
          -0.23934084177017212,
          -1.4439290761947632,
          -1.5828449726104736,
          -1.7592828273773193,
          10.816346168518066,
          10.898502349853516,
          -1.1043058633804321,
          9.391013145446777,
          -1.4259579181671143,
          10.594527244567871,
          -1.878588318824768,
          0.5337291359901428,
          -2.5133049488067627,
          1.2187459468841553,
          -2.0292770862579346,
          1.2173280715942383,
          8.800494194030762,
          -0.23201043903827667,
          0.8815420866012573,
          9.679911613464355,
          9.740716934204102,
          0.22047583758831024,
          -1.475233554840088,
          -1.354322910308838,
          -0.7157022953033447,
          9.352163314819336,
          9.137406349182129,
          -1.5479822158813477,
          -1.9910451173782349,
          9.294347763061523,
          -0.20918302237987518,
          9.68823528289795,
          0.6807218790054321,
          -1.502541422843933,
          -1.75230872631073,
          1.327331304550171,
          9.744606018066406,
          0.3994711935520172,
          -1.1858242750167847,
          9.5873441696167,
          0.008515119552612305,
          -1.6180073022842407,
          -0.8267830014228821,
          -0.8293662667274475,
          0.18161307275295258,
          8.815644264221191,
          -0.1635657101869583,
          9.231133460998535,
          -0.01638197898864746,
          10.132420539855957,
          -1.3962281942367554,
          0.3902026116847992,
          -0.5073997974395752,
          9.934067726135254,
          0.15938909351825714,
          -1.7061446905136108,
          -2.2878496646881104,
          -1.866925597190857,
          -0.8260335326194763,
          -0.6702019572257996,
          9.150529861450195,
          8.45811939239502,
          0.9316492676734924,
          11.050562858581543,
          10.457734107971191,
          -1.8438454866409302,
          -1.8221282958984375,
          1.3029747009277344,
          9.241676330566406,
          -1.9054585695266724,
          -0.3770769536495209,
          9.990423202514648,
          -1.8832898139953613,
          0.4468036890029907,
          -1.485666036605835,
          0.38639509677886963,
          -1.3414652347564697,
          0.1020858958363533,
          -1.823244571685791,
          0.1316797286272049,
          -1.3185303211212158,
          -0.5436198711395264,
          8.777832984924316,
          8.990839004516602,
          -2.606027126312256,
          -0.36498332023620605,
          -0.8574919700622559,
          -1.5973409414291382,
          0.05913182720541954,
          10.51150894165039,
          9.763835906982422,
          8.999598503112793,
          -1.2813259363174438,
          -1.868431806564331,
          -1.2645121812820435,
          1.5239461660385132,
          10.039785385131836,
          9.909429550170898,
          1.5236432552337646,
          8.89739990234375,
          9.151830673217773,
          -1.8610787391662598,
          -1.0456444025039673,
          -0.5886141657829285,
          -0.3788931667804718,
          -1.3491953611373901,
          -1.0168468952178955,
          -1.6732419729232788,
          -0.990180253982544,
          9.670207023620605,
          -1.3234894275665283,
          -1.2414809465408325,
          -1.0136598348617554,
          10.250537872314453,
          9.960541725158691,
          9.765364646911621,
          8.939608573913574,
          0.30731984972953796,
          10.900712013244629,
          0.34813228249549866,
          0.44159016013145447,
          0.5825819373130798,
          10.517858505249023,
          -1.9865063428878784,
          -0.6338225603103638,
          9.53188419342041,
          10.489053726196289,
          -0.7237350940704346,
          -2.1112866401672363,
          8.840938568115234,
          0.7295851111412048,
          9.92810344696045,
          10.23949146270752,
          -0.7498422265052795,
          1.521450161933899,
          9.252777099609375,
          10.896403312683105,
          -1.1180967092514038,
          -0.711739718914032,
          -0.17604583501815796,
          -0.8565739989280701,
          0.42086261510849,
          -2.1485018730163574,
          -0.37246620655059814,
          -1.363807201385498,
          10.718746185302734,
          -1.0317378044128418,
          -1.9501755237579346,
          -1.6834660768508911,
          -0.4417571723461151,
          1.4601701498031616,
          9.45307445526123,
          -1.3202619552612305,
          10.585823059082031,
          0.07072063535451889,
          0.38474568724632263,
          -2.0095741748809814,
          0.9282763600349426,
          -1.4682749509811401,
          10.689011573791504,
          9.653278350830078,
          9.710084915161133,
          1.0935472249984741,
          -1.3180207014083862,
          8.967894554138184,
          -0.8419879674911499,
          -0.032873526215553284,
          8.762772560119629,
          -0.8236473798751831,
          -1.455649495124817,
          -1.9757287502288818,
          -1.9341788291931152,
          0.42764461040496826,
          -0.10966655611991882,
          -0.15990598499774933,
          -1.3498094081878662,
          -1.6295404434204102,
          0.6593310832977295,
          0.4033772349357605,
          -0.967768669128418,
          -0.8050696849822998,
          -0.12997126579284668,
          -0.8627563118934631,
          -1.588456153869629,
          9.706766128540039,
          -1.0879848003387451,
          -1.7489333152770996,
          -0.30297088623046875,
          0.09757094830274582,
          1.5099760293960571,
          -1.2966461181640625,
          9.981878280639648,
          -0.15230637788772583,
          9.588531494140625,
          -0.7219743728637695,
          8.331069946289062,
          -2.3081443309783936,
          -0.9521589279174805,
          -0.17904891073703766,
          10.781868934631348,
          -1.2391473054885864,
          -1.7686761617660522,
          0.926408588886261,
          0.8387638926506042,
          -1.2167752981185913,
          9.90823745727539,
          10.294665336608887,
          -1.637937307357788,
          -0.5079153776168823,
          -1.4177899360656738,
          -1.7151309251785278,
          9.838397026062012,
          0.71558678150177,
          -0.3388335108757019,
          8.95965576171875,
          -1.4399986267089844,
          10.788771629333496,
          -0.5026348233222961,
          -0.04506310075521469,
          -0.4393216371536255,
          8.955344200134277,
          10.077428817749023,
          -0.6915502548217773,
          0.21369805932044983,
          10.661691665649414,
          -1.7276883125305176,
          9.402990341186523,
          -1.6660680770874023,
          -2.361475944519043,
          9.569049835205078,
          10.944605827331543,
          -1.4420827627182007,
          8.432684898376465,
          10.398965835571289,
          0.8146765232086182,
          9.633035659790039,
          9.199182510375977,
          0.3857077956199646,
          10.073147773742676,
          1.3003636598587036,
          -1.2675782442092896,
          8.627667427062988,
          -1.120369791984558,
          -1.165871262550354,
          9.88194465637207,
          -2.20365047454834,
          -1.91119384765625,
          -1.9973695278167725,
          9.783838272094727,
          0.9365213513374329,
          -2.2892751693725586,
          -0.8131367564201355,
          -1.1751278638839722,
          -1.7089626789093018,
          10.23118782043457,
          1.1512812376022339,
          9.692964553833008,
          -1.001827359199524,
          0.2833128869533539,
          0.8834720253944397,
          -0.85499507188797,
          0.8996548056602478,
          0.4797356426715851,
          -0.32769522070884705,
          8.781598091125488,
          -0.3869840204715729,
          -0.7973451018333435,
          1.4576269388198853,
          -0.18944256007671356,
          9.03276252746582,
          10.613070487976074,
          -0.1171356812119484,
          10.852988243103027,
          -1.6869302988052368,
          -1.6419883966445923,
          -0.5950459837913513,
          9.042222023010254,
          -1.4327255487442017,
          8.6275053024292,
          8.510213851928711,
          10.563515663146973,
          9.462002754211426,
          9.3274564743042,
          -2.27329158782959,
          8.379446983337402,
          0.495846152305603,
          0.0400729663670063,
          -1.8914909362792969,
          -0.3719530403614044,
          -1.0590026378631592,
          -1.6928763389587402,
          -1.467139482498169,
          9.079750061035156,
          -1.95626962184906,
          1.5923010110855103,
          -1.7808618545532227,
          8.8811674118042,
          10.379683494567871,
          1.4278631210327148,
          -2.0783333778381348,
          10.458230018615723,
          -2.511392593383789,
          0.9781208634376526,
          0.5498480796813965,
          -2.0439112186431885,
          -1.2911474704742432,
          -2.1128320693969727,
          -1.7776610851287842,
          10.43526554107666,
          8.868959426879883,
          9.833956718444824,
          10.904111862182617,
          0.08193717896938324,
          -1.8848952054977417,
          0.14547063410282135,
          -1.42067551612854,
          -1.282167673110962,
          -1.4743770360946655,
          10.594022750854492,
          8.417058944702148,
          0.8205408453941345,
          8.462592124938965,
          9.78416919708252,
          -1.3023900985717773,
          10.546684265136719,
          -0.2777023911476135,
          -2.365201950073242,
          -1.2743815183639526,
          8.718999862670898,
          -1.2350307703018188,
          -1.8483612537384033,
          1.3613762855529785,
          9.159234046936035,
          -1.877266764640808,
          9.00469970703125,
          9.21514892578125,
          -1.769703984260559,
          0.6500126123428345,
          -0.4468226730823517,
          10.338706016540527,
          -1.5551625490188599,
          0.7718613743782043,
          -0.8380265235900879,
          8.336540222167969,
          -1.5504424571990967,
          10.105573654174805,
          -0.8828889727592468,
          10.997160911560059,
          10.846563339233398,
          0.8623762130737305,
          8.746274948120117,
          0.1469118595123291,
          -2.62956166267395,
          1.028962254524231,
          -0.5492294430732727,
          9.543718338012695,
          8.567980766296387,
          -1.0688502788543701,
          8.57203197479248,
          9.978522300720215,
          10.963475227355957,
          -1.9181699752807617,
          10.050944328308105,
          -0.7359138131141663,
          0.41296079754829407,
          -0.4534788131713867,
          -0.7045466899871826,
          -1.5262069702148438,
          -0.9877527356147766,
          9.658476829528809,
          -0.9623037576675415,
          1.5114588737487793,
          -2.5265700817108154,
          -1.1144235134124756,
          0.5999607443809509,
          0.4283578395843506,
          10.627241134643555,
          -0.22363676130771637,
          1.5008264780044556,
          -0.6881712675094604,
          9.960084915161133,
          -0.7382134795188904,
          0.4722290337085724,
          9.784062385559082,
          10.559684753417969,
          8.799662590026855,
          10.909019470214844,
          9.401616096496582,
          -1.078630805015564,
          8.941072463989258,
          -0.1153249517083168,
          8.701886177062988,
          -1.9144997596740723,
          10.011504173278809,
          10.961304664611816,
          -0.15734504163265228,
          -1.630334734916687,
          8.806071281433105,
          0.01170061994343996,
          -1.7840211391448975,
          -0.7704602479934692,
          -2.050558567047119,
          1.050007700920105,
          -1.7917087078094482,
          -1.8155699968338013,
          -0.6253691911697388,
          -1.0784399509429932,
          -0.5197603702545166,
          0.3181357979774475,
          0.4838500916957855,
          -0.960893988609314,
          9.753241539001465,
          10.096176147460938,
          -0.06588064879179001,
          10.111494064331055,
          -0.6814953088760376,
          -2.1703362464904785,
          -0.05637815222144127,
          -2.3315038681030273,
          -1.7751823663711548,
          10.412227630615234,
          0.006049882620573044,
          -0.22196684777736664,
          0.06017574667930603,
          -0.45111408829689026,
          8.615872383117676,
          -0.530967116355896,
          9.337567329406738,
          -1.592867136001587,
          -0.21972522139549255,
          0.02942323312163353,
          10.644166946411133,
          -1.3274338245391846,
          9.482057571411133,
          -0.7018181681632996,
          9.193741798400879,
          -0.8357902765274048,
          1.1662063598632812,
          1.0572909116744995,
          -1.0399861335754395,
          9.356592178344727,
          0.9124309420585632,
          -1.4558789730072021,
          10.614115715026855,
          -0.4101301431655884,
          -0.338707834482193,
          10.473170280456543,
          10.290982246398926,
          0.22831915318965912,
          -0.8300200700759888,
          -0.8887917995452881,
          8.858529090881348,
          -1.3127434253692627,
          9.844450950622559,
          -0.7453932166099548,
          -2.2156786918640137,
          1.1021093130111694,
          -1.0858343839645386,
          -2.098911762237549,
          0.5384905338287354,
          -0.5291141271591187,
          8.390301704406738,
          0.8889008164405823,
          -1.6348850727081299,
          8.511773109436035,
          9.06755256652832,
          -0.6575719118118286,
          9.671516418457031,
          1.093988060951233,
          -0.6839662790298462,
          8.522772789001465,
          0.9576115608215332,
          0.9968956112861633,
          -1.96944260597229,
          1.5710941553115845,
          8.852810859680176,
          10.102760314941406,
          9.636536598205566,
          9.488734245300293,
          10.779112815856934,
          -1.3714265823364258,
          8.794300079345703,
          8.472661018371582,
          -0.9728918671607971,
          -2.4466986656188965,
          -1.7561793327331543,
          9.443781852722168,
          -1.8163124322891235,
          -2.579216241836548,
          -0.17075535655021667,
          10.345954895019531,
          -1.6779680252075195,
          -0.5889460444450378,
          9.25346565246582,
          10.275533676147461,
          -0.4904840290546417,
          8.4213228225708,
          9.736900329589844,
          1.3835020065307617,
          -0.3760436475276947,
          -2.057363986968994,
          -0.23401491343975067,
          8.249175071716309,
          8.116798400878906,
          11.002656936645508,
          -0.4337512254714966,
          0.02819967083632946,
          9.00552749633789,
          0.26406288146972656,
          -1.7382795810699463,
          8.70284652709961,
          -1.0866379737854004,
          -1.0316689014434814,
          8.983990669250488,
          8.571198463439941,
          9.62580680847168,
          8.234678268432617,
          -1.2427645921707153,
          10.828378677368164,
          -0.4386596381664276,
          -0.3602589964866638,
          -1.0421812534332275,
          8.698007583618164,
          -0.3331755995750427,
          -2.053583860397339,
          -2.459261417388916,
          8.827778816223145,
          -0.5531011819839478,
          -0.3375774025917053,
          -0.3827342689037323,
          8.67377758026123,
          -1.1344560384750366,
          -2.5410614013671875,
          -0.9579819440841675,
          8.611875534057617,
          9.664346694946289,
          10.309653282165527,
          -1.972909688949585,
          10.554104804992676,
          -0.5555137395858765,
          0.41690507531166077,
          1.3681312799453735,
          9.450281143188477,
          -2.371002435684204,
          -0.19508184492588043,
          10.459619522094727,
          1.4529496431350708,
          10.156563758850098,
          0.5111202001571655,
          0.7054026126861572,
          0.7549383044242859,
          -0.9537075757980347,
          0.05667257681488991,
          0.016995752230286598,
          10.495972633361816,
          -0.44354864954948425,
          10.403606414794922,
          -2.232398271560669,
          -0.3419972360134125,
          -0.6982614994049072,
          -0.28235840797424316,
          -0.81223464012146,
          1.5921127796173096,
          -0.5496848821640015,
          -1.7644270658493042,
          -1.8125540018081665,
          -0.7739938497543335,
          -0.6493083238601685,
          -0.16484284400939941,
          -1.6060022115707397,
          0.06449098885059357,
          -1.8523403406143188,
          10.216409683227539,
          0.137716144323349,
          8.422111511230469,
          -2.6113951206207275,
          -2.4156341552734375,
          10.038427352905273,
          -1.2558914422988892,
          8.871841430664062,
          -1.3315218687057495,
          0.3889933228492737,
          -1.3475239276885986,
          1.2280044555664062,
          9.59945297241211,
          -0.8083393573760986,
          1.4592000246047974,
          -0.931474506855011,
          -0.5342435240745544,
          -1.373323917388916,
          -1.9838708639144897,
          9.152158737182617,
          1.1291189193725586,
          0.9590862393379211,
          -1.044758677482605,
          9.173396110534668,
          0.7455666661262512,
          10.685283660888672,
          8.560311317443848,
          -1.374980092048645,
          -1.5815644264221191,
          -1.6322073936462402,
          9.544276237487793,
          -1.4398897886276245,
          10.131898880004883,
          8.459477424621582,
          9.202229499816895,
          8.703317642211914,
          9.17012882232666,
          -2.5598232746124268,
          -1.5529513359069824,
          -1.9046839475631714,
          0.2390359491109848,
          9.101274490356445,
          -2.4097464084625244,
          -1.118466854095459,
          10.660323143005371,
          -0.8589585423469543,
          -0.9790928363800049,
          11.032682418823242,
          8.562041282653809,
          9.77513313293457,
          8.730828285217285,
          10.946715354919434,
          10.41788387298584,
          8.634805679321289,
          0.7620627284049988,
          -0.7276003360748291,
          0.39829912781715393,
          9.309368133544922,
          -1.6942723989486694,
          -0.21070925891399384,
          8.319778442382812,
          -2.053774356842041,
          -0.7359176874160767,
          -0.07495514303445816,
          -0.9139797687530518,
          8.37532901763916,
          -1.738313913345337,
          0.6996281743049622,
          -0.7002125382423401,
          -1.4125096797943115,
          -2.2594146728515625,
          -1.3699951171875,
          8.974007606506348,
          -2.5749640464782715,
          8.793285369873047,
          -1.5219552516937256,
          -2.2805519104003906,
          -0.9385637044906616,
          -0.9400785565376282,
          -1.9784083366394043,
          9.79452133178711,
          -0.10709135979413986,
          -2.45430850982666,
          8.780261039733887,
          0.09959210455417633,
          9.198614120483398,
          0.6572123169898987,
          0.6006079316139221,
          -0.11812639236450195,
          -0.5005743503570557,
          0.4934047758579254,
          0.14009401202201843,
          -1.750575304031372,
          -0.2560707926750183,
          9.302427291870117,
          0.16196171939373016,
          -1.2563952207565308,
          -2.0588247776031494,
          9.930049896240234,
          9.781416893005371,
          8.665853500366211,
          -0.797120988368988,
          -0.10500461608171463,
          -0.7657354474067688,
          8.562960624694824,
          10.61839771270752,
          10.046781539916992,
          9.802177429199219,
          -2.0486345291137695,
          10.1395263671875,
          -0.5446121096611023,
          -0.5844851732254028,
          0.9108344912528992,
          -1.4195548295974731,
          -1.0195050239562988,
          -1.4962105751037598,
          0.05907096713781357,
          1.3993321657180786,
          10.201790809631348,
          -1.1462609767913818,
          10.458431243896484,
          9.179643630981445,
          -1.4399574995040894,
          9.739579200744629,
          -1.8003736734390259,
          -0.8787357211112976,
          0.3782844841480255,
          0.823022723197937,
          -1.7367109060287476,
          8.861555099487305,
          10.20995807647705,
          -0.2380528450012207,
          -2.0409014225006104,
          8.91329288482666,
          8.70581340789795,
          -1.6554651260375977,
          9.364684104919434,
          -0.29676103591918945,
          -1.644051194190979,
          -2.3220834732055664,
          0.11971049010753632,
          -0.7928135395050049,
          -0.34723812341690063,
          -0.5289550423622131,
          -2.2801082134246826,
          10.347238540649414,
          0.41195148229599,
          0.6819384694099426,
          10.2642183303833,
          9.753020286560059,
          10.566827774047852,
          0.44301775097846985,
          9.349588394165039,
          -1.9359185695648193,
          8.731245994567871,
          9.640215873718262,
          -1.2289727926254272,
          -2.49053955078125,
          8.397098541259766,
          -1.3400309085845947,
          9.067940711975098,
          -1.6658633947372437,
          -1.272105097770691,
          -1.809029459953308,
          -0.7836563587188721,
          -0.35615774989128113,
          -0.7108249664306641,
          10.066956520080566,
          9.729880332946777,
          -0.3608461916446686,
          0.8225105404853821,
          8.792332649230957,
          9.677803993225098,
          8.58968734741211,
          -1.737712025642395,
          0.328916996717453,
          -0.04661703109741211,
          9.242292404174805,
          -2.005335807800293,
          -0.4483684003353119,
          1.475582242012024,
          -1.2639682292938232,
          -1.5072673559188843,
          8.91844367980957,
          0.4218747019767761,
          10.881390571594238,
          -0.8099163174629211,
          -0.6072297096252441,
          10.223957061767578,
          -1.9263302087783813,
          -0.0003133752616122365,
          -0.5952816605567932,
          10.934343338012695,
          -0.5458190441131592,
          8.432611465454102,
          8.815469741821289,
          -1.51348876953125,
          -2.527655839920044,
          0.015513921156525612,
          10.870217323303223,
          0.2867172360420227,
          -1.7230861186981201,
          8.94428539276123,
          8.610733032226562,
          10.821931838989258,
          8.505247116088867,
          -1.408321738243103,
          -1.3519971370697021,
          9.25588321685791,
          9.289390563964844,
          -0.4026868939399719,
          0.02159636653959751,
          -2.6149628162384033,
          9.037195205688477,
          10.864815711975098
         ],
         "xaxis": "x",
         "y": [
          3.681525230407715,
          9.455951690673828,
          3.8823678493499756,
          8.178406715393066,
          3.9647347927093506,
          7.297266483306885,
          9.628734588623047,
          8.112408638000488,
          6.06366491317749,
          2.680036783218384,
          9.000415802001953,
          4.519053936004639,
          7.6739630699157715,
          6.920475482940674,
          5.0201945304870605,
          6.600407123565674,
          8.045401573181152,
          8.370604515075684,
          4.565126895904541,
          7.559943675994873,
          7.326064109802246,
          4.110388278961182,
          4.537286758422852,
          6.126255035400391,
          6.700927257537842,
          4.414906024932861,
          4.661917686462402,
          6.924665927886963,
          6.758041858673096,
          6.583895683288574,
          6.338533878326416,
          9.923336029052734,
          4.9938554763793945,
          6.043570041656494,
          6.158113956451416,
          4.176191806793213,
          7.7835164070129395,
          6.9698262214660645,
          3.9270901679992676,
          7.527442932128906,
          8.333661079406738,
          6.74371862411499,
          7.5839691162109375,
          6.525826930999756,
          5.8315205574035645,
          6.652369022369385,
          5.895700454711914,
          6.2043843269348145,
          4.648808002471924,
          8.67816162109375,
          8.788516998291016,
          4.795294284820557,
          6.519028663635254,
          6.641853332519531,
          7.163299560546875,
          7.357456207275391,
          7.602229595184326,
          6.091168403625488,
          6.158555507659912,
          4.492663860321045,
          6.232059001922607,
          7.979372024536133,
          7.054247856140137,
          6.775700569152832,
          7.884305477142334,
          5.715342044830322,
          7.316671371459961,
          8.081514358520508,
          4.431685924530029,
          7.272899627685547,
          6.8894500732421875,
          8.040934562683105,
          3.4621737003326416,
          8.332606315612793,
          1.0525041818618774,
          2.7379353046417236,
          4.230907440185547,
          6.788435935974121,
          1.346022367477417,
          1.87509286403656,
          1.8767285346984863,
          2.2608234882354736,
          4.663410186767578,
          7.840316295623779,
          9.304509162902832,
          9.00063419342041,
          8.473084449768066,
          9.058564186096191,
          6.623412609100342,
          2.8285624980926514,
          2.7744691371917725,
          9.018583297729492,
          7.364554405212402,
          9.42591667175293,
          10.036528587341309,
          7.131834506988525,
          7.1507720947265625,
          8.488885879516602,
          8.17245101928711,
          4.413930892944336,
          3.613893508911133,
          8.736174583435059,
          8.598592758178711,
          6.501655101776123,
          7.5551438331604,
          2.158390760421753,
          7.629165172576904,
          8.718016624450684,
          1.1669440269470215,
          6.914317607879639,
          2.390129566192627,
          3.8152194023132324,
          9.038476943969727,
          2.5714094638824463,
          3.7982523441314697,
          1.920666217803955,
          10.106438636779785,
          9.39663028717041,
          8.233967781066895,
          8.390897750854492,
          1.8248196840286255,
          6.5192766189575195,
          8.63134479522705,
          7.9634809494018555,
          7.601953506469727,
          9.21127986907959,
          9.845515251159668,
          8.074824333190918,
          9.263604164123535,
          8.979873657226562,
          6.302844047546387,
          6.909952640533447,
          8.674703598022461,
          9.698695182800293,
          9.047795295715332,
          3.224372386932373,
          4.2233781814575195,
          8.550950050354004,
          9.548596382141113,
          7.211554527282715,
          8.590861320495605,
          2.911742687225342,
          6.429812431335449,
          4.2640790939331055,
          8.42944049835205,
          2.118591785430908,
          8.121562004089355,
          8.542647361755371,
          9.583703994750977,
          7.1659440994262695,
          2.6428394317626953,
          1.9612456560134888,
          7.369007110595703,
          6.330790996551514,
          4.002737522125244,
          7.5515851974487305,
          7.852357387542725,
          8.298267364501953,
          1.239189624786377,
          7.903815269470215,
          10.016231536865234,
          6.205212116241455,
          1.4402669668197632,
          1.414448618888855,
          7.794677734375,
          8.79114818572998,
          8.638580322265625,
          6.302836894989014,
          4.707458972930908,
          7.643261909484863,
          7.598012447357178,
          8.434717178344727,
          6.87928581237793,
          3.934492349624634,
          7.257297039031982,
          8.956491470336914,
          7.123051166534424,
          3.8197810649871826,
          9.605888366699219,
          8.345563888549805,
          7.2792134284973145,
          7.026902198791504,
          10.025455474853516,
          6.583493232727051,
          6.44370174407959,
          10.081067085266113,
          6.420534610748291,
          6.353232383728027,
          2.2833588123321533,
          1.9842113256454468,
          8.452587127685547,
          3.9264214038848877,
          8.987136840820312,
          3.727886438369751,
          9.666465759277344,
          9.811903953552246,
          7.282769203186035,
          8.5730619430542,
          3.58735990524292,
          7.591121673583984,
          6.434148788452148,
          7.261500835418701,
          9.895414352416992,
          4.684566020965576,
          3.7856483459472656,
          10.003680229187012,
          1.9710392951965332,
          6.421452045440674,
          7.254117488861084,
          9.602725982666016,
          7.302595615386963,
          6.379703521728516,
          6.95704460144043,
          2.2162673473358154,
          6.525753974914551,
          7.027983665466309,
          9.589457511901855,
          6.777625560760498,
          7.164511203765869,
          6.970361232757568,
          3.771970748901367,
          8.48277473449707,
          4.529788017272949,
          1.149778962135315,
          9.543330192565918,
          1.9997481107711792,
          7.6718034744262695,
          2.3443033695220947,
          8.989872932434082,
          6.284870147705078,
          9.704195976257324,
          7.454740047454834,
          8.364078521728516,
          8.492581367492676,
          7.087482929229736,
          8.4548978805542,
          8.964258193969727,
          2.097783088684082,
          7.963820934295654,
          3.715688943862915,
          6.5550618171691895,
          8.11403751373291,
          4.021835803985596,
          9.082590103149414,
          7.75137186050415,
          9.21865177154541,
          2.348773241043091,
          1.437034249305725,
          7.589749336242676,
          4.329446315765381,
          6.0368523597717285,
          7.633503437042236,
          8.024324417114258,
          6.140873432159424,
          2.2569363117218018,
          6.187300205230713,
          3.4841020107269287,
          9.178211212158203,
          6.282628059387207,
          8.569462776184082,
          3.9986631870269775,
          6.030200481414795,
          3.859346628189087,
          7.468574047088623,
          6.249898433685303,
          9.027607917785645,
          8.455540657043457,
          9.898633003234863,
          1.1561927795410156,
          8.207752227783203,
          8.415382385253906,
          10.093595504760742,
          2.7968952655792236,
          3.931870222091675,
          7.714305877685547,
          6.646173000335693,
          6.7151665687561035,
          3.918882369995117,
          8.652189254760742,
          2.2618913650512695,
          7.7317376136779785,
          4.0517191886901855,
          2.4241294860839844,
          3.2277352809906006,
          3.8716156482696533,
          8.756174087524414,
          8.212058067321777,
          8.544296264648438,
          9.278450965881348,
          3.608839750289917,
          2.6577727794647217,
          8.864717483520508,
          7.548052787780762,
          8.645233154296875,
          7.9655070304870605,
          8.764775276184082,
          7.620527744293213,
          1.532492756843567,
          7.482836723327637,
          3.563716411590576,
          9.23998737335205,
          9.265189170837402,
          6.845766067504883,
          7.766685485839844,
          7.270493984222412,
          1.0512703657150269,
          8.227907180786133,
          1.3050117492675781,
          8.378028869628906,
          6.4200544357299805,
          6.4220476150512695,
          8.37130069732666,
          6.791280746459961,
          3.754758358001709,
          7.134919166564941,
          3.5227932929992676,
          7.5735626220703125,
          9.363946914672852,
          0.9964426159858704,
          9.894631385803223,
          9.14126205444336,
          2.4321863651275635,
          8.19301700592041,
          8.83317756652832,
          1.8789851665496826,
          3.671417474746704,
          8.105749130249023,
          8.349786758422852,
          5.052343368530273,
          7.481597900390625,
          9.833928108215332,
          6.573135852813721,
          6.055767059326172,
          7.131004810333252,
          9.021531105041504,
          4.49551248550415,
          9.044791221618652,
          3.1558806896209717,
          6.620594024658203,
          6.2950358390808105,
          3.2684385776519775,
          2.4333248138427734,
          8.234696388244629,
          6.368270397186279,
          8.118231773376465,
          4.775509834289551,
          9.69725513458252,
          8.64267349243164,
          8.02543830871582,
          6.573305130004883,
          7.585413932800293,
          2.904395818710327,
          8.539897918701172,
          10.121310234069824,
          8.19127082824707,
          2.4418118000030518,
          6.413576126098633,
          8.217737197875977,
          7.1305413246154785,
          4.276175498962402,
          9.24953556060791,
          8.367645263671875,
          6.4014482498168945,
          8.1633939743042,
          8.186257362365723,
          1.5861389636993408,
          6.880060195922852,
          9.544564247131348,
          9.205493927001953,
          8.841060638427734,
          7.861655235290527,
          6.502983570098877,
          4.19469690322876,
          5.138981342315674,
          8.205921173095703,
          7.714314937591553,
          1.0690581798553467,
          7.4900922775268555,
          10.099949836730957,
          3.0248496532440186,
          7.9856696128845215,
          6.849902153015137,
          1.389219045639038,
          2.947458028793335,
          9.087052345275879,
          7.130578517913818,
          7.492610454559326,
          7.344730854034424,
          7.561013221740723,
          3.7335634231567383,
          8.12563419342041,
          7.132309436798096,
          2.869807720184326,
          1.9770421981811523,
          8.592845916748047,
          10.11400032043457,
          2.202299118041992,
          7.793967247009277,
          3.856828212738037,
          2.113405227661133,
          8.235612869262695,
          7.79195499420166,
          8.441722869873047,
          10.076879501342773,
          7.821741580963135,
          10.00010871887207,
          4.243940830230713,
          6.661733150482178,
          8.048956871032715,
          8.620007514953613,
          8.88804817199707,
          2.749490976333618,
          7.335745334625244,
          1.1860508918762207,
          8.77748966217041,
          7.508979797363281,
          8.884237289428711,
          9.403351783752441,
          8.47009563446045,
          4.826589107513428,
          3.757708787918091,
          7.844173431396484,
          8.492293357849121,
          9.26891040802002,
          4.779527187347412,
          9.211106300354004,
          9.60811710357666,
          7.372373580932617,
          3.50748610496521,
          4.2539143562316895,
          2.0010595321655273,
          10.005965232849121,
          7.94920015335083,
          7.62963342666626,
          6.853564739227295,
          7.6475019454956055,
          8.821061134338379,
          4.403355121612549,
          1.0795776844024658,
          3.7745745182037354,
          2.2594735622406006,
          1.3584094047546387,
          3.7881102561950684,
          4.168605804443359,
          6.774984359741211,
          7.066436767578125,
          6.9257612228393555,
          6.574819087982178,
          4.446018695831299,
          7.371222496032715,
          7.892542362213135,
          4.221879482269287,
          7.968493461608887,
          1.0775634050369263,
          9.0587158203125,
          10.023872375488281,
          6.6903977394104,
          4.152798175811768,
          1.2826564311981201,
          2.878305196762085,
          9.022394180297852,
          3.961155414581299,
          7.882381439208984,
          2.3566112518310547,
          6.525108814239502,
          2.7153868675231934,
          1.2192953824996948,
          7.228559494018555,
          8.887812614440918,
          4.610611438751221,
          1.8615845441818237,
          7.99727725982666,
          8.457795143127441,
          2.685401678085327,
          7.748119831085205,
          9.612991333007812,
          9.718934059143066,
          7.176791667938232,
          3.6753525733947754,
          8.983809471130371,
          8.126565933227539,
          7.949812412261963,
          7.3684563636779785,
          4.312831401824951,
          10.0826416015625,
          4.213982582092285,
          7.8469953536987305,
          3.3273067474365234,
          3.3396189212799072,
          3.700312614440918,
          1.5021237134933472,
          8.910348892211914,
          6.627291679382324,
          6.797524452209473,
          4.289485454559326,
          7.76987886428833,
          8.669182777404785,
          8.192971229553223,
          6.418702125549316,
          3.0572280883789062,
          9.515471458435059,
          6.811923980712891,
          4.010190010070801,
          6.643214225769043,
          3.45882511138916,
          3.6836445331573486,
          1.1316556930541992,
          8.558744430541992,
          3.295912265777588,
          6.799400329589844,
          3.828244686126709,
          8.409625053405762,
          8.040984153747559,
          6.356756210327148,
          1.4661064147949219,
          6.834042072296143,
          6.1500468254089355,
          1.1926342248916626,
          7.459306716918945,
          8.24443244934082,
          3.551058769226074,
          5.212217807769775,
          6.243570804595947,
          5.055819988250732,
          7.212356090545654,
          10.00859260559082,
          3.0339291095733643,
          9.378572463989258,
          7.356829643249512,
          3.583820104598999,
          8.489250183105469,
          6.932121753692627,
          8.177289962768555,
          7.755780220031738,
          8.829485893249512,
          6.521823406219482,
          9.935835838317871,
          4.479049205780029,
          5.010052680969238,
          8.387127876281738,
          7.741252899169922,
          7.459629535675049,
          8.752571105957031,
          9.615099906921387,
          8.952309608459473,
          8.640497207641602,
          2.142001152038574,
          7.918731212615967,
          7.573965549468994,
          2.349567413330078,
          6.689233779907227,
          3.125051498413086,
          4.176670551300049,
          1.2049800157546997,
          6.547976493835449,
          8.842571258544922,
          8.023308753967285,
          1.017982840538025,
          8.352744102478027,
          6.285610198974609,
          4.184028148651123,
          7.299936294555664,
          6.63964319229126,
          8.529956817626953,
          8.306891441345215,
          1.8420958518981934,
          8.457658767700195,
          6.94013786315918,
          7.8261919021606445,
          8.78247356414795,
          3.5931477546691895,
          9.062104225158691,
          7.807508945465088,
          6.630249977111816,
          9.473095893859863,
          6.556402206420898,
          9.235021591186523,
          9.191457748413086,
          3.343752384185791,
          1.76645827293396,
          3.7885780334472656,
          1.5254061222076416,
          4.833413600921631,
          9.391155242919922,
          8.301021575927734,
          2.1321465969085693,
          3.446077585220337,
          7.631239414215088,
          9.663829803466797,
          6.940479278564453,
          7.855252265930176,
          7.707117557525635,
          6.104762554168701,
          7.812014102935791,
          6.312259674072266,
          6.466598033905029,
          7.878805637359619,
          7.0385565757751465,
          7.181831359863281,
          4.1670613288879395,
          8.400959968566895,
          6.493470191955566,
          6.679519176483154,
          9.760496139526367,
          7.267624378204346,
          9.56989574432373,
          8.104890823364258,
          6.7967681884765625,
          8.416546821594238,
          9.075507164001465,
          6.278290271759033,
          2.6591241359710693,
          3.5150668621063232,
          3.3372344970703125,
          2.6396210193634033,
          6.9560465812683105,
          6.964932918548584,
          6.598553657531738,
          7.584316253662109,
          3.42919921875,
          6.062998294830322,
          6.461511611938477,
          6.099943161010742,
          7.176481246948242,
          5.043450355529785,
          7.768866062164307,
          10.070709228515625,
          3.855140209197998,
          6.740181922912598,
          2.4484176635742188,
          5.474734783172607,
          8.511519432067871,
          0.988970935344696,
          4.863091468811035,
          3.0086112022399902,
          4.8080902099609375,
          2.727691650390625,
          6.18736457824707,
          9.106072425842285,
          6.3756608963012695,
          3.697984457015991,
          9.742108345031738,
          9.724505424499512,
          2.9597537517547607,
          6.546100616455078,
          1.4057177305221558,
          4.342249870300293,
          2.8695480823516846,
          6.67682409286499,
          2.82399320602417,
          7.627593994140625,
          8.457427978515625,
          6.816373348236084,
          8.593880653381348,
          9.011882781982422,
          9.636621475219727,
          4.499259948730469,
          3.2210562229156494,
          7.072022438049316,
          6.945015907287598,
          6.860891819000244,
          6.578101634979248,
          6.363306999206543,
          3.612356662750244,
          7.693307399749756,
          9.36257266998291,
          8.469762802124023,
          9.7176513671875,
          8.674102783203125,
          8.81151294708252,
          7.149236679077148,
          2.439380407333374,
          6.111204147338867,
          6.65664005279541,
          7.679159164428711,
          7.022090435028076,
          9.722646713256836,
          8.997029304504395,
          7.702658653259277,
          9.661937713623047,
          4.775867938995361,
          7.760342597961426,
          2.9697418212890625,
          6.9914398193359375,
          6.717538356781006,
          8.927457809448242,
          1.9112344980239868,
          8.598973274230957,
          9.038562774658203,
          6.507025241851807,
          6.6632866859436035,
          6.500546932220459,
          7.241906642913818,
          7.5175580978393555,
          9.041987419128418,
          8.11484432220459,
          4.0432939529418945,
          2.0147671699523926,
          1.4442659616470337,
          6.106014251708984,
          6.633075714111328,
          2.00889253616333,
          6.863542556762695,
          6.822094440460205,
          2.2130982875823975,
          10.212238311767578,
          8.919878959655762,
          5.958858013153076,
          5.878414154052734,
          6.3916144371032715,
          5.898211479187012,
          8.192083358764648,
          7.739252090454102,
          7.667572021484375,
          7.589250564575195,
          7.6767473220825195,
          7.3582868576049805,
          6.707474231719971,
          8.058732986450195,
          7.710754871368408,
          4.3459153175354,
          9.960837364196777,
          7.736377239227295,
          5.046824932098389,
          7.633106231689453,
          5.017667293548584,
          7.078893661499023,
          8.030632972717285,
          8.16667652130127,
          7.318609237670898,
          7.5299973487854,
          4.077208995819092,
          6.448805809020996,
          6.984739780426025,
          6.699326038360596,
          9.02275276184082,
          2.152000904083252,
          1.742151141166687,
          1.5125900506973267,
          6.2198567390441895,
          7.27620267868042,
          3.14027738571167,
          3.260453939437866,
          6.381237506866455,
          3.9516055583953857,
          1.5255995988845825,
          1.8269028663635254,
          9.113515853881836,
          4.055402755737305,
          6.939814567565918,
          9.408194541931152,
          4.185242652893066,
          10.142029762268066,
          9.686257362365723,
          7.764334201812744,
          3.8706562519073486,
          1.971696138381958,
          6.030223846435547,
          6.370725631713867,
          8.556693077087402,
          6.517361164093018,
          6.058924674987793,
          7.5724334716796875,
          9.029885292053223,
          3.6063742637634277,
          9.709039688110352,
          9.951299667358398,
          3.9192888736724854,
          9.473159790039062,
          3.829033374786377,
          1.9226740598678589,
          3.6352081298828125,
          6.125823497772217,
          9.638216018676758,
          3.5957601070404053,
          8.023687362670898,
          6.698957443237305,
          6.746102333068848,
          0.9613474011421204,
          3.3894271850585938,
          1.8517742156982422,
          10.035235404968262,
          8.47165298461914,
          2.573335647583008,
          1.4855574369430542,
          6.714593887329102,
          6.162077903747559,
          7.656441688537598,
          1.6894514560699463,
          2.110983371734619,
          7.999087333679199,
          2.288370370864868,
          6.28566837310791,
          1.0335958003997803,
          9.775703430175781,
          9.987992286682129,
          7.483405590057373,
          4.2789201736450195,
          1.576871633529663,
          8.324289321899414,
          6.808709144592285,
          6.7846760749816895,
          7.412932395935059,
          9.538314819335938,
          3.710693359375,
          8.866835594177246,
          6.718174457550049,
          8.769390106201172,
          8.693695068359375,
          7.843489170074463,
          4.381317138671875,
          6.5695109367370605,
          0.9321527481079102,
          3.8538095951080322,
          8.680696487426758,
          4.596835136413574,
          8.509146690368652,
          7.743659496307373,
          6.966951847076416,
          8.165979385375977,
          8.555368423461914,
          3.8469598293304443,
          1.4227805137634277,
          9.021472930908203,
          7.8936381340026855,
          8.753256797790527,
          8.726994514465332,
          1.7727935314178467,
          2.6592729091644287,
          6.863945960998535,
          8.838540077209473,
          4.070949554443359,
          6.994553565979004,
          6.493627071380615,
          4.087912559509277,
          7.29260778427124,
          4.083004474639893,
          3.95328688621521,
          8.582387924194336,
          6.507730484008789,
          1.7231611013412476,
          6.562363147735596,
          8.133780479431152,
          8.570870399475098,
          9.336665153503418,
          8.182889938354492,
          8.47611141204834,
          1.6883615255355835,
          2.473027467727661,
          7.60070276260376,
          8.041645050048828,
          3.4944539070129395,
          6.443953990936279,
          1.7965377569198608,
          7.387829780578613,
          8.230417251586914,
          7.24351692199707,
          8.640043258666992,
          1.8241441249847412,
          6.283391952514648,
          3.8280467987060547,
          1.9753018617630005,
          6.355587482452393,
          1.868819236755371,
          8.08676528930664,
          8.495423316955566,
          9.549723625183105,
          2.0482609272003174,
          7.544305801391602,
          2.8728065490722656,
          7.937524318695068,
          6.714494228363037,
          8.596418380737305,
          2.3902578353881836,
          10.062307357788086,
          7.712985038757324,
          6.567239284515381,
          6.902384281158447,
          3.579465627670288,
          3.935945987701416,
          2.6323490142822266,
          1.5094497203826904,
          2.46571946144104,
          8.180569648742676,
          7.7696380615234375,
          9.123130798339844,
          3.2143545150756836,
          7.625742435455322,
          3.5004618167877197,
          6.4261088371276855,
          4.43124532699585,
          6.465142726898193,
          4.898148059844971,
          2.5107038021087646,
          6.410196304321289,
          2.3388314247131348,
          3.000297784805298,
          9.140314102172852,
          7.328266143798828,
          8.06076431274414,
          8.427563667297363,
          6.1143622398376465,
          7.54386568069458,
          7.661203861236572,
          1.6963183879852295,
          4.589890956878662,
          7.775678634643555,
          9.9109525680542,
          4.9900431632995605,
          1.0255380868911743,
          8.396879196166992,
          7.707072734832764,
          7.346874237060547,
          1.0277706384658813,
          6.340612411499023,
          3.825512409210205,
          3.7297229766845703,
          8.745433807373047,
          8.715848922729492,
          9.171558380126953,
          3.6489593982696533,
          8.433008193969727,
          8.271590232849121,
          2.23271107673645,
          8.293781280517578,
          2.623953342437744,
          10.075387954711914,
          3.71001935005188,
          7.54168701171875,
          8.320515632629395,
          3.8768765926361084,
          6.681469440460205,
          8.463154792785645,
          6.952513217926025,
          7.8360090255737305,
          4.497636795043945,
          7.254365921020508,
          3.8638429641723633,
          9.53508186340332,
          8.737702369689941,
          4.440361499786377,
          6.3371405601501465,
          1.3474724292755127,
          8.275026321411133,
          1.1353644132614136,
          6.238710880279541,
          1.6050676107406616,
          2.3937652111053467,
          8.524747848510742,
          10.080399513244629,
          3.716261863708496,
          6.756657123565674,
          7.765954971313477,
          8.354833602905273,
          7.176462173461914,
          8.914356231689453,
          9.081659317016602,
          6.856872081756592,
          6.468814373016357,
          6.647938251495361,
          9.678780555725098,
          7.72931432723999,
          3.8317153453826904,
          1.2460453510284424,
          3.3065412044525146,
          8.474977493286133,
          8.554877281188965,
          1.2550461292266846,
          6.272263526916504,
          6.224266529083252,
          6.975449085235596,
          1.7276426553726196,
          3.123522996902466,
          3.805917263031006,
          2.0993571281433105,
          9.252968788146973,
          8.907875061035156,
          6.723574638366699,
          6.354370594024658,
          7.6177239418029785,
          6.254294395446777,
          3.666701555252075,
          1.6789036989212036,
          9.862421035766602,
          6.697890281677246,
          7.578347206115723,
          6.707130432128906,
          7.637274742126465,
          8.87810230255127,
          4.106454372406006,
          7.81782341003418,
          0.991665780544281,
          1.4126126766204834,
          3.9756991863250732,
          6.496162414550781,
          3.52059268951416,
          8.49742603302002,
          1.7471373081207275,
          7.613490581512451,
          4.1446380615234375
         ],
         "yaxis": "y"
        }
       ],
       "layout": {
        "coloraxis": {
         "colorbar": {
          "title": {
           "text": "Label"
          }
         },
         "colorscale": [
          [
           0,
           "#0d0887"
          ],
          [
           0.1111111111111111,
           "#46039f"
          ],
          [
           0.2222222222222222,
           "#7201a8"
          ],
          [
           0.3333333333333333,
           "#9c179e"
          ],
          [
           0.4444444444444444,
           "#bd3786"
          ],
          [
           0.5555555555555556,
           "#d8576b"
          ],
          [
           0.6666666666666666,
           "#ed7953"
          ],
          [
           0.7777777777777778,
           "#fb9f3a"
          ],
          [
           0.8888888888888888,
           "#fdca26"
          ],
          [
           1,
           "#f0f921"
          ]
         ]
        },
        "height": 800,
        "legend": {
         "tracegroupgap": 0
        },
        "template": {
         "data": {
          "bar": [
           {
            "error_x": {
             "color": "#2a3f5f"
            },
            "error_y": {
             "color": "#2a3f5f"
            },
            "marker": {
             "line": {
              "color": "#E5ECF6",
              "width": 0.5
             }
            },
            "type": "bar"
           }
          ],
          "barpolar": [
           {
            "marker": {
             "line": {
              "color": "#E5ECF6",
              "width": 0.5
             }
            },
            "type": "barpolar"
           }
          ],
          "carpet": [
           {
            "aaxis": {
             "endlinecolor": "#2a3f5f",
             "gridcolor": "white",
             "linecolor": "white",
             "minorgridcolor": "white",
             "startlinecolor": "#2a3f5f"
            },
            "baxis": {
             "endlinecolor": "#2a3f5f",
             "gridcolor": "white",
             "linecolor": "white",
             "minorgridcolor": "white",
             "startlinecolor": "#2a3f5f"
            },
            "type": "carpet"
           }
          ],
          "choropleth": [
           {
            "colorbar": {
             "outlinewidth": 0,
             "ticks": ""
            },
            "type": "choropleth"
           }
          ],
          "contour": [
           {
            "colorbar": {
             "outlinewidth": 0,
             "ticks": ""
            },
            "colorscale": [
             [
              0,
              "#0d0887"
             ],
             [
              0.1111111111111111,
              "#46039f"
             ],
             [
              0.2222222222222222,
              "#7201a8"
             ],
             [
              0.3333333333333333,
              "#9c179e"
             ],
             [
              0.4444444444444444,
              "#bd3786"
             ],
             [
              0.5555555555555556,
              "#d8576b"
             ],
             [
              0.6666666666666666,
              "#ed7953"
             ],
             [
              0.7777777777777778,
              "#fb9f3a"
             ],
             [
              0.8888888888888888,
              "#fdca26"
             ],
             [
              1,
              "#f0f921"
             ]
            ],
            "type": "contour"
           }
          ],
          "contourcarpet": [
           {
            "colorbar": {
             "outlinewidth": 0,
             "ticks": ""
            },
            "type": "contourcarpet"
           }
          ],
          "heatmap": [
           {
            "colorbar": {
             "outlinewidth": 0,
             "ticks": ""
            },
            "colorscale": [
             [
              0,
              "#0d0887"
             ],
             [
              0.1111111111111111,
              "#46039f"
             ],
             [
              0.2222222222222222,
              "#7201a8"
             ],
             [
              0.3333333333333333,
              "#9c179e"
             ],
             [
              0.4444444444444444,
              "#bd3786"
             ],
             [
              0.5555555555555556,
              "#d8576b"
             ],
             [
              0.6666666666666666,
              "#ed7953"
             ],
             [
              0.7777777777777778,
              "#fb9f3a"
             ],
             [
              0.8888888888888888,
              "#fdca26"
             ],
             [
              1,
              "#f0f921"
             ]
            ],
            "type": "heatmap"
           }
          ],
          "heatmapgl": [
           {
            "colorbar": {
             "outlinewidth": 0,
             "ticks": ""
            },
            "colorscale": [
             [
              0,
              "#0d0887"
             ],
             [
              0.1111111111111111,
              "#46039f"
             ],
             [
              0.2222222222222222,
              "#7201a8"
             ],
             [
              0.3333333333333333,
              "#9c179e"
             ],
             [
              0.4444444444444444,
              "#bd3786"
             ],
             [
              0.5555555555555556,
              "#d8576b"
             ],
             [
              0.6666666666666666,
              "#ed7953"
             ],
             [
              0.7777777777777778,
              "#fb9f3a"
             ],
             [
              0.8888888888888888,
              "#fdca26"
             ],
             [
              1,
              "#f0f921"
             ]
            ],
            "type": "heatmapgl"
           }
          ],
          "histogram": [
           {
            "marker": {
             "colorbar": {
              "outlinewidth": 0,
              "ticks": ""
             }
            },
            "type": "histogram"
           }
          ],
          "histogram2d": [
           {
            "colorbar": {
             "outlinewidth": 0,
             "ticks": ""
            },
            "colorscale": [
             [
              0,
              "#0d0887"
             ],
             [
              0.1111111111111111,
              "#46039f"
             ],
             [
              0.2222222222222222,
              "#7201a8"
             ],
             [
              0.3333333333333333,
              "#9c179e"
             ],
             [
              0.4444444444444444,
              "#bd3786"
             ],
             [
              0.5555555555555556,
              "#d8576b"
             ],
             [
              0.6666666666666666,
              "#ed7953"
             ],
             [
              0.7777777777777778,
              "#fb9f3a"
             ],
             [
              0.8888888888888888,
              "#fdca26"
             ],
             [
              1,
              "#f0f921"
             ]
            ],
            "type": "histogram2d"
           }
          ],
          "histogram2dcontour": [
           {
            "colorbar": {
             "outlinewidth": 0,
             "ticks": ""
            },
            "colorscale": [
             [
              0,
              "#0d0887"
             ],
             [
              0.1111111111111111,
              "#46039f"
             ],
             [
              0.2222222222222222,
              "#7201a8"
             ],
             [
              0.3333333333333333,
              "#9c179e"
             ],
             [
              0.4444444444444444,
              "#bd3786"
             ],
             [
              0.5555555555555556,
              "#d8576b"
             ],
             [
              0.6666666666666666,
              "#ed7953"
             ],
             [
              0.7777777777777778,
              "#fb9f3a"
             ],
             [
              0.8888888888888888,
              "#fdca26"
             ],
             [
              1,
              "#f0f921"
             ]
            ],
            "type": "histogram2dcontour"
           }
          ],
          "mesh3d": [
           {
            "colorbar": {
             "outlinewidth": 0,
             "ticks": ""
            },
            "type": "mesh3d"
           }
          ],
          "parcoords": [
           {
            "line": {
             "colorbar": {
              "outlinewidth": 0,
              "ticks": ""
             }
            },
            "type": "parcoords"
           }
          ],
          "pie": [
           {
            "automargin": true,
            "type": "pie"
           }
          ],
          "scatter": [
           {
            "marker": {
             "colorbar": {
              "outlinewidth": 0,
              "ticks": ""
             }
            },
            "type": "scatter"
           }
          ],
          "scatter3d": [
           {
            "line": {
             "colorbar": {
              "outlinewidth": 0,
              "ticks": ""
             }
            },
            "marker": {
             "colorbar": {
              "outlinewidth": 0,
              "ticks": ""
             }
            },
            "type": "scatter3d"
           }
          ],
          "scattercarpet": [
           {
            "marker": {
             "colorbar": {
              "outlinewidth": 0,
              "ticks": ""
             }
            },
            "type": "scattercarpet"
           }
          ],
          "scattergeo": [
           {
            "marker": {
             "colorbar": {
              "outlinewidth": 0,
              "ticks": ""
             }
            },
            "type": "scattergeo"
           }
          ],
          "scattergl": [
           {
            "marker": {
             "colorbar": {
              "outlinewidth": 0,
              "ticks": ""
             }
            },
            "type": "scattergl"
           }
          ],
          "scattermapbox": [
           {
            "marker": {
             "colorbar": {
              "outlinewidth": 0,
              "ticks": ""
             }
            },
            "type": "scattermapbox"
           }
          ],
          "scatterpolar": [
           {
            "marker": {
             "colorbar": {
              "outlinewidth": 0,
              "ticks": ""
             }
            },
            "type": "scatterpolar"
           }
          ],
          "scatterpolargl": [
           {
            "marker": {
             "colorbar": {
              "outlinewidth": 0,
              "ticks": ""
             }
            },
            "type": "scatterpolargl"
           }
          ],
          "scatterternary": [
           {
            "marker": {
             "colorbar": {
              "outlinewidth": 0,
              "ticks": ""
             }
            },
            "type": "scatterternary"
           }
          ],
          "surface": [
           {
            "colorbar": {
             "outlinewidth": 0,
             "ticks": ""
            },
            "colorscale": [
             [
              0,
              "#0d0887"
             ],
             [
              0.1111111111111111,
              "#46039f"
             ],
             [
              0.2222222222222222,
              "#7201a8"
             ],
             [
              0.3333333333333333,
              "#9c179e"
             ],
             [
              0.4444444444444444,
              "#bd3786"
             ],
             [
              0.5555555555555556,
              "#d8576b"
             ],
             [
              0.6666666666666666,
              "#ed7953"
             ],
             [
              0.7777777777777778,
              "#fb9f3a"
             ],
             [
              0.8888888888888888,
              "#fdca26"
             ],
             [
              1,
              "#f0f921"
             ]
            ],
            "type": "surface"
           }
          ],
          "table": [
           {
            "cells": {
             "fill": {
              "color": "#EBF0F8"
             },
             "line": {
              "color": "white"
             }
            },
            "header": {
             "fill": {
              "color": "#C8D4E3"
             },
             "line": {
              "color": "white"
             }
            },
            "type": "table"
           }
          ]
         },
         "layout": {
          "annotationdefaults": {
           "arrowcolor": "#2a3f5f",
           "arrowhead": 0,
           "arrowwidth": 1
          },
          "coloraxis": {
           "colorbar": {
            "outlinewidth": 0,
            "ticks": ""
           }
          },
          "colorscale": {
           "diverging": [
            [
             0,
             "#8e0152"
            ],
            [
             0.1,
             "#c51b7d"
            ],
            [
             0.2,
             "#de77ae"
            ],
            [
             0.3,
             "#f1b6da"
            ],
            [
             0.4,
             "#fde0ef"
            ],
            [
             0.5,
             "#f7f7f7"
            ],
            [
             0.6,
             "#e6f5d0"
            ],
            [
             0.7,
             "#b8e186"
            ],
            [
             0.8,
             "#7fbc41"
            ],
            [
             0.9,
             "#4d9221"
            ],
            [
             1,
             "#276419"
            ]
           ],
           "sequential": [
            [
             0,
             "#0d0887"
            ],
            [
             0.1111111111111111,
             "#46039f"
            ],
            [
             0.2222222222222222,
             "#7201a8"
            ],
            [
             0.3333333333333333,
             "#9c179e"
            ],
            [
             0.4444444444444444,
             "#bd3786"
            ],
            [
             0.5555555555555556,
             "#d8576b"
            ],
            [
             0.6666666666666666,
             "#ed7953"
            ],
            [
             0.7777777777777778,
             "#fb9f3a"
            ],
            [
             0.8888888888888888,
             "#fdca26"
            ],
            [
             1,
             "#f0f921"
            ]
           ],
           "sequentialminus": [
            [
             0,
             "#0d0887"
            ],
            [
             0.1111111111111111,
             "#46039f"
            ],
            [
             0.2222222222222222,
             "#7201a8"
            ],
            [
             0.3333333333333333,
             "#9c179e"
            ],
            [
             0.4444444444444444,
             "#bd3786"
            ],
            [
             0.5555555555555556,
             "#d8576b"
            ],
            [
             0.6666666666666666,
             "#ed7953"
            ],
            [
             0.7777777777777778,
             "#fb9f3a"
            ],
            [
             0.8888888888888888,
             "#fdca26"
            ],
            [
             1,
             "#f0f921"
            ]
           ]
          },
          "colorway": [
           "#636efa",
           "#EF553B",
           "#00cc96",
           "#ab63fa",
           "#FFA15A",
           "#19d3f3",
           "#FF6692",
           "#B6E880",
           "#FF97FF",
           "#FECB52"
          ],
          "font": {
           "color": "#2a3f5f"
          },
          "geo": {
           "bgcolor": "white",
           "lakecolor": "white",
           "landcolor": "#E5ECF6",
           "showlakes": true,
           "showland": true,
           "subunitcolor": "white"
          },
          "hoverlabel": {
           "align": "left"
          },
          "hovermode": "closest",
          "mapbox": {
           "style": "light"
          },
          "paper_bgcolor": "white",
          "plot_bgcolor": "#E5ECF6",
          "polar": {
           "angularaxis": {
            "gridcolor": "white",
            "linecolor": "white",
            "ticks": ""
           },
           "bgcolor": "#E5ECF6",
           "radialaxis": {
            "gridcolor": "white",
            "linecolor": "white",
            "ticks": ""
           }
          },
          "scene": {
           "xaxis": {
            "backgroundcolor": "#E5ECF6",
            "gridcolor": "white",
            "gridwidth": 2,
            "linecolor": "white",
            "showbackground": true,
            "ticks": "",
            "zerolinecolor": "white"
           },
           "yaxis": {
            "backgroundcolor": "#E5ECF6",
            "gridcolor": "white",
            "gridwidth": 2,
            "linecolor": "white",
            "showbackground": true,
            "ticks": "",
            "zerolinecolor": "white"
           },
           "zaxis": {
            "backgroundcolor": "#E5ECF6",
            "gridcolor": "white",
            "gridwidth": 2,
            "linecolor": "white",
            "showbackground": true,
            "ticks": "",
            "zerolinecolor": "white"
           }
          },
          "shapedefaults": {
           "line": {
            "color": "#2a3f5f"
           }
          },
          "ternary": {
           "aaxis": {
            "gridcolor": "white",
            "linecolor": "white",
            "ticks": ""
           },
           "baxis": {
            "gridcolor": "white",
            "linecolor": "white",
            "ticks": ""
           },
           "bgcolor": "#E5ECF6",
           "caxis": {
            "gridcolor": "white",
            "linecolor": "white",
            "ticks": ""
           }
          },
          "title": {
           "x": 0.05
          },
          "xaxis": {
           "automargin": true,
           "gridcolor": "white",
           "linecolor": "white",
           "ticks": "",
           "title": {
            "standoff": 15
           },
           "zerolinecolor": "white",
           "zerolinewidth": 2
          },
          "yaxis": {
           "automargin": true,
           "gridcolor": "white",
           "linecolor": "white",
           "ticks": "",
           "title": {
            "standoff": 15
           },
           "zerolinecolor": "white",
           "zerolinewidth": 2
          }
         }
        },
        "title": {
         "text": "uMAP Plot for Outliers"
        },
        "width": 900,
        "xaxis": {
         "anchor": "y",
         "domain": [
          0,
          1
         ],
         "title": {
          "text": "0"
         }
        },
        "yaxis": {
         "anchor": "x",
         "domain": [
          0,
          1
         ],
         "title": {
          "text": "1"
         }
        }
       }
      },
      "text/html": [
       "<div>\n",
       "        \n",
       "        \n",
       "            <div id=\"dbc1aadf-12f3-4c20-b60f-cc681f2c2615\" class=\"plotly-graph-div\" style=\"height:800px; width:900px;\"></div>\n",
       "            <script type=\"text/javascript\">\n",
       "                require([\"plotly\"], function(Plotly) {\n",
       "                    window.PLOTLYENV=window.PLOTLYENV || {};\n",
       "                    \n",
       "                if (document.getElementById(\"dbc1aadf-12f3-4c20-b60f-cc681f2c2615\")) {\n",
       "                    Plotly.newPlot(\n",
       "                        'dbc1aadf-12f3-4c20-b60f-cc681f2c2615',\n",
       "                        [{\"customdata\": [[0.263995357], [0.546092303], [0.33671410399999996], [0.092107835], [0.325261175], [0.212464853], [0.258565714], [0.869236755], [0.197077957], [0.292984504], [0.82178316], [0.796622959], [0.045577010999999994], [0.613660351], [0.9507445659999999], [0.33634633700000005], [0.034440667], [0.741544275], [0.18443265], [0.664514943], [0.16282485800000002], [0.729838445], [0.62837389], [0.057883660999999996], [0.445534827], [0.80183695], [0.27709612], [0.228634015], [0.834860657], [0.6697665110000001], [0.532527349], [0.17045907100000002], [0.5102884679999999], [0.977561989], [0.249775993], [0.9755006820000001], [0.613701727], [0.16742036300000002], [0.537472516], [0.379899131], [0.633897303], [0.633960424], [0.5499746529999999], [0.178172988], [0.85563814], [0.321796672], [0.8174905370000001], [0.254879417], [0.344140513], [0.8061457259999999], [0.27708167100000003], [0.544328519], [0.07708393], [0.273081458], [0.390877336], [0.349621385], [0.214549744], [0.206075222], [0.86461997], [0.9817088540000001], [0.33482964600000004], [0.648387061], [0.093643561], [0.837802698], [0.7603439670000001], [0.29140417399999996], [0.3413454], [0.7611124840000001], [0.541899775], [0.684176639], [0.983535597], [0.52081245], [0.328227724], [0.09715793800000001], [0.876088593], [0.870214512], [0.656086992], [0.306791514], [0.48126734], [0.259559174], [0.326123655], [0.930568042], [0.6583894], [0.689992335], [0.315781109], [0.5669050929999999], [0.637526619], [0.687540723], [0.324300602], [0.592704906], [0.7402531259999999], [0.5940328770000001], [0.596452977], [0.27768081699999997], [0.258329663], [0.142460864], [0.435533461], [0.7024990440000001], [0.58897535], [0.653304374], [0.336968524], [0.631244736], [0.73530076], [0.050390366], [0.064264924], [0.665359476], [0.917835245], [0.44651012], [0.661938199], [0.43935985299999997], [0.6875724040000001], [0.363462248], [0.6542621820000001], [0.578553536], [0.065927945], [0.550148559], [0.13918281400000002], [0.080004635], [0.278228358], [0.560124266], [0.53639864], [0.42653190399999996], [0.789109796], [0.742900474], [0.901692589], [0.650337401], [0.114057311], [0.260812592], [0.43991232], [0.964409284], [0.184401415], [0.345145446], [0.17589458100000002], [0.312514453], [0.674131879], [0.32825045], [0.598231057], [0.09259881699999999], [0.497916521], [0.419776521], [0.31217670000000003], [0.937857107], [0.049030963], [0.47610452600000003], [0.447397526], [0.295806058], [0.737363977], [0.625896253], [0.408813429], [0.437511156], [0.691351375], [0.935555275], [0.437846654], [0.072217715], [0.67636067], [0.468883999], [0.543820644], [0.6555226470000001], [0.6935289240000001], [0.10887831199999999], [0.285463743], [0.0], [0.706495497], [0.273530633], [0.292320271], [0.673984307], [0.12612182800000002], [0.9467074590000001], [0.9363388979999999], [0.8537553640000001], [0.7060713609999999], [0.693682186], [0.508527882], [0.34717038899999997], [0.704154263], [0.658730088], [0.155841557], [0.311085435], [0.281135347], [0.094587802], [0.6832609540000001], [0.9077292509999999], [0.29151267399999997], [0.752734459], [0.93482964], [0.071413953], [0.5948963270000001], [0.404672015], [0.13837621], [0.7473384679999999], [0.530882486], [0.282649594], [0.699335734], [0.056111250999999994], [0.855234998], [0.07789512700000001], [0.891649583], [0.38674227899999997], [0.27113158], [0.958888961], [0.085120869], [0.5269022489999999], [0.066577785], [0.841506738], [0.255342095], [0.060545771], [0.073385869], [0.187493723], [0.858365688], [0.090640352], [0.7097252270000001], [0.631300647], [0.24750447399999997], [0.822843584], [0.373476759], [0.625538582], [0.292951715], [0.299730324], [0.25121407], [0.344480551], [0.293064767], [0.7628032240000001], [0.7384708040000001], [0.674883265], [0.719151612], [0.13098021599999998], [0.511328036], [0.04492903], [0.560914449], [0.7440406409999999], [0.266961634], [0.644231853], [0.038113352], [0.05715529900000001], [0.34139246100000004], [0.7204636320000001], [0.402878236], [0.635148967], [0.320729467], [0.09120969400000001], [0.23414609], [0.8902211309999999], [0.602170884], [0.633652055], [0.806240837], [0.739731184], [0.465231269], [0.7321109], [0.373874305], [0.501587947], [0.11538315800000001], [0.7319466040000001], [0.41829872799999995], [0.062259590999999996], [0.391496379], [0.35984929], [0.24523562699999998], [0.610028339], [0.43540360200000006], [0.434309675], [0.523763344], [0.17118786600000002], [0.18773430300000002], [0.945014638], [0.027851097000000002], [0.68445706], [0.178014532], [0.643427879], [0.59588355], [0.372361682], [0.586103584], [0.271658852], [0.59951107], [0.468363088], [0.314515565], [0.21893726], [0.254716562], [0.25612815], [0.602259755], [0.134381075], [0.513887424], [0.624241636], [0.160251854], [0.580708108], [0.270540486], [0.832919932], [0.93032134], [0.719157884], [0.886720033], [0.098792281], [0.787174286], [0.365592376], [0.719576193], [0.8058956], [0.7555783340000001], [0.526005909], [0.68880424], [0.22111531199999998], [0.739369477], [0.408440236], [0.348926542], [0.433713763], [0.5964966070000001], [0.6942953000000001], [0.7090309659999999], [0.867652984], [0.89332545], [0.746020922], [0.538284443], [0.8922193140000001], [0.935175765], [0.260527707], [0.956780449], [0.204932484], [0.687733351], [0.329063619], [0.632149831], [0.463744506], [0.698859621], [0.385446564], [0.47997537700000004], [0.732279108], [0.3813543], [0.459326013], [0.257401434], [0.665014804], [0.103399542], [0.425284413], [0.943529051], [0.594750236], [0.543776817], [0.18203988], [0.23584208399999998], [0.585984497], [0.762013168], [0.6849829070000001], [0.676936933], [0.290184964], [0.48106822200000005], [0.492766033], [0.22185623399999999], [0.053875998], [0.082751144], [0.385366225], [0.702513961], [0.91553156], [0.082087436], [0.251280378], [0.41672181700000005], [0.277032672], [0.579539754], [0.569363476], [0.133399703], [0.265045463], [0.936571901], [0.252618554], [0.054033081], [0.802481439], [0.528197693], [0.9515026], [0.572121173], [0.752938227], [0.143857535], [0.513484576], [0.313322389], [0.6877973959999999], [0.37705984], [0.348226142], [0.67763282], [0.24138752100000002], [0.8506501790000001], [0.22034810300000002], [0.476445464], [0.690324025], [0.364695946], [0.6492491970000001], [0.9437019209999999], [0.529645971], [0.299097002], [0.96696247], [0.272005242], [0.314161447], [0.752020991], [0.221882453], [0.7203326729999999], [0.379204782], [0.60168653], [0.582932673], [0.950809853], [0.58830141], [0.880887227], [0.467857701], [0.8799021709999999], [0.619844009], [0.359002573], [0.291511278], [0.694157143], [0.727960353], [0.617703921], [0.39581257], [0.58317282], [0.710332374], [0.253753693], [0.049412227999999996], [0.728378695], [0.432432881], [0.58612345], [0.052342373], [0.053483902], [0.518729378], [0.933040208], [0.7035542840000001], [0.268989899], [0.733006927], [0.44435246700000003], [0.5833946210000001], [0.871172692], [0.42876707799999997], [0.30046084100000003], [0.9533294590000001], [0.606443965], [0.90986815], [0.714896449], [0.49734950899999997], [0.8530974859999999], [0.721804145], [0.303467328], [0.664485096], [0.27978062], [0.569481665], [0.628628926], [0.088368123], [0.733567326], [0.537436778], [0.638593691], [0.954726948], [0.632202332], [0.642134651], [0.744653087], [0.115714007], [0.48625007299999995], [0.440356144], [0.08272289], [0.511591027], [0.394627555], [0.224394], [0.626927584], [0.290254057], [0.779008053], [0.86610579], [0.873326081], [0.49548916], [0.594297695], [0.9182015840000001], [0.5770427539999999], [0.019467671000000002], [0.6702982820000001], [0.546595316], [0.591665146], [0.42155819], [0.6856085590000001], [0.340303024], [0.675626741], [0.319067345], [0.38849966399999997], [0.706949589], [0.559409515], [0.687663508], [0.7088045540000001], [0.6818880940000001], [0.42253510899999996], [0.320004605], [0.6582813679999999], [0.634154867], [0.7773320090000001], [0.812677205], [0.074280797], [0.39600217], [0.054933913], [0.825058925], [0.382642009], [0.8687298179999999], [0.588043346], [0.891551577], [0.10920046], [0.647682781], [0.724342512], [0.07016304400000001], [0.280882054], [0.039113261], [0.579641592], [0.639000922], [0.281745925], [0.647857744], [0.6479057970000001], [0.875226264], [0.567603305], [0.262940591], [0.268026042], [0.40519133], [0.479965451], [0.33552403], [0.777165379], [0.42548796299999997], [0.237986115], [0.142522971], [0.724176488], [0.234698933], [0.07818228099999999], [0.855990155], [0.270251765], [0.435517841], [0.762697513], [0.46448725799999996], [0.396112685], [0.37638092100000003], [0.29459467699999997], [0.6944921209999999], [0.622767949], [0.8475597220000001], [0.301463054], [0.912937812], [0.500017182], [0.902587935], [0.304517943], [0.299165673], [0.092014087], [0.488548917], [0.664664437], [0.26534954899999996], [0.723657021], [0.149262385], [0.04577339], [0.69661064], [0.42181486], [0.733845785], [0.418795386], [0.677443529], [0.26128360300000003], [0.268527767], [0.5443222360000001], [0.431632036], [0.981018141], [0.21498072399999998], [0.39472999299999995], [0.122224944], [0.297496875], [0.37490443100000004], [0.68698771], [0.388549207], [0.039296071], [0.73553424], [0.37929489299999997], [0.7321233859999999], [0.33922143899999996], [0.659450594], [0.054838642], [0.640112102], [0.30714170399999996], [0.39661190700000004], [0.420439161], [0.24171497399999997], [0.065893153], [0.9105219370000001], [0.697163103], [0.072559853], [0.81825094], [0.311888815], [0.961644609], [0.816325524], [0.14647302], [0.548753945], [0.946158087], [0.293992717], [0.331479643], [0.9062200309999999], [0.525540416], [0.83301411], [0.514849806], [0.574609024], [0.46871185299999996], [0.71002775], [0.645973276], [0.229794416], [0.551783393], [0.055822990999999995], [0.331750941], [0.715520198], [0.583924357], [0.30695769100000003], [0.7914782370000001], [0.16423663900000002], [0.065711219], [0.948993132], [0.080423835], [0.052495426], [0.566346135], [0.3630266], [0.605442195], [0.6308505839999999], [0.065791238], [0.28681707100000003], [0.685462839], [0.260853706], [0.659122429], [0.44317392200000005], [0.602063986], [0.060366910999999995], [0.781903153], [0.5145798070000001], [0.48388621299999995], [0.600213807], [0.49736405200000006], [0.411145245], [0.116999171], [0.34189014100000004], [0.746950848], [0.39629274600000003], [0.6221438429999999], [0.335271141], [0.140257137], [0.081620681], [0.069837569], [0.46894000799999996], [0.9908574170000001], [0.896616832], [0.255310561], [0.22464526699999998], [0.01991825], [0.296480415], [0.155458996], [0.577916714], [0.9563030309999999], [0.813464394], [0.529675785], [0.287671353], [0.48039136], [0.28104482199999997], [0.633196521], [0.09332537699999999], [0.28447398100000004], [0.052223775], [0.051129385], [0.967405608], [0.040045727999999996], [0.9085829209999999], [0.6621174160000001], [0.42470320899999997], [0.72207806], [0.666193327], [0.509681253], [0.7513536209999999], [0.279073124], [0.074927], [0.916359535], [0.31040327], [0.716604052], [0.485587085], [0.30607518100000003], [0.477558204], [0.7119239409999999], [0.066348638], [0.27453935100000004], [0.31082252], [0.47607312700000004], [0.186795565], [0.26654207], [0.070231142], [0.26951927], [0.800004713], [0.27363366699999997], [0.14647919199999998], [0.378318951], [0.373849065], [0.242170835], [0.249796488], [0.066591188], [0.372956798], [0.501812291], [0.313097752], [0.8802021959999999], [0.51981893], [0.364138746], [0.49268289600000004], [0.285732652], [0.890114985], [0.316419561], [0.26866354], [0.771975959], [0.968888992], [0.080334377], [0.7368282209999999], [0.30055807100000004], [0.9179503929999999], [0.465815039], [0.054036682], [0.963150123], [0.08965350300000001], [0.7076932340000001], [0.636416037], [0.539521117], [0.114757161], [0.357312419], [0.67639834], [0.43482839], [0.032326387000000005], [0.711365605], [0.187486519], [0.052789653], [0.5058636129999999], [0.927431873], [0.6809842559999999], [0.882822186], [0.495705441], [0.596240398], [0.320610701], [0.3413685], [0.159681797], [0.318133669], [0.8393010479999999], [0.06435925099999999], [0.470216633], [0.7762522909999999], [0.635843383], [0.62510543], [0.52959065], [0.986900166], [0.078585688], [0.233284267], [0.363330957], [0.7167169809999999], [0.37588979200000006], [0.223316889], [0.299343986], [0.538595767], [0.730297124], [0.66033077], [0.435296009], [0.326494313], [0.854402708], [0.5734938470000001], [0.757786135], [0.704743233], [0.281575597], [0.671968208], [0.313726015], [0.364338275], [0.368216396], [0.38629520700000003], [0.655971865], [0.5660252729999999], [0.424999093], [0.090110371], [0.772350538], [0.331047258], [0.273716188], [0.23877568], [0.37307977200000003], [0.331185868], [0.256134531], [0.678373225], [0.43463833799999996], [0.654668307], [0.986681065], [0.371520495], [0.408359618], [0.40932365], [0.283412082], [0.395246531], [0.010984428000000001], [0.306013869], [0.266194806], [0.299318521], [0.318293946], [0.74282591], [0.09766432900000001], [0.079666942], [0.613258767], [0.99443072], [0.568835082], [0.7080345159999999], [0.37059271899999996], [0.669867361], [0.651295625], [0.462531569], [0.7196256190000001], [0.45377248], [0.394863946], [0.323974831], [0.146454724], [0.7790670409999999], [0.401828915], [0.601479585], [0.856423023], [0.565242962], [0.301225108], [0.282108144], [0.594378011], [0.705312368], [0.5408696279999999], [0.319249574], [0.36176613799999996], [0.625000704], [0.316287401], [0.047239021], [0.801182233], [0.508474436], [0.8178934109999999], [0.399235601], [0.9740519990000001], [0.72241535], [0.039564764], [0.908684108], [0.47301013399999997], [0.7180496279999999], [0.7634790690000001], [0.6475965370000001], [0.8949973859999999], [0.22282590100000002], [0.359012234], [0.944910252], [0.297877816], [0.172517997], [0.556586265], [0.876481735], [0.48667784299999994], [0.459496733], [0.47412637700000004], [0.70101144], [0.337597387], [0.537578886], [0.966992448], [0.056849545], [0.233249065], [0.380054711], [0.602929443], [0.303847999], [0.170194553], [0.972168554], [0.332168927], [0.6887286890000001], [0.110773401], [0.273352065], [0.572939678], [0.491457065], [0.281389999], [0.821697261], [0.6749776829999999], [0.585134549], [0.7105961159999999], [0.040488789], [0.568054311], [0.321752928], [0.611850232], [0.926096887], [0.618347428], [0.667629785], [0.39773346600000004], [0.290875487], [0.594375103], [0.508255233], [0.338571357], [0.43230234700000003], [0.302221978], [0.87619819], [0.080204492], [0.092333532], [0.09365644699999999], [0.6084523510000001], [0.732654598], [0.944158855], [0.26742308], [0.731124201], [0.661308553], [0.38776626200000003], [0.962585273], [0.322067067], [0.6340810929999999], [0.475345002], [0.35355897299999994], [0.8859363159999999], [0.876798106], [0.221581064], [0.394362449], [0.8050356759999999], [0.452898486], [0.592520516], [0.761026394], [0.245049023], [0.37213936299999995], [0.681054822], [0.7471431479999999], [0.9207395290000001], [0.097207945], [0.699302998], [0.721647006], [0.5353561139999999], [0.738293805], [0.7064675509999999], [0.67395061], [0.7112122909999999], [0.302558708], [0.080097855], [0.707010837], [0.512248622], [0.659627472], [0.657559694], [0.100645606], [0.92665363], [0.892879338], [0.839157508], [0.890959718], [0.556754471], [0.960361937], [0.631037864], [0.029838065], [0.278843351], [0.926157705], [0.551504258], [0.485942349], [0.43723469600000003], [0.25231801800000003], [0.515466972], [0.43725229600000004], [0.493724207], [0.83324725], [0.317521477], [0.28623456199999997], [0.726833965], [0.495667033], [0.028645255], [0.31967191699999997], [0.674344598], [0.7660371890000001], [0.65456992], [0.7565143809999999], [0.528253719], [0.38971949100000003], [0.355087459], [0.87015202], [0.7390833059999999], [0.305761846], [0.411587673], [0.063633094], [0.735409395], [0.605916669], [0.539395562], [0.566183532], [0.674795186], [0.070993366], [0.12526410000000002], [0.279601492], [0.952174402], [0.233806762], [0.43724742899999997], [0.925423095], [0.433498634], [0.52517902], [0.088435529], [0.447677638], [0.647000631], [0.9036033370000001], [0.265790738], [0.66419695], [0.498120658], [0.49018894399999996], [0.747084187], [0.906783648], [0.678770917], [0.348599859], [0.294839683], [0.705691827], [0.211917931], [0.063201124], [0.276699543], [0.672459395], [0.8082059490000001], [0.296538373], [0.16012686199999998], [0.439385032], [0.555951416], [0.386240112], [0.158689619], [0.214499855], [0.299579429], [0.569161656], [0.488614799], [0.8782950209999999], [0.649380949], [0.465713341], [0.16813774], [0.87529545], [0.8411323409999999], [0.33292081], [0.5130478589999999], [0.30505507800000004], [0.8126269909999999], [0.25096706], [0.5024355779999999], [0.45799074100000003]], \"hovertemplate\": \"0=%{x}<br>1=%{y}<br>Feature=%{customdata[0]}<br>Label=%{marker.color}<extra></extra>\", \"legendgroup\": \"\", \"marker\": {\"color\": [0, 0, 1, 1, 0, 0, 0, 1, 1, 0, 0, 1, 0, 0, 1, 0, 1, 0, 0, 0, 1, 0, 0, 1, 1, 1, 0, 0, 1, 1, 0, 0, 1, 1, 1, 0, 0, 0, 0, 0, 1, 0, 0, 1, 0, 0, 0, 0, 0, 0, 0, 1, 0, 1, 0, 1, 0, 0, 0, 1, 0, 0, 1, 1, 0, 0, 1, 0, 0, 1, 0, 0, 0, 0, 0, 0, 0, 0, 0, 0, 0, 0, 0, 0, 0, 0, 0, 0, 0, 0, 0, 0, 0, 0, 0, 0, 0, 0, 0, 0, 0, 0, 0, 0, 0, 0, 0, 0, 0, 0, 0, 0, 0, 0, 0, 0, 0, 0, 0, 0, 0, 0, 0, 0, 0, 0, 0, 0, 0, 0, 0, 0, 0, 0, 0, 0, 0, 0, 0, 0, 0, 0, 0, 0, 0, 0, 0, 0, 0, 0, 0, 0, 0, 0, 0, 0, 0, 0, 0, 0, 0, 0, 0, 0, 0, 0, 0, 0, 0, 0, 0, 0, 0, 0, 0, 0, 0, 0, 0, 0, 0, 0, 0, 0, 0, 0, 0, 0, 0, 0, 0, 0, 0, 0, 0, 0, 0, 0, 1, 0, 0, 0, 0, 0, 0, 0, 0, 0, 0, 0, 0, 0, 0, 0, 0, 0, 0, 0, 0, 0, 0, 0, 0, 0, 0, 0, 0, 0, 0, 0, 0, 0, 0, 0, 0, 0, 0, 0, 0, 0, 0, 0, 0, 0, 0, 0, 0, 0, 0, 0, 0, 0, 0, 0, 0, 0, 0, 0, 0, 0, 0, 0, 0, 0, 0, 0, 0, 0, 0, 0, 0, 0, 0, 0, 0, 0, 0, 0, 0, 0, 0, 0, 0, 0, 0, 0, 0, 0, 0, 0, 0, 0, 0, 0, 0, 0, 0, 0, 0, 0, 0, 0, 0, 0, 0, 0, 0, 0, 0, 0, 0, 0, 0, 0, 0, 0, 0, 0, 0, 0, 0, 0, 0, 0, 0, 0, 0, 0, 0, 0, 0, 0, 0, 0, 0, 0, 0, 0, 0, 0, 0, 0, 0, 0, 0, 0, 0, 0, 0, 0, 0, 0, 0, 0, 0, 0, 0, 0, 0, 0, 0, 0, 0, 0, 0, 0, 0, 0, 0, 0, 0, 0, 0, 0, 0, 0, 0, 0, 0, 0, 0, 0, 0, 0, 0, 0, 0, 0, 0, 0, 0, 0, 0, 0, 0, 0, 0, 0, 0, 0, 0, 0, 0, 0, 0, 0, 0, 0, 0, 0, 0, 0, 0, 0, 0, 0, 0, 0, 0, 0, 0, 0, 0, 0, 0, 0, 0, 0, 0, 0, 0, 0, 0, 0, 0, 0, 0, 0, 0, 0, 0, 0, 0, 0, 0, 0, 0, 0, 0, 0, 0, 0, 0, 0, 0, 0, 0, 0, 0, 0, 0, 0, 0, 0, 0, 0, 0, 0, 0, 0, 0, 0, 0, 0, 0, 0, 0, 0, 0, 0, 0, 0, 0, 0, 0, 0, 0, 0, 0, 0, 0, 0, 0, 0, 0, 0, 0, 0, 0, 0, 0, 0, 0, 0, 0, 0, 0, 0, 0, 0, 0, 0, 0, 0, 0, 0, 0, 0, 0, 0, 0, 0, 0, 0, 0, 0, 0, 0, 0, 0, 0, 0, 0, 0, 0, 0, 0, 0, 0, 0, 0, 0, 0, 0, 0, 1, 0, 0, 0, 0, 0, 0, 0, 0, 0, 0, 0, 0, 0, 0, 0, 0, 0, 0, 0, 0, 0, 0, 0, 0, 0, 0, 0, 0, 0, 0, 0, 1, 0, 0, 0, 0, 0, 0, 0, 0, 0, 0, 0, 0, 0, 0, 0, 0, 0, 0, 0, 0, 0, 0, 0, 0, 1, 0, 0, 0, 0, 0, 0, 0, 0, 0, 0, 0, 0, 0, 0, 0, 0, 0, 0, 0, 0, 0, 0, 0, 0, 0, 0, 0, 0, 0, 0, 0, 0, 0, 0, 0, 0, 0, 0, 0, 0, 0, 0, 0, 0, 0, 0, 0, 0, 0, 0, 0, 0, 0, 0, 0, 0, 0, 0, 0, 0, 0, 0, 0, 0, 0, 0, 0, 0, 0, 0, 0, 0, 0, 0, 0, 0, 0, 1, 0, 0, 0, 0, 0, 0, 0, 0, 0, 0, 0, 0, 0, 0, 0, 0, 0, 0, 0, 1, 1, 0, 1, 1, 0, 0, 1, 1, 0, 0, 0, 0, 1, 0, 0, 1, 1, 1, 0, 1, 0, 1, 1, 1, 0, 0, 0, 1, 0, 0, 0, 0, 0, 0, 0, 0, 0, 0, 0, 0, 0, 0, 1, 0, 0, 0, 0, 0, 0, 0, 0, 0, 0, 0, 0, 0, 0, 0, 0, 0, 0, 0, 0, 0, 0, 0, 0, 0, 0, 0, 0, 0, 0, 0, 0, 0, 0, 0, 0, 1, 0, 0, 0, 0, 0, 0, 0, 0, 0, 0, 0, 0, 0, 0, 0, 0, 0, 0, 0, 0, 0, 0, 0, 0, 0, 0, 0, 0, 0, 0, 0, 0, 0, 0, 0, 0, 0, 0, 0, 0, 0, 0, 0, 0, 0, 0, 0, 0, 0, 0, 0, 0, 0, 0, 0, 0, 0, 0, 0, 0, 0, 0, 0, 0, 0, 0, 0, 0, 0, 0, 0, 0, 0, 0, 0, 0, 0, 0, 0, 0, 0, 0, 1, 0, 0, 0, 0, 0, 0, 0, 0, 0, 0, 0, 0, 0, 0, 0, 0, 0, 0, 0, 0, 0, 0, 0, 0, 0, 0, 0, 0, 0, 0, 0, 0, 0, 0, 0, 0, 0, 0, 0, 0, 0, 0, 0, 0, 0, 0, 0, 0, 0, 0, 0, 0, 0, 0, 0, 0, 0, 1, 0, 0, 0, 0, 0, 0, 0, 0, 0, 0, 0, 0, 0, 0, 0, 0, 0, 0, 0, 0, 0, 0, 0, 0, 0, 0, 0, 0, 0, 0, 0, 0, 0, 0, 0, 0, 0, 0, 0, 0, 0, 0, 0, 0, 0, 0, 0, 0, 0, 0, 0, 0, 0, 0, 0, 0, 0, 0, 0, 0, 0, 0, 0, 0, 0, 0, 0, 0, 0, 0, 0, 0, 0, 0, 0, 0, 0, 0], \"coloraxis\": \"coloraxis\", \"opacity\": 0.7, \"symbol\": \"circle\"}, \"mode\": \"markers\", \"name\": \"\", \"orientation\": \"v\", \"showlegend\": false, \"type\": \"scatter\", \"x\": [-0.9747052192687988, -1.9916919469833374, 9.313319206237793, 9.105300903320312, 10.218268394470215, 8.140335083007812, -0.28161314129829407, 9.847768783569336, -0.6735794544219971, -1.8675343990325928, 8.904481887817383, 10.70664119720459, 8.695816993713379, -0.18972648680210114, 9.924819946289062, 10.999212265014648, 8.519667625427246, 0.2743856906890869, 8.83566665649414, 9.69998836517334, 7.960237503051758, -1.1491682529449463, 9.642975807189941, -0.7784290313720703, 8.69945240020752, -1.138514757156372, 10.633705139160156, -0.12036393582820892, 10.24242877960205, 10.036724090576172, -0.555381715297699, -1.4880539178848267, -1.063970923423767, 9.860633850097656, 0.03574373200535774, -1.0470330715179443, 0.91800856590271, -0.03884119912981987, -1.4672505855560303, 8.324745178222656, 1.5966237783432007, 9.863855361938477, 1.0374056100845337, 8.280413627624512, 9.640676498413086, 11.0357666015625, 9.68314266204834, -0.7358823418617249, 10.757925033569336, 1.136125922203064, 9.2022123336792, 8.7114896774292, 0.232316792011261, 11.021515846252441, 8.342735290527344, 7.581084728240967, 7.9374098777771, -0.095957450568676, 9.772696495056152, 9.685585975646973, -0.2611437439918518, -0.3159061670303345, 11.074312210083008, 9.707550048828125, 1.0668745040893555, 9.632584571838379, 0.7169054746627808, 0.15344317257404327, 10.711098670959473, 8.724562644958496, 10.132930755615234, 9.71270751953125, -1.7041035890579224, 8.781014442443848, -1.6881074905395508, -0.5013792514801025, 10.783462524414062, 10.693620681762695, -2.3510494232177734, -2.385251522064209, -2.1571204662323, -0.49388065934181213, 10.41749382019043, -0.5555198788642883, -0.5547521710395813, -1.6408272981643677, 0.7751622200012207, 0.546196460723877, -1.7522215843200684, 0.017053982242941856, -1.1192468404769897, 8.874122619628906, 0.6652380228042603, -0.044887565076351166, -0.9546273946762085, 10.948790550231934, 0.4747530221939087, -1.6139883995056152, -0.2891080379486084, 10.627211570739746, -1.495043158531189, 1.1274745464324951, -1.4253530502319336, 0.5623987317085266, 10.671136856079102, -1.556725263595581, 0.03075200505554676, -2.085198163986206, -1.660589337348938, 10.352861404418945, -0.20273125171661377, -1.5635229349136353, 8.641310691833496, -0.6457093358039856, 9.930971145629883, -0.5862045288085938, -0.11488411575555801, -0.0244293212890625, 8.91236400604248, -0.08782169222831726, -0.6825810670852661, -1.3155758380889893, -2.166741371154785, 1.247295618057251, -1.0443893671035767, -1.9712049961090088, -1.3421196937561035, 9.266953468322754, -1.0558984279632568, -1.9179948568344116, -1.272789478302002, 0.37781617045402527, 9.315279006958008, -0.6769357323646545, 1.0851664543151855, -0.5980798006057739, 9.997794151306152, 9.744253158569336, -1.9022164344787598, -1.0367450714111328, 9.089385032653809, 0.11034402996301651, 0.4938303530216217, 10.426778793334961, -0.022472070530056953, -1.965104341506958, 9.124554634094238, 1.3829315900802612, -1.957170844078064, -0.3936294913291931, 0.024418914690613747, -0.7460767030715942, -1.9256089925765991, 0.6341740489006042, -1.215142011642456, 0.5064330697059631, 1.1000418663024902, 1.3908599615097046, -1.5125007629394531, 8.355700492858887, -0.03952076658606529, -0.07634380459785461, -1.3764535188674927, -2.6182422637939453, 8.690805435180664, 1.1974632740020752, 9.295190811157227, 9.96194839477539, 9.66740608215332, -0.6470029354095459, 0.2283467799425125, -1.6071789264678955, 8.626389503479004, 9.49865436553955, -1.4787061214447021, 1.0214972496032715, 8.406257629394531, 9.26922607421875, -1.9212242364883423, 9.688760757446289, -1.7464457750320435, 8.857210159301758, -1.259720802307129, 10.138875007629395, 10.021625518798828, -0.12619401514530182, 9.436172485351562, -0.9373963475227356, -1.9091243743896484, -0.7548514604568481, 1.3903827667236328, 10.451308250427246, 8.96973705291748, 9.62568187713623, 0.4415186643600464, -0.1129634901881218, -1.7483549118041992, -2.300013303756714, -1.3593600988388062, -1.2499183416366577, -1.2935521602630615, -0.790347695350647, -1.0409005880355835, 10.475541114807129, 9.312470436096191, -1.3407808542251587, -2.55765700340271, -1.4704630374908447, 8.801063537597656, -1.6152111291885376, -1.304638147354126, 9.356077194213867, 10.495792388916016, -0.23934084177017212, -1.4439290761947632, -1.5828449726104736, -1.7592828273773193, 10.816346168518066, 10.898502349853516, -1.1043058633804321, 9.391013145446777, -1.4259579181671143, 10.594527244567871, -1.878588318824768, 0.5337291359901428, -2.5133049488067627, 1.2187459468841553, -2.0292770862579346, 1.2173280715942383, 8.800494194030762, -0.23201043903827667, 0.8815420866012573, 9.679911613464355, 9.740716934204102, 0.22047583758831024, -1.475233554840088, -1.354322910308838, -0.7157022953033447, 9.352163314819336, 9.137406349182129, -1.5479822158813477, -1.9910451173782349, 9.294347763061523, -0.20918302237987518, 9.68823528289795, 0.6807218790054321, -1.502541422843933, -1.75230872631073, 1.327331304550171, 9.744606018066406, 0.3994711935520172, -1.1858242750167847, 9.5873441696167, 0.008515119552612305, -1.6180073022842407, -0.8267830014228821, -0.8293662667274475, 0.18161307275295258, 8.815644264221191, -0.1635657101869583, 9.231133460998535, -0.01638197898864746, 10.132420539855957, -1.3962281942367554, 0.3902026116847992, -0.5073997974395752, 9.934067726135254, 0.15938909351825714, -1.7061446905136108, -2.2878496646881104, -1.866925597190857, -0.8260335326194763, -0.6702019572257996, 9.150529861450195, 8.45811939239502, 0.9316492676734924, 11.050562858581543, 10.457734107971191, -1.8438454866409302, -1.8221282958984375, 1.3029747009277344, 9.241676330566406, -1.9054585695266724, -0.3770769536495209, 9.990423202514648, -1.8832898139953613, 0.4468036890029907, -1.485666036605835, 0.38639509677886963, -1.3414652347564697, 0.1020858958363533, -1.823244571685791, 0.1316797286272049, -1.3185303211212158, -0.5436198711395264, 8.777832984924316, 8.990839004516602, -2.606027126312256, -0.36498332023620605, -0.8574919700622559, -1.5973409414291382, 0.05913182720541954, 10.51150894165039, 9.763835906982422, 8.999598503112793, -1.2813259363174438, -1.868431806564331, -1.2645121812820435, 1.5239461660385132, 10.039785385131836, 9.909429550170898, 1.5236432552337646, 8.89739990234375, 9.151830673217773, -1.8610787391662598, -1.0456444025039673, -0.5886141657829285, -0.3788931667804718, -1.3491953611373901, -1.0168468952178955, -1.6732419729232788, -0.990180253982544, 9.670207023620605, -1.3234894275665283, -1.2414809465408325, -1.0136598348617554, 10.250537872314453, 9.960541725158691, 9.765364646911621, 8.939608573913574, 0.30731984972953796, 10.900712013244629, 0.34813228249549866, 0.44159016013145447, 0.5825819373130798, 10.517858505249023, -1.9865063428878784, -0.6338225603103638, 9.53188419342041, 10.489053726196289, -0.7237350940704346, -2.1112866401672363, 8.840938568115234, 0.7295851111412048, 9.92810344696045, 10.23949146270752, -0.7498422265052795, 1.521450161933899, 9.252777099609375, 10.896403312683105, -1.1180967092514038, -0.711739718914032, -0.17604583501815796, -0.8565739989280701, 0.42086261510849, -2.1485018730163574, -0.37246620655059814, -1.363807201385498, 10.718746185302734, -1.0317378044128418, -1.9501755237579346, -1.6834660768508911, -0.4417571723461151, 1.4601701498031616, 9.45307445526123, -1.3202619552612305, 10.585823059082031, 0.07072063535451889, 0.38474568724632263, -2.0095741748809814, 0.9282763600349426, -1.4682749509811401, 10.689011573791504, 9.653278350830078, 9.710084915161133, 1.0935472249984741, -1.3180207014083862, 8.967894554138184, -0.8419879674911499, -0.032873526215553284, 8.762772560119629, -0.8236473798751831, -1.455649495124817, -1.9757287502288818, -1.9341788291931152, 0.42764461040496826, -0.10966655611991882, -0.15990598499774933, -1.3498094081878662, -1.6295404434204102, 0.6593310832977295, 0.4033772349357605, -0.967768669128418, -0.8050696849822998, -0.12997126579284668, -0.8627563118934631, -1.588456153869629, 9.706766128540039, -1.0879848003387451, -1.7489333152770996, -0.30297088623046875, 0.09757094830274582, 1.5099760293960571, -1.2966461181640625, 9.981878280639648, -0.15230637788772583, 9.588531494140625, -0.7219743728637695, 8.331069946289062, -2.3081443309783936, -0.9521589279174805, -0.17904891073703766, 10.781868934631348, -1.2391473054885864, -1.7686761617660522, 0.926408588886261, 0.8387638926506042, -1.2167752981185913, 9.90823745727539, 10.294665336608887, -1.637937307357788, -0.5079153776168823, -1.4177899360656738, -1.7151309251785278, 9.838397026062012, 0.71558678150177, -0.3388335108757019, 8.95965576171875, -1.4399986267089844, 10.788771629333496, -0.5026348233222961, -0.04506310075521469, -0.4393216371536255, 8.955344200134277, 10.077428817749023, -0.6915502548217773, 0.21369805932044983, 10.661691665649414, -1.7276883125305176, 9.402990341186523, -1.6660680770874023, -2.361475944519043, 9.569049835205078, 10.944605827331543, -1.4420827627182007, 8.432684898376465, 10.398965835571289, 0.8146765232086182, 9.633035659790039, 9.199182510375977, 0.3857077956199646, 10.073147773742676, 1.3003636598587036, -1.2675782442092896, 8.627667427062988, -1.120369791984558, -1.165871262550354, 9.88194465637207, -2.20365047454834, -1.91119384765625, -1.9973695278167725, 9.783838272094727, 0.9365213513374329, -2.2892751693725586, -0.8131367564201355, -1.1751278638839722, -1.7089626789093018, 10.23118782043457, 1.1512812376022339, 9.692964553833008, -1.001827359199524, 0.2833128869533539, 0.8834720253944397, -0.85499507188797, 0.8996548056602478, 0.4797356426715851, -0.32769522070884705, 8.781598091125488, -0.3869840204715729, -0.7973451018333435, 1.4576269388198853, -0.18944256007671356, 9.03276252746582, 10.613070487976074, -0.1171356812119484, 10.852988243103027, -1.6869302988052368, -1.6419883966445923, -0.5950459837913513, 9.042222023010254, -1.4327255487442017, 8.6275053024292, 8.510213851928711, 10.563515663146973, 9.462002754211426, 9.3274564743042, -2.27329158782959, 8.379446983337402, 0.495846152305603, 0.0400729663670063, -1.8914909362792969, -0.3719530403614044, -1.0590026378631592, -1.6928763389587402, -1.467139482498169, 9.079750061035156, -1.95626962184906, 1.5923010110855103, -1.7808618545532227, 8.8811674118042, 10.379683494567871, 1.4278631210327148, -2.0783333778381348, 10.458230018615723, -2.511392593383789, 0.9781208634376526, 0.5498480796813965, -2.0439112186431885, -1.2911474704742432, -2.1128320693969727, -1.7776610851287842, 10.43526554107666, 8.868959426879883, 9.833956718444824, 10.904111862182617, 0.08193717896938324, -1.8848952054977417, 0.14547063410282135, -1.42067551612854, -1.282167673110962, -1.4743770360946655, 10.594022750854492, 8.417058944702148, 0.8205408453941345, 8.462592124938965, 9.78416919708252, -1.3023900985717773, 10.546684265136719, -0.2777023911476135, -2.365201950073242, -1.2743815183639526, 8.718999862670898, -1.2350307703018188, -1.8483612537384033, 1.3613762855529785, 9.159234046936035, -1.877266764640808, 9.00469970703125, 9.21514892578125, -1.769703984260559, 0.6500126123428345, -0.4468226730823517, 10.338706016540527, -1.5551625490188599, 0.7718613743782043, -0.8380265235900879, 8.336540222167969, -1.5504424571990967, 10.105573654174805, -0.8828889727592468, 10.997160911560059, 10.846563339233398, 0.8623762130737305, 8.746274948120117, 0.1469118595123291, -2.62956166267395, 1.028962254524231, -0.5492294430732727, 9.543718338012695, 8.567980766296387, -1.0688502788543701, 8.57203197479248, 9.978522300720215, 10.963475227355957, -1.9181699752807617, 10.050944328308105, -0.7359138131141663, 0.41296079754829407, -0.4534788131713867, -0.7045466899871826, -1.5262069702148438, -0.9877527356147766, 9.658476829528809, -0.9623037576675415, 1.5114588737487793, -2.5265700817108154, -1.1144235134124756, 0.5999607443809509, 0.4283578395843506, 10.627241134643555, -0.22363676130771637, 1.5008264780044556, -0.6881712675094604, 9.960084915161133, -0.7382134795188904, 0.4722290337085724, 9.784062385559082, 10.559684753417969, 8.799662590026855, 10.909019470214844, 9.401616096496582, -1.078630805015564, 8.941072463989258, -0.1153249517083168, 8.701886177062988, -1.9144997596740723, 10.011504173278809, 10.961304664611816, -0.15734504163265228, -1.630334734916687, 8.806071281433105, 0.01170061994343996, -1.7840211391448975, -0.7704602479934692, -2.050558567047119, 1.050007700920105, -1.7917087078094482, -1.8155699968338013, -0.6253691911697388, -1.0784399509429932, -0.5197603702545166, 0.3181357979774475, 0.4838500916957855, -0.960893988609314, 9.753241539001465, 10.096176147460938, -0.06588064879179001, 10.111494064331055, -0.6814953088760376, -2.1703362464904785, -0.05637815222144127, -2.3315038681030273, -1.7751823663711548, 10.412227630615234, 0.006049882620573044, -0.22196684777736664, 0.06017574667930603, -0.45111408829689026, 8.615872383117676, -0.530967116355896, 9.337567329406738, -1.592867136001587, -0.21972522139549255, 0.02942323312163353, 10.644166946411133, -1.3274338245391846, 9.482057571411133, -0.7018181681632996, 9.193741798400879, -0.8357902765274048, 1.1662063598632812, 1.0572909116744995, -1.0399861335754395, 9.356592178344727, 0.9124309420585632, -1.4558789730072021, 10.614115715026855, -0.4101301431655884, -0.338707834482193, 10.473170280456543, 10.290982246398926, 0.22831915318965912, -0.8300200700759888, -0.8887917995452881, 8.858529090881348, -1.3127434253692627, 9.844450950622559, -0.7453932166099548, -2.2156786918640137, 1.1021093130111694, -1.0858343839645386, -2.098911762237549, 0.5384905338287354, -0.5291141271591187, 8.390301704406738, 0.8889008164405823, -1.6348850727081299, 8.511773109436035, 9.06755256652832, -0.6575719118118286, 9.671516418457031, 1.093988060951233, -0.6839662790298462, 8.522772789001465, 0.9576115608215332, 0.9968956112861633, -1.96944260597229, 1.5710941553115845, 8.852810859680176, 10.102760314941406, 9.636536598205566, 9.488734245300293, 10.779112815856934, -1.3714265823364258, 8.794300079345703, 8.472661018371582, -0.9728918671607971, -2.4466986656188965, -1.7561793327331543, 9.443781852722168, -1.8163124322891235, -2.579216241836548, -0.17075535655021667, 10.345954895019531, -1.6779680252075195, -0.5889460444450378, 9.25346565246582, 10.275533676147461, -0.4904840290546417, 8.4213228225708, 9.736900329589844, 1.3835020065307617, -0.3760436475276947, -2.057363986968994, -0.23401491343975067, 8.249175071716309, 8.116798400878906, 11.002656936645508, -0.4337512254714966, 0.02819967083632946, 9.00552749633789, 0.26406288146972656, -1.7382795810699463, 8.70284652709961, -1.0866379737854004, -1.0316689014434814, 8.983990669250488, 8.571198463439941, 9.62580680847168, 8.234678268432617, -1.2427645921707153, 10.828378677368164, -0.4386596381664276, -0.3602589964866638, -1.0421812534332275, 8.698007583618164, -0.3331755995750427, -2.053583860397339, -2.459261417388916, 8.827778816223145, -0.5531011819839478, -0.3375774025917053, -0.3827342689037323, 8.67377758026123, -1.1344560384750366, -2.5410614013671875, -0.9579819440841675, 8.611875534057617, 9.664346694946289, 10.309653282165527, -1.972909688949585, 10.554104804992676, -0.5555137395858765, 0.41690507531166077, 1.3681312799453735, 9.450281143188477, -2.371002435684204, -0.19508184492588043, 10.459619522094727, 1.4529496431350708, 10.156563758850098, 0.5111202001571655, 0.7054026126861572, 0.7549383044242859, -0.9537075757980347, 0.05667257681488991, 0.016995752230286598, 10.495972633361816, -0.44354864954948425, 10.403606414794922, -2.232398271560669, -0.3419972360134125, -0.6982614994049072, -0.28235840797424316, -0.81223464012146, 1.5921127796173096, -0.5496848821640015, -1.7644270658493042, -1.8125540018081665, -0.7739938497543335, -0.6493083238601685, -0.16484284400939941, -1.6060022115707397, 0.06449098885059357, -1.8523403406143188, 10.216409683227539, 0.137716144323349, 8.422111511230469, -2.6113951206207275, -2.4156341552734375, 10.038427352905273, -1.2558914422988892, 8.871841430664062, -1.3315218687057495, 0.3889933228492737, -1.3475239276885986, 1.2280044555664062, 9.59945297241211, -0.8083393573760986, 1.4592000246047974, -0.931474506855011, -0.5342435240745544, -1.373323917388916, -1.9838708639144897, 9.152158737182617, 1.1291189193725586, 0.9590862393379211, -1.044758677482605, 9.173396110534668, 0.7455666661262512, 10.685283660888672, 8.560311317443848, -1.374980092048645, -1.5815644264221191, -1.6322073936462402, 9.544276237487793, -1.4398897886276245, 10.131898880004883, 8.459477424621582, 9.202229499816895, 8.703317642211914, 9.17012882232666, -2.5598232746124268, -1.5529513359069824, -1.9046839475631714, 0.2390359491109848, 9.101274490356445, -2.4097464084625244, -1.118466854095459, 10.660323143005371, -0.8589585423469543, -0.9790928363800049, 11.032682418823242, 8.562041282653809, 9.77513313293457, 8.730828285217285, 10.946715354919434, 10.41788387298584, 8.634805679321289, 0.7620627284049988, -0.7276003360748291, 0.39829912781715393, 9.309368133544922, -1.6942723989486694, -0.21070925891399384, 8.319778442382812, -2.053774356842041, -0.7359176874160767, -0.07495514303445816, -0.9139797687530518, 8.37532901763916, -1.738313913345337, 0.6996281743049622, -0.7002125382423401, -1.4125096797943115, -2.2594146728515625, -1.3699951171875, 8.974007606506348, -2.5749640464782715, 8.793285369873047, -1.5219552516937256, -2.2805519104003906, -0.9385637044906616, -0.9400785565376282, -1.9784083366394043, 9.79452133178711, -0.10709135979413986, -2.45430850982666, 8.780261039733887, 0.09959210455417633, 9.198614120483398, 0.6572123169898987, 0.6006079316139221, -0.11812639236450195, -0.5005743503570557, 0.4934047758579254, 0.14009401202201843, -1.750575304031372, -0.2560707926750183, 9.302427291870117, 0.16196171939373016, -1.2563952207565308, -2.0588247776031494, 9.930049896240234, 9.781416893005371, 8.665853500366211, -0.797120988368988, -0.10500461608171463, -0.7657354474067688, 8.562960624694824, 10.61839771270752, 10.046781539916992, 9.802177429199219, -2.0486345291137695, 10.1395263671875, -0.5446121096611023, -0.5844851732254028, 0.9108344912528992, -1.4195548295974731, -1.0195050239562988, -1.4962105751037598, 0.05907096713781357, 1.3993321657180786, 10.201790809631348, -1.1462609767913818, 10.458431243896484, 9.179643630981445, -1.4399574995040894, 9.739579200744629, -1.8003736734390259, -0.8787357211112976, 0.3782844841480255, 0.823022723197937, -1.7367109060287476, 8.861555099487305, 10.20995807647705, -0.2380528450012207, -2.0409014225006104, 8.91329288482666, 8.70581340789795, -1.6554651260375977, 9.364684104919434, -0.29676103591918945, -1.644051194190979, -2.3220834732055664, 0.11971049010753632, -0.7928135395050049, -0.34723812341690063, -0.5289550423622131, -2.2801082134246826, 10.347238540649414, 0.41195148229599, 0.6819384694099426, 10.2642183303833, 9.753020286560059, 10.566827774047852, 0.44301775097846985, 9.349588394165039, -1.9359185695648193, 8.731245994567871, 9.640215873718262, -1.2289727926254272, -2.49053955078125, 8.397098541259766, -1.3400309085845947, 9.067940711975098, -1.6658633947372437, -1.272105097770691, -1.809029459953308, -0.7836563587188721, -0.35615774989128113, -0.7108249664306641, 10.066956520080566, 9.729880332946777, -0.3608461916446686, 0.8225105404853821, 8.792332649230957, 9.677803993225098, 8.58968734741211, -1.737712025642395, 0.328916996717453, -0.04661703109741211, 9.242292404174805, -2.005335807800293, -0.4483684003353119, 1.475582242012024, -1.2639682292938232, -1.5072673559188843, 8.91844367980957, 0.4218747019767761, 10.881390571594238, -0.8099163174629211, -0.6072297096252441, 10.223957061767578, -1.9263302087783813, -0.0003133752616122365, -0.5952816605567932, 10.934343338012695, -0.5458190441131592, 8.432611465454102, 8.815469741821289, -1.51348876953125, -2.527655839920044, 0.015513921156525612, 10.870217323303223, 0.2867172360420227, -1.7230861186981201, 8.94428539276123, 8.610733032226562, 10.821931838989258, 8.505247116088867, -1.408321738243103, -1.3519971370697021, 9.25588321685791, 9.289390563964844, -0.4026868939399719, 0.02159636653959751, -2.6149628162384033, 9.037195205688477, 10.864815711975098], \"xaxis\": \"x\", \"y\": [3.681525230407715, 9.455951690673828, 3.8823678493499756, 8.178406715393066, 3.9647347927093506, 7.297266483306885, 9.628734588623047, 8.112408638000488, 6.06366491317749, 2.680036783218384, 9.000415802001953, 4.519053936004639, 7.6739630699157715, 6.920475482940674, 5.0201945304870605, 6.600407123565674, 8.045401573181152, 8.370604515075684, 4.565126895904541, 7.559943675994873, 7.326064109802246, 4.110388278961182, 4.537286758422852, 6.126255035400391, 6.700927257537842, 4.414906024932861, 4.661917686462402, 6.924665927886963, 6.758041858673096, 6.583895683288574, 6.338533878326416, 9.923336029052734, 4.9938554763793945, 6.043570041656494, 6.158113956451416, 4.176191806793213, 7.7835164070129395, 6.9698262214660645, 3.9270901679992676, 7.527442932128906, 8.333661079406738, 6.74371862411499, 7.5839691162109375, 6.525826930999756, 5.8315205574035645, 6.652369022369385, 5.895700454711914, 6.2043843269348145, 4.648808002471924, 8.67816162109375, 8.788516998291016, 4.795294284820557, 6.519028663635254, 6.641853332519531, 7.163299560546875, 7.357456207275391, 7.602229595184326, 6.091168403625488, 6.158555507659912, 4.492663860321045, 6.232059001922607, 7.979372024536133, 7.054247856140137, 6.775700569152832, 7.884305477142334, 5.715342044830322, 7.316671371459961, 8.081514358520508, 4.431685924530029, 7.272899627685547, 6.8894500732421875, 8.040934562683105, 3.4621737003326416, 8.332606315612793, 1.0525041818618774, 2.7379353046417236, 4.230907440185547, 6.788435935974121, 1.346022367477417, 1.87509286403656, 1.8767285346984863, 2.2608234882354736, 4.663410186767578, 7.840316295623779, 9.304509162902832, 9.00063419342041, 8.473084449768066, 9.058564186096191, 6.623412609100342, 2.8285624980926514, 2.7744691371917725, 9.018583297729492, 7.364554405212402, 9.42591667175293, 10.036528587341309, 7.131834506988525, 7.1507720947265625, 8.488885879516602, 8.17245101928711, 4.413930892944336, 3.613893508911133, 8.736174583435059, 8.598592758178711, 6.501655101776123, 7.5551438331604, 2.158390760421753, 7.629165172576904, 8.718016624450684, 1.1669440269470215, 6.914317607879639, 2.390129566192627, 3.8152194023132324, 9.038476943969727, 2.5714094638824463, 3.7982523441314697, 1.920666217803955, 10.106438636779785, 9.39663028717041, 8.233967781066895, 8.390897750854492, 1.8248196840286255, 6.5192766189575195, 8.63134479522705, 7.9634809494018555, 7.601953506469727, 9.21127986907959, 9.845515251159668, 8.074824333190918, 9.263604164123535, 8.979873657226562, 6.302844047546387, 6.909952640533447, 8.674703598022461, 9.698695182800293, 9.047795295715332, 3.224372386932373, 4.2233781814575195, 8.550950050354004, 9.548596382141113, 7.211554527282715, 8.590861320495605, 2.911742687225342, 6.429812431335449, 4.2640790939331055, 8.42944049835205, 2.118591785430908, 8.121562004089355, 8.542647361755371, 9.583703994750977, 7.1659440994262695, 2.6428394317626953, 1.9612456560134888, 7.369007110595703, 6.330790996551514, 4.002737522125244, 7.5515851974487305, 7.852357387542725, 8.298267364501953, 1.239189624786377, 7.903815269470215, 10.016231536865234, 6.205212116241455, 1.4402669668197632, 1.414448618888855, 7.794677734375, 8.79114818572998, 8.638580322265625, 6.302836894989014, 4.707458972930908, 7.643261909484863, 7.598012447357178, 8.434717178344727, 6.87928581237793, 3.934492349624634, 7.257297039031982, 8.956491470336914, 7.123051166534424, 3.8197810649871826, 9.605888366699219, 8.345563888549805, 7.2792134284973145, 7.026902198791504, 10.025455474853516, 6.583493232727051, 6.44370174407959, 10.081067085266113, 6.420534610748291, 6.353232383728027, 2.2833588123321533, 1.9842113256454468, 8.452587127685547, 3.9264214038848877, 8.987136840820312, 3.727886438369751, 9.666465759277344, 9.811903953552246, 7.282769203186035, 8.5730619430542, 3.58735990524292, 7.591121673583984, 6.434148788452148, 7.261500835418701, 9.895414352416992, 4.684566020965576, 3.7856483459472656, 10.003680229187012, 1.9710392951965332, 6.421452045440674, 7.254117488861084, 9.602725982666016, 7.302595615386963, 6.379703521728516, 6.95704460144043, 2.2162673473358154, 6.525753974914551, 7.027983665466309, 9.589457511901855, 6.777625560760498, 7.164511203765869, 6.970361232757568, 3.771970748901367, 8.48277473449707, 4.529788017272949, 1.149778962135315, 9.543330192565918, 1.9997481107711792, 7.6718034744262695, 2.3443033695220947, 8.989872932434082, 6.284870147705078, 9.704195976257324, 7.454740047454834, 8.364078521728516, 8.492581367492676, 7.087482929229736, 8.4548978805542, 8.964258193969727, 2.097783088684082, 7.963820934295654, 3.715688943862915, 6.5550618171691895, 8.11403751373291, 4.021835803985596, 9.082590103149414, 7.75137186050415, 9.21865177154541, 2.348773241043091, 1.437034249305725, 7.589749336242676, 4.329446315765381, 6.0368523597717285, 7.633503437042236, 8.024324417114258, 6.140873432159424, 2.2569363117218018, 6.187300205230713, 3.4841020107269287, 9.178211212158203, 6.282628059387207, 8.569462776184082, 3.9986631870269775, 6.030200481414795, 3.859346628189087, 7.468574047088623, 6.249898433685303, 9.027607917785645, 8.455540657043457, 9.898633003234863, 1.1561927795410156, 8.207752227783203, 8.415382385253906, 10.093595504760742, 2.7968952655792236, 3.931870222091675, 7.714305877685547, 6.646173000335693, 6.7151665687561035, 3.918882369995117, 8.652189254760742, 2.2618913650512695, 7.7317376136779785, 4.0517191886901855, 2.4241294860839844, 3.2277352809906006, 3.8716156482696533, 8.756174087524414, 8.212058067321777, 8.544296264648438, 9.278450965881348, 3.608839750289917, 2.6577727794647217, 8.864717483520508, 7.548052787780762, 8.645233154296875, 7.9655070304870605, 8.764775276184082, 7.620527744293213, 1.532492756843567, 7.482836723327637, 3.563716411590576, 9.23998737335205, 9.265189170837402, 6.845766067504883, 7.766685485839844, 7.270493984222412, 1.0512703657150269, 8.227907180786133, 1.3050117492675781, 8.378028869628906, 6.4200544357299805, 6.4220476150512695, 8.37130069732666, 6.791280746459961, 3.754758358001709, 7.134919166564941, 3.5227932929992676, 7.5735626220703125, 9.363946914672852, 0.9964426159858704, 9.894631385803223, 9.14126205444336, 2.4321863651275635, 8.19301700592041, 8.83317756652832, 1.8789851665496826, 3.671417474746704, 8.105749130249023, 8.349786758422852, 5.052343368530273, 7.481597900390625, 9.833928108215332, 6.573135852813721, 6.055767059326172, 7.131004810333252, 9.021531105041504, 4.49551248550415, 9.044791221618652, 3.1558806896209717, 6.620594024658203, 6.2950358390808105, 3.2684385776519775, 2.4333248138427734, 8.234696388244629, 6.368270397186279, 8.118231773376465, 4.775509834289551, 9.69725513458252, 8.64267349243164, 8.02543830871582, 6.573305130004883, 7.585413932800293, 2.904395818710327, 8.539897918701172, 10.121310234069824, 8.19127082824707, 2.4418118000030518, 6.413576126098633, 8.217737197875977, 7.1305413246154785, 4.276175498962402, 9.24953556060791, 8.367645263671875, 6.4014482498168945, 8.1633939743042, 8.186257362365723, 1.5861389636993408, 6.880060195922852, 9.544564247131348, 9.205493927001953, 8.841060638427734, 7.861655235290527, 6.502983570098877, 4.19469690322876, 5.138981342315674, 8.205921173095703, 7.714314937591553, 1.0690581798553467, 7.4900922775268555, 10.099949836730957, 3.0248496532440186, 7.9856696128845215, 6.849902153015137, 1.389219045639038, 2.947458028793335, 9.087052345275879, 7.130578517913818, 7.492610454559326, 7.344730854034424, 7.561013221740723, 3.7335634231567383, 8.12563419342041, 7.132309436798096, 2.869807720184326, 1.9770421981811523, 8.592845916748047, 10.11400032043457, 2.202299118041992, 7.793967247009277, 3.856828212738037, 2.113405227661133, 8.235612869262695, 7.79195499420166, 8.441722869873047, 10.076879501342773, 7.821741580963135, 10.00010871887207, 4.243940830230713, 6.661733150482178, 8.048956871032715, 8.620007514953613, 8.88804817199707, 2.749490976333618, 7.335745334625244, 1.1860508918762207, 8.77748966217041, 7.508979797363281, 8.884237289428711, 9.403351783752441, 8.47009563446045, 4.826589107513428, 3.757708787918091, 7.844173431396484, 8.492293357849121, 9.26891040802002, 4.779527187347412, 9.211106300354004, 9.60811710357666, 7.372373580932617, 3.50748610496521, 4.2539143562316895, 2.0010595321655273, 10.005965232849121, 7.94920015335083, 7.62963342666626, 6.853564739227295, 7.6475019454956055, 8.821061134338379, 4.403355121612549, 1.0795776844024658, 3.7745745182037354, 2.2594735622406006, 1.3584094047546387, 3.7881102561950684, 4.168605804443359, 6.774984359741211, 7.066436767578125, 6.9257612228393555, 6.574819087982178, 4.446018695831299, 7.371222496032715, 7.892542362213135, 4.221879482269287, 7.968493461608887, 1.0775634050369263, 9.0587158203125, 10.023872375488281, 6.6903977394104, 4.152798175811768, 1.2826564311981201, 2.878305196762085, 9.022394180297852, 3.961155414581299, 7.882381439208984, 2.3566112518310547, 6.525108814239502, 2.7153868675231934, 1.2192953824996948, 7.228559494018555, 8.887812614440918, 4.610611438751221, 1.8615845441818237, 7.99727725982666, 8.457795143127441, 2.685401678085327, 7.748119831085205, 9.612991333007812, 9.718934059143066, 7.176791667938232, 3.6753525733947754, 8.983809471130371, 8.126565933227539, 7.949812412261963, 7.3684563636779785, 4.312831401824951, 10.0826416015625, 4.213982582092285, 7.8469953536987305, 3.3273067474365234, 3.3396189212799072, 3.700312614440918, 1.5021237134933472, 8.910348892211914, 6.627291679382324, 6.797524452209473, 4.289485454559326, 7.76987886428833, 8.669182777404785, 8.192971229553223, 6.418702125549316, 3.0572280883789062, 9.515471458435059, 6.811923980712891, 4.010190010070801, 6.643214225769043, 3.45882511138916, 3.6836445331573486, 1.1316556930541992, 8.558744430541992, 3.295912265777588, 6.799400329589844, 3.828244686126709, 8.409625053405762, 8.040984153747559, 6.356756210327148, 1.4661064147949219, 6.834042072296143, 6.1500468254089355, 1.1926342248916626, 7.459306716918945, 8.24443244934082, 3.551058769226074, 5.212217807769775, 6.243570804595947, 5.055819988250732, 7.212356090545654, 10.00859260559082, 3.0339291095733643, 9.378572463989258, 7.356829643249512, 3.583820104598999, 8.489250183105469, 6.932121753692627, 8.177289962768555, 7.755780220031738, 8.829485893249512, 6.521823406219482, 9.935835838317871, 4.479049205780029, 5.010052680969238, 8.387127876281738, 7.741252899169922, 7.459629535675049, 8.752571105957031, 9.615099906921387, 8.952309608459473, 8.640497207641602, 2.142001152038574, 7.918731212615967, 7.573965549468994, 2.349567413330078, 6.689233779907227, 3.125051498413086, 4.176670551300049, 1.2049800157546997, 6.547976493835449, 8.842571258544922, 8.023308753967285, 1.017982840538025, 8.352744102478027, 6.285610198974609, 4.184028148651123, 7.299936294555664, 6.63964319229126, 8.529956817626953, 8.306891441345215, 1.8420958518981934, 8.457658767700195, 6.94013786315918, 7.8261919021606445, 8.78247356414795, 3.5931477546691895, 9.062104225158691, 7.807508945465088, 6.630249977111816, 9.473095893859863, 6.556402206420898, 9.235021591186523, 9.191457748413086, 3.343752384185791, 1.76645827293396, 3.7885780334472656, 1.5254061222076416, 4.833413600921631, 9.391155242919922, 8.301021575927734, 2.1321465969085693, 3.446077585220337, 7.631239414215088, 9.663829803466797, 6.940479278564453, 7.855252265930176, 7.707117557525635, 6.104762554168701, 7.812014102935791, 6.312259674072266, 6.466598033905029, 7.878805637359619, 7.0385565757751465, 7.181831359863281, 4.1670613288879395, 8.400959968566895, 6.493470191955566, 6.679519176483154, 9.760496139526367, 7.267624378204346, 9.56989574432373, 8.104890823364258, 6.7967681884765625, 8.416546821594238, 9.075507164001465, 6.278290271759033, 2.6591241359710693, 3.5150668621063232, 3.3372344970703125, 2.6396210193634033, 6.9560465812683105, 6.964932918548584, 6.598553657531738, 7.584316253662109, 3.42919921875, 6.062998294830322, 6.461511611938477, 6.099943161010742, 7.176481246948242, 5.043450355529785, 7.768866062164307, 10.070709228515625, 3.855140209197998, 6.740181922912598, 2.4484176635742188, 5.474734783172607, 8.511519432067871, 0.988970935344696, 4.863091468811035, 3.0086112022399902, 4.8080902099609375, 2.727691650390625, 6.18736457824707, 9.106072425842285, 6.3756608963012695, 3.697984457015991, 9.742108345031738, 9.724505424499512, 2.9597537517547607, 6.546100616455078, 1.4057177305221558, 4.342249870300293, 2.8695480823516846, 6.67682409286499, 2.82399320602417, 7.627593994140625, 8.457427978515625, 6.816373348236084, 8.593880653381348, 9.011882781982422, 9.636621475219727, 4.499259948730469, 3.2210562229156494, 7.072022438049316, 6.945015907287598, 6.860891819000244, 6.578101634979248, 6.363306999206543, 3.612356662750244, 7.693307399749756, 9.36257266998291, 8.469762802124023, 9.7176513671875, 8.674102783203125, 8.81151294708252, 7.149236679077148, 2.439380407333374, 6.111204147338867, 6.65664005279541, 7.679159164428711, 7.022090435028076, 9.722646713256836, 8.997029304504395, 7.702658653259277, 9.661937713623047, 4.775867938995361, 7.760342597961426, 2.9697418212890625, 6.9914398193359375, 6.717538356781006, 8.927457809448242, 1.9112344980239868, 8.598973274230957, 9.038562774658203, 6.507025241851807, 6.6632866859436035, 6.500546932220459, 7.241906642913818, 7.5175580978393555, 9.041987419128418, 8.11484432220459, 4.0432939529418945, 2.0147671699523926, 1.4442659616470337, 6.106014251708984, 6.633075714111328, 2.00889253616333, 6.863542556762695, 6.822094440460205, 2.2130982875823975, 10.212238311767578, 8.919878959655762, 5.958858013153076, 5.878414154052734, 6.3916144371032715, 5.898211479187012, 8.192083358764648, 7.739252090454102, 7.667572021484375, 7.589250564575195, 7.6767473220825195, 7.3582868576049805, 6.707474231719971, 8.058732986450195, 7.710754871368408, 4.3459153175354, 9.960837364196777, 7.736377239227295, 5.046824932098389, 7.633106231689453, 5.017667293548584, 7.078893661499023, 8.030632972717285, 8.16667652130127, 7.318609237670898, 7.5299973487854, 4.077208995819092, 6.448805809020996, 6.984739780426025, 6.699326038360596, 9.02275276184082, 2.152000904083252, 1.742151141166687, 1.5125900506973267, 6.2198567390441895, 7.27620267868042, 3.14027738571167, 3.260453939437866, 6.381237506866455, 3.9516055583953857, 1.5255995988845825, 1.8269028663635254, 9.113515853881836, 4.055402755737305, 6.939814567565918, 9.408194541931152, 4.185242652893066, 10.142029762268066, 9.686257362365723, 7.764334201812744, 3.8706562519073486, 1.971696138381958, 6.030223846435547, 6.370725631713867, 8.556693077087402, 6.517361164093018, 6.058924674987793, 7.5724334716796875, 9.029885292053223, 3.6063742637634277, 9.709039688110352, 9.951299667358398, 3.9192888736724854, 9.473159790039062, 3.829033374786377, 1.9226740598678589, 3.6352081298828125, 6.125823497772217, 9.638216018676758, 3.5957601070404053, 8.023687362670898, 6.698957443237305, 6.746102333068848, 0.9613474011421204, 3.3894271850585938, 1.8517742156982422, 10.035235404968262, 8.47165298461914, 2.573335647583008, 1.4855574369430542, 6.714593887329102, 6.162077903747559, 7.656441688537598, 1.6894514560699463, 2.110983371734619, 7.999087333679199, 2.288370370864868, 6.28566837310791, 1.0335958003997803, 9.775703430175781, 9.987992286682129, 7.483405590057373, 4.2789201736450195, 1.576871633529663, 8.324289321899414, 6.808709144592285, 6.7846760749816895, 7.412932395935059, 9.538314819335938, 3.710693359375, 8.866835594177246, 6.718174457550049, 8.769390106201172, 8.693695068359375, 7.843489170074463, 4.381317138671875, 6.5695109367370605, 0.9321527481079102, 3.8538095951080322, 8.680696487426758, 4.596835136413574, 8.509146690368652, 7.743659496307373, 6.966951847076416, 8.165979385375977, 8.555368423461914, 3.8469598293304443, 1.4227805137634277, 9.021472930908203, 7.8936381340026855, 8.753256797790527, 8.726994514465332, 1.7727935314178467, 2.6592729091644287, 6.863945960998535, 8.838540077209473, 4.070949554443359, 6.994553565979004, 6.493627071380615, 4.087912559509277, 7.29260778427124, 4.083004474639893, 3.95328688621521, 8.582387924194336, 6.507730484008789, 1.7231611013412476, 6.562363147735596, 8.133780479431152, 8.570870399475098, 9.336665153503418, 8.182889938354492, 8.47611141204834, 1.6883615255355835, 2.473027467727661, 7.60070276260376, 8.041645050048828, 3.4944539070129395, 6.443953990936279, 1.7965377569198608, 7.387829780578613, 8.230417251586914, 7.24351692199707, 8.640043258666992, 1.8241441249847412, 6.283391952514648, 3.8280467987060547, 1.9753018617630005, 6.355587482452393, 1.868819236755371, 8.08676528930664, 8.495423316955566, 9.549723625183105, 2.0482609272003174, 7.544305801391602, 2.8728065490722656, 7.937524318695068, 6.714494228363037, 8.596418380737305, 2.3902578353881836, 10.062307357788086, 7.712985038757324, 6.567239284515381, 6.902384281158447, 3.579465627670288, 3.935945987701416, 2.6323490142822266, 1.5094497203826904, 2.46571946144104, 8.180569648742676, 7.7696380615234375, 9.123130798339844, 3.2143545150756836, 7.625742435455322, 3.5004618167877197, 6.4261088371276855, 4.43124532699585, 6.465142726898193, 4.898148059844971, 2.5107038021087646, 6.410196304321289, 2.3388314247131348, 3.000297784805298, 9.140314102172852, 7.328266143798828, 8.06076431274414, 8.427563667297363, 6.1143622398376465, 7.54386568069458, 7.661203861236572, 1.6963183879852295, 4.589890956878662, 7.775678634643555, 9.9109525680542, 4.9900431632995605, 1.0255380868911743, 8.396879196166992, 7.707072734832764, 7.346874237060547, 1.0277706384658813, 6.340612411499023, 3.825512409210205, 3.7297229766845703, 8.745433807373047, 8.715848922729492, 9.171558380126953, 3.6489593982696533, 8.433008193969727, 8.271590232849121, 2.23271107673645, 8.293781280517578, 2.623953342437744, 10.075387954711914, 3.71001935005188, 7.54168701171875, 8.320515632629395, 3.8768765926361084, 6.681469440460205, 8.463154792785645, 6.952513217926025, 7.8360090255737305, 4.497636795043945, 7.254365921020508, 3.8638429641723633, 9.53508186340332, 8.737702369689941, 4.440361499786377, 6.3371405601501465, 1.3474724292755127, 8.275026321411133, 1.1353644132614136, 6.238710880279541, 1.6050676107406616, 2.3937652111053467, 8.524747848510742, 10.080399513244629, 3.716261863708496, 6.756657123565674, 7.765954971313477, 8.354833602905273, 7.176462173461914, 8.914356231689453, 9.081659317016602, 6.856872081756592, 6.468814373016357, 6.647938251495361, 9.678780555725098, 7.72931432723999, 3.8317153453826904, 1.2460453510284424, 3.3065412044525146, 8.474977493286133, 8.554877281188965, 1.2550461292266846, 6.272263526916504, 6.224266529083252, 6.975449085235596, 1.7276426553726196, 3.123522996902466, 3.805917263031006, 2.0993571281433105, 9.252968788146973, 8.907875061035156, 6.723574638366699, 6.354370594024658, 7.6177239418029785, 6.254294395446777, 3.666701555252075, 1.6789036989212036, 9.862421035766602, 6.697890281677246, 7.578347206115723, 6.707130432128906, 7.637274742126465, 8.87810230255127, 4.106454372406006, 7.81782341003418, 0.991665780544281, 1.4126126766204834, 3.9756991863250732, 6.496162414550781, 3.52059268951416, 8.49742603302002, 1.7471373081207275, 7.613490581512451, 4.1446380615234375], \"yaxis\": \"y\"}],\n",
       "                        {\"coloraxis\": {\"colorbar\": {\"title\": {\"text\": \"Label\"}}, \"colorscale\": [[0.0, \"#0d0887\"], [0.1111111111111111, \"#46039f\"], [0.2222222222222222, \"#7201a8\"], [0.3333333333333333, \"#9c179e\"], [0.4444444444444444, \"#bd3786\"], [0.5555555555555556, \"#d8576b\"], [0.6666666666666666, \"#ed7953\"], [0.7777777777777778, \"#fb9f3a\"], [0.8888888888888888, \"#fdca26\"], [1.0, \"#f0f921\"]]}, \"height\": 800, \"legend\": {\"tracegroupgap\": 0}, \"template\": {\"data\": {\"bar\": [{\"error_x\": {\"color\": \"#2a3f5f\"}, \"error_y\": {\"color\": \"#2a3f5f\"}, \"marker\": {\"line\": {\"color\": \"#E5ECF6\", \"width\": 0.5}}, \"type\": \"bar\"}], \"barpolar\": [{\"marker\": {\"line\": {\"color\": \"#E5ECF6\", \"width\": 0.5}}, \"type\": \"barpolar\"}], \"carpet\": [{\"aaxis\": {\"endlinecolor\": \"#2a3f5f\", \"gridcolor\": \"white\", \"linecolor\": \"white\", \"minorgridcolor\": \"white\", \"startlinecolor\": \"#2a3f5f\"}, \"baxis\": {\"endlinecolor\": \"#2a3f5f\", \"gridcolor\": \"white\", \"linecolor\": \"white\", \"minorgridcolor\": \"white\", \"startlinecolor\": \"#2a3f5f\"}, \"type\": \"carpet\"}], \"choropleth\": [{\"colorbar\": {\"outlinewidth\": 0, \"ticks\": \"\"}, \"type\": \"choropleth\"}], \"contour\": [{\"colorbar\": {\"outlinewidth\": 0, \"ticks\": \"\"}, \"colorscale\": [[0.0, \"#0d0887\"], [0.1111111111111111, \"#46039f\"], [0.2222222222222222, \"#7201a8\"], [0.3333333333333333, \"#9c179e\"], [0.4444444444444444, \"#bd3786\"], [0.5555555555555556, \"#d8576b\"], [0.6666666666666666, \"#ed7953\"], [0.7777777777777778, \"#fb9f3a\"], [0.8888888888888888, \"#fdca26\"], [1.0, \"#f0f921\"]], \"type\": \"contour\"}], \"contourcarpet\": [{\"colorbar\": {\"outlinewidth\": 0, \"ticks\": \"\"}, \"type\": \"contourcarpet\"}], \"heatmap\": [{\"colorbar\": {\"outlinewidth\": 0, \"ticks\": \"\"}, \"colorscale\": [[0.0, \"#0d0887\"], [0.1111111111111111, \"#46039f\"], [0.2222222222222222, \"#7201a8\"], [0.3333333333333333, \"#9c179e\"], [0.4444444444444444, \"#bd3786\"], [0.5555555555555556, \"#d8576b\"], [0.6666666666666666, \"#ed7953\"], [0.7777777777777778, \"#fb9f3a\"], [0.8888888888888888, \"#fdca26\"], [1.0, \"#f0f921\"]], \"type\": \"heatmap\"}], \"heatmapgl\": [{\"colorbar\": {\"outlinewidth\": 0, \"ticks\": \"\"}, \"colorscale\": [[0.0, \"#0d0887\"], [0.1111111111111111, \"#46039f\"], [0.2222222222222222, \"#7201a8\"], [0.3333333333333333, \"#9c179e\"], [0.4444444444444444, \"#bd3786\"], [0.5555555555555556, \"#d8576b\"], [0.6666666666666666, \"#ed7953\"], [0.7777777777777778, \"#fb9f3a\"], [0.8888888888888888, \"#fdca26\"], [1.0, \"#f0f921\"]], \"type\": \"heatmapgl\"}], \"histogram\": [{\"marker\": {\"colorbar\": {\"outlinewidth\": 0, \"ticks\": \"\"}}, \"type\": \"histogram\"}], \"histogram2d\": [{\"colorbar\": {\"outlinewidth\": 0, \"ticks\": \"\"}, \"colorscale\": [[0.0, \"#0d0887\"], [0.1111111111111111, \"#46039f\"], [0.2222222222222222, \"#7201a8\"], [0.3333333333333333, \"#9c179e\"], [0.4444444444444444, \"#bd3786\"], [0.5555555555555556, \"#d8576b\"], [0.6666666666666666, \"#ed7953\"], [0.7777777777777778, \"#fb9f3a\"], [0.8888888888888888, \"#fdca26\"], [1.0, \"#f0f921\"]], \"type\": \"histogram2d\"}], \"histogram2dcontour\": [{\"colorbar\": {\"outlinewidth\": 0, \"ticks\": \"\"}, \"colorscale\": [[0.0, \"#0d0887\"], [0.1111111111111111, \"#46039f\"], [0.2222222222222222, \"#7201a8\"], [0.3333333333333333, \"#9c179e\"], [0.4444444444444444, \"#bd3786\"], [0.5555555555555556, \"#d8576b\"], [0.6666666666666666, \"#ed7953\"], [0.7777777777777778, \"#fb9f3a\"], [0.8888888888888888, \"#fdca26\"], [1.0, \"#f0f921\"]], \"type\": \"histogram2dcontour\"}], \"mesh3d\": [{\"colorbar\": {\"outlinewidth\": 0, \"ticks\": \"\"}, \"type\": \"mesh3d\"}], \"parcoords\": [{\"line\": {\"colorbar\": {\"outlinewidth\": 0, \"ticks\": \"\"}}, \"type\": \"parcoords\"}], \"pie\": [{\"automargin\": true, \"type\": \"pie\"}], \"scatter\": [{\"marker\": {\"colorbar\": {\"outlinewidth\": 0, \"ticks\": \"\"}}, \"type\": \"scatter\"}], \"scatter3d\": [{\"line\": {\"colorbar\": {\"outlinewidth\": 0, \"ticks\": \"\"}}, \"marker\": {\"colorbar\": {\"outlinewidth\": 0, \"ticks\": \"\"}}, \"type\": \"scatter3d\"}], \"scattercarpet\": [{\"marker\": {\"colorbar\": {\"outlinewidth\": 0, \"ticks\": \"\"}}, \"type\": \"scattercarpet\"}], \"scattergeo\": [{\"marker\": {\"colorbar\": {\"outlinewidth\": 0, \"ticks\": \"\"}}, \"type\": \"scattergeo\"}], \"scattergl\": [{\"marker\": {\"colorbar\": {\"outlinewidth\": 0, \"ticks\": \"\"}}, \"type\": \"scattergl\"}], \"scattermapbox\": [{\"marker\": {\"colorbar\": {\"outlinewidth\": 0, \"ticks\": \"\"}}, \"type\": \"scattermapbox\"}], \"scatterpolar\": [{\"marker\": {\"colorbar\": {\"outlinewidth\": 0, \"ticks\": \"\"}}, \"type\": \"scatterpolar\"}], \"scatterpolargl\": [{\"marker\": {\"colorbar\": {\"outlinewidth\": 0, \"ticks\": \"\"}}, \"type\": \"scatterpolargl\"}], \"scatterternary\": [{\"marker\": {\"colorbar\": {\"outlinewidth\": 0, \"ticks\": \"\"}}, \"type\": \"scatterternary\"}], \"surface\": [{\"colorbar\": {\"outlinewidth\": 0, \"ticks\": \"\"}, \"colorscale\": [[0.0, \"#0d0887\"], [0.1111111111111111, \"#46039f\"], [0.2222222222222222, \"#7201a8\"], [0.3333333333333333, \"#9c179e\"], [0.4444444444444444, \"#bd3786\"], [0.5555555555555556, \"#d8576b\"], [0.6666666666666666, \"#ed7953\"], [0.7777777777777778, \"#fb9f3a\"], [0.8888888888888888, \"#fdca26\"], [1.0, \"#f0f921\"]], \"type\": \"surface\"}], \"table\": [{\"cells\": {\"fill\": {\"color\": \"#EBF0F8\"}, \"line\": {\"color\": \"white\"}}, \"header\": {\"fill\": {\"color\": \"#C8D4E3\"}, \"line\": {\"color\": \"white\"}}, \"type\": \"table\"}]}, \"layout\": {\"annotationdefaults\": {\"arrowcolor\": \"#2a3f5f\", \"arrowhead\": 0, \"arrowwidth\": 1}, \"coloraxis\": {\"colorbar\": {\"outlinewidth\": 0, \"ticks\": \"\"}}, \"colorscale\": {\"diverging\": [[0, \"#8e0152\"], [0.1, \"#c51b7d\"], [0.2, \"#de77ae\"], [0.3, \"#f1b6da\"], [0.4, \"#fde0ef\"], [0.5, \"#f7f7f7\"], [0.6, \"#e6f5d0\"], [0.7, \"#b8e186\"], [0.8, \"#7fbc41\"], [0.9, \"#4d9221\"], [1, \"#276419\"]], \"sequential\": [[0.0, \"#0d0887\"], [0.1111111111111111, \"#46039f\"], [0.2222222222222222, \"#7201a8\"], [0.3333333333333333, \"#9c179e\"], [0.4444444444444444, \"#bd3786\"], [0.5555555555555556, \"#d8576b\"], [0.6666666666666666, \"#ed7953\"], [0.7777777777777778, \"#fb9f3a\"], [0.8888888888888888, \"#fdca26\"], [1.0, \"#f0f921\"]], \"sequentialminus\": [[0.0, \"#0d0887\"], [0.1111111111111111, \"#46039f\"], [0.2222222222222222, \"#7201a8\"], [0.3333333333333333, \"#9c179e\"], [0.4444444444444444, \"#bd3786\"], [0.5555555555555556, \"#d8576b\"], [0.6666666666666666, \"#ed7953\"], [0.7777777777777778, \"#fb9f3a\"], [0.8888888888888888, \"#fdca26\"], [1.0, \"#f0f921\"]]}, \"colorway\": [\"#636efa\", \"#EF553B\", \"#00cc96\", \"#ab63fa\", \"#FFA15A\", \"#19d3f3\", \"#FF6692\", \"#B6E880\", \"#FF97FF\", \"#FECB52\"], \"font\": {\"color\": \"#2a3f5f\"}, \"geo\": {\"bgcolor\": \"white\", \"lakecolor\": \"white\", \"landcolor\": \"#E5ECF6\", \"showlakes\": true, \"showland\": true, \"subunitcolor\": \"white\"}, \"hoverlabel\": {\"align\": \"left\"}, \"hovermode\": \"closest\", \"mapbox\": {\"style\": \"light\"}, \"paper_bgcolor\": \"white\", \"plot_bgcolor\": \"#E5ECF6\", \"polar\": {\"angularaxis\": {\"gridcolor\": \"white\", \"linecolor\": \"white\", \"ticks\": \"\"}, \"bgcolor\": \"#E5ECF6\", \"radialaxis\": {\"gridcolor\": \"white\", \"linecolor\": \"white\", \"ticks\": \"\"}}, \"scene\": {\"xaxis\": {\"backgroundcolor\": \"#E5ECF6\", \"gridcolor\": \"white\", \"gridwidth\": 2, \"linecolor\": \"white\", \"showbackground\": true, \"ticks\": \"\", \"zerolinecolor\": \"white\"}, \"yaxis\": {\"backgroundcolor\": \"#E5ECF6\", \"gridcolor\": \"white\", \"gridwidth\": 2, \"linecolor\": \"white\", \"showbackground\": true, \"ticks\": \"\", \"zerolinecolor\": \"white\"}, \"zaxis\": {\"backgroundcolor\": \"#E5ECF6\", \"gridcolor\": \"white\", \"gridwidth\": 2, \"linecolor\": \"white\", \"showbackground\": true, \"ticks\": \"\", \"zerolinecolor\": \"white\"}}, \"shapedefaults\": {\"line\": {\"color\": \"#2a3f5f\"}}, \"ternary\": {\"aaxis\": {\"gridcolor\": \"white\", \"linecolor\": \"white\", \"ticks\": \"\"}, \"baxis\": {\"gridcolor\": \"white\", \"linecolor\": \"white\", \"ticks\": \"\"}, \"bgcolor\": \"#E5ECF6\", \"caxis\": {\"gridcolor\": \"white\", \"linecolor\": \"white\", \"ticks\": \"\"}}, \"title\": {\"x\": 0.05}, \"xaxis\": {\"automargin\": true, \"gridcolor\": \"white\", \"linecolor\": \"white\", \"ticks\": \"\", \"title\": {\"standoff\": 15}, \"zerolinecolor\": \"white\", \"zerolinewidth\": 2}, \"yaxis\": {\"automargin\": true, \"gridcolor\": \"white\", \"linecolor\": \"white\", \"ticks\": \"\", \"title\": {\"standoff\": 15}, \"zerolinecolor\": \"white\", \"zerolinewidth\": 2}}}, \"title\": {\"text\": \"uMAP Plot for Outliers\"}, \"width\": 900, \"xaxis\": {\"anchor\": \"y\", \"domain\": [0.0, 1.0], \"title\": {\"text\": \"0\"}}, \"yaxis\": {\"anchor\": \"x\", \"domain\": [0.0, 1.0], \"title\": {\"text\": \"1\"}}},\n",
       "                        {\"responsive\": true}\n",
       "                    ).then(function(){\n",
       "                            \n",
       "var gd = document.getElementById('dbc1aadf-12f3-4c20-b60f-cc681f2c2615');\n",
       "var x = new MutationObserver(function (mutations, observer) {{\n",
       "        var display = window.getComputedStyle(gd).display;\n",
       "        if (!display || display === 'none') {{\n",
       "            console.log([gd, 'removed!']);\n",
       "            Plotly.purge(gd);\n",
       "            observer.disconnect();\n",
       "        }}\n",
       "}});\n",
       "\n",
       "// Listen for the removal of the full notebook cells\n",
       "var notebookContainer = gd.closest('#notebook-container');\n",
       "if (notebookContainer) {{\n",
       "    x.observe(notebookContainer, {childList: true});\n",
       "}}\n",
       "\n",
       "// Listen for the clearing of the current output cell\n",
       "var outputEl = gd.closest('.output');\n",
       "if (outputEl) {{\n",
       "    x.observe(outputEl, {childList: true});\n",
       "}}\n",
       "\n",
       "                        })\n",
       "                };\n",
       "                });\n",
       "            </script>\n",
       "        </div>"
      ]
     },
     "metadata": {},
     "output_type": "display_data"
    }
   ],
   "source": [
    "plot_model(iforest, plot = 'umap')"
   ]
  },
  {
   "cell_type": "markdown",
   "metadata": {},
   "source": [
    "# 6. Predict Model"
   ]
  },
  {
   "cell_type": "code",
   "execution_count": 10,
   "metadata": {},
   "outputs": [
    {
     "data": {
      "text/html": [
       "<div>\n",
       "<style scoped>\n",
       "    .dataframe tbody tr th:only-of-type {\n",
       "        vertical-align: middle;\n",
       "    }\n",
       "\n",
       "    .dataframe tbody tr th {\n",
       "        vertical-align: top;\n",
       "    }\n",
       "\n",
       "    .dataframe thead th {\n",
       "        text-align: right;\n",
       "    }\n",
       "</style>\n",
       "<table border=\"1\" class=\"dataframe\">\n",
       "  <thead>\n",
       "    <tr style=\"text-align: right;\">\n",
       "      <th></th>\n",
       "      <th>Col1</th>\n",
       "      <th>Col2</th>\n",
       "      <th>Col3</th>\n",
       "      <th>Col4</th>\n",
       "      <th>Col5</th>\n",
       "      <th>Col6</th>\n",
       "      <th>Col7</th>\n",
       "      <th>Col8</th>\n",
       "      <th>Col9</th>\n",
       "      <th>Col10</th>\n",
       "      <th>Label</th>\n",
       "      <th>Score</th>\n",
       "    </tr>\n",
       "  </thead>\n",
       "  <tbody>\n",
       "    <tr>\n",
       "      <th>0</th>\n",
       "      <td>0.263995</td>\n",
       "      <td>0.764929</td>\n",
       "      <td>0.138424</td>\n",
       "      <td>0.935242</td>\n",
       "      <td>0.605867</td>\n",
       "      <td>0.518790</td>\n",
       "      <td>0.912225</td>\n",
       "      <td>0.608234</td>\n",
       "      <td>0.723782</td>\n",
       "      <td>0.733591</td>\n",
       "      <td>0</td>\n",
       "      <td>-0.035865</td>\n",
       "    </tr>\n",
       "    <tr>\n",
       "      <th>1</th>\n",
       "      <td>0.546092</td>\n",
       "      <td>0.653975</td>\n",
       "      <td>0.065575</td>\n",
       "      <td>0.227772</td>\n",
       "      <td>0.845269</td>\n",
       "      <td>0.837066</td>\n",
       "      <td>0.272379</td>\n",
       "      <td>0.331679</td>\n",
       "      <td>0.429297</td>\n",
       "      <td>0.367422</td>\n",
       "      <td>0</td>\n",
       "      <td>-0.084927</td>\n",
       "    </tr>\n",
       "    <tr>\n",
       "      <th>2</th>\n",
       "      <td>0.336714</td>\n",
       "      <td>0.538842</td>\n",
       "      <td>0.192801</td>\n",
       "      <td>0.553563</td>\n",
       "      <td>0.074515</td>\n",
       "      <td>0.332993</td>\n",
       "      <td>0.365792</td>\n",
       "      <td>0.861309</td>\n",
       "      <td>0.899017</td>\n",
       "      <td>0.088600</td>\n",
       "      <td>1</td>\n",
       "      <td>0.025356</td>\n",
       "    </tr>\n",
       "    <tr>\n",
       "      <th>3</th>\n",
       "      <td>0.092108</td>\n",
       "      <td>0.995017</td>\n",
       "      <td>0.014465</td>\n",
       "      <td>0.176371</td>\n",
       "      <td>0.241530</td>\n",
       "      <td>0.514724</td>\n",
       "      <td>0.562208</td>\n",
       "      <td>0.158963</td>\n",
       "      <td>0.073715</td>\n",
       "      <td>0.208463</td>\n",
       "      <td>1</td>\n",
       "      <td>0.042415</td>\n",
       "    </tr>\n",
       "    <tr>\n",
       "      <th>4</th>\n",
       "      <td>0.325261</td>\n",
       "      <td>0.805968</td>\n",
       "      <td>0.957033</td>\n",
       "      <td>0.331665</td>\n",
       "      <td>0.307923</td>\n",
       "      <td>0.355315</td>\n",
       "      <td>0.501899</td>\n",
       "      <td>0.558449</td>\n",
       "      <td>0.885169</td>\n",
       "      <td>0.182754</td>\n",
       "      <td>0</td>\n",
       "      <td>-0.023408</td>\n",
       "    </tr>\n",
       "  </tbody>\n",
       "</table>\n",
       "</div>"
      ],
      "text/plain": [
       "       Col1      Col2      Col3      Col4      Col5      Col6      Col7  \\\n",
       "0  0.263995  0.764929  0.138424  0.935242  0.605867  0.518790  0.912225   \n",
       "1  0.546092  0.653975  0.065575  0.227772  0.845269  0.837066  0.272379   \n",
       "2  0.336714  0.538842  0.192801  0.553563  0.074515  0.332993  0.365792   \n",
       "3  0.092108  0.995017  0.014465  0.176371  0.241530  0.514724  0.562208   \n",
       "4  0.325261  0.805968  0.957033  0.331665  0.307923  0.355315  0.501899   \n",
       "\n",
       "       Col8      Col9     Col10  Label     Score  \n",
       "0  0.608234  0.723782  0.733591      0 -0.035865  \n",
       "1  0.331679  0.429297  0.367422      0 -0.084927  \n",
       "2  0.861309  0.899017  0.088600      1  0.025356  \n",
       "3  0.158963  0.073715  0.208463      1  0.042415  \n",
       "4  0.558449  0.885169  0.182754      0 -0.023408  "
      ]
     },
     "execution_count": 10,
     "metadata": {},
     "output_type": "execute_result"
    }
   ],
   "source": [
    "pred_new = predict_model(iforest, data=data)\n",
    "pred_new.head()"
   ]
  },
  {
   "cell_type": "markdown",
   "metadata": {},
   "source": [
    "# 7. Save / Load Model"
   ]
  },
  {
   "cell_type": "code",
   "execution_count": 11,
   "metadata": {},
   "outputs": [
    {
     "name": "stdout",
     "output_type": "stream",
     "text": [
      "Transformation Pipeline and Model Succesfully Saved\n"
     ]
    }
   ],
   "source": [
    "save_model(iforest, model_name='iforest')"
   ]
  },
  {
   "cell_type": "code",
   "execution_count": 12,
   "metadata": {},
   "outputs": [
    {
     "name": "stdout",
     "output_type": "stream",
     "text": [
      "Transformation Pipeline and Model Sucessfully Loaded\n",
      "[Pipeline(memory=None,\n",
      "         steps=[('dtypes',\n",
      "                 DataTypes_Auto_infer(categorical_features=[],\n",
      "                                      display_types=True, features_todrop=[],\n",
      "                                      ml_usecase='regression',\n",
      "                                      numerical_features=[],\n",
      "                                      target='dummy_target',\n",
      "                                      time_features=[])),\n",
      "                ('imputer',\n",
      "                 Simple_Imputer(categorical_strategy='not_available',\n",
      "                                numeric_strategy='mean',\n",
      "                                target_variable=None)),\n",
      "                ('new_levels1',\n",
      "                 New_Catagorical_L...\n",
      "                                                    target='dummy_target')),\n",
      "                ('feature_time',\n",
      "                 Make_Time_Features(list_of_features=None, time_feature=[])),\n",
      "                ('group', Empty()), ('scaling', Empty()),\n",
      "                ('P_transform', Empty()), ('binn', Empty()),\n",
      "                ('fix_perfect', Empty()), ('rem_outliers', Empty()),\n",
      "                ('dummy', Dummify(target='dummy_target')),\n",
      "                ('clean_names', Clean_Colum_Names()), ('fix_multi', Empty()),\n",
      "                ('pca', Empty())],\n",
      "         verbose=False), IForest(behaviour='new', bootstrap=False, contamination=0.05,\n",
      "    max_features=1.0, max_samples='auto', n_estimators=100, n_jobs=1,\n",
      "    random_state=123, verbose=0)]\n"
     ]
    }
   ],
   "source": [
    "loaded_iforest = load_model('iforest')\n",
    "print(loaded_iforest)"
   ]
  },
  {
   "cell_type": "code",
   "execution_count": 13,
   "metadata": {},
   "outputs": [
    {
     "data": {
      "text/html": [
       "<style>div.sk-top-container {color: black;background-color: white;}div.sk-toggleable {background-color: white;}label.sk-toggleable__label {cursor: pointer;display: block;width: 100%;margin-bottom: 0;padding: 0.2em 0.3em;box-sizing: border-box;text-align: center;}div.sk-toggleable__content {max-height: 0;max-width: 0;overflow: hidden;text-align: left;background-color: #f0f8ff;}div.sk-toggleable__content pre {margin: 0.2em;color: black;border-radius: 0.25em;background-color: #f0f8ff;}input.sk-toggleable__control:checked~div.sk-toggleable__content {max-height: 200px;max-width: 100%;overflow: auto;}div.sk-estimator input.sk-toggleable__control:checked~label.sk-toggleable__label {background-color: #d4ebff;}div.sk-label input.sk-toggleable__control:checked~label.sk-toggleable__label {background-color: #d4ebff;}input.sk-hidden--visually {border: 0;clip: rect(1px 1px 1px 1px);clip: rect(1px, 1px, 1px, 1px);height: 1px;margin: -1px;overflow: hidden;padding: 0;position: absolute;width: 1px;}div.sk-estimator {font-family: monospace;background-color: #f0f8ff;margin: 0.25em 0.25em;border: 1px dotted black;border-radius: 0.25em;box-sizing: border-box;}div.sk-estimator:hover {background-color: #d4ebff;}div.sk-parallel-item::after {content: \"\";width: 100%;border-bottom: 1px solid gray;flex-grow: 1;}div.sk-label:hover label.sk-toggleable__label {background-color: #d4ebff;}div.sk-serial::before {content: \"\";position: absolute;border-left: 1px solid gray;box-sizing: border-box;top: 2em;bottom: 0;left: 50%;}div.sk-serial {display: flex;flex-direction: column;align-items: center;background-color: white;}div.sk-item {z-index: 1;}div.sk-parallel {display: flex;align-items: stretch;justify-content: center;background-color: white;}div.sk-parallel-item {display: flex;flex-direction: column;position: relative;background-color: white;}div.sk-parallel-item:first-child::after {align-self: flex-end;width: 50%;}div.sk-parallel-item:last-child::after {align-self: flex-start;width: 50%;}div.sk-parallel-item:only-child::after {width: 0;}div.sk-dashed-wrapped {border: 1px dashed gray;margin: 0.2em;box-sizing: border-box;padding-bottom: 0.1em;background-color: white;position: relative;}div.sk-label label {font-family: monospace;font-weight: bold;background-color: white;display: inline-block;line-height: 1.2em;}div.sk-label-container {position: relative;z-index: 2;text-align: center;}div.sk-container {display: inline-block;position: relative;}</style><div class=\"sk-top-container\"><div class=\"sk-container\"><div class=\"sk-item sk-dashed-wrapped\"><div class=\"sk-label-container\"><div class=\"sk-label sk-toggleable\"><input class=\"sk-toggleable__control sk-hidden--visually\" id=\"1face1b5-c2d7-4d75-bdb8-5b7054c80c5b\" type=\"checkbox\" ><label class=\"sk-toggleable__label\" for=\"1face1b5-c2d7-4d75-bdb8-5b7054c80c5b\">Pipeline</label><div class=\"sk-toggleable__content\"><pre>Pipeline(memory=None,\n",
       "         steps=[('dtypes',\n",
       "                 DataTypes_Auto_infer(categorical_features=[],\n",
       "                                      display_types=True, features_todrop=[],\n",
       "                                      ml_usecase='regression',\n",
       "                                      numerical_features=[],\n",
       "                                      target='dummy_target',\n",
       "                                      time_features=[])),\n",
       "                ('imputer',\n",
       "                 Simple_Imputer(categorical_strategy='not_available',\n",
       "                                numeric_strategy='mean',\n",
       "                                target_variable=None)),\n",
       "                ('new_levels1',\n",
       "                 New_Catagorical_L...\n",
       "                                                    target='dummy_target')),\n",
       "                ('feature_time',\n",
       "                 Make_Time_Features(list_of_features=None, time_feature=[])),\n",
       "                ('group', Empty()), ('scaling', Empty()),\n",
       "                ('P_transform', Empty()), ('binn', Empty()),\n",
       "                ('fix_perfect', Empty()), ('rem_outliers', Empty()),\n",
       "                ('dummy', Dummify(target='dummy_target')),\n",
       "                ('clean_names', Clean_Colum_Names()), ('fix_multi', Empty()),\n",
       "                ('pca', Empty())],\n",
       "         verbose=False)</pre></div></div></div><div class=\"sk-serial\"><div class=\"sk-item\"><div class=\"sk-estimator sk-toggleable\"><input class=\"sk-toggleable__control sk-hidden--visually\" id=\"123a7819-c42c-47d1-bdd3-e8770d4717d4\" type=\"checkbox\" ><label class=\"sk-toggleable__label\" for=\"123a7819-c42c-47d1-bdd3-e8770d4717d4\">DataTypes_Auto_infer</label><div class=\"sk-toggleable__content\"><pre>DataTypes_Auto_infer(ml_usecase='regression', target='dummy_target')</pre></div></div></div><div class=\"sk-item\"><div class=\"sk-estimator sk-toggleable\"><input class=\"sk-toggleable__control sk-hidden--visually\" id=\"1338b1be-bf32-49fe-b149-26877e30e2ef\" type=\"checkbox\" ><label class=\"sk-toggleable__label\" for=\"1338b1be-bf32-49fe-b149-26877e30e2ef\">Simple_Imputer</label><div class=\"sk-toggleable__content\"><pre>Simple_Imputer(categorical_strategy='not_available', numeric_strategy='mean',\n",
       "               target_variable=None)</pre></div></div></div><div class=\"sk-item\"><div class=\"sk-estimator sk-toggleable\"><input class=\"sk-toggleable__control sk-hidden--visually\" id=\"bb0ecfa3-18f8-4dd2-b980-265d6121fec2\" type=\"checkbox\" ><label class=\"sk-toggleable__label\" for=\"bb0ecfa3-18f8-4dd2-b980-265d6121fec2\">New_Catagorical_Levels_in_TestData</label><div class=\"sk-toggleable__content\"><pre>New_Catagorical_Levels_in_TestData(replacement_strategy='least frequent',\n",
       "                                   target='dummy_target')</pre></div></div></div><div class=\"sk-item\"><div class=\"sk-estimator sk-toggleable\"><input class=\"sk-toggleable__control sk-hidden--visually\" id=\"506edc67-e60f-4005-9897-1ea975a88a6d\" type=\"checkbox\" ><label class=\"sk-toggleable__label\" for=\"506edc67-e60f-4005-9897-1ea975a88a6d\">Empty</label><div class=\"sk-toggleable__content\"><pre>Empty()</pre></div></div></div><div class=\"sk-item\"><div class=\"sk-estimator sk-toggleable\"><input class=\"sk-toggleable__control sk-hidden--visually\" id=\"47be94d7-e884-4423-987f-332e21c70b08\" type=\"checkbox\" ><label class=\"sk-toggleable__label\" for=\"47be94d7-e884-4423-987f-332e21c70b08\">Empty</label><div class=\"sk-toggleable__content\"><pre>Empty()</pre></div></div></div><div class=\"sk-item\"><div class=\"sk-estimator sk-toggleable\"><input class=\"sk-toggleable__control sk-hidden--visually\" id=\"41154a43-34b5-402a-b684-0d404cbe3169\" type=\"checkbox\" ><label class=\"sk-toggleable__label\" for=\"41154a43-34b5-402a-b684-0d404cbe3169\">Empty</label><div class=\"sk-toggleable__content\"><pre>Empty()</pre></div></div></div><div class=\"sk-item\"><div class=\"sk-estimator sk-toggleable\"><input class=\"sk-toggleable__control sk-hidden--visually\" id=\"7b2e1fef-d27e-4f6c-93dd-b7a5f586798d\" type=\"checkbox\" ><label class=\"sk-toggleable__label\" for=\"7b2e1fef-d27e-4f6c-93dd-b7a5f586798d\">Empty</label><div class=\"sk-toggleable__content\"><pre>Empty()</pre></div></div></div><div class=\"sk-item\"><div class=\"sk-estimator sk-toggleable\"><input class=\"sk-toggleable__control sk-hidden--visually\" id=\"5277e7f1-1164-4d75-a9c5-ceac970aa8b5\" type=\"checkbox\" ><label class=\"sk-toggleable__label\" for=\"5277e7f1-1164-4d75-a9c5-ceac970aa8b5\">New_Catagorical_Levels_in_TestData</label><div class=\"sk-toggleable__content\"><pre>New_Catagorical_Levels_in_TestData(replacement_strategy='least frequent',\n",
       "                                   target='dummy_target')</pre></div></div></div><div class=\"sk-item\"><div class=\"sk-estimator sk-toggleable\"><input class=\"sk-toggleable__control sk-hidden--visually\" id=\"3421a4d1-c8a9-40ec-95b1-6836d904f99e\" type=\"checkbox\" ><label class=\"sk-toggleable__label\" for=\"3421a4d1-c8a9-40ec-95b1-6836d904f99e\">Make_Time_Features</label><div class=\"sk-toggleable__content\"><pre>Make_Time_Features(list_of_features=None)</pre></div></div></div><div class=\"sk-item\"><div class=\"sk-estimator sk-toggleable\"><input class=\"sk-toggleable__control sk-hidden--visually\" id=\"ada7883b-fb49-4cb6-97bb-0c7556c762bf\" type=\"checkbox\" ><label class=\"sk-toggleable__label\" for=\"ada7883b-fb49-4cb6-97bb-0c7556c762bf\">Empty</label><div class=\"sk-toggleable__content\"><pre>Empty()</pre></div></div></div><div class=\"sk-item\"><div class=\"sk-estimator sk-toggleable\"><input class=\"sk-toggleable__control sk-hidden--visually\" id=\"757159cf-609f-412f-8756-381c77717705\" type=\"checkbox\" ><label class=\"sk-toggleable__label\" for=\"757159cf-609f-412f-8756-381c77717705\">Empty</label><div class=\"sk-toggleable__content\"><pre>Empty()</pre></div></div></div><div class=\"sk-item\"><div class=\"sk-estimator sk-toggleable\"><input class=\"sk-toggleable__control sk-hidden--visually\" id=\"c2ee072c-784a-4aa6-bdcc-6659f15749d7\" type=\"checkbox\" ><label class=\"sk-toggleable__label\" for=\"c2ee072c-784a-4aa6-bdcc-6659f15749d7\">Empty</label><div class=\"sk-toggleable__content\"><pre>Empty()</pre></div></div></div><div class=\"sk-item\"><div class=\"sk-estimator sk-toggleable\"><input class=\"sk-toggleable__control sk-hidden--visually\" id=\"abe13d6c-2bcd-4ea5-a83e-a93920b5621e\" type=\"checkbox\" ><label class=\"sk-toggleable__label\" for=\"abe13d6c-2bcd-4ea5-a83e-a93920b5621e\">Empty</label><div class=\"sk-toggleable__content\"><pre>Empty()</pre></div></div></div><div class=\"sk-item\"><div class=\"sk-estimator sk-toggleable\"><input class=\"sk-toggleable__control sk-hidden--visually\" id=\"8bc078e2-9d45-4791-9e3e-305dd76e5548\" type=\"checkbox\" ><label class=\"sk-toggleable__label\" for=\"8bc078e2-9d45-4791-9e3e-305dd76e5548\">Empty</label><div class=\"sk-toggleable__content\"><pre>Empty()</pre></div></div></div><div class=\"sk-item\"><div class=\"sk-estimator sk-toggleable\"><input class=\"sk-toggleable__control sk-hidden--visually\" id=\"fe546452-c5b5-41cf-92ff-0f7032b133d8\" type=\"checkbox\" ><label class=\"sk-toggleable__label\" for=\"fe546452-c5b5-41cf-92ff-0f7032b133d8\">Empty</label><div class=\"sk-toggleable__content\"><pre>Empty()</pre></div></div></div><div class=\"sk-item\"><div class=\"sk-estimator sk-toggleable\"><input class=\"sk-toggleable__control sk-hidden--visually\" id=\"9d7f33c1-a849-4c02-a496-883630e95174\" type=\"checkbox\" ><label class=\"sk-toggleable__label\" for=\"9d7f33c1-a849-4c02-a496-883630e95174\">Dummify</label><div class=\"sk-toggleable__content\"><pre>Dummify(target='dummy_target')</pre></div></div></div><div class=\"sk-item\"><div class=\"sk-estimator sk-toggleable\"><input class=\"sk-toggleable__control sk-hidden--visually\" id=\"22c1feb2-fe51-4f6c-8c9e-9a17ae5a3b62\" type=\"checkbox\" ><label class=\"sk-toggleable__label\" for=\"22c1feb2-fe51-4f6c-8c9e-9a17ae5a3b62\">Clean_Colum_Names</label><div class=\"sk-toggleable__content\"><pre>Clean_Colum_Names()</pre></div></div></div><div class=\"sk-item\"><div class=\"sk-estimator sk-toggleable\"><input class=\"sk-toggleable__control sk-hidden--visually\" id=\"99f96b82-1566-49a4-b64c-85c41ebdd8f5\" type=\"checkbox\" ><label class=\"sk-toggleable__label\" for=\"99f96b82-1566-49a4-b64c-85c41ebdd8f5\">Empty</label><div class=\"sk-toggleable__content\"><pre>Empty()</pre></div></div></div><div class=\"sk-item\"><div class=\"sk-estimator sk-toggleable\"><input class=\"sk-toggleable__control sk-hidden--visually\" id=\"6ce9bc65-3916-43bf-bc7d-9911a1490e63\" type=\"checkbox\" ><label class=\"sk-toggleable__label\" for=\"6ce9bc65-3916-43bf-bc7d-9911a1490e63\">Empty</label><div class=\"sk-toggleable__content\"><pre>Empty()</pre></div></div></div></div></div></div></div>"
      ],
      "text/plain": [
       "Pipeline(memory=None,\n",
       "         steps=[('dtypes',\n",
       "                 DataTypes_Auto_infer(categorical_features=[],\n",
       "                                      display_types=True, features_todrop=[],\n",
       "                                      ml_usecase='regression',\n",
       "                                      numerical_features=[],\n",
       "                                      target='dummy_target',\n",
       "                                      time_features=[])),\n",
       "                ('imputer',\n",
       "                 Simple_Imputer(categorical_strategy='not_available',\n",
       "                                numeric_strategy='mean',\n",
       "                                target_variable=None)),\n",
       "                ('new_levels1',\n",
       "                 New_Catagorical_L...\n",
       "                                                    target='dummy_target')),\n",
       "                ('feature_time',\n",
       "                 Make_Time_Features(list_of_features=None, time_feature=[])),\n",
       "                ('group', Empty()), ('scaling', Empty()),\n",
       "                ('P_transform', Empty()), ('binn', Empty()),\n",
       "                ('fix_perfect', Empty()), ('rem_outliers', Empty()),\n",
       "                ('dummy', Dummify(target='dummy_target')),\n",
       "                ('clean_names', Clean_Colum_Names()), ('fix_multi', Empty()),\n",
       "                ('pca', Empty())],\n",
       "         verbose=False)"
      ]
     },
     "execution_count": 13,
     "metadata": {},
     "output_type": "execute_result"
    }
   ],
   "source": [
    "from sklearn import set_config\n",
    "set_config(display='diagram')\n",
    "loaded_iforest[0]"
   ]
  },
  {
   "cell_type": "code",
   "execution_count": 14,
   "metadata": {},
   "outputs": [],
   "source": [
    "from sklearn import set_config\n",
    "set_config(display='text')"
   ]
  },
  {
   "cell_type": "markdown",
   "metadata": {},
   "source": [
    "# 8. Deploy Model"
   ]
  },
  {
   "cell_type": "code",
   "execution_count": 15,
   "metadata": {},
   "outputs": [
    {
     "name": "stdout",
     "output_type": "stream",
     "text": [
      "Model Succesfully Deployed on AWS S3\n"
     ]
    }
   ],
   "source": [
    "deploy_model(iforest, model_name = 'iforest-aws', authentication = {'bucket' : 'pycaret-test'})"
   ]
  },
  {
   "cell_type": "markdown",
   "metadata": {},
   "source": [
    "# 9. Get Config / Set Config"
   ]
  },
  {
   "cell_type": "code",
   "execution_count": 16,
   "metadata": {},
   "outputs": [
    {
     "data": {
      "text/html": [
       "<div>\n",
       "<style scoped>\n",
       "    .dataframe tbody tr th:only-of-type {\n",
       "        vertical-align: middle;\n",
       "    }\n",
       "\n",
       "    .dataframe tbody tr th {\n",
       "        vertical-align: top;\n",
       "    }\n",
       "\n",
       "    .dataframe thead th {\n",
       "        text-align: right;\n",
       "    }\n",
       "</style>\n",
       "<table border=\"1\" class=\"dataframe\">\n",
       "  <thead>\n",
       "    <tr style=\"text-align: right;\">\n",
       "      <th></th>\n",
       "      <th>Col1</th>\n",
       "      <th>Col2</th>\n",
       "      <th>Col3</th>\n",
       "      <th>Col4</th>\n",
       "      <th>Col5</th>\n",
       "      <th>Col6</th>\n",
       "      <th>Col7</th>\n",
       "      <th>Col8</th>\n",
       "      <th>Col9</th>\n",
       "      <th>Col10</th>\n",
       "    </tr>\n",
       "  </thead>\n",
       "  <tbody>\n",
       "    <tr>\n",
       "      <th>0</th>\n",
       "      <td>0.263995</td>\n",
       "      <td>0.764929</td>\n",
       "      <td>0.138424</td>\n",
       "      <td>0.935242</td>\n",
       "      <td>0.605867</td>\n",
       "      <td>0.518790</td>\n",
       "      <td>0.912225</td>\n",
       "      <td>0.608234</td>\n",
       "      <td>0.723782</td>\n",
       "      <td>0.733591</td>\n",
       "    </tr>\n",
       "    <tr>\n",
       "      <th>1</th>\n",
       "      <td>0.546092</td>\n",
       "      <td>0.653975</td>\n",
       "      <td>0.065575</td>\n",
       "      <td>0.227772</td>\n",
       "      <td>0.845269</td>\n",
       "      <td>0.837066</td>\n",
       "      <td>0.272379</td>\n",
       "      <td>0.331679</td>\n",
       "      <td>0.429297</td>\n",
       "      <td>0.367422</td>\n",
       "    </tr>\n",
       "    <tr>\n",
       "      <th>2</th>\n",
       "      <td>0.336714</td>\n",
       "      <td>0.538842</td>\n",
       "      <td>0.192801</td>\n",
       "      <td>0.553563</td>\n",
       "      <td>0.074515</td>\n",
       "      <td>0.332993</td>\n",
       "      <td>0.365792</td>\n",
       "      <td>0.861309</td>\n",
       "      <td>0.899017</td>\n",
       "      <td>0.088600</td>\n",
       "    </tr>\n",
       "    <tr>\n",
       "      <th>3</th>\n",
       "      <td>0.092108</td>\n",
       "      <td>0.995017</td>\n",
       "      <td>0.014465</td>\n",
       "      <td>0.176371</td>\n",
       "      <td>0.241530</td>\n",
       "      <td>0.514724</td>\n",
       "      <td>0.562208</td>\n",
       "      <td>0.158963</td>\n",
       "      <td>0.073715</td>\n",
       "      <td>0.208463</td>\n",
       "    </tr>\n",
       "    <tr>\n",
       "      <th>4</th>\n",
       "      <td>0.325261</td>\n",
       "      <td>0.805968</td>\n",
       "      <td>0.957033</td>\n",
       "      <td>0.331665</td>\n",
       "      <td>0.307923</td>\n",
       "      <td>0.355315</td>\n",
       "      <td>0.501899</td>\n",
       "      <td>0.558449</td>\n",
       "      <td>0.885169</td>\n",
       "      <td>0.182754</td>\n",
       "    </tr>\n",
       "  </tbody>\n",
       "</table>\n",
       "</div>"
      ],
      "text/plain": [
       "       Col1      Col2      Col3      Col4      Col5      Col6      Col7  \\\n",
       "0  0.263995  0.764929  0.138424  0.935242  0.605867  0.518790  0.912225   \n",
       "1  0.546092  0.653975  0.065575  0.227772  0.845269  0.837066  0.272379   \n",
       "2  0.336714  0.538842  0.192801  0.553563  0.074515  0.332993  0.365792   \n",
       "3  0.092108  0.995017  0.014465  0.176371  0.241530  0.514724  0.562208   \n",
       "4  0.325261  0.805968  0.957033  0.331665  0.307923  0.355315  0.501899   \n",
       "\n",
       "       Col8      Col9     Col10  \n",
       "0  0.608234  0.723782  0.733591  \n",
       "1  0.331679  0.429297  0.367422  \n",
       "2  0.861309  0.899017  0.088600  \n",
       "3  0.158963  0.073715  0.208463  \n",
       "4  0.558449  0.885169  0.182754  "
      ]
     },
     "execution_count": 16,
     "metadata": {},
     "output_type": "execute_result"
    }
   ],
   "source": [
    "X = get_config('X')\n",
    "X.head()"
   ]
  },
  {
   "cell_type": "code",
   "execution_count": 17,
   "metadata": {},
   "outputs": [
    {
     "data": {
      "text/plain": [
       "123"
      ]
     },
     "execution_count": 17,
     "metadata": {},
     "output_type": "execute_result"
    }
   ],
   "source": [
    "get_config('seed')"
   ]
  },
  {
   "cell_type": "code",
   "execution_count": 18,
   "metadata": {},
   "outputs": [],
   "source": [
    "from pycaret.anomaly import set_config\n",
    "set_config('seed', 999)"
   ]
  },
  {
   "cell_type": "code",
   "execution_count": 19,
   "metadata": {},
   "outputs": [
    {
     "data": {
      "text/plain": [
       "999"
      ]
     },
     "execution_count": 19,
     "metadata": {},
     "output_type": "execute_result"
    }
   ],
   "source": [
    "get_config('seed')"
   ]
  },
  {
   "cell_type": "markdown",
   "metadata": {},
   "source": [
    "# 10. Get System Logs"
   ]
  },
  {
   "cell_type": "code",
   "execution_count": 20,
   "metadata": {},
   "outputs": [
    {
     "name": "stdout",
     "output_type": "stream",
     "text": [
      "['2020-07-29 09', '47', '14,652', 'INFO', 'PyCaret Regression Module']\n",
      "['2020-07-29 09', '47', '14,652', 'INFO', 'version pycaret-nightly-0.39']\n",
      "['2020-07-29 09', '47', '14,652', 'INFO', 'Initializing setup()']\n",
      "['2020-07-29 09', '47', '14,652', 'INFO', 'USI', 'e640']\n",
      "['2020-07-29 09', '47', '14,652', 'INFO', 'setup(data=(1338, 7), target=charges, train_size=0.7, sampling=True, sample_estimator=None, categorical_features=None, categorical_imputation=constant, ordinal_features=None,']\n",
      "['high_cardinality_features=None, high_cardinality_method=frequency, numeric_features=None, numeric_imputation=mean, date_features=None, ignore_features=None, normalize=False,']\n",
      "['normalize_method=zscore, transformation=False, transformation_method=yeo-johnson, handle_unknown_categorical=True, unknown_categorical_method=least_frequent, pca=False, pca_method=linear,']\n",
      "['pca_components=None, ignore_low_variance=False, combine_rare_levels=False, rare_level_threshold=0.1, bin_numeric_features=None, remove_outliers=False, outliers_threshold=0.05,']\n",
      "['remove_multicollinearity=False, multicollinearity_threshold=0.9, remove_perfect_collinearity=False, create_clusters=False, cluster_iter=20,']\n",
      "['polynomial_features=False, polynomial_degree=2, trigonometry_features=False, polynomial_threshold=0.1, group_features=None,']\n",
      "['group_names=None, feature_selection=False, feature_selection_threshold=0.8, feature_interaction=False, feature_ratio=False, interaction_threshold=0.01, transform_target=False,']\n",
      "['transform_target_method=box-cox, data_split_shuffle=True, folds_shuffle=False, n_jobs=-1, html=True, session_id=123, log_experiment=True,']\n",
      "['experiment_name=insurance1, log_plots=False, log_profile=False, log_data=False, silent=False, verbose=True, profile=False)']\n",
      "['2020-07-29 09', '47', '14,653', 'INFO', 'Checking environment']\n",
      "['2020-07-29 09', '47', '14,653', 'INFO', 'python_version', '3.6.10']\n",
      "['2020-07-29 09', '47', '14,653', 'INFO', 'python_build', \"('default', 'May  7 2020 19\", '46', \"08')\"]\n",
      "['2020-07-29 09', '47', '14,653', 'INFO', 'machine', 'AMD64']\n",
      "['2020-07-29 09', '47', '14,653', 'INFO', 'platform', 'Windows-10-10.0.18362-SP0']\n",
      "['2020-07-29 09', '47', '14,674', 'INFO', 'Memory', 'svmem(total=17032478720, available=5530103808, percent=67.5, used=11502374912, free=5530103808)']\n",
      "['2020-07-29 09', '47', '14,674', 'INFO', 'Physical Core', '4']\n",
      "['2020-07-29 09', '47', '14,674', 'INFO', 'Logical Core', '8']\n",
      "['2020-07-29 09', '47', '14,674', 'INFO', 'Checking libraries']\n",
      "['2020-07-29 09', '47', '14,674', 'INFO', 'pd==1.0.4']\n",
      "['2020-07-29 09', '47', '14,674', 'INFO', 'numpy==1.18.5']\n",
      "['2020-07-29 09', '47', '15,120', 'INFO', 'sklearn==0.23.1']\n",
      "['2020-07-29 09', '47', '15,204', 'INFO', 'xgboost==1.1.1']\n",
      "['2020-07-29 09', '47', '15,259', 'INFO', 'lightgbm==2.3.1']\n",
      "['2020-07-29 09', '47', '15,310', 'INFO', 'catboost==0.23.2']\n",
      "['2020-07-29 09', '47', '15,876', 'INFO', 'mlflow==1.8.0']\n",
      "['2020-07-29 09', '47', '15,877', 'INFO', 'Checking Exceptions']\n",
      "['2020-07-29 09', '47', '15,877', 'INFO', 'Preloading libraries']\n",
      "['2020-07-29 09', '47', '15,877', 'INFO', 'Preparing display monitor']\n",
      "['2020-07-29 09', '47', '15,900', 'INFO', 'Importing libraries']\n",
      "['2020-07-29 09', '47', '18,284', 'INFO', 'Copying data for preprocessing']\n",
      "['2020-07-29 09', '47', '18,285', 'INFO', 'Declaring global variables']\n",
      "['2020-07-29 09', '47', '18,296', 'INFO', 'Declaring preprocessing parameters']\n",
      "['2020-07-29 09', '47', '18,296', 'INFO', 'Importing preprocessing module']\n",
      "['2020-07-29 09', '47', '19,149', 'INFO', 'Creating preprocessing pipeline']\n",
      "['2020-07-29 09', '47', '20,310', 'INFO', 'Preprocessing pipeline created successfully']\n",
      "['2020-07-29 09', '47', '20,310', 'INFO', 'No inverse transformer found']\n",
      "['2020-07-29 09', '47', '20,310', 'INFO', 'Creating grid variables']\n",
      "['2020-07-29 09', '47', '20,311', 'INFO', 'Creating global containers']\n",
      "['2020-07-29 09', '47', '20,410', 'INFO', 'Logging experiment in MLFlow']\n",
      "['2020-07-29 09', '47', '20,692', 'INFO', 'SubProcess save_model() called ==================================']\n",
      "['2020-07-29 09', '47', '20,693', 'INFO', 'Initializing save_model()']\n",
      "['2020-07-29 09', '47', '20,702', 'INFO', 'save_model(model=Pipeline(memory=None,']\n",
      "[\"steps=[('dtypes',\"]\n",
      "['DataTypes_Auto_infer(categorical_features=[],']\n",
      "['display_types=True, features_todrop=[],']\n",
      "[\"ml_usecase='regression',\"]\n",
      "[\"numerical_features=[], target='charges',\"]\n",
      "['time_features=[])),']\n",
      "[\"('imputer',\"]\n",
      "[\"Simple_Imputer(categorical_strategy='not_available',\"]\n",
      "[\"numeric_strategy='mean',\"]\n",
      "['target_variable=None)),']\n",
      "[\"('new_levels1',\"]\n",
      "['New_Catagorical_Levels...']\n",
      "[\"('group', Empty()), ('nonliner', Empty()), ('scaling', Empty()),\"]\n",
      "[\"('P_transform', Empty()), ('pt_target', Empty()),\"]\n",
      "[\"('binn', Empty()), ('rem_outliers', Empty()),\"]\n",
      "[\"('cluster_all', Empty()), ('dummy', Dummify(target='charges')),\"]\n",
      "[\"('fix_perfect', Empty()), ('clean_names', Clean_Colum_Names()),\"]\n",
      "[\"('feature_select', Empty()), ('fix_multi', Empty()),\"]\n",
      "[\"('dfs', Empty()), ('pca', Empty())],\"]\n",
      "['verbose=False), model_name=Transformation Pipeline, verbose=False)']\n",
      "['2020-07-29 09', '47', '20,702', 'INFO', 'Appending prep pipeline']\n",
      "['2020-07-29 09', '47', '20,710', 'INFO', 'Transformation Pipeline.pkl saved in current working directory']\n",
      "['2020-07-29 09', '47', '20,721', 'INFO', '[Pipeline(memory=None,']\n",
      "[\"steps=[('dtypes',\"]\n",
      "['DataTypes_Auto_infer(categorical_features=[],']\n",
      "['display_types=True, features_todrop=[],']\n",
      "[\"ml_usecase='regression',\"]\n",
      "[\"numerical_features=[], target='charges',\"]\n",
      "['time_features=[])),']\n",
      "[\"('imputer',\"]\n",
      "[\"Simple_Imputer(categorical_strategy='not_available',\"]\n",
      "[\"numeric_strategy='mean',\"]\n",
      "['target_variable=None)),']\n",
      "[\"('new_levels1',\"]\n",
      "['New_Catagorical_Levels...']\n",
      "[\"('group', Empty()), ('nonliner', Empty()), ('scaling', Empty()),\"]\n",
      "[\"('P_transform', Empty()), ('pt_target', Empty()),\"]\n",
      "[\"('binn', Empty()), ('rem_outliers', Empty()),\"]\n",
      "[\"('cluster_all', Empty()), ('dummy', Dummify(target='charges')),\"]\n",
      "[\"('fix_perfect', Empty()), ('clean_names', Clean_Colum_Names()),\"]\n",
      "[\"('feature_select', Empty()), ('fix_multi', Empty()),\"]\n",
      "[\"('dfs', Empty()), ('pca', Empty())],\"]\n",
      "['verbose=False), Pipeline(memory=None,']\n",
      "[\"steps=[('dtypes',\"]\n",
      "['DataTypes_Auto_infer(categorical_features=[],']\n",
      "['display_types=True, features_todrop=[],']\n",
      "[\"ml_usecase='regression',\"]\n",
      "[\"numerical_features=[], target='charges',\"]\n",
      "['time_features=[])),']\n",
      "[\"('imputer',\"]\n",
      "[\"Simple_Imputer(categorical_strategy='not_available',\"]\n",
      "[\"numeric_strategy='mean',\"]\n",
      "['target_variable=None)),']\n",
      "[\"('new_levels1',\"]\n",
      "['New_Catagorical_Levels...']\n",
      "[\"('group', Empty()), ('nonliner', Empty()), ('scaling', Empty()),\"]\n",
      "[\"('P_transform', Empty()), ('pt_target', Empty()),\"]\n",
      "[\"('binn', Empty()), ('rem_outliers', Empty()),\"]\n",
      "[\"('cluster_all', Empty()), ('dummy', Dummify(target='charges')),\"]\n",
      "[\"('fix_perfect', Empty()), ('clean_names', Clean_Colum_Names()),\"]\n",
      "[\"('feature_select', Empty()), ('fix_multi', Empty()),\"]\n",
      "[\"('dfs', Empty()), ('pca', Empty())],\"]\n",
      "['verbose=False), None]']\n",
      "['2020-07-29 09', '47', '20,721', 'INFO', 'save_model() succesfully completed......................................']\n",
      "['2020-07-29 09', '47', '20,722', 'INFO', 'SubProcess save_model() end ==================================']\n",
      "['2020-07-29 09', '47', '20,809', 'INFO', 'create_model_container', '0']\n",
      "['2020-07-29 09', '47', '20,809', 'INFO', 'master_model_container', '0']\n",
      "['2020-07-29 09', '47', '20,809', 'INFO', 'display_container', '0']\n",
      "['2020-07-29 09', '47', '20,809', 'INFO', 'setup() succesfully completed......................................']\n",
      "['2020-07-29 09', '47', '32,141', 'INFO', 'Initializing compare_models()']\n",
      "['2020-07-29 09', '47', '32,141', 'INFO', 'compare_models(blacklist=None, whitelist=None, fold=5, round=4, sort=R2, n_select=1, turbo=True, verbose=True)']\n",
      "['2020-07-29 09', '47', '32,141', 'INFO', 'Checking exceptions']\n",
      "['2020-07-29 09', '47', '32,141', 'INFO', 'Preloading libraries']\n",
      "['2020-07-29 09', '47', '32,141', 'INFO', 'Preparing display monitor']\n",
      "['2020-07-29 09', '47', '32,174', 'INFO', 'Copying training dataset']\n",
      "['2020-07-29 09', '47', '32,176', 'INFO', 'Importing libraries']\n",
      "['2020-07-29 09', '47', '32,186', 'INFO', 'Importing untrained models']\n",
      "['2020-07-29 09', '47', '32,187', 'INFO', 'Import successful']\n",
      "['2020-07-29 09', '47', '32,191', 'INFO', 'Defining folds']\n",
      "['2020-07-29 09', '47', '32,192', 'INFO', 'Declaring metric variables']\n",
      "['2020-07-29 09', '47', '32,192', 'INFO', 'Initializing Linear Regression']\n",
      "['2020-07-29 09', '47', '32,198', 'INFO', 'Initializing Fold 1']\n",
      "['2020-07-29 09', '47', '32,206', 'INFO', 'Fitting Model']\n",
      "['2020-07-29 09', '47', '32,210', 'INFO', 'Evaluating Metrics']\n",
      "['2020-07-29 09', '47', '32,212', 'INFO', 'No inverse transformer found']\n",
      "['2020-07-29 09', '47', '32,212', 'INFO', 'Compiling Metrics']\n",
      "['2020-07-29 09', '47', '32,229', 'INFO', 'Initializing Fold 2']\n",
      "['2020-07-29 09', '47', '32,235', 'INFO', 'Fitting Model']\n",
      "['2020-07-29 09', '47', '32,239', 'INFO', 'Evaluating Metrics']\n",
      "['2020-07-29 09', '47', '32,240', 'INFO', 'No inverse transformer found']\n",
      "['2020-07-29 09', '47', '32,241', 'INFO', 'Compiling Metrics']\n",
      "['2020-07-29 09', '47', '32,248', 'INFO', 'Initializing Fold 3']\n",
      "['2020-07-29 09', '47', '32,254', 'INFO', 'Fitting Model']\n",
      "['2020-07-29 09', '47', '32,257', 'INFO', 'Evaluating Metrics']\n",
      "['2020-07-29 09', '47', '32,259', 'INFO', 'No inverse transformer found']\n",
      "['2020-07-29 09', '47', '32,260', 'INFO', 'Compiling Metrics']\n",
      "['2020-07-29 09', '47', '32,266', 'INFO', 'Initializing Fold 4']\n",
      "['2020-07-29 09', '47', '32,271', 'INFO', 'Fitting Model']\n",
      "['2020-07-29 09', '47', '32,275', 'INFO', 'Evaluating Metrics']\n",
      "['2020-07-29 09', '47', '32,276', 'INFO', 'No inverse transformer found']\n",
      "['2020-07-29 09', '47', '32,277', 'INFO', 'Compiling Metrics']\n",
      "['2020-07-29 09', '47', '32,282', 'INFO', 'Initializing Fold 5']\n",
      "['2020-07-29 09', '47', '32,288', 'INFO', 'Fitting Model']\n",
      "['2020-07-29 09', '47', '32,291', 'INFO', 'Evaluating Metrics']\n",
      "['2020-07-29 09', '47', '32,293', 'INFO', 'No inverse transformer found']\n",
      "['2020-07-29 09', '47', '32,293', 'INFO', 'Compiling Metrics']\n",
      "['2020-07-29 09', '47', '32,302', 'INFO', 'Calculating mean and std']\n",
      "['2020-07-29 09', '47', '32,302', 'INFO', 'Creating metrics dataframe']\n",
      "['2020-07-29 09', '47', '32,313', 'INFO', 'Creating MLFlow logs']\n",
      "['2020-07-29 09', '47', '32,365', 'INFO', 'SubProcess save_model() called ==================================']\n",
      "['2020-07-29 09', '47', '32,366', 'INFO', 'Initializing save_model()']\n",
      "['2020-07-29 09', '47', '32,366', 'INFO', 'save_model(model=LinearRegression(copy_X=True, fit_intercept=True, n_jobs=-1, normalize=False), model_name=Trained Model, verbose=False)']\n",
      "['2020-07-29 09', '47', '32,366', 'INFO', 'Appending prep pipeline']\n",
      "['2020-07-29 09', '47', '32,371', 'INFO', 'Trained Model.pkl saved in current working directory']\n",
      "['2020-07-29 09', '47', '32,376', 'INFO', '[Pipeline(memory=None,']\n",
      "[\"steps=[('dtypes',\"]\n",
      "['DataTypes_Auto_infer(categorical_features=[],']\n",
      "['display_types=True, features_todrop=[],']\n",
      "[\"ml_usecase='regression',\"]\n",
      "[\"numerical_features=[], target='charges',\"]\n",
      "['time_features=[])),']\n",
      "[\"('imputer',\"]\n",
      "[\"Simple_Imputer(categorical_strategy='not_available',\"]\n",
      "[\"numeric_strategy='mean',\"]\n",
      "['target_variable=None)),']\n",
      "[\"('new_levels1',\"]\n",
      "['New_Catagorical_Levels...']\n",
      "[\"('group', Empty()), ('nonliner', Empty()), ('scaling', Empty()),\"]\n",
      "[\"('P_transform', Empty()), ('pt_target', Empty()),\"]\n",
      "[\"('binn', Empty()), ('rem_outliers', Empty()),\"]\n",
      "[\"('cluster_all', Empty()), ('dummy', Dummify(target='charges')),\"]\n",
      "[\"('fix_perfect', Empty()), ('clean_names', Clean_Colum_Names()),\"]\n",
      "[\"('feature_select', Empty()), ('fix_multi', Empty()),\"]\n",
      "[\"('dfs', Empty()), ('pca', Empty())],\"]\n",
      "['verbose=False), LinearRegression(copy_X=True, fit_intercept=True, n_jobs=-1, normalize=False), None]']\n",
      "['2020-07-29 09', '47', '32,376', 'INFO', 'save_model() succesfully completed......................................']\n",
      "['2020-07-29 09', '47', '32,376', 'INFO', 'SubProcess save_model() end ==================================']\n",
      "['2020-07-29 09', '47', '32,731', 'INFO', 'Initializing Lasso Regression']\n",
      "['2020-07-29 09', '47', '32,736', 'INFO', 'Initializing Fold 1']\n",
      "['2020-07-29 09', '47', '32,742', 'INFO', 'Fitting Model']\n",
      "['2020-07-29 09', '47', '32,747', 'INFO', 'Evaluating Metrics']\n",
      "['2020-07-29 09', '47', '32,749', 'INFO', 'No inverse transformer found']\n",
      "['2020-07-29 09', '47', '32,749', 'INFO', 'Compiling Metrics']\n",
      "['2020-07-29 09', '47', '32,756', 'INFO', 'Initializing Fold 2']\n",
      "['2020-07-29 09', '47', '32,762', 'INFO', 'Fitting Model']\n",
      "['2020-07-29 09', '47', '32,766', 'INFO', 'Evaluating Metrics']\n",
      "['2020-07-29 09', '47', '32,768', 'INFO', 'No inverse transformer found']\n",
      "['2020-07-29 09', '47', '32,768', 'INFO', 'Compiling Metrics']\n",
      "['2020-07-29 09', '47', '32,775', 'INFO', 'Initializing Fold 3']\n",
      "['2020-07-29 09', '47', '32,781', 'INFO', 'Fitting Model']\n",
      "['2020-07-29 09', '47', '32,786', 'INFO', 'Evaluating Metrics']\n",
      "['2020-07-29 09', '47', '32,788', 'INFO', 'No inverse transformer found']\n",
      "['2020-07-29 09', '47', '32,788', 'INFO', 'Compiling Metrics']\n",
      "['2020-07-29 09', '47', '32,795', 'INFO', 'Initializing Fold 4']\n",
      "['2020-07-29 09', '47', '32,801', 'INFO', 'Fitting Model']\n",
      "['2020-07-29 09', '47', '32,804', 'INFO', 'Evaluating Metrics']\n",
      "['2020-07-29 09', '47', '32,805', 'INFO', 'No inverse transformer found']\n",
      "['2020-07-29 09', '47', '32,805', 'INFO', 'Compiling Metrics']\n",
      "['2020-07-29 09', '47', '32,812', 'INFO', 'Initializing Fold 5']\n",
      "['2020-07-29 09', '47', '32,818', 'INFO', 'Fitting Model']\n",
      "['2020-07-29 09', '47', '32,820', 'INFO', 'Evaluating Metrics']\n",
      "['2020-07-29 09', '47', '32,822', 'INFO', 'No inverse transformer found']\n",
      "['2020-07-29 09', '47', '32,822', 'INFO', 'Compiling Metrics']\n",
      "['2020-07-29 09', '47', '32,829', 'INFO', 'Calculating mean and std']\n",
      "['2020-07-29 09', '47', '32,829', 'INFO', 'Creating metrics dataframe']\n",
      "['2020-07-29 09', '47', '32,841', 'INFO', 'Creating MLFlow logs']\n",
      "['2020-07-29 09', '47', '32,901', 'INFO', 'SubProcess save_model() called ==================================']\n",
      "['2020-07-29 09', '47', '32,901', 'INFO', 'Initializing save_model()']\n",
      "['2020-07-29 09', '47', '32,901', 'INFO', 'save_model(model=Lasso(alpha=1.0, copy_X=True, fit_intercept=True, max_iter=1000,']\n",
      "['normalize=False, positive=False, precompute=False, random_state=123,']\n",
      "[\"selection='cyclic', tol=0.0001, warm_start=False), model_name=Trained Model, verbose=False)\"]\n",
      "['2020-07-29 09', '47', '32,901', 'INFO', 'Appending prep pipeline']\n",
      "['2020-07-29 09', '47', '32,907', 'INFO', 'Trained Model.pkl saved in current working directory']\n",
      "['2020-07-29 09', '47', '32,912', 'INFO', '[Pipeline(memory=None,']\n",
      "[\"steps=[('dtypes',\"]\n",
      "['DataTypes_Auto_infer(categorical_features=[],']\n",
      "['display_types=True, features_todrop=[],']\n",
      "[\"ml_usecase='regression',\"]\n",
      "[\"numerical_features=[], target='charges',\"]\n",
      "['time_features=[])),']\n",
      "[\"('imputer',\"]\n",
      "[\"Simple_Imputer(categorical_strategy='not_available',\"]\n",
      "[\"numeric_strategy='mean',\"]\n",
      "['target_variable=None)),']\n",
      "[\"('new_levels1',\"]\n",
      "['New_Catagorical_Levels...']\n",
      "[\"('group', Empty()), ('nonliner', Empty()), ('scaling', Empty()),\"]\n",
      "[\"('P_transform', Empty()), ('pt_target', Empty()),\"]\n",
      "[\"('binn', Empty()), ('rem_outliers', Empty()),\"]\n",
      "[\"('cluster_all', Empty()), ('dummy', Dummify(target='charges')),\"]\n",
      "[\"('fix_perfect', Empty()), ('clean_names', Clean_Colum_Names()),\"]\n",
      "[\"('feature_select', Empty()), ('fix_multi', Empty()),\"]\n",
      "[\"('dfs', Empty()), ('pca', Empty())],\"]\n",
      "['verbose=False), Lasso(alpha=1.0, copy_X=True, fit_intercept=True, max_iter=1000,']\n",
      "['normalize=False, positive=False, precompute=False, random_state=123,']\n",
      "[\"selection='cyclic', tol=0.0001, warm_start=False), None]\"]\n",
      "['2020-07-29 09', '47', '32,912', 'INFO', 'save_model() succesfully completed......................................']\n",
      "['2020-07-29 09', '47', '32,912', 'INFO', 'SubProcess save_model() end ==================================']\n",
      "['2020-07-29 09', '47', '32,961', 'INFO', 'Initializing Ridge Regression']\n",
      "['2020-07-29 09', '47', '32,967', 'INFO', 'Initializing Fold 1']\n",
      "['2020-07-29 09', '47', '32,972', 'INFO', 'Fitting Model']\n",
      "['2020-07-29 09', '47', '32,974', 'INFO', 'Evaluating Metrics']\n",
      "['2020-07-29 09', '47', '32,976', 'INFO', 'No inverse transformer found']\n",
      "['2020-07-29 09', '47', '32,976', 'INFO', 'Compiling Metrics']\n",
      "['2020-07-29 09', '47', '32,983', 'INFO', 'Initializing Fold 2']\n",
      "['2020-07-29 09', '47', '32,988', 'INFO', 'Fitting Model']\n",
      "['2020-07-29 09', '47', '32,991', 'INFO', 'Evaluating Metrics']\n"
     ]
    },
    {
     "name": "stdout",
     "output_type": "stream",
     "text": [
      "['2020-07-29 09', '47', '32,993', 'INFO', 'No inverse transformer found']\n",
      "['2020-07-29 09', '47', '32,993', 'INFO', 'Compiling Metrics']\n",
      "['2020-07-29 09', '47', '33,001', 'INFO', 'Initializing Fold 3']\n",
      "['2020-07-29 09', '47', '33,006', 'INFO', 'Fitting Model']\n",
      "['2020-07-29 09', '47', '33,008', 'INFO', 'Evaluating Metrics']\n",
      "['2020-07-29 09', '47', '33,010', 'INFO', 'No inverse transformer found']\n",
      "['2020-07-29 09', '47', '33,010', 'INFO', 'Compiling Metrics']\n",
      "['2020-07-29 09', '47', '33,017', 'INFO', 'Initializing Fold 4']\n",
      "['2020-07-29 09', '47', '33,022', 'INFO', 'Fitting Model']\n",
      "['2020-07-29 09', '47', '33,025', 'INFO', 'Evaluating Metrics']\n",
      "['2020-07-29 09', '47', '33,027', 'INFO', 'No inverse transformer found']\n",
      "['2020-07-29 09', '47', '33,027', 'INFO', 'Compiling Metrics']\n",
      "['2020-07-29 09', '47', '33,035', 'INFO', 'Initializing Fold 5']\n",
      "['2020-07-29 09', '47', '33,041', 'INFO', 'Fitting Model']\n",
      "['2020-07-29 09', '47', '33,043', 'INFO', 'Evaluating Metrics']\n",
      "['2020-07-29 09', '47', '33,045', 'INFO', 'No inverse transformer found']\n",
      "['2020-07-29 09', '47', '33,045', 'INFO', 'Compiling Metrics']\n",
      "['2020-07-29 09', '47', '33,051', 'INFO', 'Calculating mean and std']\n",
      "['2020-07-29 09', '47', '33,051', 'INFO', 'Creating metrics dataframe']\n",
      "['2020-07-29 09', '47', '33,062', 'INFO', 'Creating MLFlow logs']\n",
      "['2020-07-29 09', '47', '33,129', 'INFO', 'SubProcess save_model() called ==================================']\n",
      "['2020-07-29 09', '47', '33,129', 'INFO', 'Initializing save_model()']\n",
      "['2020-07-29 09', '47', '33,129', 'INFO', 'save_model(model=Ridge(alpha=1.0, copy_X=True, fit_intercept=True, max_iter=None,']\n",
      "[\"normalize=False, random_state=123, solver='auto', tol=0.001), model_name=Trained Model, verbose=False)\"]\n",
      "['2020-07-29 09', '47', '33,129', 'INFO', 'Appending prep pipeline']\n",
      "['2020-07-29 09', '47', '33,134', 'INFO', 'Trained Model.pkl saved in current working directory']\n",
      "['2020-07-29 09', '47', '33,139', 'INFO', '[Pipeline(memory=None,']\n",
      "[\"steps=[('dtypes',\"]\n",
      "['DataTypes_Auto_infer(categorical_features=[],']\n",
      "['display_types=True, features_todrop=[],']\n",
      "[\"ml_usecase='regression',\"]\n",
      "[\"numerical_features=[], target='charges',\"]\n",
      "['time_features=[])),']\n",
      "[\"('imputer',\"]\n",
      "[\"Simple_Imputer(categorical_strategy='not_available',\"]\n",
      "[\"numeric_strategy='mean',\"]\n",
      "['target_variable=None)),']\n",
      "[\"('new_levels1',\"]\n",
      "['New_Catagorical_Levels...']\n",
      "[\"('group', Empty()), ('nonliner', Empty()), ('scaling', Empty()),\"]\n",
      "[\"('P_transform', Empty()), ('pt_target', Empty()),\"]\n",
      "[\"('binn', Empty()), ('rem_outliers', Empty()),\"]\n",
      "[\"('cluster_all', Empty()), ('dummy', Dummify(target='charges')),\"]\n",
      "[\"('fix_perfect', Empty()), ('clean_names', Clean_Colum_Names()),\"]\n",
      "[\"('feature_select', Empty()), ('fix_multi', Empty()),\"]\n",
      "[\"('dfs', Empty()), ('pca', Empty())],\"]\n",
      "['verbose=False), Ridge(alpha=1.0, copy_X=True, fit_intercept=True, max_iter=None,']\n",
      "[\"normalize=False, random_state=123, solver='auto', tol=0.001), None]\"]\n",
      "['2020-07-29 09', '47', '33,139', 'INFO', 'save_model() succesfully completed......................................']\n",
      "['2020-07-29 09', '47', '33,139', 'INFO', 'SubProcess save_model() end ==================================']\n",
      "['2020-07-29 09', '47', '33,188', 'INFO', 'Initializing Elastic Net']\n",
      "['2020-07-29 09', '47', '33,194', 'INFO', 'Initializing Fold 1']\n",
      "['2020-07-29 09', '47', '33,200', 'INFO', 'Fitting Model']\n",
      "['2020-07-29 09', '47', '33,203', 'INFO', 'Evaluating Metrics']\n",
      "['2020-07-29 09', '47', '33,205', 'INFO', 'No inverse transformer found']\n",
      "['2020-07-29 09', '47', '33,205', 'INFO', 'Compiling Metrics']\n",
      "['2020-07-29 09', '47', '33,212', 'INFO', 'Initializing Fold 2']\n",
      "['2020-07-29 09', '47', '33,219', 'INFO', 'Fitting Model']\n",
      "['2020-07-29 09', '47', '33,222', 'INFO', 'Evaluating Metrics']\n",
      "['2020-07-29 09', '47', '33,225', 'INFO', 'No inverse transformer found']\n",
      "['2020-07-29 09', '47', '33,225', 'INFO', 'Compiling Metrics']\n",
      "['2020-07-29 09', '47', '33,232', 'INFO', 'Initializing Fold 3']\n",
      "['2020-07-29 09', '47', '33,237', 'INFO', 'Fitting Model']\n",
      "['2020-07-29 09', '47', '33,241', 'INFO', 'Evaluating Metrics']\n",
      "['2020-07-29 09', '47', '33,243', 'INFO', 'No inverse transformer found']\n",
      "['2020-07-29 09', '47', '33,243', 'INFO', 'Compiling Metrics']\n",
      "['2020-07-29 09', '47', '33,251', 'INFO', 'Initializing Fold 4']\n",
      "['2020-07-29 09', '47', '33,255', 'INFO', 'Fitting Model']\n",
      "['2020-07-29 09', '47', '33,260', 'INFO', 'Evaluating Metrics']\n",
      "['2020-07-29 09', '47', '33,262', 'INFO', 'No inverse transformer found']\n",
      "['2020-07-29 09', '47', '33,262', 'INFO', 'Compiling Metrics']\n",
      "['2020-07-29 09', '47', '33,270', 'INFO', 'Initializing Fold 5']\n",
      "['2020-07-29 09', '47', '33,277', 'INFO', 'Fitting Model']\n",
      "['2020-07-29 09', '47', '33,280', 'INFO', 'Evaluating Metrics']\n",
      "['2020-07-29 09', '47', '33,283', 'INFO', 'No inverse transformer found']\n",
      "['2020-07-29 09', '47', '33,283', 'INFO', 'Compiling Metrics']\n",
      "['2020-07-29 09', '47', '33,291', 'INFO', 'Calculating mean and std']\n",
      "['2020-07-29 09', '47', '33,291', 'INFO', 'Creating metrics dataframe']\n",
      "['2020-07-29 09', '47', '33,302', 'INFO', 'Creating MLFlow logs']\n",
      "['2020-07-29 09', '47', '33,367', 'INFO', 'SubProcess save_model() called ==================================']\n",
      "['2020-07-29 09', '47', '33,368', 'INFO', 'Initializing save_model()']\n",
      "['2020-07-29 09', '47', '33,368', 'INFO', 'save_model(model=ElasticNet(alpha=1.0, copy_X=True, fit_intercept=True, l1_ratio=0.5,']\n",
      "['max_iter=1000, normalize=False, positive=False, precompute=False,']\n",
      "[\"random_state=123, selection='cyclic', tol=0.0001, warm_start=False), model_name=Trained Model, verbose=False)\"]\n",
      "['2020-07-29 09', '47', '33,368', 'INFO', 'Appending prep pipeline']\n",
      "['2020-07-29 09', '47', '33,373', 'INFO', 'Trained Model.pkl saved in current working directory']\n",
      "['2020-07-29 09', '47', '33,379', 'INFO', '[Pipeline(memory=None,']\n",
      "[\"steps=[('dtypes',\"]\n",
      "['DataTypes_Auto_infer(categorical_features=[],']\n",
      "['display_types=True, features_todrop=[],']\n",
      "[\"ml_usecase='regression',\"]\n",
      "[\"numerical_features=[], target='charges',\"]\n",
      "['time_features=[])),']\n",
      "[\"('imputer',\"]\n",
      "[\"Simple_Imputer(categorical_strategy='not_available',\"]\n",
      "[\"numeric_strategy='mean',\"]\n",
      "['target_variable=None)),']\n",
      "[\"('new_levels1',\"]\n",
      "['New_Catagorical_Levels...']\n",
      "[\"('group', Empty()), ('nonliner', Empty()), ('scaling', Empty()),\"]\n",
      "[\"('P_transform', Empty()), ('pt_target', Empty()),\"]\n",
      "[\"('binn', Empty()), ('rem_outliers', Empty()),\"]\n",
      "[\"('cluster_all', Empty()), ('dummy', Dummify(target='charges')),\"]\n",
      "[\"('fix_perfect', Empty()), ('clean_names', Clean_Colum_Names()),\"]\n",
      "[\"('feature_select', Empty()), ('fix_multi', Empty()),\"]\n",
      "[\"('dfs', Empty()), ('pca', Empty())],\"]\n",
      "['verbose=False), ElasticNet(alpha=1.0, copy_X=True, fit_intercept=True, l1_ratio=0.5,']\n",
      "['max_iter=1000, normalize=False, positive=False, precompute=False,']\n",
      "[\"random_state=123, selection='cyclic', tol=0.0001, warm_start=False), None]\"]\n",
      "['2020-07-29 09', '47', '33,379', 'INFO', 'save_model() succesfully completed......................................']\n",
      "['2020-07-29 09', '47', '33,379', 'INFO', 'SubProcess save_model() end ==================================']\n",
      "['2020-07-29 09', '47', '33,465', 'INFO', 'Initializing Least Angle Regression']\n",
      "['2020-07-29 09', '47', '33,470', 'INFO', 'Initializing Fold 1']\n",
      "['2020-07-29 09', '47', '33,476', 'INFO', 'Fitting Model']\n",
      "['2020-07-29 09', '47', '33,482', 'INFO', 'Evaluating Metrics']\n",
      "['2020-07-29 09', '47', '33,483', 'INFO', 'No inverse transformer found']\n",
      "['2020-07-29 09', '47', '33,484', 'INFO', 'Compiling Metrics']\n",
      "['2020-07-29 09', '47', '33,490', 'INFO', 'Initializing Fold 2']\n",
      "['2020-07-29 09', '47', '33,496', 'INFO', 'Fitting Model']\n",
      "['2020-07-29 09', '47', '33,502', 'INFO', 'Evaluating Metrics']\n",
      "['2020-07-29 09', '47', '33,504', 'INFO', 'No inverse transformer found']\n",
      "['2020-07-29 09', '47', '33,504', 'INFO', 'Compiling Metrics']\n",
      "['2020-07-29 09', '47', '33,510', 'INFO', 'Initializing Fold 3']\n",
      "['2020-07-29 09', '47', '33,517', 'INFO', 'Fitting Model']\n",
      "['2020-07-29 09', '47', '33,522', 'INFO', 'Evaluating Metrics']\n",
      "['2020-07-29 09', '47', '33,523', 'INFO', 'No inverse transformer found']\n",
      "['2020-07-29 09', '47', '33,523', 'INFO', 'Compiling Metrics']\n",
      "['2020-07-29 09', '47', '33,531', 'INFO', 'Initializing Fold 4']\n",
      "['2020-07-29 09', '47', '33,536', 'INFO', 'Fitting Model']\n",
      "['2020-07-29 09', '47', '33,542', 'INFO', 'Evaluating Metrics']\n",
      "['2020-07-29 09', '47', '33,543', 'INFO', 'No inverse transformer found']\n",
      "['2020-07-29 09', '47', '33,544', 'INFO', 'Compiling Metrics']\n",
      "['2020-07-29 09', '47', '33,552', 'INFO', 'Initializing Fold 5']\n",
      "['2020-07-29 09', '47', '33,564', 'INFO', 'Fitting Model']\n",
      "['2020-07-29 09', '47', '33,572', 'INFO', 'Evaluating Metrics']\n",
      "['2020-07-29 09', '47', '33,574', 'INFO', 'No inverse transformer found']\n",
      "['2020-07-29 09', '47', '33,574', 'INFO', 'Compiling Metrics']\n",
      "['2020-07-29 09', '47', '33,580', 'INFO', 'Calculating mean and std']\n",
      "['2020-07-29 09', '47', '33,581', 'INFO', 'Creating metrics dataframe']\n",
      "['2020-07-29 09', '47', '33,593', 'INFO', 'Creating MLFlow logs']\n",
      "['2020-07-29 09', '47', '33,653', 'INFO', 'SubProcess save_model() called ==================================']\n",
      "['2020-07-29 09', '47', '33,654', 'INFO', 'Initializing save_model()']\n",
      "['2020-07-29 09', '47', '33,654', 'INFO', 'save_model(model=Lars(copy_X=True, eps=2.220446049250313e-16, fit_intercept=True, fit_path=True,']\n",
      "[\"jitter=None, n_nonzero_coefs=500, normalize=True, precompute='auto',\"]\n",
      "['random_state=None, verbose=False), model_name=Trained Model, verbose=False)']\n",
      "['2020-07-29 09', '47', '33,654', 'INFO', 'Appending prep pipeline']\n",
      "['2020-07-29 09', '47', '33,658', 'INFO', 'Trained Model.pkl saved in current working directory']\n",
      "['2020-07-29 09', '47', '33,664', 'INFO', '[Pipeline(memory=None,']\n",
      "[\"steps=[('dtypes',\"]\n",
      "['DataTypes_Auto_infer(categorical_features=[],']\n",
      "['display_types=True, features_todrop=[],']\n",
      "[\"ml_usecase='regression',\"]\n",
      "[\"numerical_features=[], target='charges',\"]\n",
      "['time_features=[])),']\n",
      "[\"('imputer',\"]\n",
      "[\"Simple_Imputer(categorical_strategy='not_available',\"]\n",
      "[\"numeric_strategy='mean',\"]\n",
      "['target_variable=None)),']\n",
      "[\"('new_levels1',\"]\n",
      "['New_Catagorical_Levels...']\n",
      "[\"('group', Empty()), ('nonliner', Empty()), ('scaling', Empty()),\"]\n",
      "[\"('P_transform', Empty()), ('pt_target', Empty()),\"]\n",
      "[\"('binn', Empty()), ('rem_outliers', Empty()),\"]\n",
      "[\"('cluster_all', Empty()), ('dummy', Dummify(target='charges')),\"]\n",
      "[\"('fix_perfect', Empty()), ('clean_names', Clean_Colum_Names()),\"]\n",
      "[\"('feature_select', Empty()), ('fix_multi', Empty()),\"]\n",
      "[\"('dfs', Empty()), ('pca', Empty())],\"]\n",
      "['verbose=False), Lars(copy_X=True, eps=2.220446049250313e-16, fit_intercept=True, fit_path=True,']\n",
      "[\"jitter=None, n_nonzero_coefs=500, normalize=True, precompute='auto',\"]\n",
      "['random_state=None, verbose=False), None]']\n",
      "['2020-07-29 09', '47', '33,664', 'INFO', 'save_model() succesfully completed......................................']\n",
      "['2020-07-29 09', '47', '33,664', 'INFO', 'SubProcess save_model() end ==================================']\n",
      "['2020-07-29 09', '47', '33,714', 'INFO', 'Initializing Lasso Least Angle Regression']\n",
      "['2020-07-29 09', '47', '33,720', 'INFO', 'Initializing Fold 1']\n",
      "['2020-07-29 09', '47', '33,728', 'INFO', 'Fitting Model']\n",
      "['2020-07-29 09', '47', '33,733', 'INFO', 'Evaluating Metrics']\n",
      "['2020-07-29 09', '47', '33,734', 'INFO', 'No inverse transformer found']\n",
      "['2020-07-29 09', '47', '33,734', 'INFO', 'Compiling Metrics']\n",
      "['2020-07-29 09', '47', '33,739', 'INFO', 'Initializing Fold 2']\n",
      "['2020-07-29 09', '47', '33,745', 'INFO', 'Fitting Model']\n",
      "['2020-07-29 09', '47', '33,750', 'INFO', 'Evaluating Metrics']\n",
      "['2020-07-29 09', '47', '33,752', 'INFO', 'No inverse transformer found']\n",
      "['2020-07-29 09', '47', '33,752', 'INFO', 'Compiling Metrics']\n",
      "['2020-07-29 09', '47', '33,758', 'INFO', 'Initializing Fold 3']\n",
      "['2020-07-29 09', '47', '33,764', 'INFO', 'Fitting Model']\n",
      "['2020-07-29 09', '47', '33,768', 'INFO', 'Evaluating Metrics']\n",
      "['2020-07-29 09', '47', '33,770', 'INFO', 'No inverse transformer found']\n",
      "['2020-07-29 09', '47', '33,770', 'INFO', 'Compiling Metrics']\n",
      "['2020-07-29 09', '47', '33,775', 'INFO', 'Initializing Fold 4']\n",
      "['2020-07-29 09', '47', '33,780', 'INFO', 'Fitting Model']\n",
      "['2020-07-29 09', '47', '33,784', 'INFO', 'Evaluating Metrics']\n",
      "['2020-07-29 09', '47', '33,786', 'INFO', 'No inverse transformer found']\n",
      "['2020-07-29 09', '47', '33,786', 'INFO', 'Compiling Metrics']\n",
      "['2020-07-29 09', '47', '33,792', 'INFO', 'Initializing Fold 5']\n",
      "['2020-07-29 09', '47', '33,798', 'INFO', 'Fitting Model']\n",
      "['2020-07-29 09', '47', '33,802', 'INFO', 'Evaluating Metrics']\n",
      "['2020-07-29 09', '47', '33,803', 'INFO', 'No inverse transformer found']\n",
      "['2020-07-29 09', '47', '33,803', 'INFO', 'Compiling Metrics']\n",
      "['2020-07-29 09', '47', '33,809', 'INFO', 'Calculating mean and std']\n",
      "['2020-07-29 09', '47', '33,810', 'INFO', 'Creating metrics dataframe']\n",
      "['2020-07-29 09', '47', '33,821', 'INFO', 'Creating MLFlow logs']\n",
      "['2020-07-29 09', '47', '33,878', 'INFO', 'SubProcess save_model() called ==================================']\n",
      "['2020-07-29 09', '47', '33,878', 'INFO', 'Initializing save_model()']\n",
      "['2020-07-29 09', '47', '33,878', 'INFO', 'save_model(model=LassoLars(alpha=1.0, copy_X=True, eps=2.220446049250313e-16, fit_intercept=True,']\n",
      "['fit_path=True, jitter=None, max_iter=500, normalize=True,']\n",
      "[\"positive=False, precompute='auto', random_state=None, verbose=False), model_name=Trained Model, verbose=False)\"]\n",
      "['2020-07-29 09', '47', '33,878', 'INFO', 'Appending prep pipeline']\n",
      "['2020-07-29 09', '47', '33,884', 'INFO', 'Trained Model.pkl saved in current working directory']\n",
      "['2020-07-29 09', '47', '33,889', 'INFO', '[Pipeline(memory=None,']\n",
      "[\"steps=[('dtypes',\"]\n",
      "['DataTypes_Auto_infer(categorical_features=[],']\n",
      "['display_types=True, features_todrop=[],']\n",
      "[\"ml_usecase='regression',\"]\n",
      "[\"numerical_features=[], target='charges',\"]\n",
      "['time_features=[])),']\n",
      "[\"('imputer',\"]\n",
      "[\"Simple_Imputer(categorical_strategy='not_available',\"]\n",
      "[\"numeric_strategy='mean',\"]\n",
      "['target_variable=None)),']\n",
      "[\"('new_levels1',\"]\n",
      "['New_Catagorical_Levels...']\n",
      "[\"('group', Empty()), ('nonliner', Empty()), ('scaling', Empty()),\"]\n",
      "[\"('P_transform', Empty()), ('pt_target', Empty()),\"]\n",
      "[\"('binn', Empty()), ('rem_outliers', Empty()),\"]\n",
      "[\"('cluster_all', Empty()), ('dummy', Dummify(target='charges')),\"]\n",
      "[\"('fix_perfect', Empty()), ('clean_names', Clean_Colum_Names()),\"]\n",
      "[\"('feature_select', Empty()), ('fix_multi', Empty()),\"]\n",
      "[\"('dfs', Empty()), ('pca', Empty())],\"]\n",
      "['verbose=False), LassoLars(alpha=1.0, copy_X=True, eps=2.220446049250313e-16, fit_intercept=True,']\n",
      "['fit_path=True, jitter=None, max_iter=500, normalize=True,']\n",
      "[\"positive=False, precompute='auto', random_state=None, verbose=False), None]\"]\n",
      "['2020-07-29 09', '47', '33,889', 'INFO', 'save_model() succesfully completed......................................']\n",
      "['2020-07-29 09', '47', '33,890', 'INFO', 'SubProcess save_model() end ==================================']\n",
      "['2020-07-29 09', '47', '33,946', 'INFO', 'Initializing Orthogonal Matching Pursuit']\n",
      "['2020-07-29 09', '47', '33,952', 'INFO', 'Initializing Fold 1']\n",
      "['2020-07-29 09', '47', '33,961', 'INFO', 'Fitting Model']\n",
      "['2020-07-29 09', '47', '33,964', 'INFO', 'Evaluating Metrics']\n",
      "['2020-07-29 09', '47', '33,966', 'INFO', 'No inverse transformer found']\n",
      "['2020-07-29 09', '47', '33,966', 'INFO', 'Compiling Metrics']\n",
      "['2020-07-29 09', '47', '33,974', 'INFO', 'Initializing Fold 2']\n",
      "['2020-07-29 09', '47', '33,983', 'INFO', 'Fitting Model']\n",
      "['2020-07-29 09', '47', '33,985', 'INFO', 'Evaluating Metrics']\n",
      "['2020-07-29 09', '47', '33,987', 'INFO', 'No inverse transformer found']\n",
      "['2020-07-29 09', '47', '33,988', 'INFO', 'Compiling Metrics']\n",
      "['2020-07-29 09', '47', '33,997', 'INFO', 'Initializing Fold 3']\n",
      "['2020-07-29 09', '47', '34,002', 'INFO', 'Fitting Model']\n",
      "['2020-07-29 09', '47', '34,006', 'INFO', 'Evaluating Metrics']\n",
      "['2020-07-29 09', '47', '34,008', 'INFO', 'No inverse transformer found']\n",
      "['2020-07-29 09', '47', '34,008', 'INFO', 'Compiling Metrics']\n",
      "['2020-07-29 09', '47', '34,017', 'INFO', 'Initializing Fold 4']\n",
      "['2020-07-29 09', '47', '34,023', 'INFO', 'Fitting Model']\n",
      "['2020-07-29 09', '47', '34,026', 'INFO', 'Evaluating Metrics']\n",
      "['2020-07-29 09', '47', '34,029', 'INFO', 'No inverse transformer found']\n",
      "['2020-07-29 09', '47', '34,029', 'INFO', 'Compiling Metrics']\n",
      "['2020-07-29 09', '47', '34,037', 'INFO', 'Initializing Fold 5']\n",
      "['2020-07-29 09', '47', '34,044', 'INFO', 'Fitting Model']\n",
      "['2020-07-29 09', '47', '34,048', 'INFO', 'Evaluating Metrics']\n",
      "['2020-07-29 09', '47', '34,051', 'INFO', 'No inverse transformer found']\n",
      "['2020-07-29 09', '47', '34,051', 'INFO', 'Compiling Metrics']\n",
      "['2020-07-29 09', '47', '34,058', 'INFO', 'Calculating mean and std']\n",
      "['2020-07-29 09', '47', '34,058', 'INFO', 'Creating metrics dataframe']\n",
      "['2020-07-29 09', '47', '34,073', 'INFO', 'Creating MLFlow logs']\n",
      "['2020-07-29 09', '47', '34,193', 'INFO', 'SubProcess save_model() called ==================================']\n",
      "['2020-07-29 09', '47', '34,193', 'INFO', 'Initializing save_model()']\n",
      "['2020-07-29 09', '47', '34,194', 'INFO', 'save_model(model=OrthogonalMatchingPursuit(fit_intercept=True, n_nonzero_coefs=None,']\n",
      "[\"normalize=True, precompute='auto', tol=None), model_name=Trained Model, verbose=False)\"]\n",
      "['2020-07-29 09', '47', '34,194', 'INFO', 'Appending prep pipeline']\n",
      "['2020-07-29 09', '47', '34,202', 'INFO', 'Trained Model.pkl saved in current working directory']\n",
      "['2020-07-29 09', '47', '34,211', 'INFO', '[Pipeline(memory=None,']\n",
      "[\"steps=[('dtypes',\"]\n",
      "['DataTypes_Auto_infer(categorical_features=[],']\n",
      "['display_types=True, features_todrop=[],']\n",
      "[\"ml_usecase='regression',\"]\n",
      "[\"numerical_features=[], target='charges',\"]\n",
      "['time_features=[])),']\n",
      "[\"('imputer',\"]\n",
      "[\"Simple_Imputer(categorical_strategy='not_available',\"]\n",
      "[\"numeric_strategy='mean',\"]\n",
      "['target_variable=None)),']\n",
      "[\"('new_levels1',\"]\n",
      "['New_Catagorical_Levels...']\n",
      "[\"('group', Empty()), ('nonliner', Empty()), ('scaling', Empty()),\"]\n",
      "[\"('P_transform', Empty()), ('pt_target', Empty()),\"]\n",
      "[\"('binn', Empty()), ('rem_outliers', Empty()),\"]\n",
      "[\"('cluster_all', Empty()), ('dummy', Dummify(target='charges')),\"]\n",
      "[\"('fix_perfect', Empty()), ('clean_names', Clean_Colum_Names()),\"]\n",
      "[\"('feature_select', Empty()), ('fix_multi', Empty()),\"]\n",
      "[\"('dfs', Empty()), ('pca', Empty())],\"]\n",
      "['verbose=False), OrthogonalMatchingPursuit(fit_intercept=True, n_nonzero_coefs=None,']\n",
      "[\"normalize=True, precompute='auto', tol=None), None]\"]\n",
      "['2020-07-29 09', '47', '34,211', 'INFO', 'save_model() succesfully completed......................................']\n",
      "['2020-07-29 09', '47', '34,211', 'INFO', 'SubProcess save_model() end ==================================']\n",
      "['2020-07-29 09', '47', '34,263', 'INFO', 'Initializing Bayesian Ridge']\n",
      "['2020-07-29 09', '47', '34,269', 'INFO', 'Initializing Fold 1']\n",
      "['2020-07-29 09', '47', '34,277', 'INFO', 'Fitting Model']\n",
      "['2020-07-29 09', '47', '34,284', 'INFO', 'Evaluating Metrics']\n",
      "['2020-07-29 09', '47', '34,286', 'INFO', 'No inverse transformer found']\n",
      "['2020-07-29 09', '47', '34,287', 'INFO', 'Compiling Metrics']\n",
      "['2020-07-29 09', '47', '34,295', 'INFO', 'Initializing Fold 2']\n",
      "['2020-07-29 09', '47', '34,304', 'INFO', 'Fitting Model']\n",
      "['2020-07-29 09', '47', '34,311', 'INFO', 'Evaluating Metrics']\n",
      "['2020-07-29 09', '47', '34,314', 'INFO', 'No inverse transformer found']\n",
      "['2020-07-29 09', '47', '34,314', 'INFO', 'Compiling Metrics']\n",
      "['2020-07-29 09', '47', '34,323', 'INFO', 'Initializing Fold 3']\n",
      "['2020-07-29 09', '47', '34,331', 'INFO', 'Fitting Model']\n",
      "['2020-07-29 09', '47', '34,339', 'INFO', 'Evaluating Metrics']\n",
      "['2020-07-29 09', '47', '34,341', 'INFO', 'No inverse transformer found']\n",
      "['2020-07-29 09', '47', '34,342', 'INFO', 'Compiling Metrics']\n",
      "['2020-07-29 09', '47', '34,350', 'INFO', 'Initializing Fold 4']\n",
      "['2020-07-29 09', '47', '34,357', 'INFO', 'Fitting Model']\n",
      "['2020-07-29 09', '47', '34,364', 'INFO', 'Evaluating Metrics']\n",
      "['2020-07-29 09', '47', '34,367', 'INFO', 'No inverse transformer found']\n",
      "['2020-07-29 09', '47', '34,367', 'INFO', 'Compiling Metrics']\n",
      "['2020-07-29 09', '47', '34,375', 'INFO', 'Initializing Fold 5']\n",
      "['2020-07-29 09', '47', '34,383', 'INFO', 'Fitting Model']\n",
      "['2020-07-29 09', '47', '34,391', 'INFO', 'Evaluating Metrics']\n",
      "['2020-07-29 09', '47', '34,393', 'INFO', 'No inverse transformer found']\n",
      "['2020-07-29 09', '47', '34,393', 'INFO', 'Compiling Metrics']\n",
      "['2020-07-29 09', '47', '34,402', 'INFO', 'Calculating mean and std']\n",
      "['2020-07-29 09', '47', '34,402', 'INFO', 'Creating metrics dataframe']\n",
      "['2020-07-29 09', '47', '34,420', 'INFO', 'Creating MLFlow logs']\n",
      "['2020-07-29 09', '47', '34,507', 'INFO', 'SubProcess save_model() called ==================================']\n",
      "['2020-07-29 09', '47', '34,507', 'INFO', 'Initializing save_model()']\n",
      "['2020-07-29 09', '47', '34,508', 'INFO', 'save_model(model=BayesianRidge(alpha_1=1e-06, alpha_2=1e-06, alpha_init=None,']\n",
      "['compute_score=False, copy_X=True, fit_intercept=True,']\n",
      "['lambda_1=1e-06, lambda_2=1e-06, lambda_init=None, n_iter=300,']\n",
      "['normalize=False, tol=0.001, verbose=False), model_name=Trained Model, verbose=False)']\n",
      "['2020-07-29 09', '47', '34,508', 'INFO', 'Appending prep pipeline']\n",
      "['2020-07-29 09', '47', '34,516', 'INFO', 'Trained Model.pkl saved in current working directory']\n",
      "['2020-07-29 09', '47', '34,523', 'INFO', '[Pipeline(memory=None,']\n",
      "[\"steps=[('dtypes',\"]\n",
      "['DataTypes_Auto_infer(categorical_features=[],']\n",
      "['display_types=True, features_todrop=[],']\n",
      "[\"ml_usecase='regression',\"]\n",
      "[\"numerical_features=[], target='charges',\"]\n",
      "['time_features=[])),']\n",
      "[\"('imputer',\"]\n",
      "[\"Simple_Imputer(categorical_strategy='not_available',\"]\n",
      "[\"numeric_strategy='mean',\"]\n",
      "['target_variable=None)),']\n",
      "[\"('new_levels1',\"]\n",
      "['New_Catagorical_Levels...']\n",
      "[\"('group', Empty()), ('nonliner', Empty()), ('scaling', Empty()),\"]\n",
      "[\"('P_transform', Empty()), ('pt_target', Empty()),\"]\n",
      "[\"('binn', Empty()), ('rem_outliers', Empty()),\"]\n",
      "[\"('cluster_all', Empty()), ('dummy', Dummify(target='charges')),\"]\n",
      "[\"('fix_perfect', Empty()), ('clean_names', Clean_Colum_Names()),\"]\n",
      "[\"('feature_select', Empty()), ('fix_multi', Empty()),\"]\n",
      "[\"('dfs', Empty()), ('pca', Empty())],\"]\n",
      "['verbose=False), BayesianRidge(alpha_1=1e-06, alpha_2=1e-06, alpha_init=None,']\n",
      "['compute_score=False, copy_X=True, fit_intercept=True,']\n",
      "['lambda_1=1e-06, lambda_2=1e-06, lambda_init=None, n_iter=300,']\n",
      "['normalize=False, tol=0.001, verbose=False), None]']\n",
      "['2020-07-29 09', '47', '34,524', 'INFO', 'save_model() succesfully completed......................................']\n",
      "['2020-07-29 09', '47', '34,524', 'INFO', 'SubProcess save_model() end ==================================']\n",
      "['2020-07-29 09', '47', '34,625', 'INFO', 'Initializing Passive Aggressive Regressor']\n",
      "['2020-07-29 09', '47', '34,633', 'INFO', 'Initializing Fold 1']\n",
      "['2020-07-29 09', '47', '34,640', 'INFO', 'Fitting Model']\n",
      "['2020-07-29 09', '47', '34,651', 'INFO', 'Evaluating Metrics']\n",
      "['2020-07-29 09', '47', '34,654', 'INFO', 'No inverse transformer found']\n",
      "['2020-07-29 09', '47', '34,654', 'INFO', 'Compiling Metrics']\n",
      "['2020-07-29 09', '47', '34,664', 'INFO', 'Initializing Fold 2']\n",
      "['2020-07-29 09', '47', '34,672', 'INFO', 'Fitting Model']\n",
      "['2020-07-29 09', '47', '34,683', 'INFO', 'Evaluating Metrics']\n",
      "['2020-07-29 09', '47', '34,685', 'INFO', 'No inverse transformer found']\n",
      "['2020-07-29 09', '47', '34,686', 'INFO', 'Compiling Metrics']\n",
      "['2020-07-29 09', '47', '34,696', 'INFO', 'Initializing Fold 3']\n",
      "['2020-07-29 09', '47', '34,705', 'INFO', 'Fitting Model']\n",
      "['2020-07-29 09', '47', '34,715', 'INFO', 'Evaluating Metrics']\n",
      "['2020-07-29 09', '47', '34,717', 'INFO', 'No inverse transformer found']\n",
      "['2020-07-29 09', '47', '34,717', 'INFO', 'Compiling Metrics']\n",
      "['2020-07-29 09', '47', '34,726', 'INFO', 'Initializing Fold 4']\n",
      "['2020-07-29 09', '47', '34,735', 'INFO', 'Fitting Model']\n",
      "['2020-07-29 09', '47', '34,746', 'INFO', 'Evaluating Metrics']\n",
      "['2020-07-29 09', '47', '34,749', 'INFO', 'No inverse transformer found']\n",
      "['2020-07-29 09', '47', '34,749', 'INFO', 'Compiling Metrics']\n",
      "['2020-07-29 09', '47', '34,759', 'INFO', 'Initializing Fold 5']\n",
      "['2020-07-29 09', '47', '34,767', 'INFO', 'Fitting Model']\n",
      "['2020-07-29 09', '47', '34,777', 'INFO', 'Evaluating Metrics']\n",
      "['2020-07-29 09', '47', '34,779', 'INFO', 'No inverse transformer found']\n",
      "['2020-07-29 09', '47', '34,779', 'INFO', 'Compiling Metrics']\n",
      "['2020-07-29 09', '47', '34,790', 'INFO', 'Calculating mean and std']\n",
      "['2020-07-29 09', '47', '34,790', 'INFO', 'Creating metrics dataframe']\n",
      "['2020-07-29 09', '47', '34,808', 'INFO', 'Creating MLFlow logs']\n",
      "['2020-07-29 09', '47', '34,904', 'INFO', 'SubProcess save_model() called ==================================']\n",
      "['2020-07-29 09', '47', '34,904', 'INFO', 'Initializing save_model()']\n",
      "['2020-07-29 09', '47', '34,905', 'INFO', 'save_model(model=PassiveAggressiveRegressor(C=1.0, average=False, early_stopping=False,']\n",
      "['epsilon=0.1, fit_intercept=True,']\n",
      "[\"loss='epsilon_insensitive', max_iter=1000,\"]\n",
      "['n_iter_no_change=5, random_state=123, shuffle=True,']\n",
      "['tol=0.001, validation_fraction=0.1, verbose=0,']\n",
      "['warm_start=False), model_name=Trained Model, verbose=False)']\n",
      "['2020-07-29 09', '47', '34,905', 'INFO', 'Appending prep pipeline']\n",
      "['2020-07-29 09', '47', '34,914', 'INFO', 'Trained Model.pkl saved in current working directory']\n",
      "['2020-07-29 09', '47', '34,922', 'INFO', '[Pipeline(memory=None,']\n",
      "[\"steps=[('dtypes',\"]\n",
      "['DataTypes_Auto_infer(categorical_features=[],']\n",
      "['display_types=True, features_todrop=[],']\n",
      "[\"ml_usecase='regression',\"]\n",
      "[\"numerical_features=[], target='charges',\"]\n",
      "['time_features=[])),']\n",
      "[\"('imputer',\"]\n",
      "[\"Simple_Imputer(categorical_strategy='not_available',\"]\n",
      "[\"numeric_strategy='mean',\"]\n",
      "['target_variable=None)),']\n",
      "[\"('new_levels1',\"]\n",
      "['New_Catagorical_Levels...']\n",
      "[\"('group', Empty()), ('nonliner', Empty()), ('scaling', Empty()),\"]\n",
      "[\"('P_transform', Empty()), ('pt_target', Empty()),\"]\n",
      "[\"('binn', Empty()), ('rem_outliers', Empty()),\"]\n",
      "[\"('cluster_all', Empty()), ('dummy', Dummify(target='charges')),\"]\n",
      "[\"('fix_perfect', Empty()), ('clean_names', Clean_Colum_Names()),\"]\n",
      "[\"('feature_select', Empty()), ('fix_multi', Empty()),\"]\n",
      "[\"('dfs', Empty()), ('pca', Empty())],\"]\n",
      "['verbose=False), PassiveAggressiveRegressor(C=1.0, average=False, early_stopping=False,']\n",
      "['epsilon=0.1, fit_intercept=True,']\n",
      "[\"loss='epsilon_insensitive', max_iter=1000,\"]\n",
      "['n_iter_no_change=5, random_state=123, shuffle=True,']\n",
      "['tol=0.001, validation_fraction=0.1, verbose=0,']\n",
      "['warm_start=False), None]']\n",
      "['2020-07-29 09', '47', '34,922', 'INFO', 'save_model() succesfully completed......................................']\n",
      "['2020-07-29 09', '47', '34,922', 'INFO', 'SubProcess save_model() end ==================================']\n",
      "['2020-07-29 09', '47', '35,002', 'INFO', 'Initializing Random Sample Consensus']\n",
      "['2020-07-29 09', '47', '35,011', 'INFO', 'Initializing Fold 1']\n",
      "['2020-07-29 09', '47', '35,023', 'INFO', 'Fitting Model']\n",
      "['2020-07-29 09', '47', '35,179', 'INFO', 'Evaluating Metrics']\n",
      "['2020-07-29 09', '47', '35,182', 'INFO', 'No inverse transformer found']\n",
      "['2020-07-29 09', '47', '35,183', 'INFO', 'Compiling Metrics']\n",
      "['2020-07-29 09', '47', '35,194', 'INFO', 'Initializing Fold 2']\n",
      "['2020-07-29 09', '47', '35,203', 'INFO', 'Fitting Model']\n",
      "['2020-07-29 09', '47', '35,358', 'INFO', 'Evaluating Metrics']\n",
      "['2020-07-29 09', '47', '35,361', 'INFO', 'No inverse transformer found']\n",
      "['2020-07-29 09', '47', '35,361', 'INFO', 'Compiling Metrics']\n",
      "['2020-07-29 09', '47', '35,371', 'INFO', 'Initializing Fold 3']\n",
      "['2020-07-29 09', '47', '35,381', 'INFO', 'Fitting Model']\n",
      "['2020-07-29 09', '47', '35,533', 'INFO', 'Evaluating Metrics']\n",
      "['2020-07-29 09', '47', '35,535', 'INFO', 'No inverse transformer found']\n",
      "['2020-07-29 09', '47', '35,535', 'INFO', 'Compiling Metrics']\n",
      "['2020-07-29 09', '47', '35,547', 'INFO', 'Initializing Fold 4']\n",
      "['2020-07-29 09', '47', '35,556', 'INFO', 'Fitting Model']\n",
      "['2020-07-29 09', '47', '35,711', 'INFO', 'Evaluating Metrics']\n",
      "['2020-07-29 09', '47', '35,714', 'INFO', 'No inverse transformer found']\n",
      "['2020-07-29 09', '47', '35,715', 'INFO', 'Compiling Metrics']\n",
      "['2020-07-29 09', '47', '35,727', 'INFO', 'Initializing Fold 5']\n",
      "['2020-07-29 09', '47', '35,737', 'INFO', 'Fitting Model']\n",
      "['2020-07-29 09', '47', '35,875', 'INFO', 'Evaluating Metrics']\n",
      "['2020-07-29 09', '47', '35,878', 'INFO', 'No inverse transformer found']\n",
      "['2020-07-29 09', '47', '35,878', 'INFO', 'Compiling Metrics']\n",
      "['2020-07-29 09', '47', '35,889', 'INFO', 'Calculating mean and std']\n",
      "['2020-07-29 09', '47', '35,889', 'INFO', 'Creating metrics dataframe']\n",
      "['2020-07-29 09', '47', '35,911', 'INFO', 'Creating MLFlow logs']\n",
      "['2020-07-29 09', '47', '36,020', 'INFO', 'SubProcess save_model() called ==================================']\n",
      "['2020-07-29 09', '47', '36,020', 'INFO', 'Initializing save_model()']\n",
      "['2020-07-29 09', '47', '36,020', 'INFO', 'save_model(model=RANSACRegressor(base_estimator=None, is_data_valid=None, is_model_valid=None,']\n",
      "[\"loss='absolute_loss', max_skips=inf, max_trials=100,\"]\n",
      "['min_samples=0.5, random_state=123, residual_threshold=None,']\n",
      "['stop_n_inliers=inf, stop_probability=0.99, stop_score=inf), model_name=Trained Model, verbose=False)']\n",
      "['2020-07-29 09', '47', '36,020', 'INFO', 'Appending prep pipeline']\n",
      "['2020-07-29 09', '47', '36,029', 'INFO', 'Trained Model.pkl saved in current working directory']\n",
      "['2020-07-29 09', '47', '36,039', 'INFO', '[Pipeline(memory=None,']\n",
      "[\"steps=[('dtypes',\"]\n",
      "['DataTypes_Auto_infer(categorical_features=[],']\n",
      "['display_types=True, features_todrop=[],']\n",
      "[\"ml_usecase='regression',\"]\n",
      "[\"numerical_features=[], target='charges',\"]\n",
      "['time_features=[])),']\n",
      "[\"('imputer',\"]\n",
      "[\"Simple_Imputer(categorical_strategy='not_available',\"]\n",
      "[\"numeric_strategy='mean',\"]\n",
      "['target_variable=None)),']\n",
      "[\"('new_levels1',\"]\n",
      "['New_Catagorical_Levels...']\n",
      "[\"('group', Empty()), ('nonliner', Empty()), ('scaling', Empty()),\"]\n",
      "[\"('P_transform', Empty()), ('pt_target', Empty()),\"]\n",
      "[\"('binn', Empty()), ('rem_outliers', Empty()),\"]\n",
      "[\"('cluster_all', Empty()), ('dummy', Dummify(target='charges')),\"]\n",
      "[\"('fix_perfect', Empty()), ('clean_names', Clean_Colum_Names()),\"]\n",
      "[\"('feature_select', Empty()), ('fix_multi', Empty()),\"]\n",
      "[\"('dfs', Empty()), ('pca', Empty())],\"]\n",
      "['verbose=False), RANSACRegressor(base_estimator=None, is_data_valid=None, is_model_valid=None,']\n",
      "[\"loss='absolute_loss', max_skips=inf, max_trials=100,\"]\n",
      "['min_samples=0.5, random_state=123, residual_threshold=None,']\n",
      "['stop_n_inliers=inf, stop_probability=0.99, stop_score=inf), None]']\n",
      "['2020-07-29 09', '47', '36,039', 'INFO', 'save_model() succesfully completed......................................']\n",
      "['2020-07-29 09', '47', '36,039', 'INFO', 'SubProcess save_model() end ==================================']\n",
      "['2020-07-29 09', '47', '36,159', 'INFO', 'Initializing TheilSen Regressor']\n",
      "['2020-07-29 09', '47', '36,168', 'INFO', 'Initializing Fold 1']\n",
      "['2020-07-29 09', '47', '36,178', 'INFO', 'Fitting Model']\n",
      "['2020-07-29 09', '47', '42,054', 'INFO', 'PyCaret Clustering Module']\n",
      "['2020-07-29 09', '47', '42,054', 'INFO', 'version pycaret-nightly-0.39']\n",
      "['2020-07-29 09', '47', '42,055', 'INFO', 'Initializing setup()']\n",
      "['2020-07-29 09', '47', '42,055', 'INFO', 'USI', 'e74c']\n",
      "['2020-07-29 09', '47', '42,056', 'INFO', 'setup(data=(224, 21), categorical_features=None, categorical_imputation=constant, ordinal_features=None, high_cardinality_features=None,']\n",
      "[\"numeric_features=None, numeric_imputation=mean, date_features=None, ignore_features=['Country Name'], normalize=False,\"]\n",
      "['normalize_method=zscore, transformation=False, transformation_method=yeo-johnson, handle_unknown_categorical=True, unknown_categorical_method=least_frequent, pca=False, pca_method=linear,']\n",
      "['pca_components=None, ignore_low_variance=False, combine_rare_levels=False, rare_level_threshold=0.1, bin_numeric_features=None,']\n",
      "['remove_multicollinearity=False, multicollinearity_threshold=0.9, group_features=None,']\n",
      "['group_names=None, supervised=False, supervised_target=None, n_jobs=-1, html=True, session_id=123, log_experiment=True,']\n",
      "['experiment_name=health1, log_plots=True, log_profile=False, log_data=False, silent=False, verbose=True, profile=False)']\n",
      "['2020-07-29 09', '47', '42,057', 'INFO', 'Checking environment']\n",
      "['2020-07-29 09', '47', '42,058', 'INFO', 'python_version', '3.6.10']\n",
      "['2020-07-29 09', '47', '42,058', 'INFO', 'python_build', \"('default', 'May  7 2020 19\", '46', \"08')\"]\n",
      "['2020-07-29 09', '47', '42,059', 'INFO', 'machine', 'AMD64']\n",
      "['2020-07-29 09', '47', '42,060', 'INFO', 'platform', 'Windows-10-10.0.18362-SP0']\n",
      "['2020-07-29 09', '47', '42,272', 'INFO', 'Memory', 'svmem(total=17032478720, available=5177511936, percent=69.6, used=11854966784, free=5177511936)']\n",
      "['2020-07-29 09', '47', '42,272', 'INFO', 'Physical Core', '4']\n",
      "['2020-07-29 09', '47', '42,273', 'INFO', 'Logical Core', '8']\n",
      "['2020-07-29 09', '47', '42,273', 'INFO', 'Checking libraries']\n",
      "['2020-07-29 09', '47', '42,273', 'INFO', 'pd==1.0.4']\n",
      "['2020-07-29 09', '47', '42,283', 'INFO', 'numpy==1.18.5']\n",
      "['2020-07-29 09', '47', '43,243', 'INFO', 'Evaluating Metrics']\n",
      "['2020-07-29 09', '47', '43,252', 'INFO', 'No inverse transformer found']\n",
      "['2020-07-29 09', '47', '43,252', 'INFO', 'Compiling Metrics']\n",
      "['2020-07-29 09', '47', '43,276', 'INFO', 'Initializing Fold 2']\n",
      "['2020-07-29 09', '47', '43,295', 'INFO', 'Fitting Model']\n",
      "['2020-07-29 09', '47', '43,989', 'INFO', 'sklearn==0.23.1']\n",
      "['2020-07-29 09', '47', '43,991', 'INFO', 'kmodes==0.10.2']\n",
      "['2020-07-29 09', '47', '45,076', 'INFO', 'PyCaret Anomaly Detection Module']\n",
      "['2020-07-29 09', '47', '45,076', 'INFO', 'version pycaret-nightly-0.39']\n",
      "['2020-07-29 09', '47', '45,076', 'INFO', 'Initializing setup()']\n",
      "['2020-07-29 09', '47', '45,076', 'INFO', 'USI', '9b51']\n",
      "['2020-07-29 09', '47', '45,077', 'INFO', 'setup(data=(1000, 10), categorical_features=None, categorical_imputation=constant, ordinal_features=None, high_cardinality_features=None,']\n",
      "['numeric_features=None, numeric_imputation=mean, date_features=None, ignore_features=None, normalize=False,']\n",
      "['normalize_method=zscore, transformation=False, transformation_method=yeo-johnson, handle_unknown_categorical=True, unknown_categorical_method=least_frequent, pca=False, pca_method=linear,']\n",
      "['pca_components=None, ignore_low_variance=False, combine_rare_levels=False, rare_level_threshold=0.1, bin_numeric_features=None,']\n",
      "['remove_multicollinearity=False, multicollinearity_threshold=0.9, group_features=None,']\n",
      "['group_names=None, supervised=False, supervised_target=None, n_jobs=-1, html=True, session_id=123, log_experiment=True,']\n",
      "['experiment_name=anomaly1, log_plots=False, log_profile=False, log_data=False, silent=False, verbose=True, profile=False)']\n",
      "['2020-07-29 09', '47', '45,077', 'INFO', 'Checking environment']\n",
      "['2020-07-29 09', '47', '45,078', 'INFO', 'python_version', '3.6.10']\n",
      "['2020-07-29 09', '47', '45,078', 'INFO', 'python_build', \"('default', 'May  7 2020 19\", '46', \"08')\"]\n",
      "['2020-07-29 09', '47', '45,078', 'INFO', 'machine', 'AMD64']\n",
      "['2020-07-29 09', '47', '45,079', 'INFO', 'platform', 'Windows-10-10.0.18362-SP0']\n",
      "['2020-07-29 09', '47', '45,083', 'INFO', 'Evaluating Metrics']\n",
      "['2020-07-29 09', '47', '45,089', 'INFO', 'No inverse transformer found']\n",
      "['2020-07-29 09', '47', '45,090', 'INFO', 'Compiling Metrics']\n",
      "['2020-07-29 09', '47', '45,113', 'INFO', 'Initializing Fold 3']\n",
      "['2020-07-29 09', '47', '45,133', 'INFO', 'Fitting Model']\n",
      "['2020-07-29 09', '47', '45,136', 'INFO', 'Memory', 'svmem(total=17032478720, available=5155127296, percent=69.7, used=11877351424, free=5155127296)']\n",
      "['2020-07-29 09', '47', '45,137', 'INFO', 'Physical Core', '4']\n",
      "['2020-07-29 09', '47', '45,137', 'INFO', 'Logical Core', '8']\n",
      "['2020-07-29 09', '47', '45,137', 'INFO', 'Checking libraries']\n",
      "['2020-07-29 09', '47', '45,137', 'INFO', 'pd==1.0.4']\n",
      "['2020-07-29 09', '47', '45,138', 'INFO', 'numpy==1.18.5']\n",
      "['2020-07-29 09', '47', '45,767', 'INFO', 'mlflow==1.8.0']\n",
      "['2020-07-29 09', '47', '45,768', 'INFO', 'Checking Exceptions']\n",
      "['2020-07-29 09', '47', '45,769', 'INFO', 'Preloading libraries']\n",
      "['2020-07-29 09', '47', '45,850', 'INFO', 'Preparing display monitor']\n",
      "['2020-07-29 09', '47', '45,903', 'INFO', 'Importing libraries']\n",
      "['2020-07-29 09', '47', '45,903', 'INFO', 'Declaring global variables']\n",
      "['2020-07-29 09', '47', '45,904', 'INFO', 'Copying data for preprocessing']\n",
      "['2020-07-29 09', '47', '45,920', 'INFO', 'Declaring preprocessing parameters']\n",
      "['2020-07-29 09', '47', '45,921', 'INFO', 'Importing preprocessing module']\n",
      "['2020-07-29 09', '47', '47,044', 'INFO', 'Evaluating Metrics']\n",
      "['2020-07-29 09', '47', '47,054', 'INFO', 'No inverse transformer found']\n",
      "['2020-07-29 09', '47', '47,055', 'INFO', 'Compiling Metrics']\n",
      "['2020-07-29 09', '47', '47,083', 'INFO', 'Initializing Fold 4']\n",
      "['2020-07-29 09', '47', '47,108', 'INFO', 'Fitting Model']\n",
      "['2020-07-29 09', '47', '48,011', 'WARNING', 'pyod not found']\n",
      "['2020-07-29 09', '47', '48,500', 'INFO', 'Creating preprocessing pipeline']\n",
      "['2020-07-29 09', '47', '49,140', 'INFO', 'Evaluating Metrics']\n",
      "['2020-07-29 09', '47', '49,146', 'INFO', 'No inverse transformer found']\n",
      "['2020-07-29 09', '47', '49,146', 'INFO', 'Compiling Metrics']\n",
      "['2020-07-29 09', '47', '49,170', 'INFO', 'Initializing Fold 5']\n",
      "['2020-07-29 09', '47', '49,194', 'INFO', 'Fitting Model']\n",
      "['2020-07-29 09', '47', '49,891', 'INFO', 'Preprocessing pipeline created successfully']\n",
      "['2020-07-29 09', '47', '49,892', 'INFO', 'Creating grid variables']\n",
      "['2020-07-29 09', '47', '49,896', 'INFO', 'Creating global containers']\n",
      "['2020-07-29 09', '47', '49,930', 'INFO', 'mlflow==1.8.0']\n",
      "['2020-07-29 09', '47', '49,931', 'INFO', 'Checking Exceptions']\n",
      "['2020-07-29 09', '47', '49,931', 'INFO', 'Preloading libraries']\n",
      "['2020-07-29 09', '47', '50,035', 'INFO', 'Preparing display monitor']\n",
      "['2020-07-29 09', '47', '50,094', 'INFO', 'Importing libraries']\n",
      "['2020-07-29 09', '47', '50,094', 'INFO', 'Declaring global variables']\n",
      "['2020-07-29 09', '47', '50,094', 'INFO', 'Copying data for preprocessing']\n",
      "['2020-07-29 09', '47', '50,112', 'INFO', 'Declaring preprocessing parameters']\n",
      "['2020-07-29 09', '47', '50,112', 'INFO', 'Importing preprocessing module']\n",
      "['2020-07-29 09', '47', '51,064', 'INFO', 'Evaluating Metrics']\n",
      "['2020-07-29 09', '47', '51,070', 'INFO', 'Logging experiment in MLFlow']\n",
      "['2020-07-29 09', '47', '51,071', 'INFO', 'No inverse transformer found']\n",
      "['2020-07-29 09', '47', '51,071', 'INFO', 'Compiling Metrics']\n",
      "['2020-07-29 09', '47', '51,100', 'INFO', 'Calculating mean and std']\n",
      "['2020-07-29 09', '47', '51,101', 'INFO', 'Creating metrics dataframe']\n",
      "['2020-07-29 09', '47', '51,167', 'INFO', 'Creating MLFlow logs']\n",
      "['2020-07-29 09', '47', '51,238', 'INFO', 'Creating preprocessing pipeline']\n",
      "['2020-07-29 09', '47', '51,321', 'INFO', 'PyCaret NLP Module']\n",
      "['2020-07-29 09', '47', '51,321', 'INFO', 'version pycaret-nightly-0.39']\n",
      "['2020-07-29 09', '47', '51,322', 'INFO', 'Initializing setup()']\n",
      "['2020-07-29 09', '47', '51,322', 'INFO', 'USI', 'ab65']\n",
      "['2020-07-29 09', '47', '51,322', 'INFO', 'setup(data=(6818, 7), target=en, custom_stopwords=None, html=True, session_id=123, log_experiment=True,']\n",
      "['experiment_name=kiva1, log_plots=True, log_data=False, verbose=True)']\n",
      "['2020-07-29 09', '47', '51,323', 'INFO', 'Checking environment']\n",
      "['2020-07-29 09', '47', '51,323', 'INFO', 'python_version', '3.6.10']\n",
      "['2020-07-29 09', '47', '51,323', 'INFO', 'python_build', \"('default', 'May  7 2020 19\", '46', \"08')\"]\n",
      "['2020-07-29 09', '47', '51,323', 'INFO', 'machine', 'AMD64']\n",
      "['2020-07-29 09', '47', '51,324', 'INFO', 'platform', 'Windows-10-10.0.18362-SP0']\n",
      "['2020-07-29 09', '47', '51,402', 'INFO', 'SubProcess save_model() called ==================================']\n",
      "['2020-07-29 09', '47', '51,402', 'INFO', 'Initializing save_model()']\n",
      "['2020-07-29 09', '47', '51,404', 'INFO', 'save_model(model=TheilSenRegressor(copy_X=True, fit_intercept=True, max_iter=300,']\n",
      "['max_subpopulation=10000, n_jobs=-1, n_subsamples=None,']\n",
      "['random_state=123, tol=0.001, verbose=False), model_name=Trained Model, verbose=False)']\n",
      "['2020-07-29 09', '47', '51,404', 'INFO', 'Appending prep pipeline']\n",
      "['2020-07-29 09', '47', '51,411', 'INFO', 'Memory', 'svmem(total=17032478720, available=5093425152, percent=70.1, used=11939053568, free=5093425152)']\n",
      "['2020-07-29 09', '47', '51,412', 'INFO', 'Physical Core', '4']\n",
      "['2020-07-29 09', '47', '51,412', 'INFO', 'Logical Core', '8']\n",
      "['2020-07-29 09', '47', '51,412', 'INFO', 'Checking libraries']\n",
      "['2020-07-29 09', '47', '51,412', 'INFO', 'pd==1.0.4']\n",
      "['2020-07-29 09', '47', '51,413', 'INFO', 'numpy==1.18.5']\n",
      "['2020-07-29 09', '47', '51,431', 'INFO', 'Trained Model.pkl saved in current working directory']\n",
      "['2020-07-29 09', '47', '51,463', 'INFO', '[Pipeline(memory=None,']\n",
      "[\"steps=[('dtypes',\"]\n",
      "['DataTypes_Auto_infer(categorical_features=[],']\n",
      "['display_types=True, features_todrop=[],']\n",
      "[\"ml_usecase='regression',\"]\n",
      "[\"numerical_features=[], target='charges',\"]\n",
      "['time_features=[])),']\n",
      "[\"('imputer',\"]\n",
      "[\"Simple_Imputer(categorical_strategy='not_available',\"]\n",
      "[\"numeric_strategy='mean',\"]\n",
      "['target_variable=None)),']\n",
      "[\"('new_levels1',\"]\n",
      "['New_Catagorical_Levels...']\n",
      "[\"('group', Empty()), ('nonliner', Empty()), ('scaling', Empty()),\"]\n",
      "[\"('P_transform', Empty()), ('pt_target', Empty()),\"]\n",
      "[\"('binn', Empty()), ('rem_outliers', Empty()),\"]\n",
      "[\"('cluster_all', Empty()), ('dummy', Dummify(target='charges')),\"]\n",
      "[\"('fix_perfect', Empty()), ('clean_names', Clean_Colum_Names()),\"]\n",
      "[\"('feature_select', Empty()), ('fix_multi', Empty()),\"]\n",
      "[\"('dfs', Empty()), ('pca', Empty())],\"]\n",
      "['verbose=False), TheilSenRegressor(copy_X=True, fit_intercept=True, max_iter=300,']\n",
      "['max_subpopulation=10000, n_jobs=-1, n_subsamples=None,']\n",
      "['random_state=123, tol=0.001, verbose=False), None]']\n",
      "['2020-07-29 09', '47', '51,463', 'INFO', 'save_model() succesfully completed......................................']\n",
      "['2020-07-29 09', '47', '51,463', 'INFO', 'SubProcess save_model() end ==================================']\n",
      "['2020-07-29 09', '47', '51,703', 'INFO', 'Initializing Huber Regressor']\n",
      "['2020-07-29 09', '47', '51,722', 'INFO', 'Initializing Fold 1']\n",
      "['2020-07-29 09', '47', '51,746', 'INFO', 'Fitting Model']\n",
      "['2020-07-29 09', '47', '51,869', 'INFO', 'SubProcess save_model() called ==================================']\n",
      "['2020-07-29 09', '47', '51,870', 'INFO', 'Initializing save_model()']\n",
      "['2020-07-29 09', '47', '51,897', 'INFO', 'save_model(model=Pipeline(memory=None,']\n",
      "[\"steps=[('dtypes',\"]\n",
      "['DataTypes_Auto_infer(categorical_features=[],']\n",
      "['display_types=True,']\n",
      "[\"features_todrop=['Country Name'],\"]\n",
      "[\"ml_usecase='regression',\"]\n",
      "['numerical_features=[],']\n",
      "[\"target='dummy_target',\"]\n",
      "['time_features=[])),']\n",
      "[\"('imputer',\"]\n",
      "[\"Simple_Imputer(categorical_strategy='not_available',\"]\n",
      "[\"numeric_strategy='mean',\"]\n",
      "['target_variable=None)),']\n",
      "[\"('new_levels1',\"]\n",
      "['New_...']\n",
      "[\"target='dummy_target')),\"]\n",
      "[\"('feature_time',\"]\n",
      "['Make_Time_Features(list_of_features=None, time_feature=[])),']\n",
      "[\"('group', Empty()), ('scaling', Empty()),\"]\n",
      "[\"('P_transform', Empty()), ('binn', Empty()),\"]\n",
      "[\"('fix_perfect', Empty()), ('rem_outliers', Empty()),\"]\n",
      "[\"('dummy', Dummify(target='dummy_target')),\"]\n",
      "[\"('clean_names', Clean_Colum_Names()), ('fix_multi', Empty()),\"]\n",
      "[\"('pca', Empty())],\"]\n",
      "['verbose=False), model_name=Transformation Pipeline, verbose=False)']\n",
      "['2020-07-29 09', '47', '51,897', 'INFO', 'Appending prep pipeline']\n",
      "['2020-07-29 09', '47', '51,912', 'INFO', 'Transformation Pipeline.pkl saved in current working directory']\n",
      "['2020-07-29 09', '47', '51,922', 'INFO', 'Evaluating Metrics']\n",
      "['2020-07-29 09', '47', '51,926', 'INFO', 'No inverse transformer found']\n",
      "['2020-07-29 09', '47', '51,926', 'INFO', 'Compiling Metrics']\n",
      "['2020-07-29 09', '47', '51,942', 'INFO', '[Pipeline(memory=None,']\n",
      "[\"steps=[('dtypes',\"]\n",
      "['DataTypes_Auto_infer(categorical_features=[],']\n",
      "['display_types=True,']\n",
      "[\"features_todrop=['Country Name'],\"]\n",
      "[\"ml_usecase='regression',\"]\n",
      "['numerical_features=[],']\n",
      "[\"target='dummy_target',\"]\n",
      "['time_features=[])),']\n",
      "[\"('imputer',\"]\n",
      "[\"Simple_Imputer(categorical_strategy='not_available',\"]\n",
      "[\"numeric_strategy='mean',\"]\n",
      "['target_variable=None)),']\n",
      "[\"('new_levels1',\"]\n",
      "['New_...']\n",
      "[\"target='dummy_target')),\"]\n",
      "[\"('feature_time',\"]\n",
      "['Make_Time_Features(list_of_features=None, time_feature=[])),']\n",
      "[\"('group', Empty()), ('scaling', Empty()),\"]\n",
      "[\"('P_transform', Empty()), ('binn', Empty()),\"]\n",
      "[\"('fix_perfect', Empty()), ('rem_outliers', Empty()),\"]\n",
      "[\"('dummy', Dummify(target='dummy_target')),\"]\n",
      "[\"('clean_names', Clean_Colum_Names()), ('fix_multi', Empty()),\"]\n",
      "[\"('pca', Empty())],\"]\n",
      "['verbose=False), Pipeline(memory=None,']\n",
      "[\"steps=[('dtypes',\"]\n",
      "['DataTypes_Auto_infer(categorical_features=[],']\n",
      "['display_types=True,']\n",
      "[\"features_todrop=['Country Name'],\"]\n",
      "[\"ml_usecase='regression',\"]\n",
      "['numerical_features=[],']\n",
      "[\"target='dummy_target',\"]\n",
      "['time_features=[])),']\n",
      "[\"('imputer',\"]\n",
      "[\"Simple_Imputer(categorical_strategy='not_available',\"]\n",
      "[\"numeric_strategy='mean',\"]\n",
      "['target_variable=None)),']\n",
      "[\"('new_levels1',\"]\n",
      "['New_...']\n",
      "[\"target='dummy_target')),\"]\n",
      "[\"('feature_time',\"]\n",
      "['Make_Time_Features(list_of_features=None, time_feature=[])),']\n",
      "[\"('group', Empty()), ('scaling', Empty()),\"]\n",
      "[\"('P_transform', Empty()), ('binn', Empty()),\"]\n",
      "[\"('fix_perfect', Empty()), ('rem_outliers', Empty()),\"]\n",
      "[\"('dummy', Dummify(target='dummy_target')),\"]\n",
      "[\"('clean_names', Clean_Colum_Names()), ('fix_multi', Empty()),\"]\n",
      "[\"('pca', Empty())],\"]\n",
      "['verbose=False)]']\n",
      "['2020-07-29 09', '47', '51,942', 'INFO', 'save_model() succesfully completed......................................']\n",
      "['2020-07-29 09', '47', '51,943', 'INFO', 'SubProcess save_model() end ==================================']\n",
      "['2020-07-29 09', '47', '51,951', 'INFO', 'Initializing Fold 2']\n",
      "['2020-07-29 09', '47', '51,969', 'INFO', 'Fitting Model']\n",
      "['2020-07-29 09', '47', '52,110', 'INFO', 'Evaluating Metrics']\n",
      "['2020-07-29 09', '47', '52,118', 'INFO', 'No inverse transformer found']\n",
      "['2020-07-29 09', '47', '52,118', 'INFO', 'Compiling Metrics']\n",
      "['2020-07-29 09', '47', '52,131', 'INFO', 'Pipeline(memory=None,']\n",
      "[\"steps=[('dtypes',\"]\n",
      "['DataTypes_Auto_infer(categorical_features=[],']\n",
      "['display_types=True,']\n",
      "[\"features_todrop=['Country Name'],\"]\n",
      "[\"ml_usecase='regression',\"]\n",
      "['numerical_features=[],']\n",
      "[\"target='dummy_target',\"]\n",
      "['time_features=[])),']\n",
      "[\"('imputer',\"]\n",
      "[\"Simple_Imputer(categorical_strategy='not_available',\"]\n",
      "[\"numeric_strategy='mean',\"]\n",
      "['target_variable=None)),']\n",
      "[\"('new_levels1',\"]\n",
      "['New_...']\n",
      "[\"target='dummy_target')),\"]\n",
      "[\"('feature_time',\"]\n",
      "['Make_Time_Features(list_of_features=None, time_feature=[])),']\n",
      "[\"('group', Empty()), ('scaling', Empty()),\"]\n",
      "[\"('P_transform', Empty()), ('binn', Empty()),\"]\n",
      "[\"('fix_perfect', Empty()), ('rem_outliers', Empty()),\"]\n",
      "[\"('dummy', Dummify(target='dummy_target')),\"]\n",
      "[\"('clean_names', Clean_Colum_Names()), ('fix_multi', Empty()),\"]\n",
      "[\"('pca', Empty())],\"]\n",
      "['verbose=False)']\n",
      "['2020-07-29 09', '47', '52,132', 'INFO', 'setup() succesfully completed......................................']\n",
      "['2020-07-29 09', '47', '52,142', 'INFO', 'Initializing Fold 3']\n",
      "['2020-07-29 09', '47', '52,165', 'INFO', 'Fitting Model']\n",
      "['2020-07-29 09', '47', '52,296', 'INFO', 'Evaluating Metrics']\n",
      "['2020-07-29 09', '47', '52,301', 'INFO', 'No inverse transformer found']\n",
      "['2020-07-29 09', '47', '52,302', 'INFO', 'Compiling Metrics']\n",
      "['2020-07-29 09', '47', '52,321', 'INFO', 'Initializing Fold 4']\n",
      "['2020-07-29 09', '47', '52,340', 'INFO', 'Fitting Model']\n",
      "['2020-07-29 09', '47', '52,469', 'INFO', 'Evaluating Metrics']\n",
      "['2020-07-29 09', '47', '52,473', 'INFO', 'No inverse transformer found']\n",
      "['2020-07-29 09', '47', '52,473', 'INFO', 'Compiling Metrics']\n",
      "['2020-07-29 09', '47', '52,491', 'INFO', 'Initializing Fold 5']\n",
      "['2020-07-29 09', '47', '52,507', 'INFO', 'Fitting Model']\n",
      "['2020-07-29 09', '47', '52,632', 'INFO', 'Evaluating Metrics']\n",
      "['2020-07-29 09', '47', '52,638', 'INFO', 'No inverse transformer found']\n",
      "['2020-07-29 09', '47', '52,638', 'INFO', 'Compiling Metrics']\n",
      "['2020-07-29 09', '47', '52,653', 'INFO', 'Calculating mean and std']\n",
      "['2020-07-29 09', '47', '52,654', 'INFO', 'Creating metrics dataframe']\n",
      "['2020-07-29 09', '47', '52,688', 'INFO', 'Creating MLFlow logs']\n",
      "['2020-07-29 09', '47', '52,825', 'INFO', 'SubProcess save_model() called ==================================']\n",
      "['2020-07-29 09', '47', '52,825', 'INFO', 'Initializing save_model()']\n",
      "['2020-07-29 09', '47', '52,826', 'INFO', 'save_model(model=HuberRegressor(alpha=0.0001, epsilon=1.35, fit_intercept=True, max_iter=100,']\n",
      "['tol=1e-05, warm_start=False), model_name=Trained Model, verbose=False)']\n",
      "['2020-07-29 09', '47', '52,826', 'INFO', 'Appending prep pipeline']\n",
      "['2020-07-29 09', '47', '52,841', 'INFO', 'Trained Model.pkl saved in current working directory']\n",
      "['2020-07-29 09', '47', '52,854', 'INFO', '[Pipeline(memory=None,']\n",
      "[\"steps=[('dtypes',\"]\n",
      "['DataTypes_Auto_infer(categorical_features=[],']\n",
      "['display_types=True, features_todrop=[],']\n",
      "[\"ml_usecase='regression',\"]\n",
      "[\"numerical_features=[], target='charges',\"]\n",
      "['time_features=[])),']\n",
      "[\"('imputer',\"]\n",
      "[\"Simple_Imputer(categorical_strategy='not_available',\"]\n",
      "[\"numeric_strategy='mean',\"]\n",
      "['target_variable=None)),']\n",
      "[\"('new_levels1',\"]\n",
      "['New_Catagorical_Levels...']\n",
      "[\"('group', Empty()), ('nonliner', Empty()), ('scaling', Empty()),\"]\n",
      "[\"('P_transform', Empty()), ('pt_target', Empty()),\"]\n",
      "[\"('binn', Empty()), ('rem_outliers', Empty()),\"]\n",
      "[\"('cluster_all', Empty()), ('dummy', Dummify(target='charges')),\"]\n",
      "[\"('fix_perfect', Empty()), ('clean_names', Clean_Colum_Names()),\"]\n",
      "[\"('feature_select', Empty()), ('fix_multi', Empty()),\"]\n",
      "[\"('dfs', Empty()), ('pca', Empty())],\"]\n",
      "['verbose=False), HuberRegressor(alpha=0.0001, epsilon=1.35, fit_intercept=True, max_iter=100,']\n",
      "['tol=1e-05, warm_start=False), None]']\n",
      "['2020-07-29 09', '47', '52,854', 'INFO', 'save_model() succesfully completed......................................']\n",
      "['2020-07-29 09', '47', '52,854', 'INFO', 'SubProcess save_model() end ==================================']\n",
      "['2020-07-29 09', '47', '53,009', 'INFO', 'Initializing Support Vector Machine']\n",
      "['2020-07-29 09', '47', '53,023', 'INFO', 'Initializing Fold 1']\n",
      "['2020-07-29 09', '47', '53,040', 'INFO', 'Fitting Model']\n",
      "['2020-07-29 09', '47', '53,106', 'INFO', 'Evaluating Metrics']\n",
      "['2020-07-29 09', '47', '53,120', 'INFO', 'No inverse transformer found']\n",
      "['2020-07-29 09', '47', '53,120', 'INFO', 'Compiling Metrics']\n",
      "['2020-07-29 09', '47', '53,135', 'INFO', 'Initializing Fold 2']\n",
      "['2020-07-29 09', '47', '53,149', 'INFO', 'Fitting Model']\n",
      "['2020-07-29 09', '47', '53,211', 'INFO', 'Evaluating Metrics']\n",
      "['2020-07-29 09', '47', '53,223', 'INFO', 'No inverse transformer found']\n",
      "['2020-07-29 09', '47', '53,223', 'INFO', 'Compiling Metrics']\n",
      "['2020-07-29 09', '47', '53,237', 'INFO', 'Initializing Fold 3']\n",
      "['2020-07-29 09', '47', '53,250', 'INFO', 'Fitting Model']\n",
      "['2020-07-29 09', '47', '53,304', 'INFO', 'Evaluating Metrics']\n",
      "['2020-07-29 09', '47', '53,313', 'INFO', 'No inverse transformer found']\n",
      "['2020-07-29 09', '47', '53,314', 'INFO', 'Compiling Metrics']\n",
      "['2020-07-29 09', '47', '53,326', 'INFO', 'Initializing Fold 4']\n",
      "['2020-07-29 09', '47', '53,341', 'INFO', 'Fitting Model']\n",
      "['2020-07-29 09', '47', '53,367', 'INFO', 'gensim==3.8.3']\n",
      "['2020-07-29 09', '47', '53,398', 'INFO', 'Evaluating Metrics']\n",
      "['2020-07-29 09', '47', '53,410', 'INFO', 'No inverse transformer found']\n",
      "['2020-07-29 09', '47', '53,410', 'INFO', 'Compiling Metrics']\n",
      "['2020-07-29 09', '47', '53,424', 'INFO', 'Initializing Fold 5']\n",
      "['2020-07-29 09', '47', '53,436', 'INFO', 'Fitting Model']\n",
      "['2020-07-29 09', '47', '53,489', 'INFO', 'Evaluating Metrics']\n",
      "['2020-07-29 09', '47', '53,500', 'INFO', 'No inverse transformer found']\n",
      "['2020-07-29 09', '47', '53,500', 'INFO', 'Compiling Metrics']\n",
      "['2020-07-29 09', '47', '53,513', 'INFO', 'Calculating mean and std']\n",
      "['2020-07-29 09', '47', '53,513', 'INFO', 'Creating metrics dataframe']\n",
      "['2020-07-29 09', '47', '53,544', 'INFO', 'Creating MLFlow logs']\n",
      "['2020-07-29 09', '47', '53,668', 'INFO', 'SubProcess save_model() called ==================================']\n",
      "['2020-07-29 09', '47', '53,668', 'INFO', 'Initializing save_model()']\n",
      "['2020-07-29 09', '47', '53,669', 'INFO', \"save_model(model=SVR(C=1.0, cache_size=200, coef0=0.0, degree=3, epsilon=0.1, gamma='scale',\"]\n",
      "[\"kernel='rbf', max_iter=-1, shrinking=True, tol=0.001, verbose=False), model_name=Trained Model, verbose=False)\"]\n",
      "['2020-07-29 09', '47', '53,669', 'INFO', 'Appending prep pipeline']\n",
      "['2020-07-29 09', '47', '53,680', 'INFO', 'Trained Model.pkl saved in current working directory']\n",
      "['2020-07-29 09', '47', '53,690', 'INFO', '[Pipeline(memory=None,']\n",
      "[\"steps=[('dtypes',\"]\n",
      "['DataTypes_Auto_infer(categorical_features=[],']\n",
      "['display_types=True, features_todrop=[],']\n",
      "[\"ml_usecase='regression',\"]\n",
      "[\"numerical_features=[], target='charges',\"]\n",
      "['time_features=[])),']\n",
      "[\"('imputer',\"]\n",
      "[\"Simple_Imputer(categorical_strategy='not_available',\"]\n",
      "[\"numeric_strategy='mean',\"]\n",
      "['target_variable=None)),']\n",
      "[\"('new_levels1',\"]\n",
      "['New_Catagorical_Levels...']\n",
      "[\"('group', Empty()), ('nonliner', Empty()), ('scaling', Empty()),\"]\n",
      "[\"('P_transform', Empty()), ('pt_target', Empty()),\"]\n",
      "[\"('binn', Empty()), ('rem_outliers', Empty()),\"]\n",
      "[\"('cluster_all', Empty()), ('dummy', Dummify(target='charges')),\"]\n",
      "[\"('fix_perfect', Empty()), ('clean_names', Clean_Colum_Names()),\"]\n",
      "[\"('feature_select', Empty()), ('fix_multi', Empty()),\"]\n",
      "[\"('dfs', Empty()), ('pca', Empty())],\"]\n",
      "[\"verbose=False), SVR(C=1.0, cache_size=200, coef0=0.0, degree=3, epsilon=0.1, gamma='scale',\"]\n",
      "[\"kernel='rbf', max_iter=-1, shrinking=True, tol=0.001, verbose=False), None]\"]\n",
      "['2020-07-29 09', '47', '53,690', 'INFO', 'save_model() succesfully completed......................................']\n",
      "['2020-07-29 09', '47', '53,690', 'INFO', 'SubProcess save_model() end ==================================']\n",
      "['2020-07-29 09', '47', '53,805', 'INFO', 'Initializing K Neighbors Regressor']\n",
      "['2020-07-29 09', '47', '53,817', 'INFO', 'Initializing Fold 1']\n",
      "['2020-07-29 09', '47', '53,831', 'INFO', 'Fitting Model']\n",
      "['2020-07-29 09', '47', '53,838', 'INFO', 'Evaluating Metrics']\n",
      "['2020-07-29 09', '47', '53,953', 'INFO', 'No inverse transformer found']\n",
      "['2020-07-29 09', '47', '53,953', 'INFO', 'Compiling Metrics']\n",
      "['2020-07-29 09', '47', '53,968', 'INFO', 'Initializing Fold 2']\n",
      "['2020-07-29 09', '47', '53,981', 'INFO', 'Fitting Model']\n",
      "['2020-07-29 09', '47', '53,989', 'INFO', 'Evaluating Metrics']\n",
      "['2020-07-29 09', '47', '54,057', 'INFO', 'spacy==2.2.4']\n",
      "['2020-07-29 09', '47', '54,099', 'INFO', 'No inverse transformer found']\n",
      "['2020-07-29 09', '47', '54,100', 'INFO', 'Compiling Metrics']\n",
      "['2020-07-29 09', '47', '54,115', 'INFO', 'Initializing Fold 3']\n",
      "['2020-07-29 09', '47', '54,126', 'INFO', 'Fitting Model']\n",
      "['2020-07-29 09', '47', '54,134', 'INFO', 'Evaluating Metrics']\n",
      "['2020-07-29 09', '47', '54,243', 'INFO', 'No inverse transformer found']\n",
      "['2020-07-29 09', '47', '54,243', 'INFO', 'Compiling Metrics']\n",
      "['2020-07-29 09', '47', '54,256', 'INFO', 'Initializing Fold 4']\n",
      "['2020-07-29 09', '47', '54,266', 'INFO', 'Fitting Model']\n",
      "['2020-07-29 09', '47', '54,275', 'INFO', 'Evaluating Metrics']\n",
      "['2020-07-29 09', '47', '54,384', 'INFO', 'No inverse transformer found']\n",
      "['2020-07-29 09', '47', '54,384', 'INFO', 'Compiling Metrics']\n",
      "['2020-07-29 09', '47', '54,395', 'INFO', 'Initializing Fold 5']\n",
      "['2020-07-29 09', '47', '54,405', 'INFO', 'Fitting Model']\n",
      "['2020-07-29 09', '47', '54,414', 'INFO', 'Evaluating Metrics']\n",
      "['2020-07-29 09', '47', '54,524', 'INFO', 'No inverse transformer found']\n",
      "['2020-07-29 09', '47', '54,525', 'INFO', 'Compiling Metrics']\n",
      "['2020-07-29 09', '47', '54,538', 'INFO', 'Calculating mean and std']\n",
      "['2020-07-29 09', '47', '54,539', 'INFO', 'Creating metrics dataframe']\n",
      "['2020-07-29 09', '47', '54,572', 'INFO', 'Creating MLFlow logs']\n",
      "['2020-07-29 09', '47', '54,705', 'INFO', 'SubProcess save_model() called ==================================']\n",
      "['2020-07-29 09', '47', '54,705', 'INFO', 'Initializing save_model()']\n",
      "['2020-07-29 09', '47', '54,706', 'INFO', \"save_model(model=KNeighborsRegressor(algorithm='auto', leaf_size=30, metric='minkowski',\"]\n",
      "['metric_params=None, n_jobs=-1, n_neighbors=5, p=2,']\n",
      "[\"weights='uniform'), model_name=Trained Model, verbose=False)\"]\n",
      "['2020-07-29 09', '47', '54,707', 'INFO', 'Appending prep pipeline']\n",
      "['2020-07-29 09', '47', '54,723', 'INFO', 'Trained Model.pkl saved in current working directory']\n",
      "['2020-07-29 09', '47', '54,740', 'INFO', '[Pipeline(memory=None,']\n",
      "[\"steps=[('dtypes',\"]\n",
      "['DataTypes_Auto_infer(categorical_features=[],']\n",
      "['display_types=True, features_todrop=[],']\n",
      "[\"ml_usecase='regression',\"]\n",
      "[\"numerical_features=[], target='charges',\"]\n",
      "['time_features=[])),']\n",
      "[\"('imputer',\"]\n",
      "[\"Simple_Imputer(categorical_strategy='not_available',\"]\n",
      "[\"numeric_strategy='mean',\"]\n",
      "['target_variable=None)),']\n",
      "[\"('new_levels1',\"]\n",
      "['New_Catagorical_Levels...']\n",
      "[\"('group', Empty()), ('nonliner', Empty()), ('scaling', Empty()),\"]\n",
      "[\"('P_transform', Empty()), ('pt_target', Empty()),\"]\n",
      "[\"('binn', Empty()), ('rem_outliers', Empty()),\"]\n",
      "[\"('cluster_all', Empty()), ('dummy', Dummify(target='charges')),\"]\n",
      "[\"('fix_perfect', Empty()), ('clean_names', Clean_Colum_Names()),\"]\n",
      "[\"('feature_select', Empty()), ('fix_multi', Empty()),\"]\n",
      "[\"('dfs', Empty()), ('pca', Empty())],\"]\n",
      "[\"verbose=False), KNeighborsRegressor(algorithm='auto', leaf_size=30, metric='minkowski',\"]\n",
      "['metric_params=None, n_jobs=-1, n_neighbors=5, p=2,']\n",
      "[\"weights='uniform'), None]\"]\n",
      "['2020-07-29 09', '47', '54,740', 'INFO', 'save_model() succesfully completed......................................']\n",
      "['2020-07-29 09', '47', '54,740', 'INFO', 'SubProcess save_model() end ==================================']\n",
      "['2020-07-29 09', '47', '54,857', 'INFO', 'nltk==3.5']\n",
      "['2020-07-29 09', '47', '54,892', 'INFO', 'Initializing Decision Tree']\n",
      "['2020-07-29 09', '47', '54,902', 'INFO', 'Initializing Fold 1']\n",
      "['2020-07-29 09', '47', '54,921', 'INFO', 'Fitting Model']\n",
      "['2020-07-29 09', '47', '54,924', 'INFO', 'textblob==0.15.3']\n",
      "['2020-07-29 09', '47', '54,932', 'INFO', 'Evaluating Metrics']\n",
      "['2020-07-29 09', '47', '54,935', 'INFO', 'No inverse transformer found']\n",
      "['2020-07-29 09', '47', '54,935', 'INFO', 'Compiling Metrics']\n",
      "['2020-07-29 09', '47', '54,949', 'INFO', 'Initializing Fold 2']\n",
      "['2020-07-29 09', '47', '54,965', 'INFO', 'Fitting Model']\n",
      "['2020-07-29 09', '47', '54,978', 'INFO', 'Evaluating Metrics']\n",
      "['2020-07-29 09', '47', '54,983', 'INFO', 'No inverse transformer found']\n",
      "['2020-07-29 09', '47', '54,984', 'INFO', 'Compiling Metrics']\n",
      "['2020-07-29 09', '47', '55,005', 'INFO', 'Initializing Fold 3']\n",
      "['2020-07-29 09', '47', '55,021', 'INFO', 'Fitting Model']\n",
      "['2020-07-29 09', '47', '55,032', 'INFO', 'Evaluating Metrics']\n",
      "['2020-07-29 09', '47', '55,036', 'INFO', 'Initializing create_model()']\n",
      "['2020-07-29 09', '47', '55,036', 'INFO', 'create_model(model=kmeans, num_clusters=4, ground_truth=None, verbose=True, system=True)']\n",
      "['2020-07-29 09', '47', '55,036', 'INFO', 'Checking exceptions']\n",
      "['2020-07-29 09', '47', '55,037', 'INFO', 'Preloading libraries']\n",
      "['2020-07-29 09', '47', '55,037', 'INFO', 'Setting num_cluster param']\n",
      "['2020-07-29 09', '47', '55,037', 'INFO', 'Preparing display monitor']\n",
      "['2020-07-29 09', '47', '55,038', 'INFO', 'No inverse transformer found']\n",
      "['2020-07-29 09', '47', '55,038', 'INFO', 'Compiling Metrics']\n",
      "['2020-07-29 09', '47', '55,057', 'INFO', 'Initializing Fold 4']\n",
      "['2020-07-29 09', '47', '55,077', 'INFO', 'Fitting Model']\n",
      "['2020-07-29 09', '47', '55,078', 'INFO', 'Importing untrained model']\n",
      "['2020-07-29 09', '47', '55,078', 'INFO', 'K-Means Clustering Imported succesfully']\n",
      "['2020-07-29 09', '47', '55,094', 'INFO', 'Evaluating Metrics']\n",
      "['2020-07-29 09', '47', '55,098', 'INFO', 'Fitting Model']\n",
      "['2020-07-29 09', '47', '55,102', 'INFO', 'No inverse transformer found']\n",
      "['2020-07-29 09', '47', '55,102', 'INFO', 'Compiling Metrics']\n",
      "['2020-07-29 09', '47', '55,122', 'INFO', 'Initializing Fold 5']\n",
      "['2020-07-29 09', '47', '55,141', 'INFO', 'Fitting Model']\n",
      "['2020-07-29 09', '47', '55,158', 'INFO', 'Evaluating Metrics']\n",
      "['2020-07-29 09', '47', '55,163', 'INFO', 'No inverse transformer found']\n",
      "['2020-07-29 09', '47', '55,163', 'INFO', 'Compiling Metrics']\n",
      "['2020-07-29 09', '47', '55,189', 'INFO', 'Calculating mean and std']\n",
      "['2020-07-29 09', '47', '55,190', 'INFO', 'Creating metrics dataframe']\n",
      "['2020-07-29 09', '47', '55,214', 'INFO', 'Evaluating Metrics']\n",
      "['2020-07-29 09', '47', '55,232', 'INFO', 'Creating MLFlow logs']\n",
      "['2020-07-29 09', '47', '55,236', 'INFO', 'Creating Metrics dataframe']\n",
      "['2020-07-29 09', '47', '55,245', 'INFO', 'Creating MLFlow logs']\n",
      "['2020-07-29 09', '47', '55,417', 'INFO', 'SubProcess save_model() called ==================================']\n",
      "['2020-07-29 09', '47', '55,417', 'INFO', 'Initializing save_model()']\n",
      "['2020-07-29 09', '47', '55,419', 'INFO', \"save_model(model=DecisionTreeRegressor(ccp_alpha=0.0, criterion='mse', max_depth=None,\"]\n",
      "['max_features=None, max_leaf_nodes=None,']\n",
      "['min_impurity_decrease=0.0, min_impurity_split=None,']\n",
      "['min_samples_leaf=1, min_samples_split=2,']\n",
      "[\"min_weight_fraction_leaf=0.0, presort='deprecated',\"]\n",
      "[\"random_state=123, splitter='best'), model_name=Trained Model, verbose=False)\"]\n",
      "['2020-07-29 09', '47', '55,419', 'INFO', 'Appending prep pipeline']\n",
      "['2020-07-29 09', '47', '55,437', 'INFO', 'SubProcess plot_model() called ==================================']\n",
      "['2020-07-29 09', '47', '55,437', 'INFO', 'Initializing plot_model()']\n",
      "['2020-07-29 09', '47', '55,438', 'INFO', \"plot_model(model=KMeans(algorithm='auto', copy_x=True, init='k-means++', max_iter=300,\"]\n",
      "[\"n_clusters=4, n_init=10, n_jobs=-1, precompute_distances='deprecated',\"]\n",
      "['random_state=123, tol=0.0001, verbose=0), plot=cluster, feature=None, label=False, save=True, system=False)']\n",
      "['2020-07-29 09', '47', '55,439', 'INFO', 'Trained Model.pkl saved in current working directory']\n",
      "['2020-07-29 09', '47', '55,439', 'INFO', 'Checking exceptions']\n",
      "['2020-07-29 09', '47', '55,439', 'INFO', 'Importing libraries']\n",
      "['2020-07-29 09', '47', '55,465', 'INFO', '[Pipeline(memory=None,']\n",
      "[\"steps=[('dtypes',\"]\n",
      "['DataTypes_Auto_infer(categorical_features=[],']\n",
      "['display_types=True, features_todrop=[],']\n",
      "[\"ml_usecase='regression',\"]\n",
      "[\"numerical_features=[], target='charges',\"]\n",
      "['time_features=[])),']\n",
      "[\"('imputer',\"]\n",
      "[\"Simple_Imputer(categorical_strategy='not_available',\"]\n",
      "[\"numeric_strategy='mean',\"]\n",
      "['target_variable=None)),']\n",
      "[\"('new_levels1',\"]\n",
      "['New_Catagorical_Levels...']\n",
      "[\"('group', Empty()), ('nonliner', Empty()), ('scaling', Empty()),\"]\n",
      "[\"('P_transform', Empty()), ('pt_target', Empty()),\"]\n",
      "[\"('binn', Empty()), ('rem_outliers', Empty()),\"]\n",
      "[\"('cluster_all', Empty()), ('dummy', Dummify(target='charges')),\"]\n",
      "[\"('fix_perfect', Empty()), ('clean_names', Clean_Colum_Names()),\"]\n",
      "[\"('feature_select', Empty()), ('fix_multi', Empty()),\"]\n"
     ]
    },
    {
     "name": "stdout",
     "output_type": "stream",
     "text": [
      "[\"('dfs', Empty()), ('pca', Empty())],\"]\n",
      "[\"verbose=False), DecisionTreeRegressor(ccp_alpha=0.0, criterion='mse', max_depth=None,\"]\n",
      "['max_features=None, max_leaf_nodes=None,']\n",
      "['min_impurity_decrease=0.0, min_impurity_split=None,']\n",
      "['min_samples_leaf=1, min_samples_split=2,']\n",
      "[\"min_weight_fraction_leaf=0.0, presort='deprecated',\"]\n",
      "[\"random_state=123, splitter='best'), None]\"]\n",
      "['2020-07-29 09', '47', '55,466', 'INFO', 'save_model() succesfully completed......................................']\n",
      "['2020-07-29 09', '47', '55,466', 'INFO', 'SubProcess save_model() end ==================================']\n",
      "['2020-07-29 09', '47', '55,656', 'INFO', 'Initializing Random Forest']\n",
      "['2020-07-29 09', '47', '55,675', 'INFO', 'Initializing Fold 1']\n",
      "['2020-07-29 09', '47', '55,694', 'INFO', 'Fitting Model']\n",
      "['2020-07-29 09', '47', '56,059', 'INFO', 'pyLDAvis==2.1.2']\n",
      "['2020-07-29 09', '47', '56,271', 'INFO', 'Evaluating Metrics']\n",
      "['2020-07-29 09', '47', '56,275', 'INFO', 'wordcloud==1.7.0']\n",
      "['2020-07-29 09', '47', '56,383', 'INFO', 'No inverse transformer found']\n",
      "['2020-07-29 09', '47', '56,384', 'INFO', 'Compiling Metrics']\n",
      "['2020-07-29 09', '47', '56,401', 'INFO', 'Initializing Fold 2']\n",
      "['2020-07-29 09', '47', '56,417', 'INFO', 'Fitting Model']\n",
      "['2020-07-29 09', '47', '56,825', 'INFO', 'Preprocessing pipeline created successfully']\n",
      "['2020-07-29 09', '47', '56,826', 'INFO', 'Creating grid variables']\n",
      "['2020-07-29 09', '47', '56,829', 'INFO', 'Creating global containers']\n",
      "['2020-07-29 09', '47', '56,945', 'INFO', 'Evaluating Metrics']\n",
      "['2020-07-29 09', '47', '57,059', 'INFO', 'No inverse transformer found']\n",
      "['2020-07-29 09', '47', '57,060', 'INFO', 'Compiling Metrics']\n",
      "['2020-07-29 09', '47', '57,086', 'INFO', 'Initializing Fold 3']\n",
      "['2020-07-29 09', '47', '57,104', 'INFO', 'Fitting Model']\n",
      "['2020-07-29 09', '47', '57,516', 'INFO', 'mlflow==1.8.0']\n",
      "['2020-07-29 09', '47', '57,516', 'INFO', 'Checking Exceptions']\n",
      "['2020-07-29 09', '47', '57,718', 'INFO', 'Evaluating Metrics']\n",
      "['2020-07-29 09', '47', '57,739', 'INFO', 'Logging experiment in MLFlow']\n",
      "['2020-07-29 09', '47', '57,833', 'INFO', 'No inverse transformer found']\n",
      "['2020-07-29 09', '47', '57,834', 'INFO', 'Compiling Metrics']\n",
      "['2020-07-29 09', '47', '57,859', 'INFO', 'Initializing Fold 4']\n",
      "['2020-07-29 09', '47', '57,881', 'INFO', 'Fitting Model']\n",
      "['2020-07-29 09', '47', '58,479', 'INFO', 'SubProcess save_model() called ==================================']\n",
      "['2020-07-29 09', '47', '58,479', 'INFO', 'Initializing save_model()']\n",
      "['2020-07-29 09', '47', '58,508', 'INFO', 'save_model(model=Pipeline(memory=None,']\n",
      "[\"steps=[('dtypes',\"]\n",
      "['DataTypes_Auto_infer(categorical_features=[],']\n",
      "['display_types=True, features_todrop=[],']\n",
      "[\"ml_usecase='regression',\"]\n",
      "['numerical_features=[],']\n",
      "[\"target='dummy_target',\"]\n",
      "['time_features=[])),']\n",
      "[\"('imputer',\"]\n",
      "[\"Simple_Imputer(categorical_strategy='not_available',\"]\n",
      "[\"numeric_strategy='mean',\"]\n",
      "['target_variable=None)),']\n",
      "[\"('new_levels1',\"]\n",
      "['New_Catagorical_L...']\n",
      "[\"target='dummy_target')),\"]\n",
      "[\"('feature_time',\"]\n",
      "['Make_Time_Features(list_of_features=None, time_feature=[])),']\n",
      "[\"('group', Empty()), ('scaling', Empty()),\"]\n",
      "[\"('P_transform', Empty()), ('binn', Empty()),\"]\n",
      "[\"('fix_perfect', Empty()), ('rem_outliers', Empty()),\"]\n",
      "[\"('dummy', Dummify(target='dummy_target')),\"]\n",
      "[\"('clean_names', Clean_Colum_Names()), ('fix_multi', Empty()),\"]\n",
      "[\"('pca', Empty())],\"]\n",
      "['verbose=False), model_name=Transformation Pipeline, verbose=False)']\n",
      "['2020-07-29 09', '47', '58,508', 'INFO', 'Appending prep pipeline']\n",
      "['2020-07-29 09', '47', '58,521', 'INFO', 'Transformation Pipeline.pkl saved in current working directory']\n",
      "['2020-07-29 09', '47', '58,552', 'INFO', '[Pipeline(memory=None,']\n",
      "[\"steps=[('dtypes',\"]\n",
      "['DataTypes_Auto_infer(categorical_features=[],']\n",
      "['display_types=True, features_todrop=[],']\n",
      "[\"ml_usecase='regression',\"]\n",
      "['numerical_features=[],']\n",
      "[\"target='dummy_target',\"]\n",
      "['time_features=[])),']\n",
      "[\"('imputer',\"]\n",
      "[\"Simple_Imputer(categorical_strategy='not_available',\"]\n",
      "[\"numeric_strategy='mean',\"]\n",
      "['target_variable=None)),']\n",
      "[\"('new_levels1',\"]\n",
      "['New_Catagorical_L...']\n",
      "[\"target='dummy_target')),\"]\n",
      "[\"('feature_time',\"]\n",
      "['Make_Time_Features(list_of_features=None, time_feature=[])),']\n",
      "[\"('group', Empty()), ('scaling', Empty()),\"]\n",
      "[\"('P_transform', Empty()), ('binn', Empty()),\"]\n",
      "[\"('fix_perfect', Empty()), ('rem_outliers', Empty()),\"]\n",
      "[\"('dummy', Dummify(target='dummy_target')),\"]\n",
      "[\"('clean_names', Clean_Colum_Names()), ('fix_multi', Empty()),\"]\n",
      "[\"('pca', Empty())],\"]\n",
      "['verbose=False), Pipeline(memory=None,']\n",
      "[\"steps=[('dtypes',\"]\n",
      "['DataTypes_Auto_infer(categorical_features=[],']\n",
      "['display_types=True, features_todrop=[],']\n",
      "[\"ml_usecase='regression',\"]\n",
      "['numerical_features=[],']\n",
      "[\"target='dummy_target',\"]\n",
      "['time_features=[])),']\n",
      "[\"('imputer',\"]\n",
      "[\"Simple_Imputer(categorical_strategy='not_available',\"]\n",
      "[\"numeric_strategy='mean',\"]\n",
      "['target_variable=None)),']\n",
      "[\"('new_levels1',\"]\n",
      "['New_Catagorical_L...']\n",
      "[\"target='dummy_target')),\"]\n",
      "[\"('feature_time',\"]\n",
      "['Make_Time_Features(list_of_features=None, time_feature=[])),']\n",
      "[\"('group', Empty()), ('scaling', Empty()),\"]\n",
      "[\"('P_transform', Empty()), ('binn', Empty()),\"]\n",
      "[\"('fix_perfect', Empty()), ('rem_outliers', Empty()),\"]\n",
      "[\"('dummy', Dummify(target='dummy_target')),\"]\n",
      "[\"('clean_names', Clean_Colum_Names()), ('fix_multi', Empty()),\"]\n",
      "[\"('pca', Empty())],\"]\n",
      "['verbose=False)]']\n",
      "['2020-07-29 09', '47', '58,552', 'INFO', 'save_model() succesfully completed......................................']\n",
      "['2020-07-29 09', '47', '58,552', 'INFO', 'SubProcess save_model() end ==================================']\n",
      "['2020-07-29 09', '47', '58,578', 'INFO', 'Evaluating Metrics']\n",
      "['2020-07-29 09', '47', '58,692', 'INFO', 'No inverse transformer found']\n",
      "['2020-07-29 09', '47', '58,693', 'INFO', 'Compiling Metrics']\n",
      "['2020-07-29 09', '47', '58,708', 'INFO', 'Pipeline(memory=None,']\n",
      "[\"steps=[('dtypes',\"]\n",
      "['DataTypes_Auto_infer(categorical_features=[],']\n",
      "['display_types=True, features_todrop=[],']\n",
      "[\"ml_usecase='regression',\"]\n",
      "['numerical_features=[],']\n",
      "[\"target='dummy_target',\"]\n",
      "['time_features=[])),']\n",
      "[\"('imputer',\"]\n",
      "[\"Simple_Imputer(categorical_strategy='not_available',\"]\n",
      "[\"numeric_strategy='mean',\"]\n",
      "['target_variable=None)),']\n",
      "[\"('new_levels1',\"]\n",
      "['New_Catagorical_L...']\n",
      "[\"target='dummy_target')),\"]\n",
      "[\"('feature_time',\"]\n",
      "['Make_Time_Features(list_of_features=None, time_feature=[])),']\n",
      "[\"('group', Empty()), ('scaling', Empty()),\"]\n",
      "[\"('P_transform', Empty()), ('binn', Empty()),\"]\n",
      "[\"('fix_perfect', Empty()), ('rem_outliers', Empty()),\"]\n",
      "[\"('dummy', Dummify(target='dummy_target')),\"]\n",
      "[\"('clean_names', Clean_Colum_Names()), ('fix_multi', Empty()),\"]\n",
      "[\"('pca', Empty())],\"]\n",
      "['verbose=False)']\n",
      "['2020-07-29 09', '47', '58,708', 'INFO', 'setup() succesfully completed......................................']\n",
      "['2020-07-29 09', '47', '58,714', 'INFO', 'Initializing Fold 5']\n",
      "['2020-07-29 09', '47', '58,735', 'INFO', 'Fitting Model']\n",
      "['2020-07-29 09', '47', '59,302', 'INFO', 'Evaluating Metrics']\n",
      "['2020-07-29 09', '47', '59,421', 'INFO', 'No inverse transformer found']\n",
      "['2020-07-29 09', '47', '59,422', 'INFO', 'Compiling Metrics']\n",
      "['2020-07-29 09', '47', '59,443', 'INFO', 'Calculating mean and std']\n",
      "['2020-07-29 09', '47', '59,444', 'INFO', 'Creating metrics dataframe']\n",
      "['2020-07-29 09', '47', '59,489', 'INFO', 'Creating MLFlow logs']\n",
      "['2020-07-29 09', '47', '59,672', 'INFO', 'SubProcess save_model() called ==================================']\n",
      "['2020-07-29 09', '47', '59,672', 'INFO', 'Initializing save_model()']\n",
      "['2020-07-29 09', '47', '59,674', 'INFO', \"save_model(model=RandomForestRegressor(bootstrap=True, ccp_alpha=0.0, criterion='mse',\"]\n",
      "[\"max_depth=None, max_features='auto', max_leaf_nodes=None,\"]\n",
      "['max_samples=None, min_impurity_decrease=0.0,']\n",
      "['min_impurity_split=None, min_samples_leaf=1,']\n",
      "['min_samples_split=2, min_weight_fraction_leaf=0.0,']\n",
      "['n_estimators=100, n_jobs=-1, oob_score=False,']\n",
      "['random_state=123, verbose=0, warm_start=False), model_name=Trained Model, verbose=False)']\n",
      "['2020-07-29 09', '47', '59,674', 'INFO', 'Appending prep pipeline']\n",
      "['2020-07-29 09', '47', '59,703', 'INFO', 'Preloading libraries']\n",
      "['2020-07-29 09', '47', '59,789', 'INFO', 'Trained Model.pkl saved in current working directory']\n",
      "['2020-07-29 09', '47', '59,796', 'INFO', 'Preparing display monitor']\n",
      "['2020-07-29 09', '47', '59,811', 'INFO', 'plot type', 'cluster']\n",
      "['2020-07-29 09', '47', '59,812', 'INFO', 'SubProcess assign_model() called ==================================']\n",
      "['2020-07-29 09', '47', '59,812', 'INFO', 'Initializing assign_model()']\n",
      "['2020-07-29 09', '47', '59,812', 'INFO', '[Pipeline(memory=None,']\n",
      "[\"steps=[('dtypes',\"]\n",
      "['DataTypes_Auto_infer(categorical_features=[],']\n",
      "['display_types=True, features_todrop=[],']\n",
      "[\"ml_usecase='regression',\"]\n",
      "[\"numerical_features=[], target='charges',\"]\n",
      "['time_features=[])),']\n",
      "[\"('imputer',\"]\n",
      "[\"Simple_Imputer(categorical_strategy='not_available',\"]\n",
      "[\"numeric_strategy='mean',\"]\n",
      "['target_variable=None)),']\n",
      "[\"('new_levels1',\"]\n",
      "['New_Catagorical_Levels...']\n",
      "[\"('group', Empty()), ('nonliner', Empty()), ('scaling', Empty()),\"]\n",
      "[\"('P_transform', Empty()), ('pt_target', Empty()),\"]\n",
      "[\"('binn', Empty()), ('rem_outliers', Empty()),\"]\n",
      "[\"('cluster_all', Empty()), ('dummy', Dummify(target='charges')),\"]\n",
      "[\"('fix_perfect', Empty()), ('clean_names', Clean_Colum_Names()),\"]\n",
      "[\"('feature_select', Empty()), ('fix_multi', Empty()),\"]\n",
      "[\"('dfs', Empty()), ('pca', Empty())],\"]\n",
      "[\"verbose=False), RandomForestRegressor(bootstrap=True, ccp_alpha=0.0, criterion='mse',\"]\n",
      "[\"max_depth=None, max_features='auto', max_leaf_nodes=None,\"]\n",
      "['max_samples=None, min_impurity_decrease=0.0,']\n",
      "['min_impurity_split=None, min_samples_leaf=1,']\n",
      "['min_samples_split=2, min_weight_fraction_leaf=0.0,']\n",
      "['n_estimators=100, n_jobs=-1, oob_score=False,']\n",
      "['random_state=123, verbose=0, warm_start=False), None]']\n",
      "['2020-07-29 09', '47', '59,812', 'INFO', 'save_model() succesfully completed......................................']\n",
      "['2020-07-29 09', '47', '59,812', 'INFO', 'SubProcess save_model() end ==================================']\n",
      "['2020-07-29 09', '47', '59,812', 'INFO', \"assign_model(model=KMeans(algorithm='auto', copy_x=True, init='k-means++', max_iter=300,\"]\n",
      "[\"n_clusters=4, n_init=10, n_jobs=-1, precompute_distances='deprecated',\"]\n",
      "['random_state=123, tol=0.0001, verbose=0), transformation=True, verbose=False)']\n",
      "['2020-07-29 09', '47', '59,812', 'INFO', 'Checking exceptions']\n",
      "['2020-07-29 09', '47', '59,813', 'INFO', 'Preloading libraries']\n",
      "['2020-07-29 09', '47', '59,813', 'INFO', 'Copying data']\n",
      "['2020-07-29 09', '47', '59,813', 'INFO', 'Transformation param set to True. Assigned clusters are attached on transformed dataset.']\n",
      "['2020-07-29 09', '47', '59,814', 'INFO', 'Preparing display monitor']\n",
      "['2020-07-29 09', '47', '59,849', 'INFO', 'Determining Trained Model']\n",
      "['2020-07-29 09', '47', '59,850', 'INFO', 'Trained Model', 'K-Means Clustering']\n",
      "['2020-07-29 09', '47', '59,850', 'INFO', '(224, 21)']\n",
      "['2020-07-29 09', '47', '59,851', 'INFO', 'assign_model() succesfully completed......................................']\n",
      "['2020-07-29 09', '47', '59,851', 'INFO', 'SubProcess assign_model() end ==================================']\n",
      "['2020-07-29 09', '47', '59,858', 'INFO', 'Importing libraries']\n",
      "['2020-07-29 09', '47', '59,859', 'INFO', 'Declaring global variables']\n",
      "['2020-07-29 09', '47', '59,860', 'INFO', 'Input provided', 'dataframe']\n",
      "['2020-07-29 09', '47', '59,860', 'INFO', 'session_id set to', '123']\n",
      "['2020-07-29 09', '47', '59,860', 'INFO', 'Copying training dataset']\n",
      "['2020-07-29 09', '47', '59,864', 'INFO', 'Importing stopwords from nltk']\n",
      "['2020-07-29 09', '47', '59,876', 'INFO', 'Fitting PCA()']\n",
      "['2020-07-29 09', '47', '59,891', 'INFO', 'Sorting dataframe']\n",
      "['2020-07-29 09', '47', '59,897', 'INFO', 'Rendering Visual']\n",
      "['2020-07-29 09', '47', '59,977', 'INFO', 'Initializing Extra Trees Regressor']\n",
      "['2020-07-29 09', '47', '59,992', 'INFO', 'Initializing Fold 1']\n",
      "['2020-07-29 09', '48', '00,014', 'INFO', 'Fitting Model']\n",
      "['2020-07-29 09', '48', '00,280', 'INFO', 'No custom stopwords defined']\n",
      "['2020-07-29 09', '48', '00,282', 'INFO', 'Removing numeric characters from the text']\n",
      "['2020-07-29 09', '48', '00,441', 'INFO', 'Evaluating Metrics']\n",
      "['2020-07-29 09', '48', '00,553', 'INFO', 'No inverse transformer found']\n",
      "['2020-07-29 09', '48', '00,554', 'INFO', 'Compiling Metrics']\n",
      "['2020-07-29 09', '48', '00,576', 'INFO', 'Initializing Fold 2']\n",
      "['2020-07-29 09', '48', '00,594', 'INFO', 'Fitting Model']\n",
      "['2020-07-29 09', '48', '00,820', 'INFO', 'Removing special characters from the text']\n",
      "['2020-07-29 09', '48', '01,075', 'INFO', 'Evaluating Metrics']\n",
      "['2020-07-29 09', '48', '01,191', 'INFO', 'No inverse transformer found']\n",
      "['2020-07-29 09', '48', '01,192', 'INFO', 'Compiling Metrics']\n",
      "['2020-07-29 09', '48', '01,219', 'INFO', 'Initializing Fold 3']\n",
      "['2020-07-29 09', '48', '01,241', 'INFO', 'Fitting Model']\n",
      "['2020-07-29 09', '48', '01,696', 'INFO', 'Evaluating Metrics']\n",
      "['2020-07-29 09', '48', '01,807', 'INFO', 'No inverse transformer found']\n",
      "['2020-07-29 09', '48', '01,807', 'INFO', 'Compiling Metrics']\n",
      "['2020-07-29 09', '48', '01,823', 'INFO', 'Initializing Fold 4']\n",
      "['2020-07-29 09', '48', '01,836', 'INFO', 'Fitting Model']\n",
      "['2020-07-29 09', '48', '02,159', 'INFO', 'Evaluating Metrics']\n",
      "['2020-07-29 09', '48', '02,269', 'INFO', 'No inverse transformer found']\n",
      "['2020-07-29 09', '48', '02,270', 'INFO', 'Compiling Metrics']\n",
      "['2020-07-29 09', '48', '02,285', 'INFO', 'Initializing Fold 5']\n",
      "['2020-07-29 09', '48', '02,305', 'INFO', 'Fitting Model']\n",
      "['2020-07-29 09', '48', '02,353', 'INFO', 'Initializing create_model()']\n",
      "['2020-07-29 09', '48', '02,353', 'INFO', 'Checking exceptions']\n",
      "['2020-07-29 09', '48', '02,353', 'INFO', 'Preloading libraries']\n",
      "['2020-07-29 09', '48', '02,354', 'INFO', 'Preparing display monitor']\n",
      "['2020-07-29 09', '48', '02,421', 'INFO', 'Importing untrained model']\n",
      "['2020-07-29 09', '48', '02,422', 'INFO', 'Isolation Forest Imported succesfully']\n",
      "['2020-07-29 09', '48', '02,449', 'INFO', 'Fitting Model']\n",
      "['2020-07-29 09', '48', '02,813', 'INFO', 'Evaluating Metrics']\n",
      "['2020-07-29 09', '48', '02,928', 'INFO', 'No inverse transformer found']\n",
      "['2020-07-29 09', '48', '02,929', 'INFO', 'Compiling Metrics']\n",
      "['2020-07-29 09', '48', '02,953', 'INFO', 'Calculating mean and std']\n",
      "['2020-07-29 09', '48', '02,954', 'INFO', 'Creating metrics dataframe']\n",
      "['2020-07-29 09', '48', '03,011', 'INFO', 'Creating MLFlow logs']\n",
      "['2020-07-29 09', '48', '03,241', 'INFO', 'SubProcess save_model() called ==================================']\n",
      "['2020-07-29 09', '48', '03,242', 'INFO', 'Initializing save_model()']\n",
      "['2020-07-29 09', '48', '03,244', 'INFO', \"save_model(model=ExtraTreesRegressor(bootstrap=False, ccp_alpha=0.0, criterion='mse',\"]\n",
      "[\"max_depth=None, max_features='auto', max_leaf_nodes=None,\"]\n",
      "['max_samples=None, min_impurity_decrease=0.0,']\n",
      "['min_impurity_split=None, min_samples_leaf=1,']\n",
      "['min_samples_split=2, min_weight_fraction_leaf=0.0,']\n",
      "['n_estimators=100, n_jobs=-1, oob_score=False,']\n",
      "['random_state=123, verbose=0, warm_start=False), model_name=Trained Model, verbose=False)']\n",
      "['2020-07-29 09', '48', '03,244', 'INFO', 'Appending prep pipeline']\n",
      "['2020-07-29 09', '48', '03,413', 'INFO', 'Trained Model.pkl saved in current working directory']\n",
      "['2020-07-29 09', '48', '03,441', 'INFO', '[Pipeline(memory=None,']\n",
      "[\"steps=[('dtypes',\"]\n",
      "['DataTypes_Auto_infer(categorical_features=[],']\n",
      "['display_types=True, features_todrop=[],']\n",
      "[\"ml_usecase='regression',\"]\n",
      "[\"numerical_features=[], target='charges',\"]\n",
      "['time_features=[])),']\n",
      "[\"('imputer',\"]\n",
      "[\"Simple_Imputer(categorical_strategy='not_available',\"]\n",
      "[\"numeric_strategy='mean',\"]\n",
      "['target_variable=None)),']\n",
      "[\"('new_levels1',\"]\n",
      "['New_Catagorical_Levels...']\n",
      "[\"('group', Empty()), ('nonliner', Empty()), ('scaling', Empty()),\"]\n",
      "[\"('P_transform', Empty()), ('pt_target', Empty()),\"]\n",
      "[\"('binn', Empty()), ('rem_outliers', Empty()),\"]\n",
      "[\"('cluster_all', Empty()), ('dummy', Dummify(target='charges')),\"]\n",
      "[\"('fix_perfect', Empty()), ('clean_names', Clean_Colum_Names()),\"]\n",
      "[\"('feature_select', Empty()), ('fix_multi', Empty()),\"]\n",
      "[\"('dfs', Empty()), ('pca', Empty())],\"]\n",
      "[\"verbose=False), ExtraTreesRegressor(bootstrap=False, ccp_alpha=0.0, criterion='mse',\"]\n",
      "[\"max_depth=None, max_features='auto', max_leaf_nodes=None,\"]\n",
      "['max_samples=None, min_impurity_decrease=0.0,']\n",
      "['min_impurity_split=None, min_samples_leaf=1,']\n",
      "['min_samples_split=2, min_weight_fraction_leaf=0.0,']\n",
      "['n_estimators=100, n_jobs=-1, oob_score=False,']\n",
      "['random_state=123, verbose=0, warm_start=False), None]']\n",
      "['2020-07-29 09', '48', '03,441', 'INFO', 'save_model() succesfully completed......................................']\n",
      "['2020-07-29 09', '48', '03,442', 'INFO', 'SubProcess save_model() end ==================================']\n",
      "['2020-07-29 09', '48', '03,744', 'INFO', 'Creating MLFlow logs']\n",
      "['2020-07-29 09', '48', '03,753', 'INFO', 'Initializing AdaBoost Regressor']\n",
      "['2020-07-29 09', '48', '03,780', 'INFO', 'Initializing Fold 1']\n",
      "['2020-07-29 09', '48', '03,810', 'INFO', 'Fitting Model']\n",
      "['2020-07-29 09', '48', '03,946', 'INFO', 'Evaluating Metrics']\n",
      "['2020-07-29 09', '48', '03,960', 'INFO', 'SubProcess save_model() called ==================================']\n",
      "['2020-07-29 09', '48', '03,961', 'INFO', 'Initializing save_model()']\n",
      "['2020-07-29 09', '48', '03,961', 'INFO', 'No inverse transformer found']\n",
      "['2020-07-29 09', '48', '03,961', 'INFO', 'Compiling Metrics']\n",
      "['2020-07-29 09', '48', '03,962', 'INFO', \"save_model(model=IForest(behaviour='new', bootstrap=False, contamination=0.05,\"]\n",
      "[\"max_features=1.0, max_samples='auto', n_estimators=100, n_jobs=1,\"]\n",
      "['random_state=123, verbose=0), model_name=Trained Model, verbose=False)']\n",
      "['2020-07-29 09', '48', '03,962', 'INFO', 'Appending prep pipeline']\n",
      "['2020-07-29 09', '48', '03,999', 'INFO', 'Initializing Fold 2']\n",
      "['2020-07-29 09', '48', '04,028', 'INFO', 'Fitting Model']\n",
      "['2020-07-29 09', '48', '04,118', 'INFO', 'Evaluating Metrics']\n",
      "['2020-07-29 09', '48', '04,126', 'INFO', 'No inverse transformer found']\n",
      "['2020-07-29 09', '48', '04,127', 'INFO', 'Compiling Metrics']\n",
      "['2020-07-29 09', '48', '04,146', 'INFO', 'Initializing Fold 3']\n",
      "['2020-07-29 09', '48', '04,165', 'INFO', 'Fitting Model']\n",
      "['2020-07-29 09', '48', '04,169', 'INFO', 'Trained Model.pkl saved in current working directory']\n",
      "['2020-07-29 09', '48', '04,188', 'INFO', '[Pipeline(memory=None,']\n",
      "[\"steps=[('dtypes',\"]\n",
      "['DataTypes_Auto_infer(categorical_features=[],']\n",
      "['display_types=True, features_todrop=[],']\n",
      "[\"ml_usecase='regression',\"]\n",
      "['numerical_features=[],']\n",
      "[\"target='dummy_target',\"]\n",
      "['time_features=[])),']\n",
      "[\"('imputer',\"]\n",
      "[\"Simple_Imputer(categorical_strategy='not_available',\"]\n",
      "[\"numeric_strategy='mean',\"]\n",
      "['target_variable=None)),']\n",
      "[\"('new_levels1',\"]\n",
      "['New_Catagorical_L...']\n",
      "[\"target='dummy_target')),\"]\n",
      "[\"('feature_time',\"]\n",
      "['Make_Time_Features(list_of_features=None, time_feature=[])),']\n",
      "[\"('group', Empty()), ('scaling', Empty()),\"]\n",
      "[\"('P_transform', Empty()), ('binn', Empty()),\"]\n",
      "[\"('fix_perfect', Empty()), ('rem_outliers', Empty()),\"]\n",
      "[\"('dummy', Dummify(target='dummy_target')),\"]\n",
      "[\"('clean_names', Clean_Colum_Names()), ('fix_multi', Empty()),\"]\n",
      "[\"('pca', Empty())],\"]\n",
      "[\"verbose=False), IForest(behaviour='new', bootstrap=False, contamination=0.05,\"]\n",
      "[\"max_features=1.0, max_samples='auto', n_estimators=100, n_jobs=1,\"]\n",
      "['random_state=123, verbose=0)]']\n",
      "['2020-07-29 09', '48', '04,188', 'INFO', 'save_model() succesfully completed......................................']\n",
      "['2020-07-29 09', '48', '04,189', 'INFO', 'SubProcess save_model() end ==================================']\n",
      "['2020-07-29 09', '48', '04,228', 'INFO', 'Evaluating Metrics']\n",
      "['2020-07-29 09', '48', '04,238', 'INFO', 'No inverse transformer found']\n",
      "['2020-07-29 09', '48', '04,238', 'INFO', 'Compiling Metrics']\n",
      "['2020-07-29 09', '48', '04,265', 'INFO', 'Initializing Fold 4']\n",
      "['2020-07-29 09', '48', '04,290', 'INFO', 'Fitting Model']\n",
      "['2020-07-29 09', '48', '04,301', 'INFO', \"IForest(behaviour='new', bootstrap=False, contamination=0.05,\"]\n",
      "[\"max_features=1.0, max_samples='auto', n_estimators=100, n_jobs=1,\"]\n",
      "['random_state=123, verbose=0)']\n",
      "['2020-07-29 09', '48', '04,301', 'INFO', 'create_models() succesfully completed......................................']\n",
      "['2020-07-29 09', '48', '04,317', 'INFO', 'Initializing create_model()']\n",
      "['2020-07-29 09', '48', '04,318', 'INFO', 'Checking exceptions']\n",
      "['2020-07-29 09', '48', '04,318', 'INFO', 'Preloading libraries']\n",
      "['2020-07-29 09', '48', '04,318', 'INFO', 'Preparing display monitor']\n",
      "['2020-07-29 09', '48', '04,350', 'INFO', 'Evaluating Metrics']\n",
      "['2020-07-29 09', '48', '04,360', 'INFO', 'No inverse transformer found']\n",
      "['2020-07-29 09', '48', '04,360', 'INFO', 'Compiling Metrics']\n",
      "['2020-07-29 09', '48', '04,389', 'INFO', 'Initializing Fold 5']\n",
      "['2020-07-29 09', '48', '04,395', 'INFO', 'Importing untrained model']\n",
      "['2020-07-29 09', '48', '04,396', 'INFO', 'k-Nearest Neighbors Detector Imported succesfully']\n",
      "['2020-07-29 09', '48', '04,412', 'INFO', 'Fitting Model']\n",
      "['2020-07-29 09', '48', '04,415', 'INFO', 'Fitting Model']\n",
      "['2020-07-29 09', '48', '04,484', 'INFO', 'Creating MLFlow logs']\n",
      "['2020-07-29 09', '48', '04,484', 'INFO', 'Evaluating Metrics']\n",
      "['2020-07-29 09', '48', '04,494', 'INFO', 'No inverse transformer found']\n",
      "['2020-07-29 09', '48', '04,494', 'INFO', 'Compiling Metrics']\n",
      "['2020-07-29 09', '48', '04,518', 'INFO', 'Calculating mean and std']\n",
      "['2020-07-29 09', '48', '04,519', 'INFO', 'Creating metrics dataframe']\n",
      "['2020-07-29 09', '48', '04,583', 'INFO', 'Creating MLFlow logs']\n",
      "['2020-07-29 09', '48', '04,697', 'INFO', 'SubProcess save_model() called ==================================']\n",
      "['2020-07-29 09', '48', '04,698', 'INFO', 'Initializing save_model()']\n",
      "['2020-07-29 09', '48', '04,699', 'INFO', \"save_model(model=KNN(algorithm='auto', contamination=0.1, leaf_size=30, method='largest',\"]\n",
      "[\"metric='minkowski', metric_params=None, n_jobs=1, n_neighbors=5, p=2,\"]\n",
      "['radius=1.0), model_name=Trained Model, verbose=False)']\n",
      "['2020-07-29 09', '48', '04,700', 'INFO', 'Appending prep pipeline']\n",
      "['2020-07-29 09', '48', '04,725', 'INFO', 'Trained Model.pkl saved in current working directory']\n",
      "['2020-07-29 09', '48', '04,747', 'INFO', '[Pipeline(memory=None,']\n",
      "[\"steps=[('dtypes',\"]\n",
      "['DataTypes_Auto_infer(categorical_features=[],']\n",
      "['display_types=True, features_todrop=[],']\n",
      "[\"ml_usecase='regression',\"]\n",
      "['numerical_features=[],']\n",
      "[\"target='dummy_target',\"]\n",
      "['time_features=[])),']\n",
      "[\"('imputer',\"]\n",
      "[\"Simple_Imputer(categorical_strategy='not_available',\"]\n",
      "[\"numeric_strategy='mean',\"]\n",
      "['target_variable=None)),']\n",
      "[\"('new_levels1',\"]\n",
      "['New_Catagorical_L...']\n",
      "[\"target='dummy_target')),\"]\n",
      "[\"('feature_time',\"]\n",
      "['Make_Time_Features(list_of_features=None, time_feature=[])),']\n",
      "[\"('group', Empty()), ('scaling', Empty()),\"]\n",
      "[\"('P_transform', Empty()), ('binn', Empty()),\"]\n",
      "[\"('fix_perfect', Empty()), ('rem_outliers', Empty()),\"]\n",
      "[\"('dummy', Dummify(target='dummy_target')),\"]\n",
      "[\"('clean_names', Clean_Colum_Names()), ('fix_multi', Empty()),\"]\n",
      "[\"('pca', Empty())],\"]\n",
      "[\"verbose=False), KNN(algorithm='auto', contamination=0.1, leaf_size=30, method='largest',\"]\n",
      "[\"metric='minkowski', metric_params=None, n_jobs=1, n_neighbors=5, p=2,\"]\n",
      "['radius=1.0)]']\n",
      "['2020-07-29 09', '48', '04,747', 'INFO', 'save_model() succesfully completed......................................']\n",
      "['2020-07-29 09', '48', '04,748', 'INFO', 'SubProcess save_model() end ==================================']\n",
      "['2020-07-29 09', '48', '04,794', 'INFO', 'SubProcess save_model() called ==================================']\n",
      "['2020-07-29 09', '48', '04,794', 'INFO', 'Initializing save_model()']\n",
      "['2020-07-29 09', '48', '04,795', 'INFO', \"save_model(model=AdaBoostRegressor(base_estimator=None, learning_rate=1.0, loss='linear',\"]\n",
      "['n_estimators=50, random_state=123), model_name=Trained Model, verbose=False)']\n",
      "['2020-07-29 09', '48', '04,796', 'INFO', 'Appending prep pipeline']\n",
      "['2020-07-29 09', '48', '04,831', 'INFO', 'Trained Model.pkl saved in current working directory']\n",
      "['2020-07-29 09', '48', '04,855', 'INFO', \"KNN(algorithm='auto', contamination=0.1, leaf_size=30, method='largest',\"]\n",
      "[\"metric='minkowski', metric_params=None, n_jobs=1, n_neighbors=5, p=2,\"]\n",
      "['radius=1.0)']\n",
      "['2020-07-29 09', '48', '04,855', 'INFO', 'create_models() succesfully completed......................................']\n",
      "['2020-07-29 09', '48', '04,856', 'INFO', '[Pipeline(memory=None,']\n",
      "[\"steps=[('dtypes',\"]\n",
      "['DataTypes_Auto_infer(categorical_features=[],']\n",
      "['display_types=True, features_todrop=[],']\n",
      "[\"ml_usecase='regression',\"]\n",
      "[\"numerical_features=[], target='charges',\"]\n",
      "['time_features=[])),']\n",
      "[\"('imputer',\"]\n",
      "[\"Simple_Imputer(categorical_strategy='not_available',\"]\n",
      "[\"numeric_strategy='mean',\"]\n",
      "['target_variable=None)),']\n",
      "[\"('new_levels1',\"]\n",
      "['New_Catagorical_Levels...']\n",
      "[\"('group', Empty()), ('nonliner', Empty()), ('scaling', Empty()),\"]\n",
      "[\"('P_transform', Empty()), ('pt_target', Empty()),\"]\n",
      "[\"('binn', Empty()), ('rem_outliers', Empty()),\"]\n",
      "[\"('cluster_all', Empty()), ('dummy', Dummify(target='charges')),\"]\n",
      "[\"('fix_perfect', Empty()), ('clean_names', Clean_Colum_Names()),\"]\n",
      "[\"('feature_select', Empty()), ('fix_multi', Empty()),\"]\n",
      "[\"('dfs', Empty()), ('pca', Empty())],\"]\n",
      "[\"verbose=False), AdaBoostRegressor(base_estimator=None, learning_rate=1.0, loss='linear',\"]\n",
      "['n_estimators=50, random_state=123), None]']\n",
      "['2020-07-29 09', '48', '04,856', 'INFO', 'save_model() succesfully completed......................................']\n",
      "['2020-07-29 09', '48', '04,856', 'INFO', 'SubProcess save_model() end ==================================']\n",
      "['2020-07-29 09', '48', '04,871', 'INFO', 'Initializing assign_model()']\n",
      "['2020-07-29 09', '48', '04,873', 'INFO', \"assign_model(model=IForest(behaviour='new', bootstrap=False, contamination=0.05,\"]\n",
      "[\"max_features=1.0, max_samples='auto', n_estimators=100, n_jobs=1,\"]\n",
      "['random_state=123, verbose=0), transformation=False, score=True, verbose=True)']\n",
      "['2020-07-29 09', '48', '04,873', 'INFO', 'Preloading libraries']\n",
      "['2020-07-29 09', '48', '04,874', 'INFO', 'Copying data']\n",
      "['2020-07-29 09', '48', '04,876', 'INFO', 'Preparing display monitor']\n",
      "['2020-07-29 09', '48', '04,952', 'INFO', 'Determining Trained Model']\n",
      "['2020-07-29 09', '48', '04,953', 'INFO', 'Trained Model', 'Assigned Isolation Forest']\n",
      "['2020-07-29 09', '48', '04,956', 'INFO', '(1000, 12)']\n",
      "['2020-07-29 09', '48', '04,957', 'INFO', 'assign_model() succesfully completed......................................']\n",
      "['2020-07-29 09', '48', '05,009', 'INFO', 'Initializing plot_model()']\n",
      "['2020-07-29 09', '48', '05,010', 'INFO', \"plot_model(model=IForest(behaviour='new', bootstrap=False, contamination=0.05,\"]\n",
      "[\"max_features=1.0, max_samples='auto', n_estimators=100, n_jobs=1,\"]\n",
      "['random_state=123, verbose=0), plot=tsne, feature=None, save=False, system=True)']\n",
      "['2020-07-29 09', '48', '05,011', 'INFO', 'Checking exceptions']\n",
      "['2020-07-29 09', '48', '05,011', 'INFO', 'Importing libraries']\n",
      "['2020-07-29 09', '48', '05,796', 'INFO', 'Tokenizing Words']\n",
      "['2020-07-29 09', '48', '06,772', 'INFO', \"Saving 'Cluster.html' in current active directory\"]\n",
      "['2020-07-29 09', '48', '06,773', 'INFO', 'Visual Rendered Successfully']\n",
      "['2020-07-29 09', '48', '06,773', 'INFO', 'plot_model() succesfully completed......................................']\n",
      "['2020-07-29 09', '48', '07,650', 'INFO', 'Initializing plot_model()']\n",
      "['2020-07-29 09', '48', '07,651', 'INFO', \"plot_model(model=KMeans(algorithm='auto', copy_x=True, init='k-means++', max_iter=300,\"]\n",
      "[\"n_clusters=4, n_init=10, n_jobs=-1, precompute_distances='deprecated',\"]\n",
      "['random_state=123, tol=0.0001, verbose=0), plot=distribution, feature=None, label=False, save=True, system=False)']\n",
      "['2020-07-29 09', '48', '07,652', 'INFO', 'Checking exceptions']\n",
      "['2020-07-29 09', '48', '07,652', 'INFO', 'Importing libraries']\n",
      "['2020-07-29 09', '48', '07,672', 'INFO', 'plot type', 'distribution']\n",
      "['2020-07-29 09', '48', '07,672', 'INFO', 'SubProcess assign_model() called ==================================']\n",
      "['2020-07-29 09', '48', '07,672', 'INFO', 'Initializing assign_model()']\n",
      "['2020-07-29 09', '48', '07,674', 'INFO', \"assign_model(model=KMeans(algorithm='auto', copy_x=True, init='k-means++', max_iter=300,\"]\n",
      "[\"n_clusters=4, n_init=10, n_jobs=-1, precompute_distances='deprecated',\"]\n",
      "['random_state=123, tol=0.0001, verbose=0), transformation=False, verbose=False)']\n",
      "['2020-07-29 09', '48', '07,674', 'INFO', 'Checking exceptions']\n",
      "['2020-07-29 09', '48', '07,675', 'INFO', 'Preloading libraries']\n",
      "['2020-07-29 09', '48', '07,675', 'INFO', 'Copying data']\n",
      "['2020-07-29 09', '48', '07,676', 'INFO', 'Preparing display monitor']\n",
      "['2020-07-29 09', '48', '07,711', 'INFO', 'Determining Trained Model']\n",
      "['2020-07-29 09', '48', '07,713', 'INFO', 'Trained Model', 'K-Means Clustering']\n",
      "['2020-07-29 09', '48', '07,714', 'INFO', '(224, 22)']\n",
      "['2020-07-29 09', '48', '07,714', 'INFO', 'assign_model() succesfully completed......................................']\n",
      "['2020-07-29 09', '48', '07,715', 'INFO', 'SubProcess assign_model() end ==================================']\n",
      "['2020-07-29 09', '48', '07,715', 'INFO', 'Sorting dataframe']\n",
      "['2020-07-29 09', '48', '07,732', 'INFO', 'Rendering Visual']\n",
      "['2020-07-29 09', '48', '08,329', 'INFO', \"Saving 'Distribution.html' in current active directory\"]\n",
      "['2020-07-29 09', '48', '08,329', 'INFO', 'Visual Rendered Successfully']\n",
      "['2020-07-29 09', '48', '08,329', 'INFO', 'plot_model() succesfully completed......................................']\n",
      "['2020-07-29 09', '48', '08,812', 'INFO', 'plot type', 'tsne']\n",
      "['2020-07-29 09', '48', '08,813', 'INFO', 'SubProcess assign_model() called ==================================']\n",
      "['2020-07-29 09', '48', '08,813', 'INFO', 'Initializing assign_model()']\n",
      "['2020-07-29 09', '48', '08,814', 'INFO', \"assign_model(model=IForest(behaviour='new', bootstrap=False, contamination=0.05,\"]\n",
      "[\"max_features=1.0, max_samples='auto', n_estimators=100, n_jobs=1,\"]\n",
      "['random_state=123, verbose=0), transformation=True, score=False, verbose=False)']\n",
      "['2020-07-29 09', '48', '08,814', 'INFO', 'Preloading libraries']\n",
      "['2020-07-29 09', '48', '08,815', 'INFO', 'Copying data']\n",
      "['2020-07-29 09', '48', '08,815', 'INFO', 'Preparing display monitor']\n",
      "['2020-07-29 09', '48', '08,849', 'INFO', 'Determining Trained Model']\n",
      "['2020-07-29 09', '48', '08,850', 'INFO', 'Trained Model', 'Assigned Isolation Forest']\n",
      "['2020-07-29 09', '48', '08,851', 'INFO', '(1000, 11)']\n",
      "['2020-07-29 09', '48', '08,851', 'INFO', 'assign_model() succesfully completed......................................']\n",
      "['2020-07-29 09', '48', '08,852', 'INFO', 'SubProcess assign_model() end ==================================']\n",
      "['2020-07-29 09', '48', '08,870', 'INFO', 'Getting dummies to cast categorical variables']\n",
      "['2020-07-29 09', '48', '08,885', 'INFO', 'Fitting TSNE()']\n",
      "['2020-07-29 09', '48', '09,534', 'INFO', 'Initializing plot_model()']\n",
      "['2020-07-29 09', '48', '09,535', 'INFO', \"plot_model(model=KMeans(algorithm='auto', copy_x=True, init='k-means++', max_iter=300,\"]\n",
      "[\"n_clusters=4, n_init=10, n_jobs=-1, precompute_distances='deprecated',\"]\n",
      "['random_state=123, tol=0.0001, verbose=0), plot=elbow, feature=None, label=False, save=True, system=False)']\n",
      "['2020-07-29 09', '48', '09,535', 'INFO', 'Checking exceptions']\n",
      "['2020-07-29 09', '48', '09,536', 'INFO', 'Importing libraries']\n",
      "['2020-07-29 09', '48', '09,562', 'INFO', 'plot type', 'elbow']\n",
      "['2020-07-29 09', '48', '09,834', 'INFO', 'Fitting KElbowVisualizer()']\n",
      "['2020-07-29 09', '48', '11,999', 'INFO', 'Rendering Visual']\n",
      "['2020-07-29 09', '48', '13,890', 'INFO', \"Saving 'Elbow.png' in current active directory\"]\n",
      "['2020-07-29 09', '48', '13,890', 'INFO', 'Visual Rendered Successfully']\n",
      "['2020-07-29 09', '48', '13,891', 'INFO', 'plot_model() succesfully completed......................................']\n",
      "['2020-07-29 09', '48', '13,931', 'INFO', 'SubProcess plot_model() end ==================================']\n",
      "['2020-07-29 09', '48', '13,932', 'INFO', 'SubProcess save_model() called ==================================']\n",
      "['2020-07-29 09', '48', '13,932', 'INFO', 'Initializing save_model()']\n",
      "['2020-07-29 09', '48', '13,934', 'INFO', \"save_model(model=KMeans(algorithm='auto', copy_x=True, init='k-means++', max_iter=300,\"]\n",
      "[\"n_clusters=4, n_init=10, n_jobs=-1, precompute_distances='deprecated',\"]\n",
      "['random_state=123, tol=0.0001, verbose=0), model_name=Trained Model, verbose=False)']\n",
      "['2020-07-29 09', '48', '13,934', 'INFO', 'Appending prep pipeline']\n",
      "['2020-07-29 09', '48', '13,953', 'INFO', 'Trained Model.pkl saved in current working directory']\n",
      "['2020-07-29 09', '48', '13,975', 'INFO', '[Pipeline(memory=None,']\n",
      "[\"steps=[('dtypes',\"]\n",
      "['DataTypes_Auto_infer(categorical_features=[],']\n",
      "['display_types=True,']\n",
      "[\"features_todrop=['Country Name'],\"]\n",
      "[\"ml_usecase='regression',\"]\n",
      "['numerical_features=[],']\n",
      "[\"target='dummy_target',\"]\n",
      "['time_features=[])),']\n",
      "[\"('imputer',\"]\n",
      "[\"Simple_Imputer(categorical_strategy='not_available',\"]\n",
      "[\"numeric_strategy='mean',\"]\n",
      "['target_variable=None)),']\n",
      "[\"('new_levels1',\"]\n",
      "['New_...']\n",
      "[\"target='dummy_target')),\"]\n",
      "[\"('feature_time',\"]\n",
      "['Make_Time_Features(list_of_features=None, time_feature=[])),']\n",
      "[\"('group', Empty()), ('scaling', Empty()),\"]\n",
      "[\"('P_transform', Empty()), ('binn', Empty()),\"]\n",
      "[\"('fix_perfect', Empty()), ('rem_outliers', Empty()),\"]\n",
      "[\"('dummy', Dummify(target='dummy_target')),\"]\n",
      "[\"('clean_names', Clean_Colum_Names()), ('fix_multi', Empty()),\"]\n",
      "[\"('pca', Empty())],\"]\n",
      "[\"verbose=False), KMeans(algorithm='auto', copy_x=True, init='k-means++', max_iter=300,\"]\n",
      "[\"n_clusters=4, n_init=10, n_jobs=-1, precompute_distances='deprecated',\"]\n",
      "['random_state=123, tol=0.0001, verbose=0)]']\n",
      "['2020-07-29 09', '48', '13,975', 'INFO', 'save_model() succesfully completed......................................']\n",
      "['2020-07-29 09', '48', '13,976', 'INFO', 'SubProcess save_model() end ==================================']\n",
      "['2020-07-29 09', '48', '14,077', 'INFO', \"KMeans(algorithm='auto', copy_x=True, init='k-means++', max_iter=300,\"]\n",
      "[\"n_clusters=4, n_init=10, n_jobs=-1, precompute_distances='deprecated',\"]\n",
      "['random_state=123, tol=0.0001, verbose=0)']\n",
      "['2020-07-29 09', '48', '14,078', 'INFO', 'create_models() succesfully completed......................................']\n",
      "['2020-07-29 09', '48', '14,099', 'INFO', 'Initializing create_model()']\n",
      "['2020-07-29 09', '48', '14,100', 'INFO', 'create_model(model=kmodes, num_clusters=4, ground_truth=None, verbose=True, system=True)']\n",
      "['2020-07-29 09', '48', '14,100', 'INFO', 'Checking exceptions']\n",
      "['2020-07-29 09', '48', '14,101', 'INFO', 'Preloading libraries']\n",
      "['2020-07-29 09', '48', '14,102', 'INFO', 'Setting num_cluster param']\n",
      "['2020-07-29 09', '48', '14,102', 'INFO', 'Preparing display monitor']\n",
      "['2020-07-29 09', '48', '14,162', 'INFO', 'Importing untrained model']\n",
      "['2020-07-29 09', '48', '14,178', 'INFO', 'K-Modes Clustering Imported succesfully']\n",
      "['2020-07-29 09', '48', '14,201', 'INFO', 'Fitting Model']\n",
      "['2020-07-29 09', '48', '20,873', 'INFO', 'Evaluating Metrics']\n",
      "['2020-07-29 09', '48', '20,911', 'INFO', 'Creating Metrics dataframe']\n",
      "['2020-07-29 09', '48', '20,919', 'INFO', 'Creating MLFlow logs']\n",
      "['2020-07-29 09', '48', '21,190', 'INFO', 'SubProcess plot_model() called ==================================']\n",
      "['2020-07-29 09', '48', '21,190', 'INFO', 'Initializing plot_model()']\n",
      "['2020-07-29 09', '48', '21,192', 'INFO', \"plot_model(model=KModes(cat_dissim=<function matching_dissim at 0x00000229DC93C730>, init='Cao',\"]\n",
      "['max_iter=100, n_clusters=4, n_init=1, n_jobs=-1, random_state=123,']\n",
      "['verbose=0), plot=cluster, feature=None, label=False, save=True, system=False)']\n",
      "['2020-07-29 09', '48', '21,192', 'INFO', 'Checking exceptions']\n",
      "['2020-07-29 09', '48', '21,192', 'INFO', 'Importing libraries']\n",
      "['2020-07-29 09', '48', '21,221', 'INFO', 'plot type', 'cluster']\n",
      "['2020-07-29 09', '48', '21,221', 'INFO', 'SubProcess assign_model() called ==================================']\n",
      "['2020-07-29 09', '48', '21,221', 'INFO', 'Initializing assign_model()']\n",
      "['2020-07-29 09', '48', '21,223', 'INFO', \"assign_model(model=KModes(cat_dissim=<function matching_dissim at 0x00000229DC93C730>, init='Cao',\"]\n",
      "['max_iter=100, n_clusters=4, n_init=1, n_jobs=-1, random_state=123,']\n",
      "['verbose=0), transformation=True, verbose=False)']\n",
      "['2020-07-29 09', '48', '21,223', 'INFO', 'Checking exceptions']\n",
      "['2020-07-29 09', '48', '21,223', 'INFO', 'Preloading libraries']\n",
      "['2020-07-29 09', '48', '21,224', 'INFO', 'Copying data']\n",
      "['2020-07-29 09', '48', '21,224', 'INFO', 'Transformation param set to True. Assigned clusters are attached on transformed dataset.']\n",
      "['2020-07-29 09', '48', '21,225', 'INFO', 'Preparing display monitor']\n",
      "['2020-07-29 09', '48', '21,271', 'INFO', 'Determining Trained Model']\n",
      "['2020-07-29 09', '48', '21,273', 'INFO', 'Trained Model', 'K-Modes Clustering']\n",
      "['2020-07-29 09', '48', '21,274', 'INFO', '(224, 21)']\n",
      "['2020-07-29 09', '48', '21,274', 'INFO', 'assign_model() succesfully completed......................................']\n",
      "['2020-07-29 09', '48', '21,275', 'INFO', 'SubProcess assign_model() end ==================================']\n",
      "['2020-07-29 09', '48', '21,292', 'INFO', 'Fitting PCA()']\n",
      "['2020-07-29 09', '48', '21,315', 'INFO', 'Sorting dataframe']\n",
      "['2020-07-29 09', '48', '21,323', 'INFO', 'Rendering Visual']\n",
      "['2020-07-29 09', '48', '21,784', 'INFO', \"Saving 'Cluster.html' in current active directory\"]\n",
      "['2020-07-29 09', '48', '21,784', 'INFO', 'Visual Rendered Successfully']\n",
      "['2020-07-29 09', '48', '21,785', 'INFO', 'plot_model() succesfully completed......................................']\n",
      "['2020-07-29 09', '48', '21,905', 'INFO', 'Removing stopwords']\n",
      "['2020-07-29 09', '48', '23,356', 'INFO', 'Initializing plot_model()']\n",
      "['2020-07-29 09', '48', '23,357', 'INFO', \"plot_model(model=KModes(cat_dissim=<function matching_dissim at 0x00000229DC93C730>, init='Cao',\"]\n",
      "['max_iter=100, n_clusters=4, n_init=1, n_jobs=-1, random_state=123,']\n",
      "['verbose=0), plot=distribution, feature=None, label=False, save=True, system=False)']\n",
      "['2020-07-29 09', '48', '23,357', 'INFO', 'Checking exceptions']\n",
      "['2020-07-29 09', '48', '23,357', 'INFO', 'Importing libraries']\n",
      "['2020-07-29 09', '48', '23,386', 'INFO', 'plot type', 'distribution']\n",
      "['2020-07-29 09', '48', '23,387', 'INFO', 'SubProcess assign_model() called ==================================']\n",
      "['2020-07-29 09', '48', '23,387', 'INFO', 'Initializing assign_model()']\n",
      "['2020-07-29 09', '48', '23,388', 'INFO', \"assign_model(model=KModes(cat_dissim=<function matching_dissim at 0x00000229DC93C730>, init='Cao',\"]\n",
      "['max_iter=100, n_clusters=4, n_init=1, n_jobs=-1, random_state=123,']\n",
      "['verbose=0), transformation=False, verbose=False)']\n",
      "['2020-07-29 09', '48', '23,388', 'INFO', 'Checking exceptions']\n",
      "['2020-07-29 09', '48', '23,388', 'INFO', 'Preloading libraries']\n",
      "['2020-07-29 09', '48', '23,388', 'INFO', 'Copying data']\n",
      "['2020-07-29 09', '48', '23,391', 'INFO', 'Preparing display monitor']\n",
      "['2020-07-29 09', '48', '23,427', 'INFO', 'Determining Trained Model']\n",
      "['2020-07-29 09', '48', '23,428', 'INFO', 'Trained Model', 'K-Modes Clustering']\n",
      "['2020-07-29 09', '48', '23,429', 'INFO', '(224, 22)']\n",
      "['2020-07-29 09', '48', '23,429', 'INFO', 'assign_model() succesfully completed......................................']\n",
      "['2020-07-29 09', '48', '23,429', 'INFO', 'SubProcess assign_model() end ==================================']\n",
      "['2020-07-29 09', '48', '23,430', 'INFO', 'Sorting dataframe']\n",
      "['2020-07-29 09', '48', '23,439', 'INFO', 'Rendering Visual']\n",
      "['2020-07-29 09', '48', '24,069', 'INFO', \"Saving 'Distribution.html' in current active directory\"]\n",
      "['2020-07-29 09', '48', '24,069', 'INFO', 'Visual Rendered Successfully']\n",
      "['2020-07-29 09', '48', '24,070', 'INFO', 'plot_model() succesfully completed......................................']\n",
      "['2020-07-29 09', '48', '25,580', 'INFO', 'Initializing plot_model()']\n",
      "['2020-07-29 09', '48', '25,582', 'INFO', \"plot_model(model=KModes(cat_dissim=<function matching_dissim at 0x00000229DC93C730>, init='Cao',\"]\n",
      "['max_iter=100, n_clusters=4, n_init=1, n_jobs=-1, random_state=123,']\n",
      "['verbose=0), plot=elbow, feature=None, label=False, save=True, system=False)']\n",
      "['2020-07-29 09', '48', '25,582', 'INFO', 'Checking exceptions']\n",
      "['2020-07-29 09', '48', '25,582', 'INFO', 'Importing libraries']\n",
      "['2020-07-29 09', '48', '25,604', 'INFO', 'plot type', 'elbow']\n",
      "['2020-07-29 09', '48', '25,658', 'INFO', 'Fitting KElbowVisualizer()']\n",
      "['2020-07-29 09', '48', '32,253', 'INFO', 'Extracting Bigrams']\n",
      "['2020-07-29 09', '48', '41,062', 'INFO', 'Rendering Visual']\n",
      "['2020-07-29 09', '48', '41,646', 'INFO', \"Saving 'Elbow.png' in current active directory\"]\n",
      "['2020-07-29 09', '48', '41,646', 'INFO', 'Visual Rendered Successfully']\n",
      "['2020-07-29 09', '48', '41,646', 'INFO', 'plot_model() succesfully completed......................................']\n",
      "['2020-07-29 09', '48', '41,692', 'INFO', 'SubProcess plot_model() end ==================================']\n",
      "['2020-07-29 09', '48', '41,692', 'INFO', 'SubProcess save_model() called ==================================']\n",
      "['2020-07-29 09', '48', '41,693', 'INFO', 'Initializing save_model()']\n",
      "['2020-07-29 09', '48', '41,694', 'INFO', \"save_model(model=KModes(cat_dissim=<function matching_dissim at 0x00000229DC93C730>, init='Cao',\"]\n",
      "['max_iter=100, n_clusters=4, n_init=1, n_jobs=-1, random_state=123,']\n",
      "['verbose=0), model_name=Trained Model, verbose=False)']\n",
      "['2020-07-29 09', '48', '41,694', 'INFO', 'Appending prep pipeline']\n",
      "['2020-07-29 09', '48', '42,305', 'INFO', 'Trained Model.pkl saved in current working directory']\n",
      "['2020-07-29 09', '48', '42,330', 'INFO', '[Pipeline(memory=None,']\n",
      "[\"steps=[('dtypes',\"]\n",
      "['DataTypes_Auto_infer(categorical_features=[],']\n",
      "['display_types=True,']\n",
      "[\"features_todrop=['Country Name'],\"]\n",
      "[\"ml_usecase='regression',\"]\n",
      "['numerical_features=[],']\n",
      "[\"target='dummy_target',\"]\n",
      "['time_features=[])),']\n",
      "[\"('imputer',\"]\n",
      "[\"Simple_Imputer(categorical_strategy='not_available',\"]\n",
      "[\"numeric_strategy='mean',\"]\n",
      "['target_variable=None)),']\n",
      "[\"('new_levels1',\"]\n",
      "['New_...']\n",
      "[\"target='dummy_target')),\"]\n",
      "[\"('feature_time',\"]\n",
      "['Make_Time_Features(list_of_features=None, time_feature=[])),']\n",
      "[\"('group', Empty()), ('scaling', Empty()),\"]\n",
      "[\"('P_transform', Empty()), ('binn', Empty()),\"]\n",
      "[\"('fix_perfect', Empty()), ('rem_outliers', Empty()),\"]\n",
      "[\"('dummy', Dummify(target='dummy_target')),\"]\n",
      "[\"('clean_names', Clean_Colum_Names()), ('fix_multi', Empty()),\"]\n",
      "[\"('pca', Empty())],\"]\n",
      "[\"verbose=False), KModes(cat_dissim=<function matching_dissim at 0x00000229DC93C730>, init='Cao',\"]\n",
      "['max_iter=100, n_clusters=4, n_init=1, n_jobs=-1, random_state=123,']\n",
      "['verbose=0)]']\n",
      "['2020-07-29 09', '48', '42,330', 'INFO', 'save_model() succesfully completed......................................']\n",
      "['2020-07-29 09', '48', '42,330', 'INFO', 'SubProcess save_model() end ==================================']\n",
      "['2020-07-29 09', '48', '42,451', 'INFO', \"KModes(cat_dissim=<function matching_dissim at 0x00000229DC93C730>, init='Cao',\"]\n",
      "['max_iter=100, n_clusters=4, n_init=1, n_jobs=-1, random_state=123,']\n",
      "['verbose=0)']\n",
      "['2020-07-29 09', '48', '42,451', 'INFO', 'create_models() succesfully completed......................................']\n",
      "['2020-07-29 09', '48', '42,468', 'INFO', 'Initializing assign_model()']\n",
      "['2020-07-29 09', '48', '42,469', 'INFO', \"assign_model(model=KMeans(algorithm='auto', copy_x=True, init='k-means++', max_iter=300,\"]\n",
      "[\"n_clusters=4, n_init=10, n_jobs=-1, precompute_distances='deprecated',\"]\n",
      "['random_state=123, tol=0.0001, verbose=0), transformation=False, verbose=True)']\n",
      "['2020-07-29 09', '48', '42,470', 'INFO', 'Checking exceptions']\n",
      "['2020-07-29 09', '48', '42,470', 'INFO', 'Preloading libraries']\n",
      "['2020-07-29 09', '48', '42,470', 'INFO', 'Copying data']\n",
      "['2020-07-29 09', '48', '42,472', 'INFO', 'Preparing display monitor']\n",
      "['2020-07-29 09', '48', '42,563', 'INFO', 'Determining Trained Model']\n",
      "['2020-07-29 09', '48', '42,573', 'INFO', 'Trained Model', 'K-Means Clustering']\n",
      "['2020-07-29 09', '48', '42,576', 'INFO', '(224, 22)']\n",
      "['2020-07-29 09', '48', '42,577', 'INFO', 'assign_model() succesfully completed......................................']\n",
      "['2020-07-29 09', '48', '42,694', 'INFO', 'Initializing plot_model()']\n",
      "['2020-07-29 09', '48', '42,695', 'INFO', \"plot_model(model=KMeans(algorithm='auto', copy_x=True, init='k-means++', max_iter=300,\"]\n",
      "[\"n_clusters=4, n_init=10, n_jobs=-1, precompute_distances='deprecated',\"]\n",
      "['random_state=123, tol=0.0001, verbose=0), plot=cluster, feature=None, label=False, save=False, system=True)']\n",
      "['2020-07-29 09', '48', '42,696', 'INFO', 'Checking exceptions']\n",
      "['2020-07-29 09', '48', '42,696', 'INFO', 'Importing libraries']\n",
      "['2020-07-29 09', '48', '42,737', 'INFO', 'plot type', 'cluster']\n",
      "['2020-07-29 09', '48', '42,737', 'INFO', 'SubProcess assign_model() called ==================================']\n",
      "['2020-07-29 09', '48', '42,738', 'INFO', 'Initializing assign_model()']\n",
      "['2020-07-29 09', '48', '42,739', 'INFO', \"assign_model(model=KMeans(algorithm='auto', copy_x=True, init='k-means++', max_iter=300,\"]\n",
      "[\"n_clusters=4, n_init=10, n_jobs=-1, precompute_distances='deprecated',\"]\n",
      "['random_state=123, tol=0.0001, verbose=0), transformation=True, verbose=False)']\n",
      "['2020-07-29 09', '48', '42,740', 'INFO', 'Checking exceptions']\n",
      "['2020-07-29 09', '48', '42,740', 'INFO', 'Preloading libraries']\n",
      "['2020-07-29 09', '48', '42,740', 'INFO', 'Copying data']\n",
      "['2020-07-29 09', '48', '42,741', 'INFO', 'Transformation param set to True. Assigned clusters are attached on transformed dataset.']\n",
      "['2020-07-29 09', '48', '42,741', 'INFO', 'Preparing display monitor']\n",
      "['2020-07-29 09', '48', '42,782', 'INFO', 'Determining Trained Model']\n",
      "['2020-07-29 09', '48', '42,788', 'INFO', 'Trained Model', 'K-Means Clustering']\n",
      "['2020-07-29 09', '48', '42,789', 'INFO', '(224, 21)']\n",
      "['2020-07-29 09', '48', '42,789', 'INFO', 'assign_model() succesfully completed......................................']\n",
      "['2020-07-29 09', '48', '42,790', 'INFO', 'SubProcess assign_model() end ==================================']\n",
      "['2020-07-29 09', '48', '42,805', 'INFO', 'Fitting PCA()']\n",
      "['2020-07-29 09', '48', '42,824', 'INFO', 'Sorting dataframe']\n",
      "['2020-07-29 09', '48', '42,833', 'INFO', 'Rendering Visual']\n",
      "['2020-07-29 09', '48', '43,140', 'INFO', 'Visual Rendered Successfully']\n",
      "['2020-07-29 09', '48', '43,140', 'INFO', 'plot_model() succesfully completed......................................']\n",
      "['2020-07-29 09', '48', '43,154', 'INFO', 'Initializing plot_model()']\n",
      "['2020-07-29 09', '48', '43,156', 'INFO', \"plot_model(model=KMeans(algorithm='auto', copy_x=True, init='k-means++', max_iter=300,\"]\n",
      "[\"n_clusters=4, n_init=10, n_jobs=-1, precompute_distances='deprecated',\"]\n",
      "['random_state=123, tol=0.0001, verbose=0), plot=cluster, feature=Country Name, label=True, save=False, system=True)']\n",
      "['2020-07-29 09', '48', '43,156', 'INFO', 'Checking exceptions']\n",
      "['2020-07-29 09', '48', '43,157', 'INFO', 'Importing libraries']\n",
      "['2020-07-29 09', '48', '43,186', 'INFO', 'plot type', 'cluster']\n",
      "['2020-07-29 09', '48', '43,188', 'INFO', 'SubProcess assign_model() called ==================================']\n",
      "['2020-07-29 09', '48', '43,188', 'INFO', 'Initializing assign_model()']\n",
      "['2020-07-29 09', '48', '43,192', 'INFO', \"assign_model(model=KMeans(algorithm='auto', copy_x=True, init='k-means++', max_iter=300,\"]\n",
      "[\"n_clusters=4, n_init=10, n_jobs=-1, precompute_distances='deprecated',\"]\n",
      "['random_state=123, tol=0.0001, verbose=0), transformation=True, verbose=False)']\n",
      "['2020-07-29 09', '48', '43,192', 'INFO', 'Checking exceptions']\n",
      "['2020-07-29 09', '48', '43,193', 'INFO', 'Preloading libraries']\n",
      "['2020-07-29 09', '48', '43,193', 'INFO', 'Copying data']\n",
      "['2020-07-29 09', '48', '43,194', 'INFO', 'Transformation param set to True. Assigned clusters are attached on transformed dataset.']\n",
      "['2020-07-29 09', '48', '43,194', 'INFO', 'Preparing display monitor']\n",
      "['2020-07-29 09', '48', '43,230', 'INFO', 'Determining Trained Model']\n",
      "['2020-07-29 09', '48', '43,232', 'INFO', 'Trained Model', 'K-Means Clustering']\n",
      "['2020-07-29 09', '48', '43,233', 'INFO', '(224, 21)']\n",
      "['2020-07-29 09', '48', '43,233', 'INFO', 'assign_model() succesfully completed......................................']\n",
      "['2020-07-29 09', '48', '43,233', 'INFO', 'SubProcess assign_model() end ==================================']\n",
      "['2020-07-29 09', '48', '43,246', 'INFO', 'Fitting PCA()']\n",
      "['2020-07-29 09', '48', '43,268', 'INFO', 'Sorting dataframe']\n",
      "['2020-07-29 09', '48', '43,274', 'INFO', 'Rendering Visual']\n",
      "['2020-07-29 09', '48', '43,585', 'INFO', 'Visual Rendered Successfully']\n",
      "['2020-07-29 09', '48', '43,585', 'INFO', 'plot_model() succesfully completed......................................']\n",
      "['2020-07-29 09', '48', '43,599', 'INFO', 'Initializing plot_model()']\n",
      "['2020-07-29 09', '48', '43,601', 'INFO', \"plot_model(model=KMeans(algorithm='auto', copy_x=True, init='k-means++', max_iter=300,\"]\n",
      "[\"n_clusters=4, n_init=10, n_jobs=-1, precompute_distances='deprecated',\"]\n",
      "['random_state=123, tol=0.0001, verbose=0), plot=tsne, feature=None, label=False, save=False, system=True)']\n",
      "['2020-07-29 09', '48', '43,602', 'INFO', 'Checking exceptions']\n",
      "['2020-07-29 09', '48', '43,602', 'INFO', 'Importing libraries']\n",
      "['2020-07-29 09', '48', '43,658', 'INFO', 'plot type', 'tsne']\n",
      "['2020-07-29 09', '48', '43,659', 'INFO', 'SubProcess assign_model() called ==================================']\n",
      "['2020-07-29 09', '48', '43,659', 'INFO', 'Initializing assign_model()']\n",
      "['2020-07-29 09', '48', '43,661', 'INFO', \"assign_model(model=KMeans(algorithm='auto', copy_x=True, init='k-means++', max_iter=300,\"]\n",
      "[\"n_clusters=4, n_init=10, n_jobs=-1, precompute_distances='deprecated',\"]\n",
      "['random_state=123, tol=0.0001, verbose=0), transformation=True, verbose=False)']\n",
      "['2020-07-29 09', '48', '43,662', 'INFO', 'Checking exceptions']\n",
      "['2020-07-29 09', '48', '43,662', 'INFO', 'Preloading libraries']\n",
      "['2020-07-29 09', '48', '43,663', 'INFO', 'Copying data']\n",
      "['2020-07-29 09', '48', '43,664', 'INFO', 'Transformation param set to True. Assigned clusters are attached on transformed dataset.']\n",
      "['2020-07-29 09', '48', '43,664', 'INFO', 'Preparing display monitor']\n",
      "['2020-07-29 09', '48', '43,711', 'INFO', 'Determining Trained Model']\n",
      "['2020-07-29 09', '48', '43,713', 'INFO', 'Trained Model', 'K-Means Clustering']\n",
      "['2020-07-29 09', '48', '43,714', 'INFO', '(224, 21)']\n",
      "['2020-07-29 09', '48', '43,714', 'INFO', 'assign_model() succesfully completed......................................']\n",
      "['2020-07-29 09', '48', '43,714', 'INFO', 'SubProcess assign_model() end ==================================']\n",
      "['2020-07-29 09', '48', '43,718', 'INFO', 'Fitting TSNE()']\n",
      "['2020-07-29 09', '48', '49,461', 'INFO', 'Rendering Visual']\n",
      "['2020-07-29 09', '48', '59,261', 'INFO', 'Sorting dataframe']\n",
      "['2020-07-29 09', '48', '59,268', 'INFO', 'Rendering Visual']\n",
      "['2020-07-29 09', '48', '59,625', 'INFO', 'Visual Rendered Successfully']\n",
      "['2020-07-29 09', '48', '59,626', 'INFO', 'plot_model() succesfully completed......................................']\n",
      "['2020-07-29 09', '48', '59,656', 'INFO', 'Initializing plot_model()']\n",
      "['2020-07-29 09', '48', '59,658', 'INFO', \"plot_model(model=KMeans(algorithm='auto', copy_x=True, init='k-means++', max_iter=300,\"]\n",
      "[\"n_clusters=4, n_init=10, n_jobs=-1, precompute_distances='deprecated',\"]\n",
      "['random_state=123, tol=0.0001, verbose=0), plot=elbow, feature=None, label=False, save=False, system=True)']\n",
      "['2020-07-29 09', '48', '59,658', 'INFO', 'Checking exceptions']\n",
      "['2020-07-29 09', '48', '59,658', 'INFO', 'Importing libraries']\n",
      "['2020-07-29 09', '48', '59,688', 'INFO', 'plot type', 'elbow']\n",
      "['2020-07-29 09', '48', '59,688', 'INFO', 'Fitting KElbowVisualizer()']\n",
      "['2020-07-29 09', '49', '01,501', 'INFO', 'Visual Rendered Successfully']\n",
      "['2020-07-29 09', '49', '01,501', 'INFO', 'plot_model() succesfully completed......................................']\n",
      "['2020-07-29 09', '49', '01,532', 'INFO', 'Initializing plot_model()']\n",
      "['2020-07-29 09', '49', '01,533', 'INFO', \"plot_model(model=IForest(behaviour='new', bootstrap=False, contamination=0.05,\"]\n",
      "[\"max_features=1.0, max_samples='auto', n_estimators=100, n_jobs=1,\"]\n",
      "['random_state=123, verbose=0), plot=umap, feature=None, save=False, system=True)']\n",
      "['2020-07-29 09', '49', '01,533', 'INFO', 'Checking exceptions']\n",
      "['2020-07-29 09', '49', '01,533', 'INFO', 'Importing libraries']\n",
      "['2020-07-29 09', '49', '01,555', 'INFO', 'plot type', 'umap']\n",
      "['2020-07-29 09', '49', '01,556', 'INFO', 'SubProcess assign_model() called ==================================']\n",
      "['2020-07-29 09', '49', '01,556', 'INFO', 'Initializing assign_model()']\n",
      "['2020-07-29 09', '49', '01,556', 'INFO', \"assign_model(model=IForest(behaviour='new', bootstrap=False, contamination=0.05,\"]\n",
      "[\"max_features=1.0, max_samples='auto', n_estimators=100, n_jobs=1,\"]\n",
      "['random_state=123, verbose=0), transformation=True, score=False, verbose=False)']\n",
      "['2020-07-29 09', '49', '01,557', 'INFO', 'Preloading libraries']\n",
      "['2020-07-29 09', '49', '01,557', 'INFO', 'Copying data']\n"
     ]
    },
    {
     "name": "stdout",
     "output_type": "stream",
     "text": [
      "['2020-07-29 09', '49', '01,558', 'INFO', 'Preparing display monitor']\n",
      "['2020-07-29 09', '49', '01,588', 'INFO', 'Determining Trained Model']\n",
      "['2020-07-29 09', '49', '01,589', 'INFO', 'Trained Model', 'Assigned Isolation Forest']\n",
      "['2020-07-29 09', '49', '01,590', 'INFO', '(1000, 11)']\n",
      "['2020-07-29 09', '49', '01,590', 'INFO', 'assign_model() succesfully completed......................................']\n",
      "['2020-07-29 09', '49', '01,590', 'INFO', 'SubProcess assign_model() end ==================================']\n",
      "['2020-07-29 09', '49', '01,598', 'INFO', 'Getting dummies to cast categorical variables']\n",
      "['2020-07-29 09', '49', '02,407', 'INFO', 'Extracting Trigrams']\n",
      "['2020-07-29 09', '49', '05,305', 'INFO', 'Fitting UMAP()']\n",
      "['2020-07-29 09', '49', '14,048', 'INFO', 'PyCaret Regression Module']\n",
      "['2020-07-29 09', '49', '14,048', 'INFO', 'version pycaret-nightly-0.39']\n",
      "['2020-07-29 09', '49', '14,048', 'INFO', 'Initializing setup()']\n",
      "['2020-07-29 09', '49', '14,049', 'INFO', 'USI', 'd354']\n",
      "['2020-07-29 09', '49', '14,049', 'INFO', 'setup(data=(1338, 7), target=charges, train_size=0.7, sampling=True, sample_estimator=None, categorical_features=None, categorical_imputation=constant, ordinal_features=None,']\n",
      "['high_cardinality_features=None, high_cardinality_method=frequency, numeric_features=None, numeric_imputation=mean, date_features=None, ignore_features=None, normalize=False,']\n",
      "['normalize_method=zscore, transformation=False, transformation_method=yeo-johnson, handle_unknown_categorical=True, unknown_categorical_method=least_frequent, pca=False, pca_method=linear,']\n",
      "['pca_components=None, ignore_low_variance=False, combine_rare_levels=False, rare_level_threshold=0.1, bin_numeric_features=None, remove_outliers=False, outliers_threshold=0.05,']\n",
      "['remove_multicollinearity=False, multicollinearity_threshold=0.9, remove_perfect_collinearity=False, create_clusters=False, cluster_iter=20,']\n",
      "['polynomial_features=False, polynomial_degree=2, trigonometry_features=False, polynomial_threshold=0.1, group_features=None,']\n",
      "['group_names=None, feature_selection=False, feature_selection_threshold=0.8, feature_interaction=False, feature_ratio=False, interaction_threshold=0.01, transform_target=False,']\n",
      "['transform_target_method=box-cox, data_split_shuffle=True, folds_shuffle=False, n_jobs=-1, html=True, session_id=123, log_experiment=True,']\n",
      "['experiment_name=insurance1, log_plots=False, log_profile=False, log_data=False, silent=False, verbose=True, profile=False)']\n",
      "['2020-07-29 09', '49', '14,049', 'INFO', 'Checking environment']\n",
      "['2020-07-29 09', '49', '14,049', 'INFO', 'python_version', '3.6.10']\n",
      "['2020-07-29 09', '49', '14,050', 'INFO', 'python_build', \"('default', 'May  7 2020 19\", '46', \"08')\"]\n",
      "['2020-07-29 09', '49', '14,050', 'INFO', 'machine', 'AMD64']\n",
      "['2020-07-29 09', '49', '14,050', 'INFO', 'platform', 'Windows-10-10.0.18362-SP0']\n",
      "['2020-07-29 09', '49', '14,097', 'INFO', 'Memory', 'svmem(total=17032478720, available=5629382656, percent=66.9, used=11403096064, free=5629382656)']\n",
      "['2020-07-29 09', '49', '14,097', 'INFO', 'Physical Core', '4']\n",
      "['2020-07-29 09', '49', '14,097', 'INFO', 'Logical Core', '8']\n",
      "['2020-07-29 09', '49', '14,097', 'INFO', 'Checking libraries']\n",
      "['2020-07-29 09', '49', '14,097', 'INFO', 'pd==1.0.4']\n",
      "['2020-07-29 09', '49', '14,098', 'INFO', 'numpy==1.18.5']\n",
      "['2020-07-29 09', '49', '14,935', 'INFO', 'sklearn==0.23.1']\n",
      "['2020-07-29 09', '49', '15,080', 'INFO', 'xgboost==1.1.1']\n",
      "['2020-07-29 09', '49', '15,220', 'INFO', 'lightgbm==2.3.1']\n",
      "['2020-07-29 09', '49', '15,339', 'INFO', 'catboost==0.23.2']\n",
      "['2020-07-29 09', '49', '16,374', 'INFO', 'mlflow==1.8.0']\n",
      "['2020-07-29 09', '49', '16,375', 'INFO', 'Checking Exceptions']\n",
      "['2020-07-29 09', '49', '16,375', 'INFO', 'Preloading libraries']\n",
      "['2020-07-29 09', '49', '16,375', 'INFO', 'Preparing display monitor']\n",
      "['2020-07-29 09', '49', '16,408', 'INFO', 'Importing libraries']\n",
      "['2020-07-29 09', '49', '19,757', 'INFO', 'Copying data for preprocessing']\n",
      "['2020-07-29 09', '49', '19,758', 'INFO', 'Declaring global variables']\n",
      "['2020-07-29 09', '49', '19,777', 'INFO', 'Declaring preprocessing parameters']\n",
      "['2020-07-29 09', '49', '19,777', 'INFO', 'Importing preprocessing module']\n",
      "['2020-07-29 09', '49', '21,005', 'INFO', 'Creating preprocessing pipeline']\n",
      "['2020-07-29 09', '49', '22,813', 'INFO', 'Preprocessing pipeline created successfully']\n",
      "['2020-07-29 09', '49', '22,813', 'INFO', 'No inverse transformer found']\n",
      "['2020-07-29 09', '49', '22,814', 'INFO', 'Creating grid variables']\n",
      "['2020-07-29 09', '49', '22,818', 'INFO', 'Creating global containers']\n",
      "['2020-07-29 09', '49', '22,997', 'INFO', 'Logging experiment in MLFlow']\n",
      "['2020-07-29 09', '49', '23,497', 'INFO', 'SubProcess save_model() called ==================================']\n",
      "['2020-07-29 09', '49', '23,497', 'INFO', 'Initializing save_model()']\n",
      "['2020-07-29 09', '49', '23,514', 'INFO', 'save_model(model=Pipeline(memory=None,']\n",
      "[\"steps=[('dtypes',\"]\n",
      "['DataTypes_Auto_infer(categorical_features=[],']\n",
      "['display_types=True, features_todrop=[],']\n",
      "[\"ml_usecase='regression',\"]\n",
      "[\"numerical_features=[], target='charges',\"]\n",
      "['time_features=[])),']\n",
      "[\"('imputer',\"]\n",
      "[\"Simple_Imputer(categorical_strategy='not_available',\"]\n",
      "[\"numeric_strategy='mean',\"]\n",
      "['target_variable=None)),']\n",
      "[\"('new_levels1',\"]\n",
      "['New_Catagorical_Levels...']\n",
      "[\"('group', Empty()), ('nonliner', Empty()), ('scaling', Empty()),\"]\n",
      "[\"('P_transform', Empty()), ('pt_target', Empty()),\"]\n",
      "[\"('binn', Empty()), ('rem_outliers', Empty()),\"]\n",
      "[\"('cluster_all', Empty()), ('dummy', Dummify(target='charges')),\"]\n",
      "[\"('fix_perfect', Empty()), ('clean_names', Clean_Colum_Names()),\"]\n",
      "[\"('feature_select', Empty()), ('fix_multi', Empty()),\"]\n",
      "[\"('dfs', Empty()), ('pca', Empty())],\"]\n",
      "['verbose=False), model_name=Transformation Pipeline, verbose=False)']\n",
      "['2020-07-29 09', '49', '23,514', 'INFO', 'Appending prep pipeline']\n",
      "['2020-07-29 09', '49', '23,528', 'INFO', 'Transformation Pipeline.pkl saved in current working directory']\n",
      "['2020-07-29 09', '49', '23,556', 'INFO', '[Pipeline(memory=None,']\n",
      "[\"steps=[('dtypes',\"]\n",
      "['DataTypes_Auto_infer(categorical_features=[],']\n",
      "['display_types=True, features_todrop=[],']\n",
      "[\"ml_usecase='regression',\"]\n",
      "[\"numerical_features=[], target='charges',\"]\n",
      "['time_features=[])),']\n",
      "[\"('imputer',\"]\n",
      "[\"Simple_Imputer(categorical_strategy='not_available',\"]\n",
      "[\"numeric_strategy='mean',\"]\n",
      "['target_variable=None)),']\n",
      "[\"('new_levels1',\"]\n",
      "['New_Catagorical_Levels...']\n",
      "[\"('group', Empty()), ('nonliner', Empty()), ('scaling', Empty()),\"]\n",
      "[\"('P_transform', Empty()), ('pt_target', Empty()),\"]\n",
      "[\"('binn', Empty()), ('rem_outliers', Empty()),\"]\n",
      "[\"('cluster_all', Empty()), ('dummy', Dummify(target='charges')),\"]\n",
      "[\"('fix_perfect', Empty()), ('clean_names', Clean_Colum_Names()),\"]\n",
      "[\"('feature_select', Empty()), ('fix_multi', Empty()),\"]\n",
      "[\"('dfs', Empty()), ('pca', Empty())],\"]\n",
      "['verbose=False), Pipeline(memory=None,']\n",
      "[\"steps=[('dtypes',\"]\n",
      "['DataTypes_Auto_infer(categorical_features=[],']\n",
      "['display_types=True, features_todrop=[],']\n",
      "[\"ml_usecase='regression',\"]\n",
      "[\"numerical_features=[], target='charges',\"]\n",
      "['time_features=[])),']\n",
      "[\"('imputer',\"]\n",
      "[\"Simple_Imputer(categorical_strategy='not_available',\"]\n",
      "[\"numeric_strategy='mean',\"]\n",
      "['target_variable=None)),']\n",
      "[\"('new_levels1',\"]\n",
      "['New_Catagorical_Levels...']\n",
      "[\"('group', Empty()), ('nonliner', Empty()), ('scaling', Empty()),\"]\n",
      "[\"('P_transform', Empty()), ('pt_target', Empty()),\"]\n",
      "[\"('binn', Empty()), ('rem_outliers', Empty()),\"]\n",
      "[\"('cluster_all', Empty()), ('dummy', Dummify(target='charges')),\"]\n",
      "[\"('fix_perfect', Empty()), ('clean_names', Clean_Colum_Names()),\"]\n",
      "[\"('feature_select', Empty()), ('fix_multi', Empty()),\"]\n",
      "[\"('dfs', Empty()), ('pca', Empty())],\"]\n",
      "['verbose=False), None]']\n",
      "['2020-07-29 09', '49', '23,557', 'INFO', 'save_model() succesfully completed......................................']\n",
      "['2020-07-29 09', '49', '23,557', 'INFO', 'SubProcess save_model() end ==================================']\n",
      "['2020-07-29 09', '49', '24,045', 'INFO', 'create_model_container', '0']\n",
      "['2020-07-29 09', '49', '24,045', 'INFO', 'master_model_container', '0']\n",
      "['2020-07-29 09', '49', '24,045', 'INFO', 'display_container', '0']\n",
      "['2020-07-29 09', '49', '24,045', 'INFO', 'setup() succesfully completed......................................']\n",
      "['2020-07-29 09', '49', '25,845', 'INFO', 'Initializing compare_models()']\n",
      "['2020-07-29 09', '49', '25,845', 'INFO', 'compare_models(blacklist=None, whitelist=None, fold=5, round=4, sort=R2, n_select=1, turbo=True, verbose=True)']\n",
      "['2020-07-29 09', '49', '25,845', 'INFO', 'Checking exceptions']\n",
      "['2020-07-29 09', '49', '25,846', 'INFO', 'Preloading libraries']\n",
      "['2020-07-29 09', '49', '25,846', 'INFO', 'Preparing display monitor']\n",
      "['2020-07-29 09', '49', '25,953', 'INFO', 'Copying training dataset']\n",
      "['2020-07-29 09', '49', '25,957', 'INFO', 'Importing libraries']\n",
      "['2020-07-29 09', '49', '25,997', 'INFO', 'Importing untrained models']\n",
      "['2020-07-29 09', '49', '26,001', 'INFO', 'Import successful']\n",
      "['2020-07-29 09', '49', '26,023', 'INFO', 'Defining folds']\n",
      "['2020-07-29 09', '49', '26,023', 'INFO', 'Declaring metric variables']\n",
      "['2020-07-29 09', '49', '26,023', 'INFO', 'Initializing Linear Regression']\n",
      "['2020-07-29 09', '49', '26,050', 'INFO', 'Initializing Fold 1']\n",
      "['2020-07-29 09', '49', '26,072', 'INFO', 'Fitting Model']\n",
      "['2020-07-29 09', '49', '26,081', 'INFO', 'Evaluating Metrics']\n",
      "['2020-07-29 09', '49', '26,097', 'INFO', 'No inverse transformer found']\n",
      "['2020-07-29 09', '49', '26,098', 'INFO', 'Compiling Metrics']\n",
      "['2020-07-29 09', '49', '26,243', 'INFO', 'Initializing Fold 2']\n",
      "['2020-07-29 09', '49', '26,280', 'INFO', 'Fitting Model']\n",
      "['2020-07-29 09', '49', '26,291', 'INFO', 'Evaluating Metrics']\n",
      "['2020-07-29 09', '49', '26,298', 'INFO', 'No inverse transformer found']\n",
      "['2020-07-29 09', '49', '26,298', 'INFO', 'Compiling Metrics']\n",
      "['2020-07-29 09', '49', '26,372', 'INFO', 'Initializing Fold 3']\n",
      "['2020-07-29 09', '49', '26,407', 'INFO', 'Fitting Model']\n",
      "['2020-07-29 09', '49', '26,424', 'INFO', 'Evaluating Metrics']\n",
      "['2020-07-29 09', '49', '26,430', 'INFO', 'No inverse transformer found']\n",
      "['2020-07-29 09', '49', '26,430', 'INFO', 'Compiling Metrics']\n",
      "['2020-07-29 09', '49', '26,489', 'INFO', 'Initializing Fold 4']\n",
      "['2020-07-29 09', '49', '26,529', 'INFO', 'Fitting Model']\n",
      "['2020-07-29 09', '49', '26,542', 'INFO', 'Evaluating Metrics']\n",
      "['2020-07-29 09', '49', '26,547', 'INFO', 'No inverse transformer found']\n",
      "['2020-07-29 09', '49', '26,547', 'INFO', 'Compiling Metrics']\n",
      "['2020-07-29 09', '49', '26,627', 'INFO', 'Initializing Fold 5']\n",
      "['2020-07-29 09', '49', '26,685', 'INFO', 'Fitting Model']\n",
      "['2020-07-29 09', '49', '26,695', 'INFO', 'Evaluating Metrics']\n",
      "['2020-07-29 09', '49', '26,701', 'INFO', 'No inverse transformer found']\n",
      "['2020-07-29 09', '49', '26,702', 'INFO', 'Compiling Metrics']\n",
      "['2020-07-29 09', '49', '26,784', 'INFO', 'Calculating mean and std']\n",
      "['2020-07-29 09', '49', '26,787', 'INFO', 'Creating metrics dataframe']\n",
      "['2020-07-29 09', '49', '26,947', 'INFO', 'Creating MLFlow logs']\n",
      "['2020-07-29 09', '49', '27,492', 'INFO', 'SubProcess save_model() called ==================================']\n",
      "['2020-07-29 09', '49', '27,492', 'INFO', 'Initializing save_model()']\n",
      "['2020-07-29 09', '49', '27,496', 'INFO', 'save_model(model=LinearRegression(copy_X=True, fit_intercept=True, n_jobs=-1, normalize=False), model_name=Trained Model, verbose=False)']\n",
      "['2020-07-29 09', '49', '27,496', 'INFO', 'Appending prep pipeline']\n",
      "['2020-07-29 09', '49', '27,584', 'INFO', 'Trained Model.pkl saved in current working directory']\n",
      "['2020-07-29 09', '49', '27,637', 'INFO', '[Pipeline(memory=None,']\n",
      "[\"steps=[('dtypes',\"]\n",
      "['DataTypes_Auto_infer(categorical_features=[],']\n",
      "['display_types=True, features_todrop=[],']\n",
      "[\"ml_usecase='regression',\"]\n",
      "[\"numerical_features=[], target='charges',\"]\n",
      "['time_features=[])),']\n",
      "[\"('imputer',\"]\n",
      "[\"Simple_Imputer(categorical_strategy='not_available',\"]\n",
      "[\"numeric_strategy='mean',\"]\n",
      "['target_variable=None)),']\n",
      "[\"('new_levels1',\"]\n",
      "['New_Catagorical_Levels...']\n",
      "[\"('group', Empty()), ('nonliner', Empty()), ('scaling', Empty()),\"]\n",
      "[\"('P_transform', Empty()), ('pt_target', Empty()),\"]\n",
      "[\"('binn', Empty()), ('rem_outliers', Empty()),\"]\n",
      "[\"('cluster_all', Empty()), ('dummy', Dummify(target='charges')),\"]\n",
      "[\"('fix_perfect', Empty()), ('clean_names', Clean_Colum_Names()),\"]\n",
      "[\"('feature_select', Empty()), ('fix_multi', Empty()),\"]\n",
      "[\"('dfs', Empty()), ('pca', Empty())],\"]\n",
      "['verbose=False), LinearRegression(copy_X=True, fit_intercept=True, n_jobs=-1, normalize=False), None]']\n",
      "['2020-07-29 09', '49', '27,638', 'INFO', 'save_model() succesfully completed......................................']\n",
      "['2020-07-29 09', '49', '27,638', 'INFO', 'SubProcess save_model() end ==================================']\n",
      "['2020-07-29 09', '49', '27,641', 'INFO', 'Rendering Visual']\n",
      "['2020-07-29 09', '49', '27,775', 'INFO', 'Initializing Lasso Regression']\n",
      "['2020-07-29 09', '49', '27,790', 'INFO', 'Initializing Fold 1']\n",
      "['2020-07-29 09', '49', '27,809', 'INFO', 'Fitting Model']\n",
      "['2020-07-29 09', '49', '27,819', 'INFO', 'Evaluating Metrics']\n",
      "['2020-07-29 09', '49', '27,824', 'INFO', 'No inverse transformer found']\n",
      "['2020-07-29 09', '49', '27,824', 'INFO', 'Compiling Metrics']\n",
      "['2020-07-29 09', '49', '27,842', 'INFO', 'Initializing Fold 2']\n",
      "['2020-07-29 09', '49', '27,862', 'INFO', 'Fitting Model']\n",
      "['2020-07-29 09', '49', '27,871', 'INFO', 'Evaluating Metrics']\n",
      "['2020-07-29 09', '49', '27,876', 'INFO', 'No inverse transformer found']\n",
      "['2020-07-29 09', '49', '27,876', 'INFO', 'Compiling Metrics']\n",
      "['2020-07-29 09', '49', '27,899', 'INFO', 'Initializing Fold 3']\n",
      "['2020-07-29 09', '49', '27,909', 'INFO', 'Visual Rendered Successfully']\n",
      "['2020-07-29 09', '49', '27,910', 'INFO', 'plot_model() succesfully completed......................................']\n",
      "['2020-07-29 09', '49', '27,921', 'INFO', 'Fitting Model']\n",
      "['2020-07-29 09', '49', '27,931', 'INFO', 'Evaluating Metrics']\n",
      "['2020-07-29 09', '49', '27,939', 'INFO', 'No inverse transformer found']\n",
      "['2020-07-29 09', '49', '27,939', 'INFO', 'Compiling Metrics']\n",
      "['2020-07-29 09', '49', '27,968', 'INFO', 'Initializing Fold 4']\n",
      "['2020-07-29 09', '49', '27,993', 'INFO', 'Fitting Model']\n",
      "['2020-07-29 09', '49', '28,006', 'INFO', 'Evaluating Metrics']\n",
      "['2020-07-29 09', '49', '28,013', 'INFO', 'No inverse transformer found']\n",
      "['2020-07-29 09', '49', '28,014', 'INFO', 'Compiling Metrics']\n",
      "['2020-07-29 09', '49', '28,044', 'INFO', 'Initializing Fold 5']\n",
      "['2020-07-29 09', '49', '28,072', 'INFO', 'Fitting Model']\n",
      "['2020-07-29 09', '49', '28,083', 'INFO', 'Evaluating Metrics']\n",
      "['2020-07-29 09', '49', '28,091', 'INFO', 'No inverse transformer found']\n",
      "['2020-07-29 09', '49', '28,091', 'INFO', 'Compiling Metrics']\n",
      "['2020-07-29 09', '49', '28,118', 'INFO', 'Calculating mean and std']\n",
      "['2020-07-29 09', '49', '28,119', 'INFO', 'Creating metrics dataframe']\n",
      "['2020-07-29 09', '49', '28,162', 'INFO', 'Creating MLFlow logs']\n",
      "['2020-07-29 09', '49', '28,366', 'INFO', 'SubProcess save_model() called ==================================']\n",
      "['2020-07-29 09', '49', '28,367', 'INFO', 'Initializing save_model()']\n",
      "['2020-07-29 09', '49', '28,367', 'INFO', 'save_model(model=Lasso(alpha=1.0, copy_X=True, fit_intercept=True, max_iter=1000,']\n",
      "['normalize=False, positive=False, precompute=False, random_state=123,']\n",
      "[\"selection='cyclic', tol=0.0001, warm_start=False), model_name=Trained Model, verbose=False)\"]\n",
      "['2020-07-29 09', '49', '28,368', 'INFO', 'Appending prep pipeline']\n",
      "['2020-07-29 09', '49', '28,392', 'INFO', 'Trained Model.pkl saved in current working directory']\n",
      "['2020-07-29 09', '49', '28,410', 'INFO', '[Pipeline(memory=None,']\n",
      "[\"steps=[('dtypes',\"]\n",
      "['DataTypes_Auto_infer(categorical_features=[],']\n",
      "['display_types=True, features_todrop=[],']\n",
      "[\"ml_usecase='regression',\"]\n",
      "[\"numerical_features=[], target='charges',\"]\n",
      "['time_features=[])),']\n",
      "[\"('imputer',\"]\n",
      "[\"Simple_Imputer(categorical_strategy='not_available',\"]\n",
      "[\"numeric_strategy='mean',\"]\n",
      "['target_variable=None)),']\n",
      "[\"('new_levels1',\"]\n",
      "['New_Catagorical_Levels...']\n",
      "[\"('group', Empty()), ('nonliner', Empty()), ('scaling', Empty()),\"]\n",
      "[\"('P_transform', Empty()), ('pt_target', Empty()),\"]\n",
      "[\"('binn', Empty()), ('rem_outliers', Empty()),\"]\n",
      "[\"('cluster_all', Empty()), ('dummy', Dummify(target='charges')),\"]\n",
      "[\"('fix_perfect', Empty()), ('clean_names', Clean_Colum_Names()),\"]\n",
      "[\"('feature_select', Empty()), ('fix_multi', Empty()),\"]\n",
      "[\"('dfs', Empty()), ('pca', Empty())],\"]\n",
      "['verbose=False), Lasso(alpha=1.0, copy_X=True, fit_intercept=True, max_iter=1000,']\n",
      "['normalize=False, positive=False, precompute=False, random_state=123,']\n",
      "[\"selection='cyclic', tol=0.0001, warm_start=False), None]\"]\n",
      "['2020-07-29 09', '49', '28,410', 'INFO', 'save_model() succesfully completed......................................']\n",
      "['2020-07-29 09', '49', '28,410', 'INFO', 'SubProcess save_model() end ==================================']\n",
      "['2020-07-29 09', '49', '28,583', 'INFO', 'Initializing Ridge Regression']\n",
      "['2020-07-29 09', '49', '28,598', 'INFO', 'Initializing save_model()']\n",
      "['2020-07-29 09', '49', '28,599', 'INFO', \"save_model(model=IForest(behaviour='new', bootstrap=False, contamination=0.05,\"]\n",
      "[\"max_features=1.0, max_samples='auto', n_estimators=100, n_jobs=1,\"]\n",
      "['random_state=123, verbose=0), model_name=iforest, verbose=True)']\n",
      "['2020-07-29 09', '49', '28,600', 'INFO', 'Appending prep pipeline']\n",
      "['2020-07-29 09', '49', '28,607', 'INFO', 'Initializing Fold 1']\n",
      "['2020-07-29 09', '49', '28,630', 'INFO', 'Fitting Model']\n",
      "['2020-07-29 09', '49', '28,638', 'INFO', 'Evaluating Metrics']\n",
      "['2020-07-29 09', '49', '28,645', 'INFO', 'No inverse transformer found']\n",
      "['2020-07-29 09', '49', '28,645', 'INFO', 'Compiling Metrics']\n",
      "['2020-07-29 09', '49', '28,663', 'INFO', 'Initializing Fold 2']\n",
      "['2020-07-29 09', '49', '28,682', 'INFO', 'Fitting Model']\n",
      "['2020-07-29 09', '49', '28,692', 'INFO', 'Evaluating Metrics']\n",
      "['2020-07-29 09', '49', '28,697', 'INFO', 'No inverse transformer found']\n",
      "['2020-07-29 09', '49', '28,697', 'INFO', 'Compiling Metrics']\n",
      "['2020-07-29 09', '49', '28,720', 'INFO', 'Initializing Fold 3']\n",
      "['2020-07-29 09', '49', '28,744', 'INFO', 'Fitting Model']\n",
      "['2020-07-29 09', '49', '28,752', 'INFO', 'Evaluating Metrics']\n",
      "['2020-07-29 09', '49', '28,758', 'INFO', 'No inverse transformer found']\n",
      "['2020-07-29 09', '49', '28,759', 'INFO', 'Compiling Metrics']\n",
      "['2020-07-29 09', '49', '28,766', 'INFO', 'iforest.pkl saved in current working directory']\n",
      "['2020-07-29 09', '49', '28,782', 'INFO', 'Initializing Fold 4']\n",
      "['2020-07-29 09', '49', '28,787', 'INFO', '[Pipeline(memory=None,']\n",
      "[\"steps=[('dtypes',\"]\n",
      "['DataTypes_Auto_infer(categorical_features=[],']\n",
      "['display_types=True, features_todrop=[],']\n",
      "[\"ml_usecase='regression',\"]\n",
      "['numerical_features=[],']\n",
      "[\"target='dummy_target',\"]\n",
      "['time_features=[])),']\n",
      "[\"('imputer',\"]\n",
      "[\"Simple_Imputer(categorical_strategy='not_available',\"]\n",
      "[\"numeric_strategy='mean',\"]\n",
      "['target_variable=None)),']\n",
      "[\"('new_levels1',\"]\n",
      "['New_Catagorical_L...']\n",
      "[\"target='dummy_target')),\"]\n",
      "[\"('feature_time',\"]\n",
      "['Make_Time_Features(list_of_features=None, time_feature=[])),']\n",
      "[\"('group', Empty()), ('scaling', Empty()),\"]\n",
      "[\"('P_transform', Empty()), ('binn', Empty()),\"]\n",
      "[\"('fix_perfect', Empty()), ('rem_outliers', Empty()),\"]\n",
      "[\"('dummy', Dummify(target='dummy_target')),\"]\n",
      "[\"('clean_names', Clean_Colum_Names()), ('fix_multi', Empty()),\"]\n",
      "[\"('pca', Empty())],\"]\n",
      "[\"verbose=False), IForest(behaviour='new', bootstrap=False, contamination=0.05,\"]\n",
      "[\"max_features=1.0, max_samples='auto', n_estimators=100, n_jobs=1,\"]\n",
      "['random_state=123, verbose=0)]']\n",
      "['2020-07-29 09', '49', '28,788', 'INFO', 'save_model() succesfully completed......................................']\n",
      "['2020-07-29 09', '49', '28,808', 'INFO', 'Fitting Model']\n",
      "['2020-07-29 09', '49', '28,818', 'INFO', 'Evaluating Metrics']\n",
      "['2020-07-29 09', '49', '28,826', 'INFO', 'No inverse transformer found']\n",
      "['2020-07-29 09', '49', '28,826', 'INFO', 'Compiling Metrics']\n",
      "['2020-07-29 09', '49', '28,853', 'INFO', 'Initializing Fold 5']\n",
      "['2020-07-29 09', '49', '28,878', 'INFO', 'Fitting Model']\n",
      "['2020-07-29 09', '49', '28,886', 'INFO', 'Evaluating Metrics']\n",
      "['2020-07-29 09', '49', '28,893', 'INFO', 'No inverse transformer found']\n",
      "['2020-07-29 09', '49', '28,893', 'INFO', 'Compiling Metrics']\n",
      "['2020-07-29 09', '49', '28,917', 'INFO', 'Calculating mean and std']\n",
      "['2020-07-29 09', '49', '28,918', 'INFO', 'Creating metrics dataframe']\n",
      "['2020-07-29 09', '49', '28,963', 'INFO', 'Creating MLFlow logs']\n",
      "['2020-07-29 09', '49', '29,109', 'INFO', 'Initializing deploy_model()']\n",
      "['2020-07-29 09', '49', '29,111', 'INFO', \"deploy_model(model=IForest(behaviour='new', bootstrap=False, contamination=0.05,\"]\n",
      "[\"max_features=1.0, max_samples='auto', n_estimators=100, n_jobs=1,\"]\n",
      "[\"random_state=123, verbose=0), model_name=iforest-aws, authentication={'bucket'\", \"'pycaret-test'}, platform=aws)\"]\n",
      "['2020-07-29 09', '49', '29,111', 'INFO', 'Platform', 'AWS S3']\n",
      "['2020-07-29 09', '49', '29,245', 'INFO', 'SubProcess save_model() called ==================================']\n",
      "['2020-07-29 09', '49', '29,245', 'INFO', 'Initializing save_model()']\n",
      "['2020-07-29 09', '49', '29,246', 'INFO', 'save_model(model=Ridge(alpha=1.0, copy_X=True, fit_intercept=True, max_iter=None,']\n",
      "[\"normalize=False, random_state=123, solver='auto', tol=0.001), model_name=Trained Model, verbose=False)\"]\n",
      "['2020-07-29 09', '49', '29,247', 'INFO', 'Appending prep pipeline']\n",
      "['2020-07-29 09', '49', '29,272', 'INFO', 'Trained Model.pkl saved in current working directory']\n",
      "['2020-07-29 09', '49', '29,288', 'INFO', '[Pipeline(memory=None,']\n",
      "[\"steps=[('dtypes',\"]\n",
      "['DataTypes_Auto_infer(categorical_features=[],']\n",
      "['display_types=True, features_todrop=[],']\n",
      "[\"ml_usecase='regression',\"]\n",
      "[\"numerical_features=[], target='charges',\"]\n",
      "['time_features=[])),']\n",
      "[\"('imputer',\"]\n",
      "[\"Simple_Imputer(categorical_strategy='not_available',\"]\n",
      "[\"numeric_strategy='mean',\"]\n",
      "['target_variable=None)),']\n",
      "[\"('new_levels1',\"]\n",
      "['New_Catagorical_Levels...']\n",
      "[\"('group', Empty()), ('nonliner', Empty()), ('scaling', Empty()),\"]\n",
      "[\"('P_transform', Empty()), ('pt_target', Empty()),\"]\n",
      "[\"('binn', Empty()), ('rem_outliers', Empty()),\"]\n",
      "[\"('cluster_all', Empty()), ('dummy', Dummify(target='charges')),\"]\n",
      "[\"('fix_perfect', Empty()), ('clean_names', Clean_Colum_Names()),\"]\n",
      "[\"('feature_select', Empty()), ('fix_multi', Empty()),\"]\n",
      "[\"('dfs', Empty()), ('pca', Empty())],\"]\n",
      "['verbose=False), Ridge(alpha=1.0, copy_X=True, fit_intercept=True, max_iter=None,']\n",
      "[\"normalize=False, random_state=123, solver='auto', tol=0.001), None]\"]\n",
      "['2020-07-29 09', '49', '29,289', 'INFO', 'save_model() succesfully completed......................................']\n",
      "['2020-07-29 09', '49', '29,289', 'INFO', 'SubProcess save_model() end ==================================']\n",
      "['2020-07-29 09', '49', '29,429', 'INFO', 'Saving model in current working directory']\n",
      "['2020-07-29 09', '49', '29,430', 'INFO', 'SubProcess save_model() called ==================================']\n",
      "['2020-07-29 09', '49', '29,430', 'INFO', 'Initializing save_model()']\n",
      "['2020-07-29 09', '49', '29,430', 'INFO', \"save_model(model=IForest(behaviour='new', bootstrap=False, contamination=0.05,\"]\n",
      "[\"max_features=1.0, max_samples='auto', n_estimators=100, n_jobs=1,\"]\n",
      "['random_state=123, verbose=0), model_name=iforest-aws, verbose=False)']\n",
      "['2020-07-29 09', '49', '29,431', 'INFO', 'Appending prep pipeline']\n",
      "['2020-07-29 09', '49', '29,481', 'INFO', 'Initializing Elastic Net']\n",
      "['2020-07-29 09', '49', '29,503', 'INFO', 'Initializing Fold 1']\n",
      "['2020-07-29 09', '49', '29,528', 'INFO', 'Fitting Model']\n",
      "['2020-07-29 09', '49', '29,540', 'INFO', 'Evaluating Metrics']\n",
      "['2020-07-29 09', '49', '29,545', 'INFO', 'No inverse transformer found']\n",
      "['2020-07-29 09', '49', '29,546', 'INFO', 'Compiling Metrics']\n",
      "['2020-07-29 09', '49', '29,573', 'INFO', 'Initializing Fold 2']\n",
      "['2020-07-29 09', '49', '29,595', 'INFO', 'Fitting Model']\n",
      "['2020-07-29 09', '49', '29,606', 'INFO', 'Evaluating Metrics']\n",
      "['2020-07-29 09', '49', '29,614', 'INFO', 'No inverse transformer found']\n",
      "['2020-07-29 09', '49', '29,615', 'INFO', 'Compiling Metrics']\n",
      "['2020-07-29 09', '49', '29,654', 'INFO', 'Initializing Fold 3']\n",
      "['2020-07-29 09', '49', '29,677', 'INFO', 'Fitting Model']\n",
      "['2020-07-29 09', '49', '29,689', 'INFO', 'Evaluating Metrics']\n",
      "['2020-07-29 09', '49', '29,697', 'INFO', 'No inverse transformer found']\n",
      "['2020-07-29 09', '49', '29,697', 'INFO', 'Compiling Metrics']\n",
      "['2020-07-29 09', '49', '29,698', 'INFO', 'iforest-aws.pkl saved in current working directory']\n",
      "['2020-07-29 09', '49', '29,722', 'INFO', '[Pipeline(memory=None,']\n",
      "[\"steps=[('dtypes',\"]\n",
      "['DataTypes_Auto_infer(categorical_features=[],']\n",
      "['display_types=True, features_todrop=[],']\n",
      "[\"ml_usecase='regression',\"]\n",
      "['numerical_features=[],']\n",
      "[\"target='dummy_target',\"]\n",
      "['time_features=[])),']\n",
      "[\"('imputer',\"]\n",
      "[\"Simple_Imputer(categorical_strategy='not_available',\"]\n",
      "[\"numeric_strategy='mean',\"]\n",
      "['target_variable=None)),']\n",
      "[\"('new_levels1',\"]\n",
      "['New_Catagorical_L...']\n",
      "[\"target='dummy_target')),\"]\n",
      "[\"('feature_time',\"]\n",
      "['Make_Time_Features(list_of_features=None, time_feature=[])),']\n",
      "[\"('group', Empty()), ('scaling', Empty()),\"]\n",
      "[\"('P_transform', Empty()), ('binn', Empty()),\"]\n",
      "[\"('fix_perfect', Empty()), ('rem_outliers', Empty()),\"]\n",
      "[\"('dummy', Dummify(target='dummy_target')),\"]\n",
      "[\"('clean_names', Clean_Colum_Names()), ('fix_multi', Empty()),\"]\n",
      "[\"('pca', Empty())],\"]\n",
      "[\"verbose=False), IForest(behaviour='new', bootstrap=False, contamination=0.05,\"]\n",
      "[\"max_features=1.0, max_samples='auto', n_estimators=100, n_jobs=1,\"]\n",
      "['random_state=123, verbose=0)]']\n",
      "['2020-07-29 09', '49', '29,722', 'INFO', 'save_model() succesfully completed......................................']\n",
      "['2020-07-29 09', '49', '29,723', 'INFO', 'SubProcess save_model() end ==================================']\n",
      "['2020-07-29 09', '49', '29,723', 'INFO', 'Initializing S3 client']\n",
      "['2020-07-29 09', '49', '29,729', 'INFO', 'Initializing Fold 4']\n",
      "['2020-07-29 09', '49', '29,755', 'INFO', 'Fitting Model']\n",
      "['2020-07-29 09', '49', '29,767', 'INFO', 'Evaluating Metrics']\n",
      "['2020-07-29 09', '49', '29,776', 'INFO', 'No inverse transformer found']\n",
      "['2020-07-29 09', '49', '29,776', 'INFO', 'Compiling Metrics']\n",
      "['2020-07-29 09', '49', '29,804', 'INFO', 'Initializing Fold 5']\n",
      "['2020-07-29 09', '49', '29,831', 'INFO', 'Fitting Model']\n",
      "['2020-07-29 09', '49', '29,843', 'INFO', 'Evaluating Metrics']\n",
      "['2020-07-29 09', '49', '29,850', 'INFO', 'No inverse transformer found']\n",
      "['2020-07-29 09', '49', '29,850', 'INFO', 'Compiling Metrics']\n",
      "['2020-07-29 09', '49', '29,888', 'INFO', 'Calculating mean and std']\n",
      "['2020-07-29 09', '49', '29,891', 'INFO', 'Creating metrics dataframe']\n",
      "['2020-07-29 09', '49', '29,955', 'INFO', 'Creating MLFlow logs']\n",
      "['2020-07-29 09', '49', '30,209', 'INFO', 'SubProcess save_model() called ==================================']\n",
      "['2020-07-29 09', '49', '30,210', 'INFO', 'Initializing save_model()']\n",
      "['2020-07-29 09', '49', '30,211', 'INFO', 'save_model(model=ElasticNet(alpha=1.0, copy_X=True, fit_intercept=True, l1_ratio=0.5,']\n",
      "['max_iter=1000, normalize=False, positive=False, precompute=False,']\n",
      "[\"random_state=123, selection='cyclic', tol=0.0001, warm_start=False), model_name=Trained Model, verbose=False)\"]\n",
      "['2020-07-29 09', '49', '30,211', 'INFO', 'Appending prep pipeline']\n",
      "['2020-07-29 09', '49', '30,234', 'INFO', 'Trained Model.pkl saved in current working directory']\n",
      "['2020-07-29 09', '49', '30,256', 'INFO', '[Pipeline(memory=None,']\n",
      "[\"steps=[('dtypes',\"]\n",
      "['DataTypes_Auto_infer(categorical_features=[],']\n",
      "['display_types=True, features_todrop=[],']\n",
      "[\"ml_usecase='regression',\"]\n",
      "[\"numerical_features=[], target='charges',\"]\n",
      "['time_features=[])),']\n",
      "[\"('imputer',\"]\n",
      "[\"Simple_Imputer(categorical_strategy='not_available',\"]\n",
      "[\"numeric_strategy='mean',\"]\n",
      "['target_variable=None)),']\n",
      "[\"('new_levels1',\"]\n",
      "['New_Catagorical_Levels...']\n",
      "[\"('group', Empty()), ('nonliner', Empty()), ('scaling', Empty()),\"]\n",
      "[\"('P_transform', Empty()), ('pt_target', Empty()),\"]\n",
      "[\"('binn', Empty()), ('rem_outliers', Empty()),\"]\n",
      "[\"('cluster_all', Empty()), ('dummy', Dummify(target='charges')),\"]\n",
      "[\"('fix_perfect', Empty()), ('clean_names', Clean_Colum_Names()),\"]\n",
      "[\"('feature_select', Empty()), ('fix_multi', Empty()),\"]\n",
      "[\"('dfs', Empty()), ('pca', Empty())],\"]\n",
      "['verbose=False), ElasticNet(alpha=1.0, copy_X=True, fit_intercept=True, l1_ratio=0.5,']\n",
      "['max_iter=1000, normalize=False, positive=False, precompute=False,']\n",
      "[\"random_state=123, selection='cyclic', tol=0.0001, warm_start=False), None]\"]\n",
      "['2020-07-29 09', '49', '30,256', 'INFO', 'save_model() succesfully completed......................................']\n",
      "['2020-07-29 09', '49', '30,257', 'INFO', 'SubProcess save_model() end ==================================']\n",
      "['2020-07-29 09', '49', '30,444', 'INFO', 'Initializing Least Angle Regression']\n",
      "['2020-07-29 09', '49', '30,464', 'INFO', 'Initializing Fold 1']\n",
      "['2020-07-29 09', '49', '30,487', 'INFO', 'Fitting Model']\n",
      "['2020-07-29 09', '49', '30,514', 'INFO', 'Evaluating Metrics']\n",
      "['2020-07-29 09', '49', '30,521', 'INFO', 'No inverse transformer found']\n",
      "['2020-07-29 09', '49', '30,521', 'INFO', 'Compiling Metrics']\n",
      "['2020-07-29 09', '49', '30,546', 'INFO', 'Initializing Fold 2']\n",
      "['2020-07-29 09', '49', '30,571', 'INFO', 'Fitting Model']\n",
      "['2020-07-29 09', '49', '30,595', 'INFO', 'Evaluating Metrics']\n",
      "['2020-07-29 09', '49', '30,600', 'INFO', 'No inverse transformer found']\n",
      "['2020-07-29 09', '49', '30,600', 'INFO', 'Compiling Metrics']\n",
      "['2020-07-29 09', '49', '30,630', 'INFO', 'Initializing Fold 3']\n",
      "['2020-07-29 09', '49', '30,652', 'INFO', 'Fitting Model']\n",
      "['2020-07-29 09', '49', '30,670', 'INFO', 'Evaluating Metrics']\n",
      "['2020-07-29 09', '49', '30,677', 'INFO', 'No inverse transformer found']\n",
      "['2020-07-29 09', '49', '30,678', 'INFO', 'Compiling Metrics']\n",
      "['2020-07-29 09', '49', '30,704', 'INFO', 'Initializing Fold 4']\n",
      "['2020-07-29 09', '49', '30,731', 'INFO', 'Fitting Model']\n",
      "['2020-07-29 09', '49', '30,752', 'INFO', 'Evaluating Metrics']\n",
      "['2020-07-29 09', '49', '30,759', 'INFO', 'No inverse transformer found']\n",
      "['2020-07-29 09', '49', '30,759', 'INFO', 'Compiling Metrics']\n",
      "['2020-07-29 09', '49', '30,783', 'INFO', 'Initializing Fold 5']\n",
      "['2020-07-29 09', '49', '30,813', 'INFO', 'Fitting Model']\n",
      "['2020-07-29 09', '49', '30,830', 'INFO', 'Evaluating Metrics']\n",
      "['2020-07-29 09', '49', '30,838', 'INFO', 'No inverse transformer found']\n",
      "['2020-07-29 09', '49', '30,839', 'INFO', 'Compiling Metrics']\n",
      "['2020-07-29 09', '49', '30,858', 'INFO', 'Calculating mean and std']\n",
      "['2020-07-29 09', '49', '30,859', 'INFO', 'Creating metrics dataframe']\n",
      "['2020-07-29 09', '49', '30,898', 'INFO', 'Creating MLFlow logs']\n",
      "['2020-07-29 09', '49', '31,084', 'INFO', 'SubProcess save_model() called ==================================']\n",
      "['2020-07-29 09', '49', '31,084', 'INFO', 'Initializing save_model()']\n",
      "['2020-07-29 09', '49', '31,085', 'INFO', 'save_model(model=Lars(copy_X=True, eps=2.220446049250313e-16, fit_intercept=True, fit_path=True,']\n",
      "[\"jitter=None, n_nonzero_coefs=500, normalize=True, precompute='auto',\"]\n",
      "['random_state=None, verbose=False), model_name=Trained Model, verbose=False)']\n",
      "['2020-07-29 09', '49', '31,085', 'INFO', 'Appending prep pipeline']\n",
      "['2020-07-29 09', '49', '31,100', 'INFO', 'Trained Model.pkl saved in current working directory']\n",
      "['2020-07-29 09', '49', '31,113', 'INFO', '[Pipeline(memory=None,']\n",
      "[\"steps=[('dtypes',\"]\n",
      "['DataTypes_Auto_infer(categorical_features=[],']\n",
      "['display_types=True, features_todrop=[],']\n",
      "[\"ml_usecase='regression',\"]\n",
      "[\"numerical_features=[], target='charges',\"]\n",
      "['time_features=[])),']\n",
      "[\"('imputer',\"]\n",
      "[\"Simple_Imputer(categorical_strategy='not_available',\"]\n",
      "[\"numeric_strategy='mean',\"]\n",
      "['target_variable=None)),']\n",
      "[\"('new_levels1',\"]\n",
      "['New_Catagorical_Levels...']\n",
      "[\"('group', Empty()), ('nonliner', Empty()), ('scaling', Empty()),\"]\n",
      "[\"('P_transform', Empty()), ('pt_target', Empty()),\"]\n",
      "[\"('binn', Empty()), ('rem_outliers', Empty()),\"]\n",
      "[\"('cluster_all', Empty()), ('dummy', Dummify(target='charges')),\"]\n",
      "[\"('fix_perfect', Empty()), ('clean_names', Clean_Colum_Names()),\"]\n",
      "[\"('feature_select', Empty()), ('fix_multi', Empty()),\"]\n",
      "[\"('dfs', Empty()), ('pca', Empty())],\"]\n",
      "['verbose=False), Lars(copy_X=True, eps=2.220446049250313e-16, fit_intercept=True, fit_path=True,']\n",
      "[\"jitter=None, n_nonzero_coefs=500, normalize=True, precompute='auto',\"]\n",
      "['random_state=None, verbose=False), None]']\n",
      "['2020-07-29 09', '49', '31,114', 'INFO', 'save_model() succesfully completed......................................']\n",
      "['2020-07-29 09', '49', '31,114', 'INFO', 'SubProcess save_model() end ==================================']\n",
      "['2020-07-29 09', '49', '31,259', 'INFO', 'Initializing Lasso Least Angle Regression']\n",
      "['2020-07-29 09', '49', '31,273', 'INFO', 'Initializing Fold 1']\n",
      "['2020-07-29 09', '49', '31,290', 'INFO', 'Fitting Model']\n",
      "['2020-07-29 09', '49', '31,303', 'INFO', 'Evaluating Metrics']\n",
      "['2020-07-29 09', '49', '31,307', 'INFO', 'No inverse transformer found']\n",
      "['2020-07-29 09', '49', '31,307', 'INFO', 'Compiling Metrics']\n",
      "['2020-07-29 09', '49', '31,322', 'INFO', 'Initializing Fold 2']\n",
      "['2020-07-29 09', '49', '31,337', 'INFO', 'Fitting Model']\n",
      "['2020-07-29 09', '49', '31,349', 'INFO', 'Evaluating Metrics']\n",
      "['2020-07-29 09', '49', '31,353', 'INFO', 'No inverse transformer found']\n",
      "['2020-07-29 09', '49', '31,354', 'INFO', 'Compiling Metrics']\n",
      "['2020-07-29 09', '49', '31,371', 'INFO', 'Initializing Fold 3']\n",
      "['2020-07-29 09', '49', '31,385', 'INFO', 'Fitting Model']\n",
      "['2020-07-29 09', '49', '31,397', 'INFO', 'Evaluating Metrics']\n",
      "['2020-07-29 09', '49', '31,401', 'INFO', 'No inverse transformer found']\n",
      "['2020-07-29 09', '49', '31,401', 'INFO', 'Compiling Metrics']\n",
      "['2020-07-29 09', '49', '31,418', 'INFO', 'Initializing Fold 4']\n",
      "['2020-07-29 09', '49', '31,435', 'INFO', 'Fitting Model']\n",
      "['2020-07-29 09', '49', '31,447', 'INFO', 'Evaluating Metrics']\n",
      "['2020-07-29 09', '49', '31,454', 'INFO', 'No inverse transformer found']\n",
      "['2020-07-29 09', '49', '31,454', 'INFO', 'Compiling Metrics']\n",
      "['2020-07-29 09', '49', '31,476', 'INFO', 'Initializing Fold 5']\n",
      "['2020-07-29 09', '49', '31,493', 'INFO', 'Fitting Model']\n",
      "['2020-07-29 09', '49', '31,505', 'INFO', 'Evaluating Metrics']\n",
      "['2020-07-29 09', '49', '31,510', 'INFO', 'No inverse transformer found']\n",
      "['2020-07-29 09', '49', '31,510', 'INFO', 'Compiling Metrics']\n",
      "['2020-07-29 09', '49', '31,533', 'INFO', 'Calculating mean and std']\n",
      "['2020-07-29 09', '49', '31,535', 'INFO', 'Creating metrics dataframe']\n",
      "['2020-07-29 09', '49', '31,571', 'INFO', 'Creating MLFlow logs']\n",
      "['2020-07-29 09', '49', '31,659', 'INFO', \"IForest(behaviour='new', bootstrap=False, contamination=0.05,\"]\n",
      "[\"max_features=1.0, max_samples='auto', n_estimators=100, n_jobs=1,\"]\n",
      "['random_state=123, verbose=0)']\n",
      "['2020-07-29 09', '49', '31,660', 'INFO', 'deploy_model() succesfully completed......................................']\n",
      "['2020-07-29 09', '49', '31,676', 'INFO', 'Initializing get_config()']\n",
      "['2020-07-29 09', '49', '31,677', 'INFO', 'get_config(variable=X)']\n",
      "['2020-07-29 09', '49', '31,677', 'INFO', 'Global variable', 'X returned']\n",
      "['2020-07-29 09', '49', '31,678', 'INFO', 'get_config() succesfully completed......................................']\n",
      "['2020-07-29 09', '49', '31,728', 'INFO', 'Initializing get_config()']\n",
      "['2020-07-29 09', '49', '31,729', 'INFO', 'get_config(variable=seed)']\n",
      "['2020-07-29 09', '49', '31,729', 'INFO', 'Global variable', 'seed returned']\n",
      "['2020-07-29 09', '49', '31,729', 'INFO', 'get_config() succesfully completed......................................']\n",
      "['2020-07-29 09', '49', '31,747', 'INFO', 'Initializing set_config()']\n",
      "['2020-07-29 09', '49', '31,748', 'INFO', 'set_config(variable=seed, value=999)']\n",
      "['2020-07-29 09', '49', '31,748', 'INFO', 'Global variable', 'seed updated']\n",
      "['2020-07-29 09', '49', '31,748', 'INFO', 'set_config() succesfully completed......................................']\n",
      "['2020-07-29 09', '49', '31,762', 'INFO', 'Initializing get_config()']\n",
      "['2020-07-29 09', '49', '31,763', 'INFO', 'get_config(variable=seed)']\n",
      "['2020-07-29 09', '49', '31,764', 'INFO', 'Global variable', 'seed returned']\n",
      "['2020-07-29 09', '49', '31,764', 'INFO', 'get_config() succesfully completed......................................']\n",
      "['2020-07-29 09', '49', '31,768', 'INFO', 'SubProcess save_model() called ==================================']\n",
      "['2020-07-29 09', '49', '31,768', 'INFO', 'Initializing save_model()']\n",
      "['2020-07-29 09', '49', '31,770', 'INFO', 'save_model(model=LassoLars(alpha=1.0, copy_X=True, eps=2.220446049250313e-16, fit_intercept=True,']\n",
      "['fit_path=True, jitter=None, max_iter=500, normalize=True,']\n",
      "[\"positive=False, precompute='auto', random_state=None, verbose=False), model_name=Trained Model, verbose=False)\"]\n",
      "['2020-07-29 09', '49', '31,770', 'INFO', 'Appending prep pipeline']\n"
     ]
    }
   ],
   "source": [
    "get_system_logs()"
   ]
  },
  {
   "cell_type": "markdown",
   "metadata": {},
   "source": [
    "# 11. MLFlow UI"
   ]
  },
  {
   "cell_type": "code",
   "execution_count": 21,
   "metadata": {},
   "outputs": [
    {
     "name": "stdout",
     "output_type": "stream",
     "text": [
      "^C\n"
     ]
    }
   ],
   "source": [
    "!mlflow ui"
   ]
  },
  {
   "cell_type": "markdown",
   "metadata": {},
   "source": [
    "# End\n",
    "Thank you. For more information / tutorials on PyCaret, please visit https://www.pycaret.org"
   ]
  }
 ],
 "metadata": {
  "kernelspec": {
   "display_name": "pycaret-nightly-env",
   "language": "python",
   "name": "pycaret-nightly-env"
  },
  "language_info": {
   "codemirror_mode": {
    "name": "ipython",
    "version": 3
   },
   "file_extension": ".py",
   "mimetype": "text/x-python",
   "name": "python",
   "nbconvert_exporter": "python",
   "pygments_lexer": "ipython3",
   "version": "3.6.10"
  }
 },
 "nbformat": 4,
 "nbformat_minor": 2
}
